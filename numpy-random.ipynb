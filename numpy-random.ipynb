{
 "cells": [
  {
   "cell_type": "markdown",
   "id": "ca747803-6241-4530-9a01-15d8eba91b1a",
   "metadata": {},
   "source": [
    "# **Programming for Data Analysis 2021 - Assignment**\n",
    "\n",
    "<br>"
   ]
  },
  {
   "cell_type": "markdown",
   "id": "4a9c930f-4f52-4252-adb2-e6d6d5112bdf",
   "metadata": {},
   "source": [
    "## **Table of Contents**\n",
    "\n",
    "1. [Explain the overall purpose of the numpy.random package.](#part1)\n",
    "2. [Explain the use of the “Simple random data” and “Permutations” functions.](#part2)\n",
    "3. [Explain the use and purpose of at least five “Distributions” functions.](#part3)\n",
    "4. [Explain the use of seeds in generating pseudorandom numbers.](#part4)\n",
    "\n",
    "[References](#part5)"
   ]
  },
  {
   "cell_type": "markdown",
   "id": "8a1ccc16-20ad-4989-a357-72178e9200ba",
   "metadata": {},
   "source": [
    "<a id='part1'></a>\n",
    "## **1. Explain the overall purpose of the numpy.random package.**"
   ]
  },
  {
   "cell_type": "markdown",
   "id": "933bc638-8079-4fb6-a01f-fa75799805a2",
   "metadata": {},
   "source": [
    "### **1.1 The numpy.random Package - Subpackage of NumPy** \n",
    "\n",
    "The numpy.random package is a subpackage within the NumPy package. NumPy (short for Numerical Python) is a Python library which is used for dealing with arrays of numerical values. \n",
    "\n",
    "To be able to use NumPy, it needs to be imported. It is commonly imported as the alias np. [[1]](#reference1)"
   ]
  },
  {
   "cell_type": "code",
   "execution_count": 1,
   "id": "d36c8ef6-96ba-4bb3-8293-bf186b98e1c1",
   "metadata": {},
   "outputs": [],
   "source": [
    "# Importing NumPy\n",
    "import numpy as np"
   ]
  },
  {
   "cell_type": "code",
   "execution_count": 2,
   "id": "b090f4b2-e57a-46bd-9b74-20cd88ca0ba9",
   "metadata": {},
   "outputs": [
    {
     "data": {
      "text/plain": [
       "'1.20.1'"
      ]
     },
     "execution_count": 2,
     "metadata": {},
     "output_type": "execute_result"
    }
   ],
   "source": [
    "# Some contents of this notebook might not be compatible with NumPy versions before 1.19\n",
    "# To check the installed version of NumPy \n",
    "np.__version__"
   ]
  },
  {
   "cell_type": "markdown",
   "id": "e0bce816-d3a7-44df-9c5a-20b01508dcfa",
   "metadata": {},
   "source": [
    "Arrays in NumPy are maintained as ndarray objects and all elements of an array need to be of the same data type. Arrays can be 0-, 1- or multi-dimensional: \n",
    "- 0-D array: single value/scalar\n",
    "- 1-D array: a list of several 0-D arrays, also called uni-dimensional\n",
    "- 2-D array: an array consisting of two 1-D arrays, also called a matrix\n",
    "- 3-D array: an array that has 2-D arrays as its elements\n",
    "- n-D array: an array that has n-1 -D arrays as its elements [[2]](#reference2)"
   ]
  },
  {
   "cell_type": "code",
   "execution_count": 3,
   "id": "fccc0800-61b5-48d9-ae7d-25f510ca5334",
   "metadata": {},
   "outputs": [
    {
     "data": {
      "text/plain": [
       "array([1])"
      ]
     },
     "execution_count": 3,
     "metadata": {},
     "output_type": "execute_result"
    }
   ],
   "source": [
    "# Example: 0-D Array\n",
    "zerod_array = np.array([1])\n",
    "zerod_array"
   ]
  },
  {
   "cell_type": "code",
   "execution_count": 4,
   "id": "54f453a1-2ab2-42ae-b797-a6919e9b59b6",
   "metadata": {},
   "outputs": [
    {
     "data": {
      "text/plain": [
       "array([1, 2, 3, 4, 5])"
      ]
     },
     "execution_count": 4,
     "metadata": {},
     "output_type": "execute_result"
    }
   ],
   "source": [
    "# Example: 1-D Array\n",
    "one_d_array = np.array([1, 2, 3, 4, 5])\n",
    "one_d_array"
   ]
  },
  {
   "cell_type": "code",
   "execution_count": 5,
   "id": "b85de07a-29b0-4fb5-ab9d-4f95e49ab81f",
   "metadata": {},
   "outputs": [
    {
     "data": {
      "text/plain": [
       "array([[1, 2, 3, 4, 5],\n",
       "       [6, 7, 8, 9, 0]])"
      ]
     },
     "execution_count": 5,
     "metadata": {},
     "output_type": "execute_result"
    }
   ],
   "source": [
    "# Example: 2-D Array\n",
    "two_d_array = np.array([[1, 2, 3, 4, 5], [6, 7, 8, 9, 0]])\n",
    "two_d_array"
   ]
  },
  {
   "cell_type": "markdown",
   "id": "e327de91-9ddd-4ad7-b24b-318233c69730",
   "metadata": {},
   "source": [
    "<br>\n",
    "\n",
    "### **1.2 Numpy.random - Use and Purpose**\n",
    "\n",
    "Within the NumPy package, numpy.random enables users to generate and work with random numbers.\n",
    "\n",
    "**Random Number Definitions:**\n",
    "\n",
    "> \"A random number is a number chosen as if by chance [...] such numbers are also required to be independent, so that there are no correlations between successive numbers\" (WEISSTEIN, [[3]](#reference3))\n",
    "\n",
    "> \"Random means something that can not be predicted logically\" (W3Schools, [[4]](#reference4))\n",
    "\n",
    "**Pseudo-random Numbers:**\n",
    "\n",
    "Numbers created with the package are considered pseudo-random, meaning that they are not truly random but rather generated through a generation algorithm, a random number generator (RNG) By setting a seed value, the sequence of created numbers can be made reproducible. Further details about RNGs and seeds will be covered in part 4 of this notebook.  \n",
    "\n",
    "In programming, pseudo-random numbers are be used for a number of purposes often related to simulating of data. The numpy.random package allows to create random numbers in different formats and fulfilling different criteria as required by the simulation scenario. Examples include selecting numbers from a pre-defined sample or creating random numbers or arrays that follow certain distribution patterns. \n",
    "\n",
    "To be able to use the numpy.random module, calling the function `numpy.random.default_rng()` will start a new random number generator. [[4]](#reference4), [[5]](#reference5)"
   ]
  },
  {
   "cell_type": "code",
   "execution_count": 6,
   "id": "3a0e9542-7ab0-43b1-91b1-09a252ba6c9e",
   "metadata": {},
   "outputs": [],
   "source": [
    "# Define the random number generator (RNG)\n",
    "rng=np.random.default_rng()"
   ]
  },
  {
   "cell_type": "code",
   "execution_count": 7,
   "id": "331935d4-f881-4224-bec3-40a56c6ce85b",
   "metadata": {},
   "outputs": [
    {
     "data": {
      "text/plain": [
       "array([0.07454701, 0.93791811, 0.93637957, 0.12391402, 0.07416188,\n",
       "       0.2400074 , 0.41868215, 0.35700414, 0.52447477, 0.40971676])"
      ]
     },
     "execution_count": 7,
     "metadata": {},
     "output_type": "execute_result"
    }
   ],
   "source": [
    "# Example: Using the RNG to generate 10 random float point numbers\n",
    "rng.random(size=10)"
   ]
  },
  {
   "cell_type": "markdown",
   "id": "6ac92937-7622-4ac6-ab5c-090f5f25f1ac",
   "metadata": {},
   "source": [
    "***\n",
    "<br>\n",
    "<a id='part2'></a>\n",
    "\n",
    "## **2. Explain the use of the “Simple random data” and “Permutations” functions.**"
   ]
  },
  {
   "cell_type": "markdown",
   "id": "13d999c0-127f-4bc5-9383-384f5d921fe5",
   "metadata": {},
   "source": [
    "Functions for creating simple random data can be used to return integers, floats, or a random sample from a given array. \n",
    "<br>\n",
    "Permutation modifies an array or sequence already in place by shuffling or rearranging the sequence. "
   ]
  },
  {
   "cell_type": "markdown",
   "id": "e5866a16-9e74-4ebb-bae2-12076132f484",
   "metadata": {},
   "source": [
    "<br>\n",
    "\n",
    "### **2.1 Simple Random Data**\n",
    "A number of functions can be used to generate so-called simple random data, for example single or several numbers, or taking a random sample from a given array. "
   ]
  },
  {
   "cell_type": "markdown",
   "id": "5631856a-6be4-43d2-a1c8-eece16773938",
   "metadata": {},
   "source": [
    "<br>\n",
    "\n",
    "#### **2.1.1 Generating Random Integers**\n",
    "The `integers()` function can be used to create random integers. "
   ]
  },
  {
   "cell_type": "code",
   "execution_count": 8,
   "id": "6a48cadc-c486-4185-a690-6ee2b377bc4c",
   "metadata": {},
   "outputs": [
    {
     "data": {
      "text/plain": [
       "1"
      ]
     },
     "execution_count": 8,
     "metadata": {},
     "output_type": "execute_result"
    }
   ],
   "source": [
    "# Example: Generate a single random integer in the range from 0 (inclusive) to 5 (exclusive)\n",
    "rng.integers(5)"
   ]
  },
  {
   "cell_type": "markdown",
   "id": "681a6789-3e7d-473b-94a9-ab8735384bb0",
   "metadata": {},
   "source": [
    "To further define the output, the `integers()` function can take a number of parameters:\n",
    "- low, high: The range from which integers are created. The range includes the low value but by default excludes the high value. \n",
    "- size: The number of random integers to be created\n",
    "- dtype: Data type of results\n",
    "- endpoint: If set to true, the high value will be inclusive of the entered value \n",
    "\n",
    "[[6]](#reference6)"
   ]
  },
  {
   "cell_type": "code",
   "execution_count": 9,
   "id": "eea0adb7-b4ee-4bb5-a0de-6b22926299ed",
   "metadata": {},
   "outputs": [
    {
     "data": {
      "text/plain": [
       "array([14, 15, 10, 15, 17], dtype=int64)"
      ]
     },
     "execution_count": 9,
     "metadata": {},
     "output_type": "execute_result"
    }
   ],
   "source": [
    "# Example: Generate an array of 5 random integers between 10 (inclusive) and 20 (exclusive)\n",
    "rng.integers(low=10, high=20, size=5)"
   ]
  },
  {
   "cell_type": "markdown",
   "id": "0c7253fb-87db-4c05-ae81-779fc7f1bd13",
   "metadata": {},
   "source": [
    "<br>\n",
    "\n",
    "#### **2.1.2 Generating Random Float Numbers**\n",
    "\n",
    "The `random()` function can be used to create float point numbers between 0 and 1 (exclusive)."
   ]
  },
  {
   "cell_type": "code",
   "execution_count": 10,
   "id": "f2a01847-4439-49fb-9b1f-4901ac56dcdd",
   "metadata": {},
   "outputs": [
    {
     "data": {
      "text/plain": [
       "0.31257041933341834"
      ]
     },
     "execution_count": 10,
     "metadata": {},
     "output_type": "execute_result"
    }
   ],
   "source": [
    "# Example: Generate a single random float point number\n",
    "rng.random()"
   ]
  },
  {
   "cell_type": "markdown",
   "id": "09792b18-0ebe-46b7-98cc-1d18c4a1a9e5",
   "metadata": {},
   "source": [
    "Similar to creating integers, additional parameters can be added to further define the output: \n",
    "- size: The number of random float numbers to be drawn\n",
    "- dtype: Data type (float64 or float32)\n",
    "- out: An alternative output array \n",
    "\n",
    "[[7]](#reference7)"
   ]
  },
  {
   "cell_type": "code",
   "execution_count": 11,
   "id": "84101c36-6ed4-4a29-a994-24dec51f4612",
   "metadata": {},
   "outputs": [
    {
     "data": {
      "text/plain": [
       "array([0.70047138, 0.93529886, 0.65987177, 0.52511334, 0.46291501])"
      ]
     },
     "execution_count": 11,
     "metadata": {},
     "output_type": "execute_result"
    }
   ],
   "source": [
    "# Example: Generate an array of 5 random float point numbers\n",
    "rng.random(size=5)"
   ]
  },
  {
   "cell_type": "markdown",
   "id": "76fdda62-791a-43ec-bd2e-8500ff0f7fea",
   "metadata": {},
   "source": [
    "<br>\n",
    "\n",
    "#### **2.1.3 Generating n-Dimensional Arrays of Random Numbers**\n",
    "\n",
    "Both `integers()` and `random()` can be used to create n-dimensional arrays of random numbers, for example to simulate a table of values. [[6]](#reference6), [[7]](#reference7)"
   ]
  },
  {
   "cell_type": "code",
   "execution_count": 12,
   "id": "29f4c59b-02ca-49f8-a0ef-689284e601ca",
   "metadata": {},
   "outputs": [
    {
     "data": {
      "text/plain": [
       "array([[4, 1, 0, 4],\n",
       "       [4, 4, 3, 4],\n",
       "       [3, 1, 2, 2]], dtype=int64)"
      ]
     },
     "execution_count": 12,
     "metadata": {},
     "output_type": "execute_result"
    }
   ],
   "source": [
    "# Example: Generate a 3 x 4 array of integers with maximum value 5 (exclusive)\n",
    "rng.integers(5, size=(3, 4))"
   ]
  },
  {
   "cell_type": "markdown",
   "id": "40be72a1-91aa-4880-afca-abb44b2b8b62",
   "metadata": {},
   "source": [
    "By using parameters, complex requirements for matrices can be achieved. "
   ]
  },
  {
   "cell_type": "code",
   "execution_count": 13,
   "id": "2fa3021a-e76d-45be-8293-640bfb17e567",
   "metadata": {},
   "outputs": [
    {
     "data": {
      "text/plain": [
       "array([[ 3,  7,  3,  3],\n",
       "       [12, 12, 10, 10],\n",
       "       [21, 20, 22, 21]], dtype=int64)"
      ]
     },
     "execution_count": 13,
     "metadata": {},
     "output_type": "execute_result"
    }
   ],
   "source": [
    "# Example: Generate a 3 x 4 array of integers with different low and high values for each dimension (row)\n",
    "rng.integers([[0, 0, 0, 0], [10, 10, 10, 10], [20, 20, 20, 20]], [[10], [20], [30]], size=[3, 4])"
   ]
  },
  {
   "cell_type": "markdown",
   "id": "e2774df6-1987-4e29-86e0-62097ad15e36",
   "metadata": {},
   "source": [
    "<br>\n",
    "\n",
    "#### **2.1.4 Selecting Random Numbers from a Predefined Array**\n",
    "\n",
    "The `choice()` function can be used to generate a random sample from a given array. "
   ]
  },
  {
   "cell_type": "code",
   "execution_count": 14,
   "id": "a701b26e-ff77-4485-a6b0-6cb8904baf79",
   "metadata": {},
   "outputs": [
    {
     "data": {
      "text/plain": [
       "array([1, 5, 4])"
      ]
     },
     "execution_count": 14,
     "metadata": {},
     "output_type": "execute_result"
    }
   ],
   "source": [
    "# Select 3 integers from an array of [1, 2, 3, 4, 5]\n",
    "rng.choice([1,2,3,4,5], 3)"
   ]
  },
  {
   "cell_type": "markdown",
   "id": "a5a88eb3-4fd2-4a59-9d33-f20759fe2b2f",
   "metadata": {},
   "source": [
    "An important aspect of random number generation is the distribution of data. The `choice()` function can be used to define the probability of random numbers being selected by assigning probability values. [[8]](#reference8)"
   ]
  },
  {
   "cell_type": "code",
   "execution_count": 15,
   "id": "66ba29c2-6a9a-4ff8-9ba0-b51cc2455db4",
   "metadata": {},
   "outputs": [
    {
     "data": {
      "text/plain": [
       "array([2, 2, 2, 1, 4, 3, 2, 1, 1, 2])"
      ]
     },
     "execution_count": 15,
     "metadata": {},
     "output_type": "execute_result"
    }
   ],
   "source": [
    "# Example: Select 10 integers from an array of [1, 2, 3, 4, 5]. \n",
    "# The probability of selecting 1, 2 and 3 is set to 0.3, the probability of selecting 4 is set to 0.1 and the probability of selecting 5 is set to 0:\n",
    "\n",
    "ch = rng.choice([1,2,3,4,5], 10, p=(0.3, 0.3, 0.3, 0.1, 0))\n",
    "ch"
   ]
  },
  {
   "cell_type": "markdown",
   "id": "733e1772-edb3-405d-b904-9ea970ffd28f",
   "metadata": {},
   "source": [
    "<br>\n",
    "\n",
    "#### **2.1.5 Generating Random Bytes**\n",
    "\n",
    "The `bytes()` function can be used to generate random bytes. The length parameter determines the number of bytes to be created. [[9]](#reference9)"
   ]
  },
  {
   "cell_type": "code",
   "execution_count": 16,
   "id": "188d1530-db4a-4427-9b36-c2205530a7d0",
   "metadata": {},
   "outputs": [
    {
     "data": {
      "text/plain": [
       "b'lt\\'ALN\\x04\\xee\\xb2\"'"
      ]
     },
     "execution_count": 16,
     "metadata": {},
     "output_type": "execute_result"
    }
   ],
   "source": [
    "# Example: Generate 10 random bytes\n",
    "rng.bytes(10)"
   ]
  },
  {
   "cell_type": "markdown",
   "id": "57ffaf61-b047-4774-b246-fd2476b915bc",
   "metadata": {},
   "source": [
    "<br>\n",
    "\n",
    "### **2.2 Permutations**"
   ]
  },
  {
   "cell_type": "markdown",
   "id": "961d847a-4bf3-4e88-8ca2-c1583a11bd6d",
   "metadata": {},
   "source": [
    "To rearrange elements within a given array, random permuations can be used, for example, to change the order of [1, 2, 3] to [3, 2, 1].\n",
    "\n",
    "The numpy.random package offers 3 methods for changing the order of array elements: \n",
    "- `shuffle()`\n",
    "- `permutation()`\n",
    "- `permuted()`\n",
    "\n",
    "[[10]](#reference10)"
   ]
  },
  {
   "cell_type": "markdown",
   "id": "d4500e25-3204-4d36-8576-6d846d400882",
   "metadata": {},
   "source": [
    "<br>\n",
    "\n",
    "#### **2.2.1 Re-shuffling an Array**\n",
    "The `shuffle()` function changes the original array by rearranging its elements. [[11]](#reference11), [[12]](#reference12), [[13]](#reference13)"
   ]
  },
  {
   "cell_type": "code",
   "execution_count": 17,
   "id": "92d000cb-11d3-466a-bcd8-cd69694b9fbd",
   "metadata": {},
   "outputs": [
    {
     "data": {
      "text/plain": [
       "[1, 4, 2, 3, 5]"
      ]
     },
     "execution_count": 17,
     "metadata": {},
     "output_type": "execute_result"
    }
   ],
   "source": [
    "# Example: Randomly rearrange the numbers within a given array\n",
    "arr = [1,2,3,4,5]\n",
    "\n",
    "rng.shuffle(arr)\n",
    "arr"
   ]
  },
  {
   "cell_type": "markdown",
   "id": "501c4554-93f7-4b9f-b9c1-eb58eae32403",
   "metadata": {},
   "source": [
    "For 2- or more-dimensional arrays, if using the `shuffle()` function as above, the order of arrays within the first dimension is changed, however, their individual elements remain in the same order. "
   ]
  },
  {
   "cell_type": "code",
   "execution_count": 18,
   "id": "4da2e6bd-353b-4f8a-83b1-e759bca301b0",
   "metadata": {},
   "outputs": [
    {
     "data": {
      "text/plain": [
       "array([[4, 5, 6],\n",
       "       [1, 2, 3],\n",
       "       [7, 8, 9]])"
      ]
     },
     "execution_count": 18,
     "metadata": {},
     "output_type": "execute_result"
    }
   ],
   "source": [
    "# Example: Randomly rearrange the order of arrays within a 2-dimensional array\n",
    "arr = np.array([[1,2,3], [4,5,6], [7,8,9]])\n",
    "\n",
    "rng.shuffle(arr)\n",
    "arr"
   ]
  },
  {
   "cell_type": "markdown",
   "id": "9c60533c-3076-41f5-bb8e-964bb07db2a2",
   "metadata": {},
   "source": [
    "To also rearrange the order of elements within the 2nd dimension, the axis parameter can be added to the function. In the below example, the three sub-arrays will remain in the same order (starting with the array containing numbers 1, 2 and 3) but within the sub-arrays the elements are rearranged. "
   ]
  },
  {
   "cell_type": "code",
   "execution_count": 19,
   "id": "02813440-338b-41fe-85ad-ad7dd4e66918",
   "metadata": {},
   "outputs": [
    {
     "data": {
      "text/plain": [
       "array([[3, 2, 1],\n",
       "       [6, 5, 4],\n",
       "       [9, 8, 7]])"
      ]
     },
     "execution_count": 19,
     "metadata": {},
     "output_type": "execute_result"
    }
   ],
   "source": [
    "# Example: Randomly rearrange the order of elements within sub-arrays of a 2-dimensional array\n",
    "arr = np.array([[1,2,3], [4,5,6], [7,8,9]])\n",
    "\n",
    "rng.shuffle(arr, axis=1)\n",
    "arr"
   ]
  },
  {
   "cell_type": "markdown",
   "id": "09526518-ec3d-47c4-8a98-efd8467953e4",
   "metadata": {},
   "source": [
    "<br>\n",
    "\n",
    "#### **2.2.2 Creating a Re-arranged Copy of an Array**\n",
    "While the `shuffle()` function applies changes to original array, the `permutation()` function returns a copy of the original array with rearranged elements. [[14]](#reference14)"
   ]
  },
  {
   "cell_type": "code",
   "execution_count": 20,
   "id": "fdfa52f6-666d-41ac-a563-0d15386120c6",
   "metadata": {},
   "outputs": [
    {
     "data": {
      "text/plain": [
       "array([2, 5, 3, 1, 4])"
      ]
     },
     "execution_count": 20,
     "metadata": {},
     "output_type": "execute_result"
    }
   ],
   "source": [
    "# Example: Generate a rearrange copy of an array\n",
    "arr = [1,2,3,4,5]\n",
    "\n",
    "rng.permutation(arr)"
   ]
  },
  {
   "cell_type": "markdown",
   "id": "f19d6e9f-ca1c-4f7a-aa50-af87f0643eef",
   "metadata": {},
   "source": [
    "Similar to the `shuffle()` function, `permutation()` also allows to rearrange arrays with more than 1 dimension."
   ]
  },
  {
   "cell_type": "code",
   "execution_count": 21,
   "id": "d8a70a95-7834-4eb0-ac64-9d7484923ae9",
   "metadata": {},
   "outputs": [
    {
     "data": {
      "text/plain": [
       "array([[7, 8, 9],\n",
       "       [4, 5, 6],\n",
       "       [1, 2, 3]])"
      ]
     },
     "execution_count": 21,
     "metadata": {},
     "output_type": "execute_result"
    }
   ],
   "source": [
    "# Example: Generate a copy of a 2-dimensional array, rearranging the order of sub-arrays within the 2-D array\n",
    "arr = np.array([[1,2,3], [4,5,6], [7,8,9]])\n",
    "\n",
    "rng.permutation(arr)"
   ]
  },
  {
   "cell_type": "code",
   "execution_count": 22,
   "id": "701f59e4-b60e-4f78-a9b3-a40dae96b0cb",
   "metadata": {},
   "outputs": [
    {
     "data": {
      "text/plain": [
       "array([[2, 1, 3],\n",
       "       [5, 4, 6],\n",
       "       [8, 7, 9]])"
      ]
     },
     "execution_count": 22,
     "metadata": {},
     "output_type": "execute_result"
    }
   ],
   "source": [
    "# Example: Generate a copy of a 2-dimensional array, rearranging the order of elements within the sub-arrays\n",
    "arr = np.array([[1,2,3], [4,5,6], [7,8,9]])\n",
    "\n",
    "rng.permutation(arr, axis=1)"
   ]
  },
  {
   "cell_type": "markdown",
   "id": "731b25e6-4015-4871-87ef-803f6d712cfc",
   "metadata": {},
   "source": [
    "<br>\n",
    "\n",
    "#### **2.2.3 Rearranging One- or Multi-dimensional Arrays**\n",
    "The `permuted()` function allows shuffling sub-arrays independent of each other. It also gives an option to chose whether the original array is rearranged or whether a rearranged copy original array is created. [[15]](#reference15) "
   ]
  },
  {
   "cell_type": "code",
   "execution_count": 23,
   "id": "b18ff551-9223-4a38-acc1-2caae241d916",
   "metadata": {},
   "outputs": [
    {
     "data": {
      "text/plain": [
       "array([[1, 3, 2],\n",
       "       [6, 4, 5],\n",
       "       [7, 8, 9]])"
      ]
     },
     "execution_count": 23,
     "metadata": {},
     "output_type": "execute_result"
    }
   ],
   "source": [
    "# Example: Generate a copy of a 2-dimensional array, rearranging the order of elements within the sub-arrays\n",
    "arr = np.array([[1,2,3], [4,5,6], [7,8,9]])\n",
    "\n",
    "yarr = rng.permuted(arr, axis=1)\n",
    "yarr"
   ]
  },
  {
   "cell_type": "code",
   "execution_count": 24,
   "id": "1c1dd6fd-2f74-42bd-8398-4f31f0434f38",
   "metadata": {},
   "outputs": [
    {
     "data": {
      "text/plain": [
       "array([[2, 1, 3],\n",
       "       [4, 6, 5],\n",
       "       [7, 9, 8]])"
      ]
     },
     "execution_count": 24,
     "metadata": {},
     "output_type": "execute_result"
    }
   ],
   "source": [
    "# Example: Randomly rearrange the order of arrays within a 2-dimensional array\n",
    "arr = np.array([[1,2,3], [4,5,6], [7,8,9]])\n",
    "\n",
    "yarr = rng.permuted(arr, axis=1, out=arr)\n",
    "arr"
   ]
  },
  {
   "cell_type": "markdown",
   "id": "3b7ba531-e1de-4586-a906-b22be4d5b9fd",
   "metadata": {},
   "source": [
    "***\n",
    "<br>\n",
    "\n",
    "<a id='part3'></a>\n",
    "\n",
    "## **3. Explain the use and purpose of at least five “Distributions” functions.**\n",
    "\n",
    "Aside from creating simple random data, numpy.random also provides a number of functions to create random data which follows a certain data distribution. "
   ]
  },
  {
   "cell_type": "code",
   "execution_count": 25,
   "id": "99cc60ee-4574-45bd-8d09-1911d934ca40",
   "metadata": {},
   "outputs": [],
   "source": [
    "# Importing the seaborn and matplotlib.pyplot modules for visualisation of the distribution functions\n",
    "import seaborn as sns\n",
    "sns.set_theme()\n",
    "\n",
    "import matplotlib.pyplot as plt"
   ]
  },
  {
   "cell_type": "markdown",
   "id": "d3eef459-5048-4c5f-af59-4b2466f573ce",
   "metadata": {},
   "source": [
    "<br>\n",
    "\n",
    "### **3.1 Uniform Distribution**\n",
    "\n",
    "In a uniform distribution values are distributed evenly, i.e. have the same chance of occuring. \n",
    "\n",
    "The `uniform()` method returns float point numbers in a specified range from low (inclusive) to high (exclusive) values, following a uniform distribution. [[16]](#reference16)"
   ]
  },
  {
   "cell_type": "code",
   "execution_count": 26,
   "id": "5fbefc42-efad-40ed-9a72-70f4de1c635b",
   "metadata": {
    "scrolled": true,
    "tags": []
   },
   "outputs": [
    {
     "data": {
      "text/plain": [
       "array([9.89387029, 9.6756988 , 2.58291919, 4.91506613, 8.23944062,\n",
       "       9.27460271, 5.77670773, 0.6409391 , 9.6273046 , 0.79762982,\n",
       "       9.3373648 , 3.39421674, 8.9227186 , 8.92490214, 7.5645689 ,\n",
       "       7.35317706, 9.4577094 , 3.78910279, 4.85296569, 6.48716611])"
      ]
     },
     "execution_count": 26,
     "metadata": {},
     "output_type": "execute_result"
    }
   ],
   "source": [
    "# Example: 10000 float point numbers in the range of 0 to 10 (exclusive)\n",
    "uni_dist = rng.uniform(low=0, high=10, size=10000)\n",
    "\n",
    "# To save space, display only the first 20 records\n",
    "uni_dist[:20]"
   ]
  },
  {
   "cell_type": "code",
   "execution_count": 27,
   "id": "e3b4cbe7-2ee3-4c7d-be2f-69e6d1d3b432",
   "metadata": {},
   "outputs": [
    {
     "data": {
      "image/png": "[encoded data removed]",
      "text/plain": [
       "<Figure size 432x288 with 1 Axes>"
      ]
     },
     "metadata": {},
     "output_type": "display_data"
    }
   ],
   "source": [
    "# Histogram of uniform distribution:\n",
    "plt.hist(uni_dist, bins = 10)\n",
    "plt.title('Uniform Distribution')\n",
    "plt.ylabel('Count')\n",
    "plt.show()"
   ]
  },
  {
   "cell_type": "markdown",
   "id": "6ef61b0a-e0e5-4de7-97e4-708560f00e3f",
   "metadata": {
    "tags": []
   },
   "source": [
    "<br>\n",
    "\n",
    "### **3.2 Binomial Distribution**\n",
    "\n",
    "The `binomial()` function returns values from a binomial distribution. A binomial distribution shows the distribution of successful trials that have exactly 2 possible results, such as throwing a coin.\n",
    "\n",
    "Other than for a uniform distribution where all events statistically have the same chance of occuring, for a binomial distribution, the chance of each event occuring can be preset by adding a probability of success parameter. \n",
    "\n",
    "Parameters for defining the binomial distribution: \n",
    "- n: Number of trials\n",
    "- p: Probability of success of each trial\n",
    "- size: Output shape\n",
    "\n",
    "[[17]](#reference17), [[18]](#reference18)"
   ]
  },
  {
   "cell_type": "code",
   "execution_count": 28,
   "id": "be9eefe2-17c3-4fc9-a627-9993d12e7a72",
   "metadata": {},
   "outputs": [
    {
     "data": {
      "text/plain": [
       "4"
      ]
     },
     "execution_count": 28,
     "metadata": {},
     "output_type": "execute_result"
    }
   ],
   "source": [
    "# Example: Simulation of tossing a coin 10 times\n",
    "bin_dist = rng.binomial(n=10, p = 0.5)\n",
    "bin_dist"
   ]
  },
  {
   "cell_type": "code",
   "execution_count": 29,
   "id": "888e7a0c-e030-47f6-8a26-7187f90321bf",
   "metadata": {},
   "outputs": [
    {
     "data": {
      "text/plain": [
       "array([6, 5, 7, 5, 7], dtype=int64)"
      ]
     },
     "execution_count": 29,
     "metadata": {},
     "output_type": "execute_result"
    }
   ],
   "source": [
    "# Example: Simulation of tossing a loaded coin 10 times with a chance of 70% towards 'head', repeated 5 times\n",
    "bin_dist_loaded = rng.binomial(n=10, p=0.7, size = 5)\n",
    "bin_dist_loaded"
   ]
  },
  {
   "cell_type": "code",
   "execution_count": 30,
   "id": "2789eaa0-451b-4019-a674-7f424d6c322a",
   "metadata": {},
   "outputs": [
    {
     "data": {
      "image/png": "[encoded data removed]",
      "text/plain": [
       "<Figure size 432x288 with 1 Axes>"
      ]
     },
     "metadata": {},
     "output_type": "display_data"
    }
   ],
   "source": [
    "# Histogram of tossing a loaded coin\n",
    "plt.hist(bin_dist_loaded)\n",
    "plt.title('Binomial Distribution - Tossing a Loaded Coin', fontsize = 16)\n",
    "plt.xlabel('Successes')\n",
    "plt.ylabel('Count')\n",
    "plt.xticks(np.arange(5, 11, 1))\n",
    "plt.yticks(np.arange(1, 6, 1))\n",
    "plt.show()"
   ]
  },
  {
   "cell_type": "markdown",
   "id": "23b585ce-10b4-43fc-a7e5-28184a2bf00f",
   "metadata": {},
   "source": [
    "<br>\n",
    "\n",
    "### **3.3 Multinomial Distribution**\n",
    "\n",
    "Similar to the binomial distribution, the multinomial distribution returns the distribution of successful trials, but for more than 2 possible results, for example when rolling a die. \n",
    "\n",
    "Parameters for defining the `multinomial()` function: \n",
    "- n: number of trials\n",
    "- pvals: probabilities of each of the different outcomes (must sum to 1)\n",
    "- size\n",
    "\n",
    "[[19]](#reference19), [[20]](#reference20), [[21]](#reference21)"
   ]
  },
  {
   "cell_type": "code",
   "execution_count": 31,
   "id": "fe4e6ca8-70fa-420e-9f32-7f4892901bd3",
   "metadata": {},
   "outputs": [
    {
     "data": {
      "text/plain": [
       "array([[2, 1, 1, 3, 0, 3]], dtype=int64)"
      ]
     },
     "execution_count": 31,
     "metadata": {},
     "output_type": "execute_result"
    }
   ],
   "source": [
    "# Example: Throwing a die 10 times\n",
    "multi_dist = rng.multinomial(n=10, pvals=[1/6.]*6, size=1)\n",
    "multi_dist"
   ]
  },
  {
   "cell_type": "code",
   "execution_count": 32,
   "id": "c912f03d-74d8-4cb2-ba73-49e8fd996822",
   "metadata": {},
   "outputs": [
    {
     "data": {
      "image/png": "[encoded data removed]",
      "text/plain": [
       "<Figure size 432x288 with 1 Axes>"
      ]
     },
     "metadata": {},
     "output_type": "display_data"
    }
   ],
   "source": [
    "# Bar chart of throwing a die 10 times\n",
    "# Convert 2-D array into 1-D array: \n",
    "multi_dist = multi_dist.flatten()\n",
    "\n",
    "plt.bar(x = np.arange(1,7), height = multi_dist)\n",
    "plt.title('Multinomial Distribution - Throwing a die 10 times', fontsize = 16)\n",
    "plt.xlabel('Dots')\n",
    "plt.ylabel('Count')\n",
    "plt.yticks(np.arange(0, 11, step = 1))\n",
    "plt.show()"
   ]
  },
  {
   "cell_type": "code",
   "execution_count": 33,
   "id": "39f56536-5e8c-4935-93ec-6cb9a480e82a",
   "metadata": {},
   "outputs": [
    {
     "data": {
      "text/plain": [
       "array([[ 7,  9,  7,  3,  9, 15]], dtype=int64)"
      ]
     },
     "execution_count": 33,
     "metadata": {},
     "output_type": "execute_result"
    }
   ],
   "source": [
    "# Example: Throwing a loaded die 50 times\n",
    "multi_dist_loaded = rng.multinomial(n=50, pvals=[1/7.]*5 + [2/7.], size=1)\n",
    "multi_dist_loaded"
   ]
  },
  {
   "cell_type": "code",
   "execution_count": 34,
   "id": "3d66be81-4003-4762-b1c2-7569efe53e7c",
   "metadata": {},
   "outputs": [
    {
     "data": {
      "image/png": "[encoded data removed]",
      "text/plain": [
       "<Figure size 432x288 with 1 Axes>"
      ]
     },
     "metadata": {},
     "output_type": "display_data"
    }
   ],
   "source": [
    "# Bar chart of throwing a loaded die 50 times\n",
    "# Convert 2-D array into 1-D array: \n",
    "multi_dist_loaded = multi_dist_loaded.flatten()\n",
    "\n",
    "plt.bar(x = np.arange(1,7), height = multi_dist_loaded)\n",
    "plt.title('Multinomial Distribution - Throwing a loaded die 50 times', fontsize = 16)\n",
    "plt.xlabel('Dots')\n",
    "plt.ylabel('Count')\n",
    "plt.yticks(np.arange(0, 50, step = 5))\n",
    "plt.show()"
   ]
  },
  {
   "cell_type": "markdown",
   "id": "4fc5bf82-394a-4921-91a5-12b338d509ea",
   "metadata": {},
   "source": [
    "<br>\n",
    "\n",
    "### **3.4 Normal Distribution**\n",
    "The `normal()` function can be used to return values from a normal distribution. The normal distribution (also often referred to as Gaussian Distribution) is centred around a mean (μ/mu) and the spread of values from the mean is defined by the standard deviation (σ/sigma). \n",
    "\n",
    "Normal distributions often occur in nature and represent the random spread of values around a mean with more values being closer to the mean. About 68 % of values are within 1 sigma from the mean, about 95% within 2 sigma and 99.7% within 3 sigma. \n",
    "\n",
    "[[22]](#reference22), [[23]](#reference23), [[24]](#reference24)"
   ]
  },
  {
   "cell_type": "code",
   "execution_count": 35,
   "id": "53ba3fde-fba0-429c-9c0c-d9011c4ead6a",
   "metadata": {
    "scrolled": true,
    "tags": []
   },
   "outputs": [
    {
     "data": {
      "text/plain": [
       "array([-0.1198199 ,  1.09596474, -1.28976937, -0.55358695, -0.83095089,\n",
       "        1.8331324 ,  0.84891381,  1.21316462,  0.85971809, -0.62202687,\n",
       "       -0.01915592, -0.17690133, -0.81662735,  0.57293833,  0.87391795,\n",
       "        0.64572745,  0.33636589, -0.78278535, -2.88125658, -0.95476136])"
      ]
     },
     "execution_count": 35,
     "metadata": {},
     "output_type": "execute_result"
    }
   ],
   "source": [
    "# Example: Generate a normal distribution with mean = 0 and standard deviation = 1\n",
    "norm_dist = rng.normal(loc = 0, scale= 1, size=1000)\n",
    "\n",
    "# To save space, display only the first 20 records\n",
    "norm_dist[:20]"
   ]
  },
  {
   "cell_type": "code",
   "execution_count": 36,
   "id": "28c9f9e1-ee49-4502-bdfb-aa145d82e6cd",
   "metadata": {},
   "outputs": [
    {
     "data": {
      "image/png": "[encoded data removed]",
      "text/plain": [
       "<Figure size 360x360 with 1 Axes>"
      ]
     },
     "metadata": {},
     "output_type": "display_data"
    }
   ],
   "source": [
    "# Histogram of a normal distribution\n",
    "sns.displot(norm_dist, kde=True)\n",
    "plt.title('Normal Distribution', fontsize = 16)\n",
    "plt.xlabel('Values')\n",
    "plt.ylabel('Count')\n",
    "plt.show()"
   ]
  },
  {
   "cell_type": "code",
   "execution_count": 37,
   "id": "a3163437-a766-4047-8313-6f70175f9a3c",
   "metadata": {
    "scrolled": true,
    "tags": []
   },
   "outputs": [
    {
     "data": {
      "text/plain": [
       "array([10.25202607, 20.27010582,  9.52351193,  7.45695952, 12.98961391,\n",
       "       18.43485748, 12.69987765,  3.70025241,  7.97682617,  7.08088346,\n",
       "       13.15984258,  3.81374121, 15.12954999, 19.04534519,  9.32601661,\n",
       "       -0.92407438,  8.2794307 , 16.77495731,  4.24906564,  2.6931537 ])"
      ]
     },
     "execution_count": 37,
     "metadata": {},
     "output_type": "execute_result"
    }
   ],
   "source": [
    "# Example: Generate a normal distribution with mean = 10 and standard deviation = 5\n",
    "norm_dist2 = rng.normal(loc = 10, scale= 5, size=1000)\n",
    "\n",
    "# To save space, display only the first 20 records\n",
    "norm_dist2[:20]"
   ]
  },
  {
   "cell_type": "code",
   "execution_count": 38,
   "id": "93868c5a-2a72-4129-990c-0c026630ed9b",
   "metadata": {},
   "outputs": [
    {
     "data": {
      "image/png": "[encoded data removed]",
      "text/plain": [
       "<Figure size 360x360 with 1 Axes>"
      ]
     },
     "metadata": {},
     "output_type": "display_data"
    }
   ],
   "source": [
    "# Histogram of a normal distribution with mean = 10\n",
    "sns.displot(norm_dist2, kde=True)\n",
    "plt.title('Normal Distribution with mean = 10', fontsize = 16)\n",
    "plt.xlabel('Values')\n",
    "plt.ylabel('Count')\n",
    "plt.show()"
   ]
  },
  {
   "cell_type": "markdown",
   "id": "6bb8f525-d41d-4d4d-a00e-cadbaa950886",
   "metadata": {},
   "source": [
    "<br>\n",
    "\n",
    "### **3.5 Pareto Distribution**\n",
    "\n",
    "The `pareto()` function creates random values distributed as per a Pareto II or Lomax distribution. It follows the Pareto principle (often referred to as 80-20 rule) which states that 20% of values account for 80% of outcomes. It is used to describe numerous phenomena across a number of disciplines, for example social or scientific. Its original use reflected the wealth distribution within a country with 20% of the population accounting for 80% of its wealth. \n",
    "\n",
    "The Pareto II distribution in numpy.random can take two parameters\n",
    "- a: Shape of the distribution which must be positive\n",
    "- size\n",
    "\n",
    "[[25]](#reference25), [[26]](#reference26), [[27]](#reference27)"
   ]
  },
  {
   "cell_type": "code",
   "execution_count": 39,
   "id": "cf2243fc-90ba-4917-b93a-4df9a012084b",
   "metadata": {
    "scrolled": true,
    "tags": []
   },
   "outputs": [
    {
     "data": {
      "text/plain": [
       "array([5.99191646e-02, 2.65136273e-01, 4.72942039e+00, 7.80300131e-01,\n",
       "       2.81644183e-01, 8.59510223e-02, 2.12024002e-02, 3.70760872e-01,\n",
       "       3.24339801e-03, 3.26209874e-01, 6.43645849e-01, 3.44163636e-01,\n",
       "       4.57804932e-01, 7.80464488e-01, 6.54524226e-01, 1.41038423e+00,\n",
       "       5.97037666e-01, 3.73969392e-01, 6.60741671e-02, 6.06241889e-01])"
      ]
     },
     "execution_count": 39,
     "metadata": {},
     "output_type": "execute_result"
    }
   ],
   "source": [
    "# Generate a Pareto II/Lomax distribution with shape = 3\n",
    "pareto2_dist = rng.pareto(a = 3, size = 1000)\n",
    "\n",
    "# To save space, display only the first 20 records\n",
    "pareto2_dist[0:20]"
   ]
  },
  {
   "cell_type": "code",
   "execution_count": 40,
   "id": "20e9f701-5be7-4d37-900e-e4d2f5eb5ce9",
   "metadata": {},
   "outputs": [
    {
     "data": {
      "image/png": "[encoded data removed]",
      "text/plain": [
       "<Figure size 360x360 with 1 Axes>"
      ]
     },
     "metadata": {},
     "output_type": "display_data"
    }
   ],
   "source": [
    "# Histogram of a Pareto II/Lomax Distribution\n",
    "sns.displot(pareto2_dist, kde=True)\n",
    "\n",
    "plt.title('Pareto II/Lomax Distribution', fontsize = 16)\n",
    "plt.xlabel('Values')\n",
    "plt.ylabel('Count')\n",
    "plt.show()"
   ]
  },
  {
   "cell_type": "markdown",
   "id": "8ca71022-2324-4952-b6be-63e422aa8634",
   "metadata": {},
   "source": [
    "The Pareto II/Lomax distribution is a shifted version of the original Pareto distribution. To create values as per the classical Pareto distribution, the values need to be added by 1 and multiplied with a scale parameter mu. "
   ]
  },
  {
   "cell_type": "code",
   "execution_count": 41,
   "id": "83b62d63-e6cc-4fec-9fe1-33a2be5a2bf5",
   "metadata": {
    "scrolled": true,
    "tags": []
   },
   "outputs": [
    {
     "data": {
      "text/plain": [
       "array([2.34799806, 2.08794544, 5.82598515, 4.30734629, 3.86576421,\n",
       "       2.82435394, 2.97161917, 4.28561016, 2.34441294, 2.12472771,\n",
       "       2.09537053, 4.31500543, 3.03075159, 3.40678945, 2.59104439,\n",
       "       2.16419756, 2.16229187, 2.01540413, 2.03145024, 2.09482799])"
      ]
     },
     "execution_count": 41,
     "metadata": {},
     "output_type": "execute_result"
    }
   ],
   "source": [
    "# Generate a Pareto distribution with shape = 3 and scale = 2\n",
    "pareto_dist = (rng.pareto(a = 3, size = 1000) + 1) * 2\n",
    "\n",
    "# To save space, display only the first 20 records\n",
    "pareto_dist[:20]"
   ]
  },
  {
   "cell_type": "code",
   "execution_count": 42,
   "id": "642770ab-32cf-46fd-b04a-e0c9adb81b57",
   "metadata": {},
   "outputs": [
    {
     "data": {
      "image/png": "[encoded data removed]",
      "text/plain": [
       "<Figure size 360x360 with 1 Axes>"
      ]
     },
     "metadata": {},
     "output_type": "display_data"
    }
   ],
   "source": [
    "# Histogram of a Pareto II/Lomax Distribution\n",
    "\n",
    "sns.displot(pareto_dist, kde=True)\n",
    "\n",
    "plt.title('Pareto Distribution', fontsize = 16)\n",
    "plt.xlabel('Values')\n",
    "plt.ylabel('Count')\n",
    "plt.show()"
   ]
  },
  {
   "cell_type": "markdown",
   "id": "16315562-8226-4d6f-9f5c-1140feb4e5f5",
   "metadata": {},
   "source": [
    "***\n",
    "<br>\n",
    "\n",
    "<a id='part4'></a>\n",
    "\n",
    "## **4. Explain the use of seeds in generating pseudorandom numbers.**"
   ]
  },
  {
   "cell_type": "markdown",
   "id": "7cd4afee-e01b-4e8c-8171-63e2eb66ca67",
   "metadata": {},
   "source": [
    "As described in the first section, numpy.random generates pseudo-random numbers which always follow the same sequence. The reason why different numbers are returned whenever a random generator is run is that it starts at a different point of that sequence. This start point is called the seed, and if not defined by the user, numpy.random sets it based on a value derived from the computers operating system. [[28]](#reference28)"
   ]
  },
  {
   "cell_type": "markdown",
   "id": "da933c4c-d0d6-4600-9d37-e5149f469f57",
   "metadata": {},
   "source": [
    "<br>\n",
    "\n",
    "### **4.1 Bitgenerator and Generator**\n",
    "\n",
    "numpy.random generates numbers and arrays using a combination of a bitgenerator and a generator. \n",
    "\n",
    "The bitgenerator creates sequences of random numbers as objects. The generator then transforms the objects created by the bitgenerator into numbers that follow a certain distribution as defined by the user. If no seed is specified, an unpredictable value will be set by using data of the operating system. [[29]](#reference29), [[30]](#reference30), [[31]](#reference31)"
   ]
  },
  {
   "cell_type": "markdown",
   "id": "6e0f57aa-df5a-4140-be57-386f5e4f28d0",
   "metadata": {},
   "source": [
    "<br>\n",
    "\n",
    "### **4.2 PCG64 - numpy.random's BitGenerator Algorithm**\n",
    "\n",
    "The standard bitgenerator used by numpy.random is based on the Permuted Congruential Generator 64-bit (PCG64) algorithm. It was implemented into numpy.random since version 1.19 and is based on O'Neill's \"Permutation Congruential Generator\".\n",
    "\n",
    "PCG64 was developed to achieve among other factors \"good statistical properties, [...] lack of predictability, cryptographic security, good time and space performance, small code size\" (O'NEILL, p4, [[32]](#reference32)). It combines the fast speed and space efficiency of linear congruential generator and adds permutation to achieve better statistical quality. [[33]](#reference33), [[34]](reference35), [[35]](#reference36)\n",
    "\n",
    "PCG64 replaced the previous bitGenerator algorithm MT19937 (Mersenne Twister). In direct comparison PCG64 outperforms MT19937 on a number of factors.\n",
    "\n",
    "<br>\n",
    "\n",
    "<p style=\"text-align: center;\"><b>Table 1 - Comparison of PC664 and MT19937</b> (Source: https://www.pcg-random.org/)</p>\n",
    "\n",
    "| PCG64                           | MT19937                             |\n",
    "|---------------------------------|-------------------------------------|\n",
    "| High prediction difficulty      | Easy prediction                     |\n",
    "| Excellent statistical quality   | Some failures at statistical tests  |\n",
    "| Very fast time performance      | Acceptable time performance         |\n",
    "| Compact space usage             | Huge (2KB)                          |\n",
    "| Small code size and complexity  | Complex Code                        |"
   ]
  },
  {
   "cell_type": "markdown",
   "id": "7aaa7717-a819-4bb6-965f-db8fb70731d3",
   "metadata": {},
   "source": [
    "<br>\n",
    "\n",
    "### **4.3 Seeding the Random Number Generator**\n",
    "Some data simulations may require using the same set of randomly generated data. To achieve this, the seed can be set by the user. Setting the seed to a certain value will result in receiving the same output of random numbers, making the \"random\" numbers reproducible. [[29]](#reference29)"
   ]
  },
  {
   "cell_type": "code",
   "execution_count": 43,
   "id": "9eecf250-50a8-413d-95a1-f03f03b42aa8",
   "metadata": {},
   "outputs": [
    {
     "data": {
      "text/plain": [
       "array([13, 99, 66, 85, 29], dtype=int64)"
      ]
     },
     "execution_count": 43,
     "metadata": {},
     "output_type": "execute_result"
    }
   ],
   "source": [
    "# Example: Generate 5 integers between 1 and 100 without defining a seed\n",
    "test_rng=np.random.default_rng()\n",
    "test_rng.integers(1, 101, 5)"
   ]
  },
  {
   "cell_type": "code",
   "execution_count": 44,
   "id": "2bf1ce5b-3100-4367-81a6-ed83c6db8424",
   "metadata": {},
   "outputs": [
    {
     "data": {
      "text/plain": [
       "array([63, 81, 55, 32, 73], dtype=int64)"
      ]
     },
     "execution_count": 44,
     "metadata": {},
     "output_type": "execute_result"
    }
   ],
   "source": [
    "# When repeating the above, the output  will likely be different as the seed has been re-set by the random number generator\n",
    "new_test_rng=np.random.default_rng()\n",
    "new_test_rng.integers(1, 101, 5)"
   ]
  },
  {
   "cell_type": "markdown",
   "id": "d9d2c183-6cc3-4364-a8b0-e61eec1b78c9",
   "metadata": {},
   "source": [
    "<br>\n",
    "\n",
    "When adding a seed parameter, the output of the same function becomes reproducible. "
   ]
  },
  {
   "cell_type": "code",
   "execution_count": 45,
   "id": "b4d0766e-c936-4164-91b3-9609f244b7b6",
   "metadata": {},
   "outputs": [
    {
     "data": {
      "text/plain": [
       "array([68, 81,  3, 81, 47], dtype=int64)"
      ]
     },
     "execution_count": 45,
     "metadata": {},
     "output_type": "execute_result"
    }
   ],
   "source": [
    "# Example: Generate 5 integers between 1 and 10 but this time determine the seed\n",
    "seeded_rng = np.random.default_rng(seed=5)\n",
    "seeded_rng.integers(1,101,5)"
   ]
  },
  {
   "cell_type": "code",
   "execution_count": 46,
   "id": "5864faec-787d-402d-a5d4-5cfba320ce6c",
   "metadata": {},
   "outputs": [
    {
     "data": {
      "text/plain": [
       "array([68, 81,  3, 81, 47], dtype=int64)"
      ]
     },
     "execution_count": 46,
     "metadata": {},
     "output_type": "execute_result"
    }
   ],
   "source": [
    "# When repeating the above, the output is the same\n",
    "new_seeded_rng = np.random.default_rng(seed=5)\n",
    "new_seeded_rng.integers(1,101,5)"
   ]
  },
  {
   "cell_type": "markdown",
   "id": "34cacd82-ed0c-4d56-b517-a7a3235211b9",
   "metadata": {},
   "source": [
    "***\n",
    "<br>\n",
    "\n",
    "<a id='part5'></a>\n",
    "\n",
    "## **References Used**\n",
    "\n",
    "<a id='reference1'></a>\n",
    "[[1] W3Schools, 2021: *NumPy Getting Started*](https://www.w3schools.com/python/numpy/numpy_getting_started.asp) (Accessed 30 October 2021)\n",
    "\n",
    "<a id='reference2'></a>\n",
    "[[2] W3Schools, 2021: *NumPy Creating Arrays*](https://www.w3schools.com/python/numpy/numpy_creating_arrays.asp) (Accessed 30 October 2021)\n",
    "\n",
    "<a id='reference3'></a>\n",
    "[[3] WEISSTEIN, E., n.d.: *Random Number*](https://mathworld.wolfram.com/RandomNumber.html) (Accessed 20 November 2021)\n",
    "\n",
    "<a id='reference4'></a>\n",
    "[[4] W3Schools, 2021: *Random Numbers in NumPy*](https://www.w3schools.com/python/numpy/numpy_random.asp) (Accessed 30 October 2021)\n",
    "\n",
    "<a id='reference5'></a>\n",
    "[[5] The NumPy community, 2021: *Quick Start*](https://numpy.org/doc/stable/reference/random/index.html#quick-start) (Accessed 30 October 2021)\n",
    "\n",
    "<a id='reference6'></a>\n",
    "[[6] The NumPy community, 2021: *numpy.random.Generator.integers*](https://numpy.org/doc/stable/reference/random/generated/numpy.random.Generator.integers.html) (Accessed 13 November 2021)\n",
    "\n",
    "<a id='reference7'></a>\n",
    "[[7] The NumPy community, 2021: *numpy.random.Generator.random*](https://numpy.org/doc/stable/reference/random/generated/numpy.random.Generator.random.html) (Accessed 13 November 2021)\n",
    "\n",
    "<a id='reference8'></a>\n",
    "[[8] The NumPy community, 2021: *numpy.random.Generator.choice*](https://numpy.org/doc/stable/reference/random/generated/numpy.random.Generator.choice.html) (Accessed 13 November 2021)\n",
    "\n",
    "<a id='reference9'></a>\n",
    "[[9] The NumPy community, 2021: *numpy.random.Generator.bytes*](https://numpy.org/doc/stable/reference/random/generated/numpy.random.Generator.bytes.html) (Accessed 19 November 2021)\n",
    "\n",
    "<a id='reference10'></a>\n",
    "[[10] The NumPy community, 2021: *Permutations*](https://numpy.org/doc/stable/reference/random/generator.html#permutations) (Accessed 13 November 2021)\n",
    "\n",
    "<a id='reference11'></a>\n",
    "[[11] The NumPy community, 2021: *numpy.random.Generator.shuffle*](https://numpy.org/doc/stable/reference/random/generated/numpy.random.Generator.shuffle.html) (Accessed 13 November 2021)\n",
    "\n",
    "<a id='reference12'></a>\n",
    "[[12] KHAN, S., 2021: *11 Amazing NumPy Shuffle Examples*](https://likegeeks.com/numpy-shuffle) (Accessed 14 November 2021)\n",
    "\n",
    "<a id='reference13'></a>\n",
    "[[13] ZHU, K., 2019: *Random! Shuffle v.s. Permutation (Numpy)*](https://zkf85.github.io/2019/01/31/np-shuffle-vs-permutation) (Accessed 14 November 2021)\n",
    "\n",
    "<a id='reference14'></a>\n",
    "[[14] The NumPy community, 2021: *numpy.random.Generator.permutation*](https://numpy.org/doc/stable/reference/random/generated/numpy.random.Generator.permutation.html) (Accessed 13 November 2021)\n",
    "\n",
    "<a id='reference15'></a>\n",
    "[[15] The NumPy community, 2021: *numpy.random.Generator.permuted*](https://numpy.org/doc/stable/reference/random/generated/numpy.random.Generator.permuted.html) (Accessed 14 November 2021)\n",
    "\n",
    "<a id='reference16'></a>\n",
    "[[16] The NumPy community, 2021: *numpy.random.Generator.uniform*](https://numpy.org/doc/stable/reference/random/generated/numpy.random.Generator.uniform.html) (Accessed 15 November 2021)\n",
    "\n",
    "<a id='reference17'></a>\n",
    "[[17] The NumPy community, 2021: *numpy.random.Generator.binomial*](https://numpy.org/doc/stable/reference/random/generated/numpy.random.Generator.binomial.html) (Accessed 20 November 2021)\n",
    "\n",
    "<a id='reference18'></a>\n",
    "[[18] Wikipedia Contributors, 2021: *Binomial distribution*](https://en.wikipedia.org/wiki/Binomial_distribution) (Accessed 20 November 2021)\n",
    "\n",
    "<a id='reference19'></a>\n",
    "[[19] The NumPy community, 2021: *numpy.random.Generator.multinomial*](https://numpy.org/doc/stable/reference/random/generated/numpy.random.Generator.multinomial.html) (Accessed 20 November 2021)\n",
    "\n",
    "<a id='reference20'></a>\n",
    "[[20] Wikipedia Contributors, 2021: *Multinomial distribution*](https://en.wikipedia.org/wiki/Multinomial_distribution) (Accessed 20 November 2021)\n",
    "\n",
    "<a id='reference21'></a>\n",
    "[[21] GeeksforGeeks, 2021: *Python | Flatten a 2d numpy array into 1d array*](https://www.geeksforgeeks.org/python-flatten-a-2d-numpy-array-into-1d-array/) (Accessed 21 November 2021)\n",
    "\n",
    "<a id='reference22'></a>\n",
    "[[22] Wikipedia Contributors, 2021: *Normal distribution*](https://en.wikipedia.org/wiki/Normal_distribution) (Accessed 20 November 2021)\n",
    "\n",
    "<a id='reference23'></a>\n",
    "[[23] The NumPy community, 2021: *numpy.random.Generator.normal*](https://numpy.org/doc/stable/reference/random/generated/numpy.random.Generator.normal.html) (Accessed 20 November 2021)\n",
    "\n",
    "<a id='reference24'></a>\n",
    "[[24] Zach, 2021: *How to Plot a Normal Distribution in Seaborn (With Examples)*](https://www.statology.org/seaborn-normal-distribution) (Accessed 21 November 2021)\n",
    "\n",
    "<a id='reference25'></a>\n",
    "[[25] Wikipedia Contributors, 2021: *Pareto distribution*](https://en.wikipedia.org/wiki/Pareto_distribution) (Accessed 20 November 2021)\n",
    "\n",
    "<a id='reference26'></a>\n",
    "[[26] The NumPy community, 2021: *numpy.random.Generator.pareto*](https://numpy.org/doc/stable/reference/random/generated/numpy.random.Generator.pareto.html) (Accessed 20 November 2021)\n",
    "\n",
    "<a id='reference27'></a>\n",
    "[[27] W3School, 2021: *Pareto Distribution*](https://www.w3schools.com/python/numpy/numpy_random_pareto.asp) (Accessed 20 November 2021)\n",
    "\n",
    "<a id='reference28'></a>\n",
    "[[28] The NumPy community, 2021: *Random sampling (numpy.random)*](https://numpy.org/doc/stable/reference/random/index.html) (Accessed 20 November 2021)\n",
    "\n",
    "<a id='reference29'></a>\n",
    "[[29] The NumPy community, 2021: *Random Generator*](https://numpy.org/doc/stable/reference/random/generator.html) (Accessed 20 November 2021)\n",
    "\n",
    "<a id='reference30'></a>\n",
    "[[30] The NumPy community, 2021: *numpy.random.BitGenerator*](https://numpy.org/doc/stable/reference/random/bit_generators/generated/numpy.random.BitGenerator.html) (Accessed 20 November 2021)\n",
    "\n",
    "<a id='reference31'></a>\n",
    "[[31] EBNER, J., 2019: *NumPy Random Seed, Explained*](https://www.sharpsightlabs.com/blog/numpy-random-seed) (Accessed 20 November 2021)\n",
    "\n",
    "<a id='reference32'></a>\n",
    "[[32] O'NEILL, 2014: *PCG: A Family of Simple Fast Space-Efficient Statistically Good Algorithms for Random Number Generation*\n",
    "\n",
    "<a id='reference33'></a>\n",
    "[[33] O'Neill, M., 2018: *PCG, A Family of Better Random Number Generators*](https://www.pcg-random.org) (Accessed 20 November 2021)\n",
    "\n",
    "<a id='reference34'></a>\n",
    "[[34] The NumPy community, 2021: *Permuted Congruential Generator (64-bit, PCG64)*](https://numpy.org/doc/stable/reference/random/bit_generators/pcg64.html) (Accessed 20 November 2021)\n",
    "\n",
    "<a id='reference35'></a>\n",
    "[[35] The NumPy community, 2021: *Mersenne Twister (MT19937)*](https://numpy.org/doc/stable/reference/random/bit_generators/mt19937.html#) (Accessed 20 November 2021)"
   ]
  }
 ],
 "metadata": {
  "kernelspec": {
   "display_name": "Python 3",
   "language": "python",
   "name": "python3"
  },
  "language_info": {
   "codemirror_mode": {
    "name": "ipython",
    "version": 3
   },
   "file_extension": ".py",
   "mimetype": "text/x-python",
   "name": "python",
   "nbconvert_exporter": "python",
   "pygments_lexer": "ipython3",
   "version": "3.8.8"
  }
 },
 "nbformat": 4,
 "nbformat_minor": 5
}
