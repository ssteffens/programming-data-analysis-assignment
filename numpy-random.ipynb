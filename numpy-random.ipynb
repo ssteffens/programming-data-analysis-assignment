{
 "cells": [
  {
   "cell_type": "markdown",
   "id": "ca747803-6241-4530-9a01-15d8eba91b1a",
   "metadata": {},
   "source": [
    "# Programming for Data Analysis 2021 - Assignment"
   ]
  },
  {
   "cell_type": "markdown",
   "id": "8a1ccc16-20ad-4989-a357-72178e9200ba",
   "metadata": {},
   "source": [
    "## 1. Explain the overall purpose of the numpy.random package."
   ]
  },
  {
   "cell_type": "markdown",
   "id": "933bc638-8079-4fb6-a01f-fa75799805a2",
   "metadata": {},
   "source": [
    "### **1.1 The numpy.random Package - Subpackage of NumPy** \n",
    "\n",
    "The numpy.random package is a subpackage within the NumPy package. NumPy (short for Numerical Python) is a Python library which is used for dealing with arrays of numerical values. \n",
    "Arrays in NumPy are maintained as ndarray objects. These arrays can be 0-, 1- or multi-dimensional: \n",
    "- 0-D array: single value/scalar\n",
    "- 1-D array: a list of several 0-D arrays, also called uni-dimensional\n",
    "- 2-D array: an array consisting of two 1-D arrays, also called a matrix\n",
    "- 3-D array: an array that has 2-D arrays as its elements\n",
    "- n-D array: an array that has n-1 -D arrays as its elements\n",
    "All elements of an array need to be of the same data type. \n",
    "\n",
    "To be able to use NumPy, it needs to be imported. It is commonly imported as the alias np. "
   ]
  },
  {
   "cell_type": "code",
   "execution_count": 1,
   "id": "d36c8ef6-96ba-4bb3-8293-bf186b98e1c1",
   "metadata": {},
   "outputs": [],
   "source": [
    "# Importing numPy\n",
    "import numpy as np"
   ]
  },
  {
   "cell_type": "code",
   "execution_count": 2,
   "id": "b090f4b2-e57a-46bd-9b74-20cd88ca0ba9",
   "metadata": {},
   "outputs": [
    {
     "data": {
      "text/plain": [
       "'1.20.1'"
      ]
     },
     "execution_count": 2,
     "metadata": {},
     "output_type": "execute_result"
    }
   ],
   "source": [
    "# To check the installed version of NumPy \n",
    "np.__version__"
   ]
  },
  {
   "cell_type": "markdown",
   "id": "e327de91-9ddd-4ad7-b24b-318233c69730",
   "metadata": {},
   "source": [
    "### **1.2 The numpy.random Package - Use and Purpose**\n",
    "\n",
    "numpy.random is a subpackage within NumPy which enables users to generate and work with random numbers.\n",
    "\n",
    "\"Random means something that can not be predicted logically\" (https://www.w3schools.com/python/numpy/numpy_random.asp)\n",
    "\n",
    "Numbers created with the package are considered pseudo-random, meaning that they are not truly random but rather generated through a generation algorithm. By setting a seed value, the sequence of created numbers is reproducable (see further in part 4). \n",
    "\n",
    "In contrast, truly random numbers can be generated using random data from an outside source which could be mouse movements, time stamps, etc. \n",
    "\n",
    "In programming, pseudo-random numbers can be used for simulating data. the numpy.random package allows to create the required random numbers in different formats and fulfilling different criteria as required by the simulation scenario, for example selecting numbers from a pre-defined sample, or creating random numbers or arrays that follow certain distribution patterns. \n",
    "\n",
    "To be able to use the numpy.random module, calling the function numpy.random.default_rng() will start a new random number generator. "
   ]
  },
  {
   "cell_type": "code",
   "execution_count": 3,
   "id": "3a0e9542-7ab0-43b1-91b1-09a252ba6c9e",
   "metadata": {},
   "outputs": [],
   "source": [
    "# Define the random number generator (RNG)\n",
    "rng=np.random.default_rng()"
   ]
  },
  {
   "cell_type": "code",
   "execution_count": 4,
   "id": "331935d4-f881-4224-bec3-40a56c6ce85b",
   "metadata": {},
   "outputs": [
    {
     "data": {
      "text/plain": [
       "array([0.16367383, 0.22922598, 0.74366824, 0.13846044, 0.4023613 ,\n",
       "       0.19040653, 0.48822846, 0.16242725, 0.82531899, 0.37743504])"
      ]
     },
     "execution_count": 4,
     "metadata": {},
     "output_type": "execute_result"
    }
   ],
   "source": [
    "# Example: Using the RNG to generate 10 random float point numbers\n",
    "rng.random(size=10)"
   ]
  },
  {
   "cell_type": "markdown",
   "id": "faedcd1b-7aa1-455d-bbd6-9f7bd38b8f13",
   "metadata": {},
   "source": [
    "References:\n",
    "\n",
    "https://www.w3schools.com/python/numpy/numpy_random.asp (30/10/2021)\n",
    "\n",
    "Numpy v.1.21 Manual https://numpy.org/doc/stable/ (30/10/2021)\n",
    "\n",
    "Random sampling (numpy.random) https://numpy.org/doc/stable/reference/random/index.html# (30/10/2021)"
   ]
  },
  {
   "cell_type": "markdown",
   "id": "6ac92937-7622-4ac6-ab5c-090f5f25f1ac",
   "metadata": {},
   "source": [
    "## **2. Explain the use of the “Simple random data” and “Permutations” functions.**"
   ]
  },
  {
   "cell_type": "markdown",
   "id": "13d999c0-127f-4bc5-9383-384f5d921fe5",
   "metadata": {},
   "source": [
    "Functions for creating simple random data can be used to return integers, floats, or a random sample from a given array. \n",
    "<br>\n",
    "Permutation modify an array or sequence already in place by shuffling or rearranging the sequence. "
   ]
  },
  {
   "cell_type": "markdown",
   "id": "e5866a16-9e74-4ebb-bae2-12076132f484",
   "metadata": {},
   "source": [
    "<br>\n",
    "\n",
    "### **2.1 Simple Random Data**\n",
    "A number of functions can be used to generate simple random data, for example single or several numbers, or taking a random sample from a given array. "
   ]
  },
  {
   "cell_type": "markdown",
   "id": "5631856a-6be4-43d2-a1c8-eece16773938",
   "metadata": {},
   "source": [
    "<br>\n",
    "\n",
    "#### **2.1.1 Generating Random Integers**\n",
    "The rng.integers() function can be used to create random integers. "
   ]
  },
  {
   "cell_type": "code",
   "execution_count": 5,
   "id": "6a48cadc-c486-4185-a690-6ee2b377bc4c",
   "metadata": {},
   "outputs": [
    {
     "data": {
      "text/plain": [
       "3"
      ]
     },
     "execution_count": 5,
     "metadata": {},
     "output_type": "execute_result"
    }
   ],
   "source": [
    "# Generate a single random integer in the range from 0 (inclusive) to 5 (exclusive)\n",
    "rng.integers(5)"
   ]
  },
  {
   "cell_type": "markdown",
   "id": "681a6789-3e7d-473b-94a9-ab8735384bb0",
   "metadata": {},
   "source": [
    "The rng.integers() function can take a number of parameters to further define the output:\n",
    "- The range from which integers are drawn (low, high). The range inludes the low value but by default excludes the high value. \n",
    "- The number of random integers to be drawn (size)\n",
    "- Data type of results\n",
    "- Endpoint = True sets the high value to be inclusive of the entered value\n",
    "\n",
    "https://numpy.org/doc/stable/reference/random/generated/numpy.random.Generator.integers.html (13/11/2021)\n",
    "\n"
   ]
  },
  {
   "cell_type": "code",
   "execution_count": 6,
   "id": "eea0adb7-b4ee-4bb5-a0de-6b22926299ed",
   "metadata": {},
   "outputs": [
    {
     "data": {
      "text/plain": [
       "array([15, 15, 19, 17, 14], dtype=int64)"
      ]
     },
     "execution_count": 6,
     "metadata": {},
     "output_type": "execute_result"
    }
   ],
   "source": [
    "# Example: Generate an array of 5 integers between 10 (inclusive) and 20 (exclusive)\n",
    "rng.integers(low=10, high=20, size=5)"
   ]
  },
  {
   "cell_type": "markdown",
   "id": "0c7253fb-87db-4c05-ae81-779fc7f1bd13",
   "metadata": {},
   "source": [
    "<br>\n",
    "\n",
    "#### **2.1.2 Generating Random Float Numbers**\n",
    "\n",
    "The rng.random() function can be used to create float point numbers between 0 and 1 (exclusive).\n"
   ]
  },
  {
   "cell_type": "code",
   "execution_count": 7,
   "id": "f2a01847-4439-49fb-9b1f-4901ac56dcdd",
   "metadata": {},
   "outputs": [
    {
     "data": {
      "text/plain": [
       "0.5236893133045297"
      ]
     },
     "execution_count": 7,
     "metadata": {},
     "output_type": "execute_result"
    }
   ],
   "source": [
    "# Exapmle: Generate a single float point number\n",
    "rng.random()"
   ]
  },
  {
   "cell_type": "markdown",
   "id": "09792b18-0ebe-46b7-98cc-1d18c4a1a9e5",
   "metadata": {},
   "source": [
    "Similar to creating integers, additional parameters can be added to further define the output: \n",
    "- The number of random float numbers to be drawn (size)\n",
    "- Data type (float64 or float32)\n",
    "- An alternative output array\n",
    "\n",
    "https://numpy.org/doc/stable/reference/random/generated/numpy.random.Generator.random.html#numpy.random.Generator.random (13/11/2021)"
   ]
  },
  {
   "cell_type": "code",
   "execution_count": 8,
   "id": "84101c36-6ed4-4a29-a994-24dec51f4612",
   "metadata": {},
   "outputs": [
    {
     "data": {
      "text/plain": [
       "array([0.27420255, 0.14061304, 0.40882388, 0.74234083, 0.83160411])"
      ]
     },
     "execution_count": 8,
     "metadata": {},
     "output_type": "execute_result"
    }
   ],
   "source": [
    "# Generate an array of 5 float point numbers\n",
    "rng.random(size=5)"
   ]
  },
  {
   "cell_type": "markdown",
   "id": "76fdda62-791a-43ec-bd2e-8500ff0f7fea",
   "metadata": {},
   "source": [
    "<br>\n",
    "\n",
    "#### **2.1.3 Generating n-dimensional Arrays of Random Numbers**\n",
    "\n",
    "Both rng.integers() and rng.random() can be used to create n-dimensional arrays of random numbers, for example to simulate a table of values. \n",
    "\n",
    "https://numpy.org/doc/stable/reference/random/generated/numpy.random.Generator.integers.html#numpy.random.Generator.integers (19/11/2021)"
   ]
  },
  {
   "cell_type": "code",
   "execution_count": 9,
   "id": "29f4c59b-02ca-49f8-a0ef-689284e601ca",
   "metadata": {},
   "outputs": [
    {
     "data": {
      "text/plain": [
       "array([[4, 1, 3, 1],\n",
       "       [2, 4, 4, 1],\n",
       "       [3, 2, 0, 4]], dtype=int64)"
      ]
     },
     "execution_count": 9,
     "metadata": {},
     "output_type": "execute_result"
    }
   ],
   "source": [
    "# Generate a 3 x 4 array of integers with maximum value 5 (exlusive)\n",
    "rng.integers(5, size=(3, 4))"
   ]
  },
  {
   "cell_type": "code",
   "execution_count": 10,
   "id": "2fa3021a-e76d-45be-8293-640bfb17e567",
   "metadata": {},
   "outputs": [
    {
     "data": {
      "text/plain": [
       "array([[ 2,  7,  4,  8],\n",
       "       [18, 17, 14, 16],\n",
       "       [27, 24, 24, 23]], dtype=int64)"
      ]
     },
     "execution_count": 10,
     "metadata": {},
     "output_type": "execute_result"
    }
   ],
   "source": [
    "# Generate a 3 x 4 array of integers with different low and high values for each dimension (row)\n",
    "rng.integers([[0, 0, 0, 0], [10, 10, 10, 10], [20, 20, 20, 20]], [[10], [20], [30]], size=[3, 4])"
   ]
  },
  {
   "cell_type": "markdown",
   "id": "e2774df6-1987-4e29-86e0-62097ad15e36",
   "metadata": {},
   "source": [
    "<br>\n",
    "\n",
    "#### **2.1.4 Selecting Random Numbers from a Predefined Array**\n",
    "\n",
    "The rng.choice() function can be used to generate a random sample from a given array. \n",
    "\n",
    "https://numpy.org/doc/stable/reference/random/generated/numpy.random.Generator.choice.html#numpy.random.Generator.choice (13/11/2021)"
   ]
  },
  {
   "cell_type": "code",
   "execution_count": 11,
   "id": "a701b26e-ff77-4485-a6b0-6cb8904baf79",
   "metadata": {},
   "outputs": [
    {
     "data": {
      "text/plain": [
       "array([1, 3, 1])"
      ]
     },
     "execution_count": 11,
     "metadata": {},
     "output_type": "execute_result"
    }
   ],
   "source": [
    "# Select 3 integers from an array of [1, 2, 3, 4, 5]\n",
    "rng.choice([1,2,3,4,5], 3)"
   ]
  },
  {
   "cell_type": "markdown",
   "id": "a5a88eb3-4fd2-4a59-9d33-f20759fe2b2f",
   "metadata": {},
   "source": [
    "An important aspect of random number generation is the distribution of data. The rng.choice() function can be used to define the probability of random numbers being selected by assigning probability values. "
   ]
  },
  {
   "cell_type": "code",
   "execution_count": 12,
   "id": "66ba29c2-6a9a-4ff8-9ba0-b51cc2455db4",
   "metadata": {},
   "outputs": [
    {
     "data": {
      "text/plain": [
       "array([2, 4, 2, 4, 4, 3, 4, 2, 2, 1])"
      ]
     },
     "execution_count": 12,
     "metadata": {},
     "output_type": "execute_result"
    }
   ],
   "source": [
    "# Select 10 integers from an array of [1, 2, 3, 4, 5]. The probability of selecting 1, 2 and 3 is set to 0.3, \n",
    "# the probaility of selecting 4 is set to 0.1 and the probablility of selecting 5 is set to 0:\n",
    "\n",
    "ch = rng.choice([1,2,3,4,5], 10, p=(0.3, 0.3, 0.3, 0.1, 0))\n",
    "ch"
   ]
  },
  {
   "cell_type": "markdown",
   "id": "733e1772-edb3-405d-b904-9ea970ffd28f",
   "metadata": {},
   "source": [
    "<br>\n",
    "\n",
    "#### **2.1.5 Generating Random Bytes**\n",
    "\n",
    "The rng.bytes() function can be used to generate random bytes. The length parameter determines the number of bytes to be created. \n",
    "\n",
    "https://numpy.org/doc/stable/reference/random/generated/numpy.random.Generator.bytes.html#numpy.random.Generator.bytes (19/11/2021)"
   ]
  },
  {
   "cell_type": "code",
   "execution_count": 13,
   "id": "188d1530-db4a-4427-9b36-c2205530a7d0",
   "metadata": {},
   "outputs": [
    {
     "data": {
      "text/plain": [
       "b'\\xaf\\xb9\\x9e\\xd3\\x9d\\xa7\\x97\\xe6\\x13\\xcd'"
      ]
     },
     "execution_count": 13,
     "metadata": {},
     "output_type": "execute_result"
    }
   ],
   "source": [
    "# Example: Generate 10 random bytes\n",
    "rng.bytes(10)"
   ]
  },
  {
   "cell_type": "markdown",
   "id": "57ffaf61-b047-4774-b246-fd2476b915bc",
   "metadata": {},
   "source": [
    "<br>\n",
    "\n",
    "### **2.2 Permutations**"
   ]
  },
  {
   "cell_type": "markdown",
   "id": "961d847a-4bf3-4e88-8ca2-c1583a11bd6d",
   "metadata": {},
   "source": [
    "Random permuations can be used to re-arrange elements within a given array, for example by changing the order of [1, 2, 3] to [3, 2, 1].\n",
    "The numpy.random package offers 3 methods for changing the order of array elements: \n",
    "- shuffle()\n",
    "- permutation()\n",
    "- permuted()\n",
    "\n",
    "Permutations: https://numpy.org/doc/stable/reference/random/generated/numpy.random.Generator.permutation.html"
   ]
  },
  {
   "cell_type": "markdown",
   "id": "d4500e25-3204-4d36-8576-6d846d400882",
   "metadata": {},
   "source": [
    "<br>\n",
    "\n",
    "#### **2.2.1 Re-shuffling an Array**\n",
    "The shuffle() function changes the original array by re-arranging its elements. \n",
    "\n",
    "https://numpy.org/doc/stable/reference/random/generated/numpy.random.Generator.shuffle.html#numpy.random.Generator.shuffle (13/11/2021)\n",
    "\n",
    "https://likegeeks.com/numpy-shuffle/ (14/11/2021)\n",
    "\n",
    "https://zkf85.github.io/2019/01/31/np-shuffle-vs-permutation (14/11/2021)"
   ]
  },
  {
   "cell_type": "code",
   "execution_count": 14,
   "id": "92d000cb-11d3-466a-bcd8-cd69694b9fbd",
   "metadata": {},
   "outputs": [
    {
     "data": {
      "text/plain": [
       "[5, 3, 2, 4, 1]"
      ]
     },
     "execution_count": 14,
     "metadata": {},
     "output_type": "execute_result"
    }
   ],
   "source": [
    "# Example: \n",
    "arr = [1,2,3,4,5]\n",
    "\n",
    "rng.shuffle(arr)\n",
    "arr"
   ]
  },
  {
   "cell_type": "markdown",
   "id": "501c4554-93f7-4b9f-b9c1-eb58eae32403",
   "metadata": {},
   "source": [
    "For 2- or more-dimensional arrays, if using the shuffle() function as above, the order of arrays withinh the first dimension is changed, their individual elements remain in the same order. "
   ]
  },
  {
   "cell_type": "code",
   "execution_count": 15,
   "id": "4da2e6bd-353b-4f8a-83b1-e759bca301b0",
   "metadata": {},
   "outputs": [
    {
     "data": {
      "text/plain": [
       "array([[1, 2, 3],\n",
       "       [7, 8, 9],\n",
       "       [4, 5, 6]])"
      ]
     },
     "execution_count": 15,
     "metadata": {},
     "output_type": "execute_result"
    }
   ],
   "source": [
    "# Example\n",
    "arr = np.array([[1,2,3], [4,5,6], [7,8,9]])\n",
    "rng.shuffle(arr)\n",
    "arr"
   ]
  },
  {
   "cell_type": "markdown",
   "id": "9c60533c-3076-41f5-bb8e-964bb07db2a2",
   "metadata": {},
   "source": [
    "To also rearrange the order of elements within the 2nd dimension, the axis parameter can be added to the function. In the below example, the three sub-arrays will remain in the same order (starting with the array containing numbers 1, 2 and 3) but within the sub-arrays the elements are rearranged. "
   ]
  },
  {
   "cell_type": "code",
   "execution_count": 16,
   "id": "02813440-338b-41fe-85ad-ad7dd4e66918",
   "metadata": {},
   "outputs": [
    {
     "data": {
      "text/plain": [
       "array([[1, 2, 3],\n",
       "       [4, 5, 6],\n",
       "       [7, 8, 9]])"
      ]
     },
     "execution_count": 16,
     "metadata": {},
     "output_type": "execute_result"
    }
   ],
   "source": [
    "arr = np.array([[1,2,3], [4,5,6], [7,8,9]])\n",
    "arr"
   ]
  },
  {
   "cell_type": "code",
   "execution_count": 17,
   "id": "e1dfc667-57e5-4722-9967-4c77981f8d31",
   "metadata": {},
   "outputs": [
    {
     "data": {
      "text/plain": [
       "array([[1, 3, 2],\n",
       "       [4, 6, 5],\n",
       "       [7, 9, 8]])"
      ]
     },
     "execution_count": 17,
     "metadata": {},
     "output_type": "execute_result"
    }
   ],
   "source": [
    "rng.shuffle(arr, axis=1)\n",
    "arr"
   ]
  },
  {
   "cell_type": "markdown",
   "id": "09526518-ec3d-47c4-8a98-efd8467953e4",
   "metadata": {},
   "source": [
    "<br>\n",
    "\n",
    "#### **2.2.2 Creating a Re-arranged Copy of an Array**\n",
    "While the shuffle() function changes to original array, the permutation() function returns a copy of the original array with re-arranged elements.\n",
    "\n",
    "https://numpy.org/doc/stable/reference/random/generated/numpy.random.Generator.permutation.html#numpy.random.Generator.permutation (13/11/2021)"
   ]
  },
  {
   "cell_type": "code",
   "execution_count": 18,
   "id": "fdfa52f6-666d-41ac-a563-0d15386120c6",
   "metadata": {},
   "outputs": [
    {
     "data": {
      "text/plain": [
       "array([1, 5, 3, 2, 4])"
      ]
     },
     "execution_count": 18,
     "metadata": {},
     "output_type": "execute_result"
    }
   ],
   "source": [
    "# Example\n",
    "arr = [1,2,3,4,5]\n",
    "\n",
    "rng.permutation(arr)"
   ]
  },
  {
   "cell_type": "markdown",
   "id": "f19d6e9f-ca1c-4f7a-aa50-af87f0643eef",
   "metadata": {},
   "source": [
    "Similar to the shuffle() function, permuation() also allows to rearrange arrays with more than 1 dimension."
   ]
  },
  {
   "cell_type": "code",
   "execution_count": 19,
   "id": "d8a70a95-7834-4eb0-ac64-9d7484923ae9",
   "metadata": {},
   "outputs": [
    {
     "data": {
      "text/plain": [
       "array([[7, 8, 9],\n",
       "       [1, 2, 3],\n",
       "       [4, 5, 6]])"
      ]
     },
     "execution_count": 19,
     "metadata": {},
     "output_type": "execute_result"
    }
   ],
   "source": [
    "# Example\n",
    "arr = np.array([[1,2,3], [4,5,6], [7,8,9]])\n",
    "rng.permutation(arr)"
   ]
  },
  {
   "cell_type": "code",
   "execution_count": 20,
   "id": "701f59e4-b60e-4f78-a9b3-a40dae96b0cb",
   "metadata": {},
   "outputs": [
    {
     "data": {
      "text/plain": [
       "array([[1, 2, 3],\n",
       "       [4, 5, 6],\n",
       "       [7, 8, 9]])"
      ]
     },
     "execution_count": 20,
     "metadata": {},
     "output_type": "execute_result"
    }
   ],
   "source": [
    "arr = np.array([[1,2,3], [4,5,6], [7,8,9]])\n",
    "arr"
   ]
  },
  {
   "cell_type": "code",
   "execution_count": 21,
   "id": "b131f198-72c4-4560-ad79-1a4b96ca7b6e",
   "metadata": {},
   "outputs": [
    {
     "data": {
      "text/plain": [
       "array([[2, 1, 3],\n",
       "       [5, 4, 6],\n",
       "       [8, 7, 9]])"
      ]
     },
     "execution_count": 21,
     "metadata": {},
     "output_type": "execute_result"
    }
   ],
   "source": [
    "rng.permutation(arr, axis=1)"
   ]
  },
  {
   "cell_type": "markdown",
   "id": "731b25e6-4015-4871-87ef-803f6d712cfc",
   "metadata": {},
   "source": [
    "<br>\n",
    "\n",
    "#### **2.2.3 Re-arranging One- or Multi-dimensional Arrays**\n",
    "The permuted() function enables to shuffle sub-arrays independent of each other. It also gives an option to chose whether for the original array is re-arranged or whether a copy of the original array is re-arranged. \n",
    "\n",
    "https://numpy.org/doc/stable/reference/random/generated/numpy.random.Generator.permuted.html#numpy.random.Generator.permuted (14/11/2021)"
   ]
  },
  {
   "cell_type": "code",
   "execution_count": 22,
   "id": "b18ff551-9223-4a38-acc1-2caae241d916",
   "metadata": {},
   "outputs": [],
   "source": [
    "# Example\n",
    "arr = np.array([[1,2,3], [4,5,6], [7,8,9]])"
   ]
  },
  {
   "cell_type": "code",
   "execution_count": 23,
   "id": "2a9e35dd-279a-4615-9eb5-22d55dae15c9",
   "metadata": {},
   "outputs": [
    {
     "data": {
      "text/plain": [
       "array([[3, 2, 1],\n",
       "       [4, 6, 5],\n",
       "       [9, 8, 7]])"
      ]
     },
     "execution_count": 23,
     "metadata": {},
     "output_type": "execute_result"
    }
   ],
   "source": [
    "yarr = rng.permuted(arr, axis=1)\n",
    "yarr"
   ]
  },
  {
   "cell_type": "code",
   "execution_count": 24,
   "id": "1c1dd6fd-2f74-42bd-8398-4f31f0434f38",
   "metadata": {},
   "outputs": [],
   "source": [
    "# Example\n",
    "arr = np.array([[1,2,3], [4,5,6], [7,8,9]])"
   ]
  },
  {
   "cell_type": "code",
   "execution_count": 25,
   "id": "93c17d0d-0715-42d5-88cf-ed6382f13451",
   "metadata": {},
   "outputs": [
    {
     "data": {
      "text/plain": [
       "array([[2, 3, 1],\n",
       "       [6, 5, 4],\n",
       "       [7, 9, 8]])"
      ]
     },
     "execution_count": 25,
     "metadata": {},
     "output_type": "execute_result"
    }
   ],
   "source": [
    "yarr = rng.permuted(arr, axis=1, out=arr)\n",
    "arr"
   ]
  },
  {
   "cell_type": "code",
   "execution_count": null,
   "id": "a02265dc-a729-4ae0-893b-bf20921e9083",
   "metadata": {},
   "outputs": [],
   "source": []
  },
  {
   "cell_type": "markdown",
   "id": "3b7ba531-e1de-4586-a906-b22be4d5b9fd",
   "metadata": {},
   "source": [
    "<br>\n",
    "\n",
    "## **3. Explain the use and purpose of at least five “Distributions” functions.**"
   ]
  },
  {
   "cell_type": "code",
   "execution_count": null,
   "id": "9cbe1447-ddd9-4325-a705-e9342e413890",
   "metadata": {},
   "outputs": [],
   "source": []
  },
  {
   "cell_type": "code",
   "execution_count": 26,
   "id": "99cc60ee-4574-45bd-8d09-1911d934ca40",
   "metadata": {},
   "outputs": [],
   "source": [
    "# For visualisation of the distribution functions described below, the seaborn module is imported.\n",
    "import seaborn as sns"
   ]
  },
  {
   "cell_type": "markdown",
   "id": "d3eef459-5048-4c5f-af59-4b2466f573ce",
   "metadata": {},
   "source": [
    "### **3.1 Uniform Distribution**\n",
    "\n",
    "https://numpy.org/doc/stable/reference/random/generated/numpy.random.Generator.uniform.html#numpy.random.Generator.uniform (15/11/2021)"
   ]
  },
  {
   "cell_type": "markdown",
   "id": "3af83d93-a077-47df-a5d5-385df8c6ddb2",
   "metadata": {},
   "source": [
    "The uniform() method returns float point numbers in a specified range from low (inclusive) to high (exclusive) values. For uniform distributions each event has equal changes of occuring. "
   ]
  },
  {
   "cell_type": "code",
   "execution_count": 27,
   "id": "5fbefc42-efad-40ed-9a72-70f4de1c635b",
   "metadata": {
    "scrolled": true,
    "tags": []
   },
   "outputs": [
    {
     "data": {
      "text/plain": [
       "array([7.77735970e+00, 6.23954261e-01, 7.11436855e+00, 5.78937104e+00,\n",
       "       7.52969134e+00, 1.85864559e+00, 8.33786002e+00, 1.38278460e+00,\n",
       "       2.46290114e+00, 2.88001651e+00, 9.75903840e+00, 6.93646405e+00,\n",
       "       3.23081064e+00, 5.52574201e+00, 8.66837701e+00, 6.25417450e+00,\n",
       "       5.87589473e+00, 4.37114646e+00, 4.43400949e+00, 3.45399375e+00,\n",
       "       4.69399176e+00, 2.31642135e+00, 3.19206908e+00, 5.73490301e+00,\n",
       "       6.39159925e+00, 4.65238397e+00, 2.43766769e+00, 4.49551458e+00,\n",
       "       5.07849341e+00, 3.40752950e+00, 7.99373486e+00, 9.26698321e+00,\n",
       "       5.07367370e+00, 4.69351193e+00, 8.57350253e+00, 6.26891530e+00,\n",
       "       7.74084363e+00, 8.86572061e+00, 4.32795141e+00, 8.07291863e+00,\n",
       "       1.21002039e+00, 7.09870497e+00, 2.23374393e+00, 5.14115840e+00,\n",
       "       6.83541085e+00, 7.53920523e+00, 6.65828520e+00, 9.09778138e+00,\n",
       "       6.14540120e+00, 6.81045027e+00, 3.42433691e+00, 3.42960242e+00,\n",
       "       4.81063753e+00, 3.01736836e+00, 6.89427126e+00, 3.70068074e+00,\n",
       "       3.54594567e+00, 4.40467292e+00, 3.89409682e+00, 5.86262899e+00,\n",
       "       3.57198650e-01, 4.17672753e+00, 3.31944427e-01, 4.34518409e+00,\n",
       "       2.48162317e+00, 5.79889917e-01, 1.92067099e-02, 9.09508230e+00,\n",
       "       5.29128440e+00, 1.08339760e+00, 5.49844264e-01, 2.46723575e+00,\n",
       "       6.71300175e+00, 5.46786316e-01, 9.29433932e+00, 7.24744285e+00,\n",
       "       5.56771937e+00, 8.46897622e+00, 5.47637108e+00, 2.00322963e+00,\n",
       "       7.29867429e+00, 5.85935493e+00, 5.15141745e-02, 6.97926742e+00,\n",
       "       1.03532084e+00, 3.26567927e+00, 4.36969506e+00, 3.54616920e+00,\n",
       "       1.92146891e+00, 9.36867056e+00, 7.95393381e+00, 2.61023173e+00,\n",
       "       6.18852517e+00, 2.72776516e+00, 3.34183206e-01, 6.32597745e-02,\n",
       "       1.39698666e+00, 6.44536936e+00, 4.74684852e+00, 8.29290003e+00,\n",
       "       7.92050526e+00, 8.79173074e+00, 2.34459260e-01, 9.50067193e+00,\n",
       "       1.93504690e+00, 8.62159965e+00, 6.70722512e+00, 4.40882949e+00,\n",
       "       9.52391801e+00, 1.01769162e+00, 7.11252129e+00, 7.85488748e+00,\n",
       "       3.43333842e+00, 2.94846122e+00, 1.44910133e+00, 3.49823761e+00,\n",
       "       3.38742018e+00, 8.21483197e+00, 4.07622964e+00, 5.06293461e+00,\n",
       "       6.88736834e+00, 1.58340007e+00, 4.69597992e+00, 4.55046448e+00,\n",
       "       3.47818890e+00, 3.43371590e+00, 4.00038736e+00, 8.82436019e+00,\n",
       "       2.16980376e+00, 2.65543299e+00, 7.59540411e+00, 2.57380090e+00,\n",
       "       3.25842640e+00, 2.54801932e+00, 1.87879976e+00, 6.65532666e+00,\n",
       "       6.28139179e-01, 6.61206065e+00, 1.87642857e+00, 6.17593045e+00,\n",
       "       1.17285598e+00, 4.98548612e+00, 2.90657453e+00, 6.37817657e-01,\n",
       "       7.67237023e+00, 6.65399733e-01, 3.05989588e+00, 1.06947064e-01,\n",
       "       6.13666135e+00, 4.84329195e+00, 1.89920293e+00, 9.95411548e+00,\n",
       "       8.58020452e-01, 8.07332580e+00, 5.31290210e+00, 1.78202259e+00,\n",
       "       2.82410704e+00, 2.72651073e-02, 4.37692530e+00, 8.73413836e+00,\n",
       "       3.12572777e+00, 6.47949828e+00, 5.62731989e+00, 3.86240554e-01,\n",
       "       6.20768422e+00, 3.45796432e+00, 9.57078487e+00, 9.05906476e+00,\n",
       "       2.28809764e+00, 9.18175954e+00, 4.82861901e+00, 2.04080424e-01,\n",
       "       6.21803563e+00, 3.42528618e+00, 2.07079449e+00, 8.81703895e+00,\n",
       "       4.31856064e+00, 4.08045009e+00, 4.95903709e+00, 3.45802043e+00,\n",
       "       8.79352581e+00, 6.71629674e+00, 4.81900303e+00, 6.51411929e-01,\n",
       "       4.47431293e+00, 2.86826897e+00, 3.00755577e+00, 7.61025920e-03,\n",
       "       4.91896082e+00, 1.61719942e+00, 2.33524884e-01, 9.27484719e+00,\n",
       "       5.68481428e+00, 1.84437453e+00, 1.18016026e+00, 1.90259373e+00,\n",
       "       6.86416626e+00, 1.59341530e+00, 5.98258081e+00, 7.40471257e+00,\n",
       "       1.90347026e+00, 7.79796783e+00, 6.08322661e+00, 7.43875299e+00,\n",
       "       3.81884146e+00, 9.97547193e+00, 3.99697818e+00, 2.36528527e+00,\n",
       "       3.63268782e+00, 6.90421158e+00, 3.61140371e+00, 4.07867388e+00,\n",
       "       5.31505757e+00, 4.26188151e+00, 5.48858818e+00, 1.59888231e+00,\n",
       "       6.30306207e+00, 7.07746585e+00, 5.46065959e-01, 6.61862065e+00,\n",
       "       7.93722708e+00, 4.29872772e-01, 9.26657723e+00, 6.04363338e+00,\n",
       "       7.56235567e+00, 9.56493802e-01, 7.71841565e+00, 6.92899719e+00,\n",
       "       8.62930485e+00, 7.71815854e+00, 1.60038435e+00, 3.34324725e+00,\n",
       "       3.74242760e-01, 7.08627680e+00, 8.66743280e+00, 8.68796295e+00,\n",
       "       4.86424796e+00, 6.95938696e+00, 9.81682685e+00, 3.66129552e-01,\n",
       "       8.52557753e+00, 1.45928192e+00, 6.64698912e+00, 6.96402855e+00,\n",
       "       8.70690061e+00, 6.42278626e+00, 9.10590144e+00, 2.68313347e+00,\n",
       "       1.30823537e+00, 3.87707189e+00, 7.70222097e-01, 4.29041942e+00,\n",
       "       3.68695656e-02, 7.15358536e+00, 7.92056116e+00, 8.26838933e+00,\n",
       "       8.07298725e+00, 8.95154566e+00, 9.19322555e+00, 2.52520136e+00,\n",
       "       6.14188978e+00, 8.52431327e+00, 6.83809789e+00, 9.02052686e+00,\n",
       "       9.68666033e+00, 7.26800173e+00, 6.05857085e+00, 9.10139861e+00,\n",
       "       3.06607154e+00, 3.36547074e+00, 3.10807006e+00, 6.33088501e+00,\n",
       "       7.69895687e+00, 8.31966482e+00, 3.61362271e-01, 9.23459820e+00,\n",
       "       9.74770870e+00, 3.44714225e+00, 3.01688022e-01, 5.87064812e-01,\n",
       "       2.18798587e+00, 8.55170201e+00, 1.40348296e+00, 7.82257531e+00,\n",
       "       1.74508653e+00, 9.74555420e+00, 3.42073352e+00, 2.22578841e+00,\n",
       "       4.13669374e+00, 8.05217022e+00, 8.71194213e+00, 2.40529626e+00,\n",
       "       4.25716613e+00, 9.16554036e+00, 3.21331599e+00, 6.25686966e+00,\n",
       "       6.36060079e-01, 3.86087501e+00, 2.35719875e+00, 9.30583184e+00,\n",
       "       8.74680214e+00, 8.22300569e+00, 4.40561556e+00, 3.17496795e+00,\n",
       "       9.05223727e+00, 3.87954242e-01, 1.46920069e+00, 3.15472851e+00,\n",
       "       5.06938290e-01, 3.75970145e+00, 9.68571450e+00, 2.37835174e+00,\n",
       "       9.44580479e+00, 9.30046737e+00, 3.48210436e-01, 7.08703719e+00,\n",
       "       1.24979369e+00, 1.89836775e+00, 2.38890293e+00, 7.18872101e+00,\n",
       "       3.20271349e+00, 6.95981679e+00, 8.13496702e+00, 2.45926810e+00,\n",
       "       5.06262228e+00, 9.77273849e+00, 6.16253921e+00, 8.09464409e+00,\n",
       "       1.19245286e+00, 4.54010759e+00, 1.10739806e+00, 3.01881200e+00,\n",
       "       5.70700354e+00, 7.00848338e+00, 6.18778330e+00, 3.90856047e+00,\n",
       "       9.36177966e+00, 3.30039236e+00, 1.33767556e+00, 4.03741248e+00,\n",
       "       8.23761116e+00, 9.73514275e+00, 8.50921766e+00, 4.35511485e+00,\n",
       "       4.81506302e+00, 7.78990616e+00, 5.76263251e+00, 1.96139164e-02,\n",
       "       4.04346592e-02, 7.79415782e+00, 8.23905016e+00, 1.70217080e+00,\n",
       "       2.17040695e+00, 3.61448427e+00, 4.89377218e+00, 4.95170505e+00,\n",
       "       2.38777434e+00, 9.41795368e+00, 9.67073312e+00, 5.00684786e+00,\n",
       "       9.70015225e+00, 6.35300481e+00, 8.58214988e+00, 2.33671423e+00,\n",
       "       2.39374041e+00, 1.17745272e+00, 3.64026007e+00, 8.38802521e+00,\n",
       "       6.49120275e+00, 2.96191833e-01, 4.94285905e+00, 3.71992827e+00,\n",
       "       3.63772340e+00, 2.37433083e+00, 7.13935918e+00, 8.06688752e+00,\n",
       "       9.08211667e+00, 3.68176307e+00, 2.25236777e+00, 9.07269418e+00,\n",
       "       9.86760841e-01, 9.61275003e+00, 1.94477214e+00, 9.98082823e+00,\n",
       "       6.16582716e+00, 4.21070129e+00, 4.52511028e+00, 2.68355537e+00,\n",
       "       3.20215120e+00, 7.24066364e+00, 1.83759015e+00, 9.82471335e+00,\n",
       "       7.55020914e+00, 5.30805497e+00, 2.16641189e+00, 7.54756084e+00,\n",
       "       4.67247332e+00, 5.81582028e+00, 8.10758891e+00, 5.94234569e-01,\n",
       "       1.65273100e+00, 5.03001955e+00, 1.32480772e+00, 5.12781893e+00,\n",
       "       9.17354452e+00, 4.29669432e+00, 6.72271547e+00, 2.28126733e+00,\n",
       "       9.11337827e+00, 9.34000599e+00, 9.44458683e+00, 6.44472139e+00,\n",
       "       9.89944940e+00, 2.55229912e+00, 4.08337225e+00, 2.07668651e-01,\n",
       "       5.66630492e+00, 2.51891035e+00, 9.67020489e+00, 3.56551982e+00,\n",
       "       9.53780863e+00, 3.02117993e+00, 6.30491370e+00, 6.29223479e+00,\n",
       "       3.87224635e+00, 3.45969829e+00, 3.32631226e-01, 5.69336710e+00,\n",
       "       9.95550783e+00, 3.00365105e+00, 9.87836316e+00, 4.23692947e+00,\n",
       "       9.38042841e+00, 4.76987884e+00, 8.84625225e+00, 2.13013265e+00,\n",
       "       8.06168345e+00, 8.28803428e+00, 7.48440730e+00, 6.67291880e-01,\n",
       "       1.40492609e+00, 1.13816575e+00, 5.61115139e+00, 9.26018777e+00,\n",
       "       6.08622511e+00, 8.34629506e+00, 4.02684035e+00, 8.51974455e+00,\n",
       "       6.37848028e+00, 8.05360059e-01, 7.67274547e+00, 3.02301352e+00,\n",
       "       2.00710312e+00, 3.69636330e+00, 2.66120761e+00, 8.14255415e+00,\n",
       "       6.42686221e+00, 1.03886233e+00, 4.80910583e+00, 6.55928753e+00,\n",
       "       3.07948146e-01, 1.10617217e+00, 4.54334785e+00, 2.66994571e+00,\n",
       "       7.64909653e+00, 4.03455576e+00, 6.74116987e-01, 5.95315120e-01,\n",
       "       5.93333900e-01, 3.28207152e+00, 5.93593575e+00, 4.75562789e+00,\n",
       "       8.02384732e+00, 3.34686104e+00, 4.76328251e+00, 3.45281806e+00,\n",
       "       3.52802791e+00, 6.39822119e+00, 6.89949499e-01, 3.42190633e+00,\n",
       "       9.76273809e-01, 8.71937964e+00, 5.95156255e+00, 7.75520952e+00,\n",
       "       6.43315517e+00, 4.53336053e+00, 6.61656437e+00, 3.15863015e+00,\n",
       "       6.65059770e-01, 7.03608422e+00, 5.07880789e+00, 3.11072420e+00,\n",
       "       6.34274548e+00, 1.08854912e+00, 8.63529796e+00, 9.98298257e+00,\n",
       "       8.92927972e+00, 5.33568026e+00, 3.28768312e+00, 7.48196877e-01,\n",
       "       1.81153475e+00, 4.43282408e+00, 3.03526348e+00, 8.80386454e+00,\n",
       "       2.07672220e+00, 8.40114192e+00, 6.54140896e+00, 5.49734349e-01,\n",
       "       9.16984567e+00, 4.85153110e-01, 6.85673719e+00, 1.84634830e+00,\n",
       "       6.70688844e+00, 2.30448755e+00, 2.33683022e+00, 6.98538949e+00,\n",
       "       5.32357744e+00, 9.81158409e-01, 3.64505128e+00, 2.89827023e+00,\n",
       "       8.35520245e+00, 2.51415249e+00, 9.09702367e+00, 4.57476767e+00,\n",
       "       5.99768866e+00, 7.04900060e+00, 6.36163523e+00, 5.98773452e+00,\n",
       "       3.63190323e+00, 6.84173423e+00, 9.40830150e+00, 3.85151164e+00,\n",
       "       4.19479209e+00, 1.49285200e+00, 5.94121885e+00, 3.97915766e+00,\n",
       "       8.54745653e+00, 2.40499112e+00, 9.85517697e+00, 2.10927779e+00,\n",
       "       4.84260273e+00, 3.86543552e+00, 1.01941768e+00, 2.12929803e+00,\n",
       "       2.01070516e+00, 2.22252841e+00, 7.85563521e-02, 5.63545352e+00,\n",
       "       8.98762803e+00, 7.28464258e+00, 8.42873127e+00, 9.41121617e+00,\n",
       "       2.68369549e+00, 6.55810398e+00, 2.94829234e+00, 4.21821685e+00,\n",
       "       7.24843554e+00, 6.93504998e+00, 8.17211832e+00, 7.31339077e-01,\n",
       "       8.28995133e+00, 2.93895052e+00, 2.21746802e+00, 7.32794821e+00,\n",
       "       5.45424795e+00, 2.47774577e+00, 9.93075901e+00, 7.47032990e+00,\n",
       "       6.65918455e-01, 2.34541311e-01, 6.28447909e+00, 9.65737049e+00,\n",
       "       2.33979724e+00, 6.66172288e+00, 7.04265871e+00, 6.16627986e+00,\n",
       "       7.28369952e+00, 6.97276425e+00, 9.69756229e+00, 2.43813502e+00,\n",
       "       8.00773200e+00, 2.58121935e+00, 5.81727015e+00, 7.56465224e+00,\n",
       "       2.92387735e+00, 2.04600809e+00, 9.90419766e+00, 3.57190692e+00,\n",
       "       9.52327120e+00, 8.02511588e+00, 2.99019796e+00, 6.70428635e+00,\n",
       "       7.87533320e+00, 2.33967691e-01, 6.25775587e+00, 1.13500905e+00,\n",
       "       1.60772339e-01, 9.32785112e+00, 6.21456746e+00, 4.06914582e+00,\n",
       "       4.02205451e+00, 2.99401465e+00, 5.00417461e+00, 8.91330949e+00,\n",
       "       4.72849426e+00, 4.10772503e-01, 6.31736999e+00, 1.40887465e+00,\n",
       "       1.09414787e+00, 3.73344812e+00, 7.94705756e+00, 9.44891899e+00,\n",
       "       1.37074326e+00, 4.08992069e-01, 9.72367561e+00, 6.91792605e+00,\n",
       "       9.88551738e+00, 8.71414445e+00, 7.04304918e+00, 1.44569325e+00,\n",
       "       2.52449704e+00, 5.64090303e-01, 1.08713867e+00, 3.39015658e+00,\n",
       "       3.70437290e+00, 7.26763862e-01, 2.83374784e-01, 8.24877196e+00,\n",
       "       2.83344547e+00, 3.14559920e-01, 6.45009167e+00, 9.96800750e+00,\n",
       "       4.51898901e+00, 7.45726597e+00, 8.64618308e+00, 2.73401235e+00,\n",
       "       8.49228837e+00, 8.59365493e+00, 7.53530770e+00, 1.78779542e+00,\n",
       "       1.69786334e+00, 3.23933797e+00, 4.40237631e+00, 7.46745872e+00,\n",
       "       4.93793589e+00, 7.59447972e+00, 2.18837557e+00, 5.49458920e+00,\n",
       "       3.72700713e+00, 1.57306751e+00, 3.25844311e+00, 9.14669469e+00,\n",
       "       6.03556351e+00, 9.50441504e+00, 4.90264920e+00, 4.03633696e+00,\n",
       "       6.45796886e-01, 3.36891386e+00, 8.66788237e+00, 5.03178576e+00,\n",
       "       8.73302997e+00, 9.12079906e+00, 6.56759652e+00, 1.82910525e+00,\n",
       "       9.95313300e+00, 5.20932017e+00, 1.53503976e+00, 5.95351891e+00,\n",
       "       6.10432046e+00, 3.41762206e+00, 4.06525218e+00, 7.43160358e+00,\n",
       "       7.25620339e+00, 3.05177637e+00, 5.54849641e+00, 1.88519167e+00,\n",
       "       1.90923297e+00, 1.44675470e+00, 7.09218719e+00, 9.43110302e+00,\n",
       "       7.14885458e+00, 9.22039389e+00, 8.54840479e+00, 6.79945799e+00,\n",
       "       1.59863449e+00, 9.40771750e+00, 6.84427851e+00, 5.37455433e+00,\n",
       "       2.39708719e+00, 1.61938606e+00, 6.99785010e-02, 5.31693787e+00,\n",
       "       8.55407944e+00, 9.21032973e+00, 6.24223402e+00, 2.48707040e+00,\n",
       "       7.77237214e+00, 1.84851709e+00, 6.09709883e+00, 7.43467330e+00,\n",
       "       5.75741113e+00, 1.89839475e+00, 2.43402839e+00, 2.17011582e+00,\n",
       "       3.79248669e+00, 6.20003925e+00, 8.10650124e+00, 9.83835905e+00,\n",
       "       6.83616750e+00, 9.99361838e+00, 4.48587049e+00, 2.01704501e+00,\n",
       "       5.63692700e+00, 4.48037086e+00, 5.07051965e+00, 3.55876820e+00,\n",
       "       9.67019662e+00, 4.81852188e+00, 3.81851813e-01, 4.93850537e+00,\n",
       "       2.15072341e+00, 5.40483844e-01, 1.67240379e+00, 9.87242302e+00,\n",
       "       8.74551858e+00, 7.24503607e+00, 7.84877352e+00, 7.22758870e+00,\n",
       "       9.92193241e+00, 5.28021934e+00, 2.35374198e+00, 3.08043712e+00,\n",
       "       5.09450371e+00, 1.48397817e-01, 3.09154471e+00, 9.44094348e+00,\n",
       "       3.58391221e+00, 2.01827096e+00, 5.40216969e+00, 9.19006115e+00,\n",
       "       1.30267010e+00, 5.97281715e+00, 9.01311018e+00, 4.91536247e+00,\n",
       "       4.72156406e+00, 4.77077267e+00, 4.65529265e+00, 1.04425384e+00,\n",
       "       4.25906871e+00, 9.66957811e-01, 9.78115943e+00, 2.18366101e+00,\n",
       "       8.39901571e+00, 6.30322395e+00, 3.39981041e+00, 2.93652247e+00,\n",
       "       2.17459393e+00, 6.10542888e+00, 6.76341638e+00, 4.83922394e+00,\n",
       "       9.44316146e+00, 9.67204976e+00, 4.30320024e-02, 6.76753317e-01,\n",
       "       3.59947495e+00, 8.75136651e+00, 4.55859584e+00, 2.52386188e+00,\n",
       "       1.47038751e+00, 3.08107416e+00, 7.28486733e+00, 4.86856209e+00,\n",
       "       4.23812866e+00, 9.86432133e+00, 8.02350720e+00, 3.70592560e-01,\n",
       "       5.75121294e+00, 6.70422272e+00, 7.89065829e+00, 2.23725899e+00,\n",
       "       3.57740007e+00, 8.98188847e+00, 8.41679190e+00, 8.94035845e+00,\n",
       "       2.05968245e+00, 1.66838633e-01, 6.88993957e+00, 5.76876547e+00,\n",
       "       1.84657018e+00, 9.12730950e+00, 3.50251783e+00, 2.21209834e+00,\n",
       "       6.15819344e+00, 8.05143876e+00, 7.28572043e+00, 5.57703024e+00,\n",
       "       9.02133004e+00, 9.97359321e+00, 9.42397806e+00, 2.10310749e+00,\n",
       "       1.12594592e+00, 4.87858573e+00, 4.35851681e+00, 7.16476601e+00,\n",
       "       8.75371276e+00, 8.73320706e+00, 5.70899922e+00, 8.98763591e+00,\n",
       "       6.99974084e+00, 6.92024289e-01, 3.96095199e+00, 7.98553430e+00,\n",
       "       5.48820877e-01, 6.10256687e+00, 4.15337728e+00, 9.82899904e+00,\n",
       "       9.38861249e+00, 5.50736639e+00, 4.38849204e+00, 5.59483228e-01,\n",
       "       8.09836766e+00, 3.71439073e+00, 6.66481295e+00, 5.56349084e+00,\n",
       "       8.93187966e+00, 2.76307358e-02, 4.42129551e+00, 9.47865720e+00,\n",
       "       3.82209511e+00, 2.51073753e+00, 1.36425438e+00, 1.38804627e+00,\n",
       "       9.57915916e+00, 8.18111004e+00, 8.92654290e+00, 7.96206362e+00,\n",
       "       4.04374104e+00, 3.84607165e+00, 4.50965452e+00, 5.83396985e+00,\n",
       "       4.20342757e+00, 1.17999570e+00, 5.59801250e+00, 6.26865043e-01,\n",
       "       3.62325933e+00, 5.18702373e+00, 3.54226707e+00, 4.79553253e+00,\n",
       "       4.39725210e+00, 5.82138865e+00, 5.63969523e+00, 4.57784411e+00,\n",
       "       4.53500240e+00, 9.57152936e-01, 3.18594767e+00, 4.52117407e+00,\n",
       "       2.63838997e+00, 6.86976586e+00, 3.79592679e-01, 2.38309943e-01,\n",
       "       6.69056409e-01, 6.85701456e+00, 1.52251747e+00, 6.59874508e+00,\n",
       "       1.58364176e+00, 6.59579409e+00, 4.35742583e+00, 8.71226237e+00,\n",
       "       2.93348105e+00, 7.58306993e+00, 3.95696368e+00, 9.48673469e+00,\n",
       "       5.72334120e+00, 3.05599316e+00, 6.63764149e-01, 7.45427145e+00,\n",
       "       2.95607915e+00, 6.86475373e+00, 1.69604443e+00, 9.60380252e+00,\n",
       "       7.90753624e+00, 3.86518143e+00, 9.82422510e+00, 9.45191100e+00,\n",
       "       4.48473921e+00, 6.96027476e+00, 5.98812059e+00, 5.34545986e+00,\n",
       "       8.70203015e+00, 7.68386985e-01, 3.76494209e+00, 6.61860063e+00,\n",
       "       4.08625441e+00, 8.32477528e+00, 3.78142965e+00, 5.40139241e+00,\n",
       "       4.40007938e+00, 5.20170314e+00, 1.85734266e+00, 6.46899386e+00,\n",
       "       7.27095010e+00, 5.12450845e+00, 9.05847753e+00, 5.70083562e+00,\n",
       "       8.36434298e+00, 9.46374014e+00, 3.35044409e+00, 4.19337569e+00,\n",
       "       6.10932566e+00, 2.92963733e+00, 1.43348675e+00, 7.43447776e+00,\n",
       "       1.96274920e+00, 6.08237284e+00, 1.98677810e+00, 1.79033700e-01,\n",
       "       1.46862791e-01, 2.65247099e+00, 7.23949331e+00, 2.19751689e+00,\n",
       "       5.38475738e+00, 8.77957877e+00, 8.02522627e+00, 9.70088512e+00,\n",
       "       4.77565364e+00, 5.69745008e+00, 9.28937498e+00, 1.46016725e+00,\n",
       "       8.59636952e+00, 5.34133388e+00, 1.56277188e+00, 1.54159623e+00,\n",
       "       4.01160486e-01, 5.03979556e+00, 9.24143846e+00, 5.21946796e+00,\n",
       "       5.85948920e+00, 5.46165018e+00, 1.73061548e+00, 5.98706301e+00,\n",
       "       8.02188405e+00, 2.27069024e+00, 8.91820095e+00, 8.94192025e+00,\n",
       "       6.91256403e+00, 7.02373080e+00, 4.32673548e+00, 1.40759909e+00,\n",
       "       3.95926180e+00, 9.39176275e+00, 7.00228612e+00, 6.51437794e+00,\n",
       "       9.96619967e+00, 3.36566846e+00, 9.65726098e+00, 4.06444703e-01,\n",
       "       2.13059589e+00, 9.74381013e-01, 7.14587395e+00, 2.15150961e+00,\n",
       "       7.41448679e+00, 2.66322090e+00, 3.60161837e-01, 4.37805168e-01,\n",
       "       6.56734904e+00, 7.40871347e+00, 1.47772773e+00, 3.58160758e+00,\n",
       "       9.67553323e+00, 7.08470302e+00, 2.34941723e+00, 5.00454874e+00,\n",
       "       5.12794806e+00, 1.05201455e+00, 3.66845415e-01, 5.51894028e+00,\n",
       "       4.11805205e+00, 4.28976490e+00, 8.55496127e+00, 1.10169458e+00,\n",
       "       1.10600501e-01, 8.84621858e+00, 6.06860308e-01, 7.13654312e+00,\n",
       "       5.18805161e+00, 1.12146238e-02, 6.56027894e+00, 9.34147418e+00,\n",
       "       4.94442293e+00, 6.57667709e+00, 3.73900339e+00, 9.33201234e+00,\n",
       "       7.53331876e+00, 6.94681321e+00, 8.38590084e-01, 9.14300498e+00,\n",
       "       2.66169322e+00, 7.33439962e+00, 4.38570887e+00, 5.80221018e+00])"
      ]
     },
     "execution_count": 27,
     "metadata": {},
     "output_type": "execute_result"
    }
   ],
   "source": [
    "# Example: 1000 float point numbers in the range of 0 to 10 (exclusive)\n",
    "\n",
    "s = np.random.default_rng().uniform(low=0, high=10, size=1000)\n",
    "s"
   ]
  },
  {
   "cell_type": "code",
   "execution_count": 28,
   "id": "8655ce21-ff55-4f93-a4e4-a8fbc308910a",
   "metadata": {},
   "outputs": [
    {
     "data": {
      "text/plain": [
       "<AxesSubplot:ylabel='Count'>"
      ]
     },
     "execution_count": 28,
     "metadata": {},
     "output_type": "execute_result"
    },
    {
     "data": {
      "image/png": "[encoded data removed]",
      "text/plain": [
       "<Figure size 432x288 with 1 Axes>"
      ]
     },
     "metadata": {
      "needs_background": "light"
     },
     "output_type": "display_data"
    }
   ],
   "source": [
    "# Histogram:\n",
    "\n",
    "sns.histplot(s, bins = 10)\n",
    "\n",
    "# https://seaborn.pydata.org/generated/seaborn.histplot.html#seaborn.histplot (15/11/2021)"
   ]
  },
  {
   "cell_type": "code",
   "execution_count": null,
   "id": "ee7b01ee-42e7-4a82-a118-3d387cad8d6c",
   "metadata": {},
   "outputs": [],
   "source": []
  },
  {
   "cell_type": "markdown",
   "id": "6ef61b0a-e0e5-4de7-97e4-708560f00e3f",
   "metadata": {
    "tags": []
   },
   "source": [
    "### **3.2 Binomial Distribution**\n",
    "\n",
    "https://numpy.org/doc/stable/reference/random/generated/numpy.random.Generator.binomial.html#numpy.random.Generator.binomial\n",
    "\n",
    "https://en.wikipedia.org/wiki/Binomial_distribution"
   ]
  },
  {
   "cell_type": "markdown",
   "id": "ec43f1f2-50bd-4694-b8a8-5c3a87fd9c6a",
   "metadata": {},
   "source": [
    "The rng.binomial() function returns values from a binomial distribution. A binomial distribution shows the distribution of successful trials that have exactly 2 possible results, such as throwing a coin.\n",
    "\n",
    "Other than for a uniform distirbutinon where all events statistically have the same chance of occuring, for a binomial distribution, the chance of each event occuring can be preset by adding a probablility of success parameter. \n",
    "\n",
    "Parameters for defining the binomial distribution: \n",
    "- n = Number of trials\n",
    "- p = probability of success of each trial\n",
    "- size"
   ]
  },
  {
   "cell_type": "code",
   "execution_count": 29,
   "id": "888e7a0c-e030-47f6-8a26-7187f90321bf",
   "metadata": {},
   "outputs": [
    {
     "data": {
      "text/plain": [
       "array([ 6,  8,  5,  6,  7,  7,  6,  6, 10,  6], dtype=int64)"
      ]
     },
     "execution_count": 29,
     "metadata": {},
     "output_type": "execute_result"
    }
   ],
   "source": [
    "# Simulation of tossing a loaded coin with a chance of 70% towards 'head'\n",
    "\n",
    "s_bi = rng.binomial(n=10, p=0.7, size=10)\n",
    "s_bi"
   ]
  },
  {
   "cell_type": "code",
   "execution_count": 30,
   "id": "a8b45ea4-863b-4ccc-aa5e-183d92daafaf",
   "metadata": {},
   "outputs": [
    {
     "data": {
      "text/plain": [
       "<seaborn.axisgrid.FacetGrid at 0x24658b50fa0>"
      ]
     },
     "execution_count": 30,
     "metadata": {},
     "output_type": "execute_result"
    },
    {
     "data": {
      "image/png": "[encoded data removed]",
      "text/plain": [
       "<Figure size 360x360 with 1 Axes>"
      ]
     },
     "metadata": {
      "needs_background": "light"
     },
     "output_type": "display_data"
    }
   ],
   "source": [
    "sns.displot(s_bi, bins=10)\n",
    "\n",
    "# https://www.statology.org/binomial-distribution-python/"
   ]
  },
  {
   "cell_type": "markdown",
   "id": "23b585ce-10b4-43fc-a7e5-28184a2bf00f",
   "metadata": {},
   "source": [
    "### **3.3 Multinomial Distribution**\n",
    "\n",
    "https://numpy.org/doc/stable/reference/random/generated/numpy.random.Generator.multinomial.html#numpy.random.Generator.multinomial"
   ]
  },
  {
   "cell_type": "markdown",
   "id": "739a81de-296a-445a-949a-a25682a43e70",
   "metadata": {},
   "source": [
    "Similar to the binomial distribution, the multinomial distribution returns the distribution of successful trials, but for more than 2 possible results, for example when rolling a die. \n",
    "\n",
    "- n = number of trials\n",
    "- pvals = probabilities of each of the different outcomes (must sum to 1)\n",
    "- size"
   ]
  },
  {
   "cell_type": "code",
   "execution_count": 31,
   "id": "fe4e6ca8-70fa-420e-9f32-7f4892901bd3",
   "metadata": {},
   "outputs": [
    {
     "data": {
      "text/plain": [
       "array([[1, 2, 2, 1, 3, 1]], dtype=int64)"
      ]
     },
     "execution_count": 31,
     "metadata": {},
     "output_type": "execute_result"
    }
   ],
   "source": [
    "# Throwing a die 10 times\n",
    "die = rng.multinomial(n=10, pvals=[1/6.]*6, size=1)\n",
    "die"
   ]
  },
  {
   "cell_type": "code",
   "execution_count": 32,
   "id": "3465247d-72fb-42e5-9ff6-f3acedc49ede",
   "metadata": {},
   "outputs": [],
   "source": [
    "## Plot!!\n",
    "\n",
    "# sns.displot(die, bins=6)"
   ]
  },
  {
   "cell_type": "code",
   "execution_count": null,
   "id": "0627a06a-ebe0-44d7-adec-49bb20334b31",
   "metadata": {},
   "outputs": [],
   "source": []
  },
  {
   "cell_type": "code",
   "execution_count": 33,
   "id": "39f56536-5e8c-4935-93ec-6cb9a480e82a",
   "metadata": {},
   "outputs": [
    {
     "data": {
      "text/plain": [
       "array([[ 6,  6,  8,  5, 10, 15]], dtype=int64)"
      ]
     },
     "execution_count": 33,
     "metadata": {},
     "output_type": "execute_result"
    }
   ],
   "source": [
    "# Throwing a loaded die 50 times\n",
    "rng.multinomial(n=50, pvals=[1/7.]*5 + [2/7.], size=1)"
   ]
  },
  {
   "cell_type": "code",
   "execution_count": 34,
   "id": "3d66be81-4003-4762-b1c2-7569efe53e7c",
   "metadata": {},
   "outputs": [],
   "source": [
    "## Plot!! "
   ]
  },
  {
   "cell_type": "code",
   "execution_count": null,
   "id": "765ebb5f-b37c-48c0-bccd-4164d5b3a184",
   "metadata": {},
   "outputs": [],
   "source": []
  },
  {
   "cell_type": "markdown",
   "id": "4fc5bf82-394a-4921-91a5-12b338d509ea",
   "metadata": {},
   "source": [
    "### **3.4 Normal Distribution**\n",
    "\n",
    "https://numpy.org/doc/stable/reference/random/generated/numpy.random.Generator.normal.html#numpy.random.Generator.normal"
   ]
  },
  {
   "cell_type": "markdown",
   "id": "aa29a3dd-cafa-4d95-93ae-4458a4cf3f69",
   "metadata": {},
   "source": [
    "The rng.normal() function can be used to returns values from a normal distribution. The normal distribution (also often referred to as Gaussian Distribution) is centred around a mean (μ/mu) and the spread of values from the mean is defined by the standard deviation (σ/sigma). \n",
    "Normal distributions often occur in nature and represent random spread of values around a mean with more values being closer to the mean. About 68 % of values are within 1 sigma from the mean, about 95% within 2 sigma and 99.7% within 3 sigma. \n",
    "\n",
    "https://en.wikipedia.org/wiki/Normal_distribution"
   ]
  },
  {
   "cell_type": "code",
   "execution_count": 35,
   "id": "53ba3fde-fba0-429c-9c0c-d9011c4ead6a",
   "metadata": {
    "scrolled": true,
    "tags": []
   },
   "outputs": [
    {
     "data": {
      "text/plain": [
       "array([ 8.48700162e-01,  8.37941388e-01, -5.18636720e-01,  6.44536708e-01,\n",
       "        9.33129427e-01, -1.19914339e+00,  8.29734397e-02,  2.22686024e+00,\n",
       "        2.58982093e+00, -1.54890608e+00,  8.73747836e-01,  5.14961544e-01,\n",
       "        2.77710801e-01, -1.18586606e+00,  9.35689878e-01,  2.73416415e-01,\n",
       "        4.81934780e-02, -9.21520409e-02, -5.21120025e-01,  1.48729834e+00,\n",
       "       -1.57784136e+00,  4.42265447e-02, -4.14847924e-01, -1.34406030e+00,\n",
       "       -6.26665699e-01, -1.14870339e+00, -8.19603269e-01, -4.01128762e-01,\n",
       "       -7.69178886e-01,  1.35170485e+00,  1.85900636e+00, -2.58081677e-02,\n",
       "        7.58215838e-01, -6.11154751e-01,  5.29877449e-01, -1.35384577e+00,\n",
       "       -1.27795558e+00, -8.10863178e-01, -8.02989570e-01, -2.30101757e-01,\n",
       "       -1.03239800e+00, -5.56927284e-01,  1.41091743e+00, -2.11013467e-02,\n",
       "       -3.82504704e-01, -5.42544872e-01,  7.87730565e-02, -4.54809739e-01,\n",
       "       -2.84606400e-01,  5.24046191e-01,  4.49098612e-01, -2.07942501e-01,\n",
       "       -7.77696625e-01, -2.47826489e-01, -9.45194243e-02,  2.16776668e+00,\n",
       "        1.72823617e+00,  1.10182271e-01,  1.17731582e+00,  6.95747830e-01,\n",
       "       -9.28186818e-01,  1.07343569e+00, -7.91892385e-01, -7.06027421e-01,\n",
       "        1.17251589e+00,  8.69823686e-01,  6.30253864e-01,  9.00106095e-01,\n",
       "        4.62837411e-01,  1.87429895e+00, -2.19687999e+00,  3.43600108e-01,\n",
       "        3.49388825e-01,  1.03144387e+00, -3.41827746e-01, -6.43733668e-01,\n",
       "        2.86812411e-02,  4.55388584e-01,  1.73885470e+00,  1.95241019e-01,\n",
       "        2.02011462e-01, -4.01517613e-01,  1.38822269e+00, -4.16293490e-01,\n",
       "       -1.83952022e-01, -9.14630113e-02,  7.60998662e-01,  6.03357891e-01,\n",
       "        5.05578073e-01,  7.19325422e-01,  8.62491697e-01, -1.04638941e-01,\n",
       "       -1.03784304e+00,  1.75834958e-01, -1.40520347e-01, -1.68793197e+00,\n",
       "        6.20777802e-01, -7.18256865e-01,  3.65657264e-02, -2.22521707e+00,\n",
       "        6.97789822e-01,  1.04158590e+00, -1.51848651e+00,  8.07069030e-01,\n",
       "       -6.35796878e-01,  1.84410452e+00, -4.60415010e-01,  4.55148232e-01,\n",
       "        3.29263441e-01,  1.31478243e+00,  1.12245224e+00, -4.76062334e-01,\n",
       "       -8.61711595e-01, -6.36196570e-01,  8.55201685e-02, -5.14882594e-01,\n",
       "       -4.97533766e-01, -7.61632439e-01, -1.06522078e+00, -7.22375893e-01,\n",
       "        5.25078720e-01, -1.40781426e+00,  1.66217745e-01, -6.47967630e-01,\n",
       "        1.20149811e+00, -6.66194892e-01, -1.16195971e-01,  1.03915104e-01,\n",
       "       -1.40257402e-01,  3.78348821e-01,  9.95223223e-01,  1.41401097e+00,\n",
       "        3.19271652e-01, -5.17302331e-02,  3.98961726e-01,  1.21867499e+00,\n",
       "        3.63149561e-02, -9.23288326e-01, -1.10033846e+00,  5.26312520e-01,\n",
       "        5.99273440e-01, -2.38533529e+00, -1.02750324e+00, -1.19107801e-01,\n",
       "        6.41879805e-01,  1.53887577e+00, -1.12992780e+00,  5.36259157e-01,\n",
       "       -2.89290347e-01, -9.19630353e-01,  7.83412005e-01,  5.05349988e-01,\n",
       "       -1.16510909e+00,  2.31820979e-01, -1.46184390e-01, -5.37333215e-01,\n",
       "        1.11980153e+00, -4.32330897e-01,  6.12165069e-01,  2.99877645e-01,\n",
       "        1.71685768e+00,  1.00107393e+00,  4.31229357e-01, -2.45938957e-01,\n",
       "        6.95104687e-01,  5.31539683e-01, -2.52633797e-02, -9.95321808e-01,\n",
       "        6.39733899e-01, -1.54212742e-01,  2.07402764e-01, -1.89701551e+00,\n",
       "        9.79743290e-01, -2.97355962e-01,  4.25040751e-01, -1.49604670e+00,\n",
       "        1.09583889e+00, -1.17117538e-01,  7.08726420e-01, -3.63516343e-01,\n",
       "       -8.85152611e-01,  1.02891076e+00, -1.25396660e+00,  2.12135194e-01,\n",
       "        7.10788924e-02, -9.15458841e-01, -2.15651805e+00,  8.24456754e-01,\n",
       "       -3.79399223e-01,  4.86315270e-02,  1.69465785e+00, -1.52858522e+00,\n",
       "        9.49200991e-01,  3.65859354e-01,  1.52574177e+00, -7.98038580e-01,\n",
       "       -1.63893718e-01, -6.03214074e-01,  3.14045919e-01,  5.70505362e-01,\n",
       "       -1.96470441e+00,  5.22521086e-01, -6.38277993e-01, -6.34606287e-01,\n",
       "       -9.38299781e-01, -6.71773868e-01, -1.50692863e+00, -9.18954583e-02,\n",
       "        1.80417958e+00, -1.47677376e+00, -1.06457758e+00,  1.69411122e+00,\n",
       "        1.22132147e+00,  1.47873083e+00,  4.71718016e-01,  5.21041186e-01,\n",
       "        7.14429059e-01,  1.10428427e+00,  2.44261737e-01,  1.42044970e+00,\n",
       "        1.16543110e+00, -2.05229005e-01,  1.29660521e+00,  1.07414935e+00,\n",
       "        5.26207252e-02,  5.74420674e-01,  1.66286151e+00, -1.18268356e+00,\n",
       "       -1.27351625e+00,  3.80337882e-01, -2.40715641e-01, -1.41287537e+00,\n",
       "        2.48010594e+00, -1.25678544e+00,  8.28966749e-01, -7.96253555e-01,\n",
       "        3.62056617e-01,  2.69389235e-01,  1.81983241e+00,  2.86847856e-01,\n",
       "        4.87598850e-01,  9.14336270e-01,  1.04942257e+00,  4.14731242e-01,\n",
       "        1.34434616e+00,  1.38406062e+00, -1.75507811e+00,  7.63278153e-01,\n",
       "       -8.22365595e-01, -6.11698437e-01,  7.91674265e-01,  3.75836805e-01,\n",
       "       -5.06161266e-01, -2.07936155e+00, -1.08959754e+00, -4.31981767e-01,\n",
       "        1.35860865e+00,  2.41669634e-01, -1.09448261e+00, -6.64318498e-01,\n",
       "        8.49407947e-02, -4.55644421e-01, -3.50035997e-01,  1.67343565e-01,\n",
       "       -7.76370716e-01, -3.41078887e-01, -8.09548029e-01,  5.37151533e-02,\n",
       "        1.38305488e+00, -3.56212647e-01,  2.40834743e-01,  9.69795257e-01,\n",
       "       -2.80250133e-01,  9.24462479e-01, -1.01123549e+00,  1.68734010e+00,\n",
       "       -1.86824748e-01, -3.24048599e-02, -7.62994014e-01,  3.00973762e-02,\n",
       "       -7.56273436e-01,  1.12019410e+00, -2.33070286e-02, -1.03701016e+00,\n",
       "       -8.56782924e-01,  3.60113812e-01,  1.18002363e+00, -5.48257761e-01,\n",
       "       -7.08156851e-01,  2.49705449e+00,  1.23058121e+00,  8.44284001e-01,\n",
       "        1.26548412e+00,  6.04105819e-01,  1.84792359e+00, -1.05361981e+00,\n",
       "       -2.13218516e+00, -5.17335795e-01,  3.92125174e-01, -1.44651486e+00,\n",
       "       -5.80952030e-02, -6.49466845e-04,  1.84704500e-01,  2.56796710e-01,\n",
       "        9.37237090e-01, -1.21120638e-01, -2.51068951e+00,  4.81338482e-02,\n",
       "        6.54190469e-01, -5.71552044e-02,  3.41035914e-01,  2.83083730e-01,\n",
       "        6.48210659e-01, -7.46506933e-02,  5.33753698e-01,  1.14744007e+00,\n",
       "        4.87421290e-01,  4.61407720e-01, -1.35766526e+00, -3.20151877e-01,\n",
       "       -1.53441642e+00, -1.36893642e+00, -1.48390319e+00,  8.74445327e-01,\n",
       "        4.46804856e-01,  7.93950276e-01,  9.12946497e-01,  2.93401485e-01,\n",
       "        2.35995704e-01, -6.54382864e-01, -7.55622107e-01, -1.79038186e+00,\n",
       "       -1.13175413e+00, -5.34610643e-01, -1.04027246e+00,  1.66181467e+00,\n",
       "       -1.11109568e+00,  4.58465948e-01,  1.82495274e+00,  3.60400325e-01,\n",
       "       -9.61032870e-01,  7.53240258e-01, -3.06660045e-01, -3.10040375e-01,\n",
       "       -1.93787987e+00, -2.72180545e-01,  8.39323867e-02,  8.50666026e-01,\n",
       "        4.86397296e-01,  1.78360179e-01, -1.07945704e-01,  8.00041882e-01,\n",
       "        1.31146362e+00, -1.92927158e-01, -7.71591932e-01, -1.11144760e-01,\n",
       "       -4.91800720e-01, -4.92281283e-01, -1.33213493e-01, -5.15155616e-01,\n",
       "       -1.20188905e+00,  1.33393719e+00, -7.49075809e-01,  3.44617314e-01,\n",
       "       -1.93267585e-01, -4.10414115e-02, -5.50545213e-01, -1.00937195e+00,\n",
       "        2.18374650e+00, -6.89836083e-01,  1.63321494e+00,  1.60993239e+00,\n",
       "        1.91564309e-01, -7.24958710e-02,  1.51983293e+00, -1.31611949e+00,\n",
       "       -1.96145537e+00,  7.73138844e-01,  7.44589620e-01, -9.88387659e-02,\n",
       "       -2.00767363e-01,  1.56368031e+00, -3.49434655e-01, -8.88763041e-03,\n",
       "       -4.65421348e-01,  9.98875395e-01, -7.42201963e-02, -2.29412099e+00,\n",
       "        4.36253081e-01, -1.26993528e+00,  9.60018383e-02,  2.50688222e-01,\n",
       "       -2.20346941e-01,  1.15599248e+00,  2.43933599e-01,  8.08082866e-03,\n",
       "       -1.70584248e+00,  8.40275251e-01,  4.27142576e-01,  4.73299342e-01,\n",
       "        2.11539984e+00, -1.60673660e+00, -1.79654169e+00,  9.58168339e-01,\n",
       "       -1.55449434e+00,  1.02553207e+00, -4.50196999e-01, -3.98312784e-01,\n",
       "        5.15646151e-01,  6.85595145e-01, -8.62231953e-01, -2.55682785e+00,\n",
       "       -8.64546269e-01, -2.41273516e+00, -1.05863087e+00, -1.26154381e-01,\n",
       "        1.12237535e+00,  1.22286588e-01, -8.89160536e-01,  2.32798527e+00,\n",
       "       -1.51765295e+00,  1.03094697e+00, -8.85749373e-01,  1.18002176e+00,\n",
       "        4.36404839e-01,  5.70917454e-01, -1.26999112e+00,  1.86224069e+00,\n",
       "        1.32164782e+00, -1.68759803e+00, -1.45841682e+00,  2.27088969e+00,\n",
       "        5.89440141e-01, -4.81521645e-01, -1.31246726e+00,  6.63696992e-01,\n",
       "        1.83743272e-01, -9.38191201e-01,  6.17373874e-02, -5.01784100e-01,\n",
       "       -3.45383343e-01, -9.61629459e-01, -1.65224714e-01, -1.68009875e-02,\n",
       "        6.63449032e-02,  7.94841020e-01, -4.83373736e-01, -1.40745527e+00,\n",
       "       -7.37893200e-01, -3.87205246e-01, -1.02617852e+00, -1.91846458e+00,\n",
       "       -5.64362618e-01, -9.27802190e-01, -1.01887193e+00,  5.99774923e-01,\n",
       "        7.07373401e-01,  2.17453476e-01,  1.23033151e+00, -3.27921346e+00,\n",
       "        6.16067050e-01,  3.19332703e-01,  1.84432363e-01, -6.96106727e-01,\n",
       "        1.21668594e+00,  9.78510965e-04,  1.16404603e+00, -8.52039730e-01,\n",
       "        7.48355969e-01,  3.06077295e-01, -1.54543810e-01, -1.37281810e+00,\n",
       "        1.49348088e-01,  1.14019433e-01, -6.69192073e-01,  1.57311890e+00,\n",
       "        1.81321767e-01, -5.76291377e-01, -3.73231542e-01,  5.79016333e-01,\n",
       "       -1.82648602e-01,  9.03018858e-01,  8.50360767e-01, -1.08427838e+00,\n",
       "       -3.16206826e-01,  6.21409945e-01, -1.44596964e-01, -7.97497878e-01,\n",
       "       -4.84592656e-01,  3.56529328e-01, -1.61467313e+00, -2.89233323e-01,\n",
       "        3.55588671e-01,  9.97774339e-01, -1.05535039e-01, -9.27876654e-01,\n",
       "        1.07335312e+00, -1.15396419e+00,  1.05871981e+00,  9.19313967e-01,\n",
       "       -1.16055397e+00,  1.08249833e+00, -5.56845257e-01,  1.17586868e+00,\n",
       "        1.50892874e-01,  4.20599283e-01,  9.52954744e-01,  6.39281623e-01,\n",
       "        5.34077649e-01, -3.37337115e-01, -1.53405680e+00,  8.03436486e-01,\n",
       "       -3.70196601e-03, -3.00577945e-01,  1.04632767e+00,  6.97882031e-01,\n",
       "        1.98593786e-01, -9.82114123e-01, -5.58476564e-01, -2.25227481e+00,\n",
       "       -3.17280890e-01,  2.17429698e-01, -8.89365797e-01, -5.01539383e-01,\n",
       "       -2.52433917e-01,  1.92191725e-01, -1.55176006e+00, -5.73916849e-01,\n",
       "        1.42004168e+00,  1.72169080e-01,  1.92578781e+00, -5.17912494e-02,\n",
       "       -5.24355324e-01,  3.78859363e-01, -7.83439451e-01, -6.86090741e-01,\n",
       "        4.30791848e-02,  6.80829666e-01, -6.04858900e-01, -6.90629382e-01,\n",
       "       -1.77290937e+00, -1.07392372e+00,  9.60172418e-01, -1.32706336e+00,\n",
       "       -9.70896667e-01,  1.59180915e+00, -1.21099806e+00,  9.22514185e-01,\n",
       "        1.30634772e+00, -6.88143488e-01, -1.07024404e-01, -1.91553517e+00,\n",
       "        1.04690085e+00,  7.29616044e-02,  1.12180934e+00, -1.01684689e-01,\n",
       "        1.26359395e+00,  2.05759795e-01,  2.79828755e-01,  5.51381826e-01,\n",
       "       -1.39486333e+00,  1.32797989e+00, -1.64032110e-01,  6.55476054e-01,\n",
       "       -1.03740594e+00, -1.78295052e+00,  4.50941650e-02,  1.06468427e+00,\n",
       "        7.16772711e-01,  1.15794129e-01, -4.66149311e-01,  1.10830584e+00,\n",
       "        1.44673971e+00,  1.02745161e+00,  9.05645938e-01, -4.85025846e-01,\n",
       "       -2.57727062e+00, -1.37290896e-01, -1.06742811e+00,  1.19060571e+00,\n",
       "        1.17019700e+00, -6.97519901e-01, -2.48147855e+00, -1.98056618e+00,\n",
       "       -6.50794159e-01, -3.82101030e+00, -4.09809487e-01, -1.73524407e+00,\n",
       "       -1.22436397e+00,  7.49914277e-03,  7.59999717e-01, -1.05642562e+00,\n",
       "        9.36021161e-01, -3.95674900e-01,  1.01305577e+00, -6.94104740e-01,\n",
       "        8.17618303e-01,  3.33550860e-01,  8.88280527e-01, -3.49548846e-01,\n",
       "       -5.71107934e-03, -4.56114730e-01,  2.94885697e-01,  3.07629809e-01,\n",
       "        1.47700291e-01,  4.69880336e-01, -6.49906257e-01, -1.07988758e-01,\n",
       "       -1.90315011e+00, -1.73411247e-01,  1.40120677e+00, -1.20491574e-01,\n",
       "        2.30728586e+00,  4.14721409e-01, -1.82138352e+00, -1.19572178e+00,\n",
       "        4.60631994e-01, -4.09671273e-01, -1.88898011e+00, -9.42489161e-02,\n",
       "        1.56511634e+00,  6.45158281e-02, -7.89664202e-01, -1.83485952e-01,\n",
       "       -5.21953457e-01, -4.18268842e-01, -1.20229951e-01,  2.86105617e-01,\n",
       "        9.96148163e-01,  3.81830882e-01, -8.05001647e-01,  1.49438576e-02,\n",
       "       -1.61177917e+00, -1.68217602e-01,  8.19923823e-01,  1.26947847e+00,\n",
       "       -2.26144633e+00, -1.02052574e+00,  1.57830879e+00,  2.23559836e+00,\n",
       "       -9.55478488e-01,  7.62539310e-01,  1.82538665e-01, -4.06278852e-01,\n",
       "        1.34571836e+00,  4.56105789e-01, -3.79768485e-01, -4.42089785e-01,\n",
       "       -2.05139496e+00, -8.39286589e-01,  1.81723953e+00, -4.97791424e-01,\n",
       "       -5.68036269e-01,  2.13285965e-01,  6.85221402e-01, -2.95151512e-01,\n",
       "        1.59433275e+00, -5.11283105e-01,  1.37791481e+00,  3.41179786e-01,\n",
       "        6.61694895e-01, -5.66923623e-01, -2.23091616e-01, -2.56700907e-01,\n",
       "       -6.93468008e-01,  7.18818008e-01,  5.07333953e-01, -2.14946178e+00,\n",
       "       -1.18970542e+00, -1.16875168e-01, -4.45084215e-01,  8.21128216e-01,\n",
       "        1.19829444e+00,  2.65432609e-01,  1.27868766e+00,  6.68120401e-01,\n",
       "        1.17644297e+00, -6.51038166e-01, -4.96674367e-01, -4.11654289e-01,\n",
       "       -7.60746724e-01, -1.02117208e-01,  1.00654072e+00,  1.09791287e+00,\n",
       "       -2.69896068e-01,  1.05224933e+00, -1.46657930e+00,  3.44612400e-01,\n",
       "       -1.69946491e+00, -1.16579559e+00,  3.70852375e-01,  1.09196793e+00,\n",
       "       -1.50754010e-01, -1.09502664e+00,  1.29005432e+00,  8.05524396e-01,\n",
       "       -2.87398267e-01,  1.01576345e+00, -2.17392384e+00, -4.05793576e-01,\n",
       "        6.73558595e-02,  7.79862609e-02, -2.39590210e+00, -8.19776968e-01,\n",
       "        5.27074083e-01,  9.58908278e-01, -1.95119144e+00, -4.46572693e-02,\n",
       "       -3.11681411e-01, -1.31117350e+00,  1.60735217e+00,  4.67401665e-02,\n",
       "       -8.79273374e-01,  6.78222272e-01, -6.01989851e-01, -8.31138233e-02,\n",
       "       -9.09103013e-01,  4.94900239e-01,  3.95631210e-01,  7.39800453e-01,\n",
       "       -8.00985176e-01,  1.75129502e+00,  1.23575673e+00, -3.72401874e-01,\n",
       "        1.65898937e+00, -2.33884594e-01, -8.04690638e-01, -6.82120166e-01,\n",
       "       -9.94585836e-01,  5.47612702e-01, -1.33339280e-01,  1.99038549e+00,\n",
       "       -8.45821855e-01,  1.12700939e+00,  2.44669682e-01,  4.46046791e-01,\n",
       "       -2.16133573e-01, -1.02309199e+00,  9.52435196e-01, -2.20223244e-01,\n",
       "        5.64473568e-01, -4.33731754e-01,  5.36962504e-01,  6.42170224e-01,\n",
       "        5.95291308e-01, -7.61136352e-01, -1.50446886e+00, -1.20521126e+00,\n",
       "        1.44530809e+00, -1.15845847e+00, -1.76308658e+00,  2.17189723e-01,\n",
       "       -6.86156977e-01,  1.16879809e+00, -3.83674787e-01,  1.27224097e+00,\n",
       "        4.24054173e-01, -6.79476922e-02,  7.33191861e-01, -2.92016060e-01,\n",
       "        5.07995702e-01,  2.96661191e-01, -9.84136269e-01, -1.03916140e-01,\n",
       "        8.74673581e-01,  9.90946666e-02, -7.54418881e-01,  1.79778819e+00,\n",
       "       -1.39974005e-01, -7.87095941e-02,  1.82720257e+00, -1.48830645e+00,\n",
       "        6.00924205e-01, -6.76180294e-02, -6.29219402e-01, -1.18631607e+00,\n",
       "        1.41314608e+00,  1.09241354e+00, -1.76898654e+00,  1.40771528e+00,\n",
       "       -6.99365005e-01,  5.60112080e-01, -3.99367664e-01,  3.25732371e-01,\n",
       "        2.44914540e+00, -9.54504249e-01, -1.87981348e+00,  8.33503404e-01,\n",
       "        1.10044978e-02,  1.61146578e-01, -1.47012174e+00, -2.95966730e-01,\n",
       "       -1.57299992e+00,  1.43196208e+00,  1.20781547e+00,  8.32738156e-01,\n",
       "        6.32905661e-01,  2.53862214e-01, -3.38672245e-01,  1.02512643e-01,\n",
       "        1.41883408e+00,  8.28884892e-01, -2.60870602e-01,  1.44853507e+00,\n",
       "       -8.13741734e-01,  1.84010607e+00,  2.58054507e-01,  9.51329081e-01,\n",
       "        1.27646331e+00,  1.81246599e-01,  5.85796766e-01,  4.12123303e-01,\n",
       "        1.16408790e+00,  3.57754647e-01, -7.76041211e-01, -8.17774497e-01,\n",
       "        6.91959577e-01,  1.27298188e+00,  3.74821324e-01,  3.87915548e-01,\n",
       "        1.33252332e+00,  2.63651649e+00,  3.49830402e-01, -1.62971150e+00,\n",
       "        7.13982706e-01,  1.69350430e+00,  3.81336576e-01, -2.46475627e-01,\n",
       "       -3.99612886e-01,  6.20154219e-02, -8.52470987e-01, -1.45493120e+00,\n",
       "       -5.65771113e-02, -1.01382682e-01, -5.79006253e-01, -8.77228737e-01,\n",
       "        1.50066904e-01, -5.46350863e-01,  4.81837523e-02, -4.35852375e-01,\n",
       "        1.78486283e+00, -1.88618765e+00, -1.86921181e-01, -2.33194364e+00,\n",
       "        3.08418687e-01,  7.96492489e-01,  1.05122727e+00,  7.95191802e-01,\n",
       "        2.93426121e-02, -3.37525245e-01, -6.88523460e-01,  5.66896066e-02,\n",
       "       -4.81679744e-01, -8.89539596e-01,  1.09857226e+00, -3.31340058e-01,\n",
       "       -8.77864475e-01, -7.07294329e-02, -5.06704272e-01, -7.60883381e-01,\n",
       "        4.93368535e-02,  3.02803179e-01,  3.00649256e-01,  7.86780763e-01,\n",
       "        1.19058533e+00,  4.27893193e-01,  1.51469379e+00, -1.39189584e+00,\n",
       "       -7.42854064e-01, -1.17638150e+00, -9.45822803e-01, -3.20650167e-01,\n",
       "        8.63977281e-02, -1.04960923e+00, -3.34534742e-01,  1.13084304e-01,\n",
       "        1.89182270e+00, -6.91813859e-02,  2.34259764e-01, -1.02824486e+00,\n",
       "        5.94033658e-01, -4.48090552e-01, -6.02681670e-03,  1.83091853e-01,\n",
       "        2.66723203e-01,  4.97066856e-01, -4.61049091e-01, -3.45460316e-01,\n",
       "       -4.69322963e-01,  1.14884247e+00, -8.07754986e-01,  1.11311184e+00,\n",
       "        3.19096242e-01, -6.20301951e-01,  3.40100006e-01, -9.31407848e-02,\n",
       "        1.33205224e+00,  9.52377637e-01,  2.30439362e+00,  6.13491868e-01,\n",
       "        6.47872349e-01,  7.48145438e-01,  1.34900535e+00,  3.93441291e-01,\n",
       "        2.73203045e-01, -5.08544928e-01,  1.20622883e+00,  1.87117968e+00,\n",
       "       -1.01512399e+00,  3.68816206e-01, -3.40999749e-01, -7.38039537e-02,\n",
       "        7.46270879e-01,  1.20373249e+00,  4.58456454e-01,  9.58550982e-01,\n",
       "        2.08424394e+00, -1.32545900e+00, -2.35984483e+00, -3.05307922e-01,\n",
       "        2.46977409e-01,  1.24615328e+00,  8.38946630e-01,  1.37416480e+00,\n",
       "        6.66500697e-01, -2.00927011e-01, -1.17869462e+00, -1.34540903e+00,\n",
       "        5.39535527e-01,  7.50523722e-01, -2.82505282e-02,  1.16056976e+00,\n",
       "        1.35334008e-01,  1.54898659e-01,  1.09110751e-01,  6.50638482e-01,\n",
       "       -7.19740688e-01, -1.72764495e-01, -8.45242584e-01,  1.03716144e+00,\n",
       "        1.90893147e-01, -7.59257832e-02, -2.14271471e-01,  7.07399981e-01,\n",
       "       -1.31489777e+00, -6.37095261e-01, -1.00875652e+00,  3.00630251e-01,\n",
       "       -1.64750859e+00,  1.96137081e+00,  6.17272036e-01,  2.54044261e-02,\n",
       "       -7.93418478e-01, -1.44539744e+00,  9.78409386e-01, -1.25608427e+00,\n",
       "       -1.27406688e+00, -8.47503220e-01,  5.45703399e-01,  1.67566744e-02,\n",
       "       -1.01384521e+00,  4.68315490e-01, -5.25596912e-01,  6.55671396e-02,\n",
       "        1.41605778e+00,  4.14411020e-01, -2.30050293e+00, -7.64951050e-01,\n",
       "       -1.34107827e+00, -4.68948004e-01,  2.17817684e+00, -3.05463245e-01,\n",
       "       -1.60569466e-01, -5.34250261e-01, -7.13809316e-01, -9.21708612e-01,\n",
       "       -1.60956748e-03, -3.62427758e-01, -3.05335474e+00, -3.62819061e-01,\n",
       "        1.19858603e+00, -6.31863511e-01, -9.72291954e-02, -1.03278629e+00,\n",
       "       -2.90005359e-01, -1.92670530e-01,  4.58193761e-01,  8.79633303e-02,\n",
       "       -4.33510014e-01,  8.80764119e-01, -8.31824804e-03,  2.40037008e-01,\n",
       "       -2.01242679e-01, -2.59940384e-01,  6.63225542e-01,  3.81056036e-01,\n",
       "       -1.96216918e+00,  1.35746871e+00, -4.63724817e-01,  1.16851228e+00])"
      ]
     },
     "execution_count": 35,
     "metadata": {},
     "output_type": "execute_result"
    }
   ],
   "source": [
    "# Generating a normal distribution with mean = 0 and standard deviation = 1\n",
    "s = rng.normal(loc = 0, scale= 1, size=1000)\n",
    "s"
   ]
  },
  {
   "cell_type": "code",
   "execution_count": 36,
   "id": "4897f35e-c5a9-4091-8907-752acd87e6a7",
   "metadata": {},
   "outputs": [
    {
     "data": {
      "text/plain": [
       "<seaborn.axisgrid.FacetGrid at 0x24658becd90>"
      ]
     },
     "execution_count": 36,
     "metadata": {},
     "output_type": "execute_result"
    },
    {
     "data": {
      "image/png": "[encoded data removed]",
      "text/plain": [
       "<Figure size 360x360 with 1 Axes>"
      ]
     },
     "metadata": {
      "needs_background": "light"
     },
     "output_type": "display_data"
    }
   ],
   "source": [
    "sns.displot(s, kde=True)\n",
    "\n",
    "# https://www.statology.org/seaborn-normal-distribution/"
   ]
  },
  {
   "cell_type": "code",
   "execution_count": 37,
   "id": "a3163437-a766-4047-8313-6f70175f9a3c",
   "metadata": {
    "scrolled": true,
    "tags": []
   },
   "outputs": [
    {
     "data": {
      "text/plain": [
       "array([ 1.62119632e+01,  9.88141337e+00,  3.22665978e+00,  9.35240234e+00,\n",
       "        9.66205995e+00,  5.17781519e+00,  1.27924150e+01,  3.85043378e+00,\n",
       "        1.09374016e+01, -7.20304399e+00,  3.91677503e+00,  4.68187115e+00,\n",
       "       -6.00851464e+00,  7.96764429e+00,  1.31489614e+01, -1.75119534e+00,\n",
       "        5.00581916e+00,  9.49960403e+00,  1.62760220e+00,  6.56121550e+00,\n",
       "        1.32727456e+00,  8.60036391e-01,  5.97270143e+00,  7.25562338e+00,\n",
       "        4.65432763e+00, -1.44399229e+00,  1.42203431e+00,  2.94826520e+00,\n",
       "        5.03498087e+00,  5.81077307e+00,  4.04514283e+00,  7.16249522e+00,\n",
       "        1.37425660e+01,  1.42183443e+01,  5.74277194e+00,  8.62015268e-01,\n",
       "       -3.58757203e+00, -4.40153686e+00,  1.72263633e+00,  9.29416632e+00,\n",
       "        1.37638845e+01,  8.16220757e+00,  8.88040006e+00,  4.70716970e+00,\n",
       "        3.00256694e+00,  9.20314122e+00,  1.44138988e+00,  5.36866279e+00,\n",
       "       -2.45762800e+00,  6.30067623e+00,  1.22106767e+01, -3.30740854e+00,\n",
       "        1.14695233e+01, -2.39444291e+00,  7.68988072e-01,  7.77370605e-03,\n",
       "        1.00376141e+01,  9.51816676e+00,  3.93168800e+00,  7.92264146e+00,\n",
       "        1.13657397e+01,  1.22804533e+01, -4.98266035e-01,  1.39343003e+01,\n",
       "        7.26099802e+00,  6.87157314e+00, -5.86433225e+00,  3.56407072e+00,\n",
       "        6.24513857e+00,  2.54664246e+00,  2.16194176e-01, -4.96933367e-01,\n",
       "        4.68033530e+00, -3.10259065e+00,  2.32643889e+00,  1.69144866e+01,\n",
       "        7.14564185e+00,  1.09837579e+01,  4.35875488e-01,  5.80924383e+00,\n",
       "        6.24638320e+00,  1.20079276e+00,  1.01095143e+01,  3.92072853e+00,\n",
       "        9.51774589e+00,  1.01789692e+01, -5.45492750e+00, -9.87552627e-02,\n",
       "        2.24391185e+00,  6.34365579e+00,  1.10341364e+01,  1.36174475e+00,\n",
       "        8.25668526e+00, -4.77019476e+00,  1.28681433e+01,  7.85968305e+00,\n",
       "        2.08862365e+00, -5.34688788e+00,  5.95128181e+00,  8.00167673e+00,\n",
       "        4.54016398e+00, -1.80925889e+00,  5.76841945e+00,  1.05206792e+01,\n",
       "        2.98764209e+00,  6.67287603e+00,  1.09528167e+01,  6.33184867e+00,\n",
       "        4.57127663e+00,  6.44378196e+00,  3.66724473e+00,  1.16690414e+01,\n",
       "        1.58171994e+01, -1.98612210e+00,  5.33853129e+00, -8.49015433e-01,\n",
       "        7.14789846e+00, -5.67683901e-01,  4.63685702e+00, -6.19776332e+00,\n",
       "        1.10439777e+01,  1.30967817e+01,  6.47251734e-01,  4.95053887e+00,\n",
       "        6.19896223e+00,  1.33259219e+01,  7.80053522e-01,  6.31090637e+00,\n",
       "        1.50355685e+01,  2.57490176e+00,  4.88753462e+00,  4.35212759e+00,\n",
       "        1.33845204e+01,  6.18955034e-01,  5.50335149e+00,  8.28637663e+00,\n",
       "        1.34828982e-01,  6.82413517e+00,  2.48989171e+00,  8.60169200e+00,\n",
       "        2.17246977e+00,  2.18341043e+01, -4.43163933e+00, -2.85753207e+00,\n",
       "        8.73544063e+00,  1.12211676e+01,  2.04329321e+00,  7.54222897e+00,\n",
       "        5.98572524e+00,  2.74357635e+00, -2.18692824e-01,  1.15640197e+01,\n",
       "        7.88294159e+00,  7.90030066e+00,  7.77498974e+00,  5.18094592e+00,\n",
       "       -9.99962834e-01,  1.24599081e+01,  9.91800668e+00,  2.88194900e+00,\n",
       "        7.35046021e+00,  1.14727590e+01,  5.41858666e+00,  9.65670830e-01,\n",
       "        5.90340932e+00,  6.68296293e+00,  2.42476784e+00,  4.22334881e+00,\n",
       "        5.07866311e+00, -3.73463717e+00,  7.50692550e+00,  9.16103932e+00,\n",
       "        4.91263177e+00,  1.99441930e+00,  1.25422533e+01,  1.01864800e+01,\n",
       "        2.63174342e+00,  7.28643683e+00,  1.01500244e+01,  5.48340753e+00,\n",
       "        1.12522535e+01,  1.58704949e-01,  6.55189295e+00,  6.99925424e+00,\n",
       "        1.33369476e+00, -5.95803645e-01,  9.59863714e+00,  4.25365554e+00,\n",
       "        9.88403081e+00, -4.35174710e+00,  1.26891732e+01, -1.47078799e+00,\n",
       "        7.45925288e+00, -3.77214422e+00,  9.68954412e+00, -1.78942658e+00,\n",
       "        1.29280084e+01,  1.05056681e+01, -9.21532259e+00, -1.65503320e+00,\n",
       "       -6.02233325e+00,  5.17410987e+00,  9.24824047e+00, -7.37281627e-01,\n",
       "        6.67851796e+00,  1.02246793e+00,  3.93648807e+00,  3.49317203e+00,\n",
       "        9.09134053e+00, -6.56651807e+00,  4.52106556e+00,  4.57402961e+00,\n",
       "        1.94721676e+00,  4.41688881e+00,  1.91771645e+00,  4.66431245e+00,\n",
       "        6.28766525e+00,  1.79144380e-01,  7.77226324e+00,  4.00335403e+00,\n",
       "        1.39240451e+01,  1.00494613e+01,  7.23061086e+00, -7.25947369e-01,\n",
       "        6.99680950e+00, -3.43409800e+00,  7.83180267e+00,  6.32614385e+00,\n",
       "        1.15671954e+01,  5.05507607e+00,  8.35006459e+00,  4.50645525e-01,\n",
       "        1.32621024e+01,  8.06398965e+00, -6.66298205e-01, -2.37831062e+00,\n",
       "        1.36660533e+01,  1.01306002e+01,  7.00622842e+00, -9.61904719e-01,\n",
       "        2.13030466e+00,  8.75246570e+00,  9.66006373e+00,  4.49528863e+00,\n",
       "        1.36132638e+01,  8.72014276e+00, -2.87503836e+00,  1.36524158e+01,\n",
       "        7.47435472e+00,  3.44366269e+00, -3.01054036e+00, -5.21336664e+00,\n",
       "        7.44420869e+00,  6.82404749e+00,  5.80104067e+00,  7.92657005e+00,\n",
       "        7.86977242e-01,  1.99619645e+00,  1.48701351e+00,  8.53353083e+00,\n",
       "        1.39520933e+01,  3.94427474e+00, -1.09339241e+00,  6.08873539e+00,\n",
       "        4.18959478e+00,  1.22366566e+01, -4.96457241e+00, -3.15252471e-01,\n",
       "       -1.29175939e+00,  6.19618165e+00,  6.24882395e-01,  4.84509941e+00,\n",
       "        9.89946911e+00,  6.99112430e+00,  6.08365913e-01,  3.27078408e+00,\n",
       "        3.58295310e+00,  7.28810816e+00, -7.07765061e+00,  9.84697596e+00,\n",
       "        2.15383827e+00,  3.48660930e+00,  8.01089720e+00, -2.49717097e+00,\n",
       "        7.86351071e+00,  1.60004029e+01, -1.51397645e+00,  4.05391785e+00,\n",
       "        4.35132943e+00, -5.60514191e+00,  9.43118786e+00, -3.37113072e+00,\n",
       "        1.51680006e+01,  9.46986181e+00,  3.80923820e+00,  7.68545524e+00,\n",
       "        1.08038085e+01,  2.06426203e+00,  1.50309949e+01,  1.21560494e+00,\n",
       "        2.70093282e+00, -4.07958049e+00,  1.42021900e+01, -3.39049352e+00,\n",
       "        2.89127379e+00, -2.32995101e+00,  5.07964971e+00,  1.17085891e+01,\n",
       "        6.64115893e+00, -4.26136779e+00,  1.15603946e+01,  2.55913059e+00,\n",
       "        7.49091767e+00,  7.45330061e+00,  1.34391951e+00,  7.43107380e+00,\n",
       "        5.94422582e+00,  3.89260340e-01,  7.76041744e+00,  1.09150646e+01,\n",
       "        3.77612839e+00,  3.01653370e+00,  2.07800366e+00,  9.86289166e+00,\n",
       "       -1.60874360e-01, -6.17327119e+00,  6.40598700e+00,  4.79620527e+00,\n",
       "        1.14178562e+01,  5.89370480e+00,  1.34619475e+00, -1.15839819e+00,\n",
       "        1.10132393e+01,  1.07212562e+01,  4.94558476e+00,  2.48195854e+00,\n",
       "       -4.42142370e+00,  3.88679441e+00,  1.23249198e+01,  5.07774564e+00,\n",
       "        1.25169341e+00,  1.11799083e+01, -9.35851649e-01, -3.94160408e-01,\n",
       "        1.79436089e+00,  8.27516177e-01,  9.33904100e-01, -6.91060433e+00,\n",
       "        4.00774831e+00,  8.56464473e-02,  9.87075128e-01,  7.90138297e+00,\n",
       "       -8.75217079e+00,  1.79767969e+01,  1.03887389e+01, -4.45929636e+00,\n",
       "        9.90186611e+00,  2.27765132e-01,  1.09475696e+01,  1.07791929e+01,\n",
       "        8.85993358e+00,  2.06432144e+00,  5.96074021e+00,  8.53038321e+00,\n",
       "       -7.51720585e-01,  9.65322396e+00,  8.83857423e+00,  9.04948807e+00,\n",
       "        2.05827030e+00,  1.13446567e+00,  1.33081977e+01,  8.79760106e+00,\n",
       "        6.88247491e+00,  1.39682222e+01,  8.57896754e+00,  8.39155332e+00,\n",
       "        1.14419492e+01, -5.64739477e+00,  1.74965130e-01,  1.83692329e+00,\n",
       "        2.46815003e+00, -4.51312707e-01, -1.12783609e-01,  5.35529756e+00,\n",
       "        6.92214115e+00,  4.24333454e-01,  3.08782833e+00,  3.97592515e+00,\n",
       "        1.00113763e+01, -9.62732885e+00,  8.12372021e+00, -5.11144970e+00,\n",
       "       -9.31722994e+00, -3.28220045e+00, -2.39340784e+00,  2.78139373e+00,\n",
       "        3.17978028e-01,  6.37098624e+00,  8.96604352e+00,  1.59299718e+01,\n",
       "        7.09892127e+00,  7.43938346e+00,  8.22700015e+00,  1.23683757e+01,\n",
       "       -2.21130145e-01,  8.12874842e+00,  4.87586634e+00,  1.01738209e+01,\n",
       "        8.66795772e+00,  1.24758051e+01,  6.08805297e+00,  4.68929898e+00,\n",
       "       -3.32533324e+00,  1.13491082e+01, -3.96604659e+00,  3.79365791e+00,\n",
       "        1.13917172e+01,  1.09255209e+01,  6.91413934e+00,  1.29795756e+01,\n",
       "        8.74241252e+00, -1.00049583e+00,  8.28379428e+00,  1.07777466e+01,\n",
       "        1.87909190e+00,  1.36675335e+01, -1.09693110e+00, -4.12934557e+00,\n",
       "        2.93961854e+00,  7.00832125e+00,  5.96317087e+00,  1.44451431e+00,\n",
       "       -1.29869401e+00,  1.44481519e+00,  9.35159244e+00,  6.06905811e+00,\n",
       "        7.34722559e+00,  1.51913481e+00,  1.04210692e+01,  8.81727931e+00,\n",
       "        8.10024907e+00, -1.23093526e-01,  9.39110636e+00, -3.06920834e+00,\n",
       "        4.50559345e+00,  5.46044091e+00,  9.94581555e+00,  4.40630256e+00,\n",
       "        4.13339426e+00, -1.90119316e+00, -3.98151853e+00,  2.79723035e+00,\n",
       "        7.79356237e+00,  8.67372710e+00,  3.27826119e+00,  3.23373630e+00,\n",
       "        8.85353849e+00,  4.93225843e+00,  6.81094746e+00, -5.50868108e+00,\n",
       "        9.38310480e+00,  1.12484239e+01, -6.19862056e+00,  7.93341894e+00,\n",
       "        4.49438536e-01,  9.16382012e+00,  4.05023002e+00,  1.25267026e+01,\n",
       "        8.82659935e+00,  7.15698334e+00, -5.54765523e-01,  4.56556357e+00,\n",
       "        3.86752211e+00,  1.21743388e+01, -9.02518194e+00,  3.95821799e+00,\n",
       "        1.22692770e+00,  8.89656844e+00,  4.97892763e+00,  7.21759258e+00,\n",
       "        3.77765260e+00,  4.43261550e+00,  1.27643739e+01,  6.94581837e+00,\n",
       "        5.06339983e+00,  3.93682799e+00,  1.30495852e+01,  6.59369264e+00,\n",
       "        3.06066922e+00,  1.19584171e+01,  5.62736582e+00, -3.33111396e+00,\n",
       "        1.02179336e+01,  6.49562839e+00, -2.43696136e+00,  1.67768703e+00,\n",
       "        7.30102743e-02,  6.32914185e+00,  6.37030070e+00,  8.74303402e+00,\n",
       "       -1.19796203e+00,  2.57916799e+00,  4.84341914e+00,  1.99700610e+00,\n",
       "        1.24240367e+00,  3.53914347e+00,  6.60298046e-01, -3.36834635e-01,\n",
       "        3.97108591e+00,  3.13723264e+00,  1.00704644e+01,  4.33621682e+00,\n",
       "        5.23259110e+00,  1.44938928e+01,  6.08927973e+00,  4.04379218e+00,\n",
       "        1.45208694e+00,  9.13469504e+00,  4.72983726e+00, -1.48453185e+00,\n",
       "        5.61746682e+00,  2.66019778e+00,  6.35740087e+00,  2.00511947e+00,\n",
       "        4.24910685e+00, -5.83342661e+00,  1.16103878e+00,  4.88042135e+00,\n",
       "        1.10310921e+01,  2.08475063e+00,  9.89891264e+00,  1.20757287e+01,\n",
       "        1.28706121e+01,  1.80118523e+00,  5.50332190e+00,  8.39868620e+00,\n",
       "        5.08874597e+00, -5.10664951e-01, -5.29403592e-01,  1.17163915e+01,\n",
       "        3.00828004e+00,  8.22787128e+00,  8.30265899e+00,  2.37639738e+00,\n",
       "        8.77451924e-02,  2.63528268e+00,  9.77016036e+00,  2.34419726e-01,\n",
       "        1.58448920e+00,  4.24062496e+00,  5.23327969e+00,  3.21930543e+00,\n",
       "        1.11193006e+01,  5.10409154e+00,  4.77012704e+00,  8.59326706e+00,\n",
       "        1.47667507e+01,  5.16069093e+00, -1.14016691e+00,  1.21902850e+01,\n",
       "        1.05510893e+01,  1.46078530e+01,  2.73636545e+00, -2.57888949e+00,\n",
       "        8.21482344e+00,  4.30269631e+00,  9.34525585e+00,  7.64820933e+00,\n",
       "        7.37318309e+00, -4.36093974e+00,  9.71723109e+00,  3.63970423e+00,\n",
       "        5.23118890e+00,  7.78883876e+00,  6.33678076e+00,  3.73177757e+00,\n",
       "        6.45707168e+00,  2.35507264e+00,  1.47647513e+01, -2.55965272e-01,\n",
       "        4.26985751e+00,  9.12010664e+00,  2.21944192e+00,  5.36643227e-02,\n",
       "        8.75679524e+00,  1.34175920e+01,  6.32487236e+00,  8.10552801e+00,\n",
       "        1.89263214e+01, -5.09525984e+00,  1.72720699e+01, -1.51818008e+00,\n",
       "        1.52151804e+01,  1.44465912e+00, -3.03783032e+00,  2.07487546e+01,\n",
       "        1.09191914e+01,  3.73931155e+00,  1.49398531e+01,  8.68904219e-01,\n",
       "        3.14181690e+00, -2.70837556e+00,  1.04420643e+01, -2.96532916e+00,\n",
       "        6.21814911e+00,  2.12129923e+00,  4.43500844e+00, -2.87694859e+00,\n",
       "        4.33052339e+00,  6.52469342e+00,  1.54409215e+01, -2.08599763e+00,\n",
       "        8.03055135e+00,  8.08743951e+00,  8.60084276e-01,  7.71222033e-01,\n",
       "        1.14838737e+00,  5.52211875e+00,  1.85775530e+00,  1.96751156e+00,\n",
       "        8.55041932e+00,  6.26137711e+00,  3.51138709e+00,  1.41012169e+01,\n",
       "        1.50762339e+01,  2.65541236e+00,  7.84274760e-01,  1.68826421e+01,\n",
       "       -8.65572628e-01,  3.60786839e+00, -1.37408583e+00,  7.60543536e+00,\n",
       "        5.87004702e+00,  6.49212955e-01,  5.50756637e+00, -7.27871378e+00,\n",
       "        2.12207388e+00,  6.87089772e+00,  7.09464131e+00,  4.36447749e+00,\n",
       "        1.27148647e+00,  3.61621855e+00,  4.03563721e+00,  7.39085940e+00,\n",
       "        9.58574824e+00,  3.05262289e+00, -7.15459471e-02,  7.06183836e+00,\n",
       "       -1.92367508e+00,  4.40000959e+00,  2.28514376e+00,  3.20998995e+00,\n",
       "       -5.04543492e+00,  7.57080222e+00,  4.00642556e-01,  6.11777619e+00,\n",
       "        1.11507366e+01, -7.28205899e+00,  5.86161296e+00,  3.69689697e+00,\n",
       "        4.29283881e-01,  7.98261931e+00,  1.58487072e+01,  1.43144213e+01,\n",
       "        8.55504593e-01,  9.31149731e-01,  2.51265126e+00,  7.88012890e+00,\n",
       "        1.60476641e+01, -4.61481376e-01,  7.40268902e+00, -7.88958887e-01,\n",
       "       -1.31007394e+00,  3.01854618e+00,  5.64224429e+00,  4.80357837e+00,\n",
       "        9.26597408e-01,  1.29095054e+00,  3.82814765e+00,  4.05504962e+00,\n",
       "        7.04586596e-01,  4.27374186e+00,  2.84498055e+00, -1.17393938e+00,\n",
       "        6.45177338e-01,  4.29079179e+00,  9.66064220e-02,  3.56003452e+00,\n",
       "        8.09351662e+00, -3.65467049e+00, -8.08653666e+00,  6.13290015e+00,\n",
       "        7.67308851e+00,  4.47467649e+00,  8.38366996e+00,  1.20495523e+01,\n",
       "        2.84104258e+00,  1.15849553e+01, -2.10148174e+00,  2.28153369e+00,\n",
       "       -2.74469686e+00,  2.43769172e+00,  1.85650951e+00,  9.03415150e+00,\n",
       "        1.72952220e+01,  9.50765599e+00,  6.75416236e+00, -1.38158296e-01,\n",
       "        5.26541138e+00,  7.18486030e+00,  1.35424466e+00, -4.35778171e+00,\n",
       "        4.46844138e+00,  1.21570942e+01,  4.50609175e+00,  7.77204686e+00,\n",
       "       -8.70828495e-01,  8.89436884e+00,  5.94581939e+00,  5.79308838e+00,\n",
       "        2.60725686e+00,  5.00240793e+00,  8.41986002e+00,  1.77937732e+01,\n",
       "        2.61048684e+00, -2.28215897e+00,  8.50206531e+00,  9.78649359e+00,\n",
       "        3.33002948e+00,  2.34067074e+00,  3.13254045e+00,  1.50452952e+00,\n",
       "        3.88644517e-01, -2.87222016e+00,  6.65214985e+00,  6.24181661e+00,\n",
       "        1.83842003e+01,  3.54879947e+00,  6.07764430e+00,  3.93896873e+00,\n",
       "        1.00921982e+01, -3.20053928e+00,  8.26114501e+00, -2.27731880e+00,\n",
       "       -1.42128569e-01,  1.47421362e-01,  4.47879683e+00,  9.75204537e+00,\n",
       "        2.15730324e+00, -2.71782621e+00,  1.32072835e-01,  6.42939690e+00,\n",
       "        2.08020112e+00,  5.50176123e+00,  6.51936649e+00,  5.63057685e+00,\n",
       "       -4.90193453e+00,  1.11069928e+00,  1.06957506e+01,  4.91524136e+00,\n",
       "       -3.53690179e-01,  9.31606312e+00,  4.19912111e+00,  1.32456711e+01,\n",
       "       -1.19576096e+00,  1.14857361e+01,  2.25371184e+00,  4.27924052e+00,\n",
       "        7.34260066e+00,  3.96964340e+00,  2.13587455e+00,  7.96555808e-01,\n",
       "        8.06074127e+00,  4.31666946e+00,  6.78646968e+00,  1.18349383e+01,\n",
       "        7.36984409e+00, -5.92211426e-01,  1.07020449e+01,  9.63567785e+00,\n",
       "        9.25967102e+00,  4.57951839e+00,  7.10385245e+00,  1.19006239e+00,\n",
       "        1.30241499e+01,  3.84785727e+00, -1.92832539e+00,  6.61295322e+00,\n",
       "        7.27085821e+00,  5.11251480e+00, -1.60335539e+00, -1.52988314e+00,\n",
       "        5.02870663e+00,  7.11309965e+00,  8.52480252e+00,  5.83171742e-01,\n",
       "        4.07157227e+00,  5.30472287e+00,  8.86988042e-01,  1.94142412e+00,\n",
       "        8.67007001e+00, -9.55456959e+00,  4.82515157e+00,  1.77364213e+01,\n",
       "        1.31640652e+01,  4.98241573e+00,  1.15796455e+01,  6.05991470e+00,\n",
       "        6.70664361e+00,  1.03022838e+01,  6.35787065e+00,  6.09920590e+00,\n",
       "        4.86917078e-02,  2.79214071e+00,  5.45360096e-01,  4.47573272e+00,\n",
       "        6.19624406e+00,  3.03375796e+00, -3.07202262e+00,  1.17875910e+01,\n",
       "        5.51734770e+00,  1.23178911e+01, -2.05335098e+00,  2.85033675e+00,\n",
       "       -2.22540265e+00,  5.35702311e+00,  1.29696188e+01,  5.17830162e-01,\n",
       "        7.42633966e+00,  6.67743441e+00,  5.14676128e+00,  2.50038116e+00,\n",
       "        2.03264840e+00, -2.61118487e+00,  2.19044318e+00,  2.94213452e+00,\n",
       "        1.50261111e-01,  3.60629914e+00, -5.22215349e-02,  8.90279871e-01,\n",
       "        8.28190087e+00,  5.91673655e+00,  2.31958967e+00,  6.64999078e+00,\n",
       "        1.23921834e+01,  7.00195940e+00,  9.73273048e+00, -8.73466265e-01,\n",
       "        6.65841392e+00,  4.08023380e+00,  9.37132437e+00,  4.19504636e+00,\n",
       "        2.89615921e+00,  1.42023797e+01,  1.32026183e+00,  1.93789921e+00,\n",
       "       -3.77967608e+00, -1.31225187e+00,  2.66807036e+00,  3.84395330e+00,\n",
       "        7.08147953e+00,  1.15627476e+01,  6.31929879e+00, -3.60304582e-01,\n",
       "        1.51200653e+01,  8.92167514e+00,  6.94193951e+00,  8.45932346e+00,\n",
       "        5.83920669e+00,  8.73647628e+00,  4.10240248e-01,  2.21906859e+01,\n",
       "        5.28816128e-02,  7.58248713e+00,  5.71808943e+00,  4.99355210e+00,\n",
       "        9.41772419e+00,  6.45300195e+00,  7.46012015e+00,  1.64401131e-01,\n",
       "        1.37574264e+00,  1.65239264e+01,  6.70924074e+00,  3.53102424e+00,\n",
       "        9.72542458e+00,  6.87041214e+00,  1.14502453e+00,  8.73136522e+00,\n",
       "       -3.38203165e+00,  4.11850760e+00,  5.31301192e+00,  4.82624065e+00,\n",
       "        9.13243299e+00,  4.55771241e+00,  9.43576595e+00, -1.71829289e+00,\n",
       "        2.41261543e+00, -1.28455289e+00,  2.35213818e+00,  6.45559197e+00,\n",
       "        8.97643698e+00,  2.71094795e+00, -4.22250518e+00,  1.57714188e+01,\n",
       "        3.94542593e+00,  3.94848130e+00, -5.41726482e+00,  7.14799191e+00,\n",
       "        3.88560572e-01,  8.08600707e+00,  9.95067707e+00,  9.51200224e+00,\n",
       "        1.74041378e+00,  7.80759456e+00,  3.16779402e+00,  9.91210905e+00,\n",
       "        4.84001299e+00,  8.90582401e+00, -5.01911955e-01,  4.15294127e+00,\n",
       "        1.10652999e+01, -1.22683458e-01,  1.21906084e+00,  1.32988262e+01,\n",
       "        6.84456689e+00,  1.73611054e+01,  1.71425675e+01,  1.09730444e+01,\n",
       "        3.29887498e+00,  3.02196896e+00, -1.07637782e+00,  7.03985571e+00,\n",
       "        8.78480729e+00,  1.51963947e+01,  1.13754915e+01,  1.12903359e+00,\n",
       "        7.11846530e+00,  8.55243707e+00,  4.18181721e+00,  1.31167935e+01,\n",
       "       -1.09836480e+00,  3.54914695e-01,  6.59360641e+00, -6.54827082e+00,\n",
       "        3.22743775e+00,  8.07446708e+00,  8.40872231e+00,  1.17784294e+00,\n",
       "        4.17708140e+00,  2.69841675e+00,  1.24737325e+00,  2.93625844e+00,\n",
       "        4.44260589e+00,  4.08418764e+00,  8.35466157e+00,  1.18703852e+01,\n",
       "        7.46923597e+00, -1.47303192e+00,  6.01036252e+00,  4.98790151e+00,\n",
       "        1.33284053e+01,  4.17050675e+00,  6.15285187e+00,  6.82595475e+00,\n",
       "        2.86812554e+00, -2.74383598e+00,  5.36591001e+00,  5.27581997e+00,\n",
       "        1.86816794e+01,  3.33611199e+00,  3.52585951e+00,  6.03379308e+00,\n",
       "        5.60503072e+00, -3.20834551e+00, -1.80790335e+00,  4.58113470e+00,\n",
       "        2.39983531e+00,  8.86163054e+00,  8.41510977e+00,  2.19218357e+00,\n",
       "        4.16620053e+00,  5.31180026e+00,  7.35295210e+00,  1.12921552e+00,\n",
       "        6.14961033e+00,  2.99673787e+00,  1.10628421e+01, -6.74447157e+00,\n",
       "       -1.35628431e+00,  8.46217356e+00, -4.59996271e+00,  4.43909739e+00,\n",
       "        4.01905610e+00,  5.20745405e+00, -9.87071553e-01,  2.79463515e+00,\n",
       "        2.28473165e-01,  9.90667280e-01, -1.48155158e+00,  3.63500149e+00])"
      ]
     },
     "execution_count": 37,
     "metadata": {},
     "output_type": "execute_result"
    }
   ],
   "source": [
    "# Generating a normal distribution with mean = 5 and standard deviation = 5\n",
    "s2 = rng.normal(loc = 5, scale= 5, size=1000)\n",
    "s2"
   ]
  },
  {
   "cell_type": "code",
   "execution_count": 38,
   "id": "06580d95-6e89-4ddc-b602-7c28027d111e",
   "metadata": {},
   "outputs": [
    {
     "data": {
      "text/plain": [
       "<seaborn.axisgrid.FacetGrid at 0x24658c9c7c0>"
      ]
     },
     "execution_count": 38,
     "metadata": {},
     "output_type": "execute_result"
    },
    {
     "data": {
      "image/png": "[encoded data removed]",
      "text/plain": [
       "<Figure size 360x360 with 1 Axes>"
      ]
     },
     "metadata": {
      "needs_background": "light"
     },
     "output_type": "display_data"
    }
   ],
   "source": [
    "sns.displot(s2, kde=True)"
   ]
  },
  {
   "cell_type": "code",
   "execution_count": null,
   "id": "0f1dfd9a-c0f3-4441-9a3a-36b7fff9870e",
   "metadata": {},
   "outputs": [],
   "source": []
  },
  {
   "cell_type": "markdown",
   "id": "6bb8f525-d41d-4d4d-a00e-cadbaa950886",
   "metadata": {},
   "source": [
    "### **3.5 - Pareto Distribution**"
   ]
  },
  {
   "cell_type": "markdown",
   "id": "b2d0a438-ed98-4d91-8dd4-809b3d9dac7c",
   "metadata": {},
   "source": [
    "The rng.pareto() function creates random values distributed as per a Pareto II or Lomax distribution. It follows the pareto principle (often referred to as 80-20 rule) which states that 20% of values account for 80% of outcomes. It is used to describe numerous phenomena across a number of disciplines, for example social or scientific. Its original use reflected the wealth distribution within a country with 20% of the population accounting for 80% of its wealth. \n",
    "\n",
    "The pareto II distribution in numpy.random can take two parameters\n",
    "- a = shape of the distribution which must be positive\n",
    "- size\n",
    "\n",
    "\n",
    "https://en.wikipedia.org/wiki/Pareto_distribution (20/11/2021(\n",
    "\n",
    "https://numpy.org/doc/stable/reference/random/generated/numpy.random.Generator.pareto.html#numpy.random.Generator.pareto (20/11/2021)\n",
    "\n",
    "https://www.w3schools.com/python/numpy/numpy_random_pareto.asp (20/11/2021)"
   ]
  },
  {
   "cell_type": "code",
   "execution_count": 39,
   "id": "cf2243fc-90ba-4917-b93a-4df9a012084b",
   "metadata": {
    "scrolled": true,
    "tags": []
   },
   "outputs": [
    {
     "data": {
      "text/plain": [
       "array([2.13242919e-01, 1.69009007e-01, 2.84265103e-01, 9.80886756e-02,\n",
       "       4.12945607e-01, 2.54268745e-01, 7.21512387e-01, 5.01613585e-01,\n",
       "       5.12380763e-02, 2.60013709e-01, 8.67633451e-02, 3.21405757e-01,\n",
       "       4.47587292e-01, 1.70334245e+00, 6.16508259e-01, 1.22850757e-01,\n",
       "       2.98301763e+00, 2.97127178e-01, 1.38062142e+00, 3.11066465e-01,\n",
       "       2.67141688e-01, 2.70871812e-01, 4.78559334e-01, 8.19301088e-01,\n",
       "       1.13700643e+00, 5.47320324e-02, 5.69817929e-02, 1.90432774e-01,\n",
       "       1.97265243e-01, 6.52041784e-02, 5.91506527e-01, 1.04610451e+00,\n",
       "       4.86433016e-03, 3.38485967e-01, 1.69044399e-01, 1.64852290e-01,\n",
       "       1.45475646e-01, 3.11526352e-01, 1.33458135e+00, 1.81903318e-01,\n",
       "       1.10529805e-01, 1.67941434e-01, 1.30265288e-01, 2.32367437e-01,\n",
       "       1.41741126e-01, 5.10151513e-02, 1.93145910e-01, 8.17271329e-02,\n",
       "       4.84972980e-01, 6.08955334e-01, 1.33800743e+00, 1.54251590e-01,\n",
       "       1.91629694e-01, 3.59139252e+00, 1.04680173e+00, 2.65840171e-01,\n",
       "       3.99833661e-01, 1.06481140e+00, 1.12391132e-01, 1.32197537e-01,\n",
       "       4.81981371e-01, 3.91333959e-01, 3.92948007e-01, 8.28965406e-02,\n",
       "       3.48329427e-01, 2.43084329e-01, 2.14241263e-01, 4.59285724e-01,\n",
       "       4.02645666e+00, 7.20252526e-01, 1.88445453e-02, 8.82961405e-03,\n",
       "       1.14995148e-01, 8.68637570e-01, 7.04946581e-02, 4.32008109e-01,\n",
       "       1.72819129e-01, 1.35459959e-01, 1.44693579e-01, 3.72810153e-01,\n",
       "       6.80719624e-01, 6.55969738e-01, 8.74412136e-02, 2.09304922e-02,\n",
       "       4.64396742e-01, 9.54236581e-02, 4.25680237e-01, 8.11125317e-02,\n",
       "       2.09130991e-02, 2.36849083e-02, 4.14261555e-01, 8.29539617e-03,\n",
       "       6.10625362e-01, 3.49815616e-01, 2.82805068e-01, 5.96986955e-01,\n",
       "       4.93630427e-01, 6.64667533e-01, 2.39859140e+00, 1.56456545e-01,\n",
       "       3.04106847e-01, 1.72965554e+00, 1.49108525e-01, 9.45324025e-01,\n",
       "       1.66502455e-01, 7.01410441e-01, 1.03014604e-01, 1.52801047e-01,\n",
       "       2.40225088e-01, 9.83565401e-01, 1.15320590e+00, 4.79280736e-01,\n",
       "       2.01386847e-01, 7.61102510e-01, 2.65542865e-01, 1.24603211e+00,\n",
       "       7.69156861e-01, 5.82250123e-01, 6.52409746e-02, 1.78061662e-01,\n",
       "       1.87290714e-01, 2.54007460e-01, 2.41140611e-01, 4.96680764e-01,\n",
       "       9.84771052e-01, 8.61294186e-02, 4.27523907e-01, 8.92709563e-02,\n",
       "       3.39884267e-01, 3.31069098e-01, 4.95242577e-02, 6.04973177e-01,\n",
       "       1.57270089e-01, 3.95150985e-01, 5.21696710e+00, 1.98460552e-01,\n",
       "       4.13038872e-01, 5.10802331e-03, 4.73909558e-02, 1.01519554e+00,\n",
       "       2.49853192e-02, 1.26368694e+00, 7.44974490e-01, 1.63756800e-01,\n",
       "       2.31872564e-01, 1.08998858e-01, 3.92996306e-01, 2.80958425e-01,\n",
       "       4.65815079e-01, 2.75662411e-01, 1.37102129e-02, 4.84777982e-01,\n",
       "       1.39101656e-01, 1.34658527e+00, 1.13470089e+00, 5.54313081e-01,\n",
       "       3.57104243e-01, 2.53974639e-01, 2.81030288e+00, 4.07186647e+00,\n",
       "       1.04293560e+00, 4.04864914e-01, 6.40233595e-01, 4.11548603e-01,\n",
       "       1.37396887e-01, 3.57415273e+00, 1.64167309e-01, 2.68409395e-01,\n",
       "       6.98331984e-02, 3.97042163e-01, 2.28846268e-01, 8.93839412e-01,\n",
       "       4.22895529e-01, 9.72919857e-01, 2.23194994e-01, 2.49630260e-01,\n",
       "       3.16263884e-01, 7.17793192e-01, 3.09286578e-01, 3.89670431e-02,\n",
       "       2.64823957e-01, 1.84314007e-02, 5.99569304e-02, 5.47582859e-01,\n",
       "       5.82890009e-01, 4.36855991e-01, 2.66961166e+00, 1.91408513e-01,\n",
       "       2.79240833e-02, 1.36356383e-01, 2.12259004e+00, 9.32091283e-02,\n",
       "       2.62638553e-01, 6.05528810e-01, 2.37867120e-01, 4.28515944e-01,\n",
       "       8.29668139e-01, 2.15370151e-01, 1.46165301e+00, 2.78955096e-01,\n",
       "       1.07279380e-01, 1.78198641e-01, 3.23126620e-01, 1.15570962e+00,\n",
       "       8.40409942e-02, 2.08871929e-01, 8.65634078e-01, 3.64961202e-01,\n",
       "       3.29106390e-03, 2.69906342e-02, 4.07502305e-01, 3.59153580e-01,\n",
       "       2.86552422e-01, 2.39289267e-01, 1.94235079e+00, 7.73803135e-03,\n",
       "       7.20678435e-01, 3.34539541e-01, 3.90879218e-01, 2.71258468e-01,\n",
       "       1.87481714e+00, 5.47820066e-01, 1.17806160e+00, 5.73366061e-02,\n",
       "       8.33498155e-01, 2.41857466e-02, 6.99212329e-01, 8.33137564e-01,\n",
       "       8.84426993e-02, 1.49249663e-01, 9.60656303e-01, 9.90268136e-01,\n",
       "       4.25048196e-03, 4.39964604e-03, 2.06409457e-01, 2.43065159e-01,\n",
       "       5.70247620e-01, 6.02758675e-02, 5.32837818e-01, 1.23849378e-01,\n",
       "       3.06335452e-01, 4.00661763e-01, 4.23498961e-01, 1.66072504e-01,\n",
       "       1.99397462e-01, 1.93131348e-01, 3.53030594e-01, 9.28371063e-02,\n",
       "       4.73097135e-01, 1.84000421e-01, 2.34059150e+00, 4.08604093e-01,\n",
       "       4.58342803e-02, 1.52076172e-01, 1.17688838e-01, 1.94383667e-01,\n",
       "       5.09162435e-01, 5.04794584e-01, 6.44559977e-01, 1.10038372e-01,\n",
       "       4.48080583e-01, 7.54012698e-02, 3.28963611e-02, 3.06064931e+00,\n",
       "       1.67660965e-01, 1.04105167e-01, 1.58044645e+00, 1.03341851e+00,\n",
       "       1.05707667e-02, 1.31362588e-02, 8.77871365e-02, 1.66800018e-01,\n",
       "       8.97034399e-02, 5.13852597e-01, 1.50405777e-01, 1.28940093e-02,\n",
       "       1.28382923e+00, 5.42904179e-02, 1.32583837e+00, 6.96048978e-01,\n",
       "       3.30678504e-01, 6.23231462e-01, 7.31169313e-01, 5.02231324e-01,\n",
       "       8.40004242e-02, 1.97468997e+00, 2.80022346e-01, 5.83444617e-01,\n",
       "       1.27535741e-01, 1.14451407e-02, 1.28543654e+00, 3.03675916e-02,\n",
       "       1.16895484e-01, 2.18025856e-01, 2.06145194e-01, 3.20755120e-01,\n",
       "       6.43157454e-02, 2.65634378e-01, 7.59827094e-02, 1.20978392e+00,\n",
       "       2.44278708e-01, 3.93945881e-01, 4.63482739e-01, 2.11434464e-02,\n",
       "       1.55263975e-01, 1.25448906e+00, 7.10497399e-01, 6.89292115e-01,\n",
       "       2.33280380e-01, 1.24382565e-01, 1.32215174e+00, 8.53805894e-02,\n",
       "       4.50822270e-01, 1.20243196e-02, 8.91990688e-01, 6.03927745e-01,\n",
       "       1.68766704e-01, 1.92851958e-01, 1.44751231e+00, 2.12526101e-01,\n",
       "       3.53801691e-01, 1.32355485e+00, 1.42901399e+00, 3.13677088e-01,\n",
       "       5.81298994e-01, 3.38222879e-01, 3.61546473e-01, 7.76611322e-01,\n",
       "       7.95576614e-01, 1.46945473e-01, 3.96805742e-01, 5.59936563e-01,\n",
       "       1.45759075e+00, 1.32021341e-01, 3.40911955e-01, 1.21427560e+00,\n",
       "       2.68542941e-02, 2.29097433e-01, 9.33699653e-03, 3.45345366e-01,\n",
       "       4.07865486e-01, 3.11514504e-01, 9.71857848e-01, 3.01318817e-01,\n",
       "       7.45681863e-01, 9.01531620e-02, 5.35621970e-01, 2.01507682e-01,\n",
       "       2.33135348e-01, 4.62858305e-01, 2.81883664e-01, 3.62703877e-01,\n",
       "       5.86243535e-01, 3.54153407e-01, 3.97082070e-01, 8.95496381e-01,\n",
       "       8.15896825e-02, 1.59018872e+00, 2.93673145e-01, 1.05110858e+00,\n",
       "       7.35209808e-02, 9.55548949e-01, 2.36999985e-01, 1.88174822e-01,\n",
       "       1.88233712e-01, 5.50942997e-02, 2.52261381e+00, 1.03294481e-01,\n",
       "       9.57557032e-02, 1.09571104e+00, 3.05519432e-02, 6.56891550e-01,\n",
       "       3.85686972e-02, 2.15384463e-01, 4.81744176e-01, 4.99609436e-01,\n",
       "       2.99441999e-01, 1.14284854e+00, 2.61970685e-01, 4.90007650e-01,\n",
       "       7.08035438e-01, 2.38188141e-01, 1.12790748e+00, 1.83947467e-02,\n",
       "       1.20041314e-01, 2.95033094e-02, 4.77372223e-02, 1.72609536e-01,\n",
       "       3.21991744e-01, 1.07059103e-01, 3.80466862e-01, 5.38486402e-03,\n",
       "       4.43822729e-01, 5.00395545e-01, 1.34112564e-01, 3.77227965e-02,\n",
       "       2.14919969e-01, 2.12564349e+00, 7.62335897e-02, 4.42138831e-01,\n",
       "       8.91326743e-03, 1.77316046e+00, 2.49899313e-01, 4.87374988e-02,\n",
       "       2.77424651e-01, 6.74627253e-02, 8.41880703e-02, 4.50806688e-02,\n",
       "       1.03445522e+00, 2.40668510e-02, 2.83835063e-02, 5.16590134e-02,\n",
       "       1.49294635e-01, 1.96245249e-01, 6.86625027e-01, 4.22001475e-01,\n",
       "       2.26441056e-01, 3.84789021e-01, 2.22983354e+00, 4.25274348e-02,\n",
       "       8.28532892e-02, 4.47296334e-01, 2.21692226e-01, 2.03399229e-01,\n",
       "       1.39146820e-01, 7.21621194e-02, 5.14046443e-01, 3.22547201e-01,\n",
       "       1.40629713e-01, 2.72031650e-02, 2.25380646e+00, 1.70734784e-01,\n",
       "       2.16498382e-02, 2.00372133e+00, 2.06574853e-02, 5.65510393e-02,\n",
       "       1.19183497e-01, 9.66233741e-03, 6.26766489e-01, 1.71571400e-01,\n",
       "       5.53815464e-01, 3.78012231e-01, 8.26322018e-01, 1.02973135e+00,\n",
       "       5.09115767e-01, 1.03237112e-01, 9.30861159e-01, 1.04881622e-02,\n",
       "       3.15099882e-02, 1.60641852e-01, 3.10052956e-01, 7.57258881e-01,\n",
       "       6.63628946e-01, 8.37362922e-03, 1.55391729e-01, 1.06708927e-01,\n",
       "       7.09337957e-01, 1.84213565e-01, 1.21878373e+00, 1.01136055e-01,\n",
       "       7.16051200e-02, 1.01899683e+00, 7.80470444e-02, 4.78338337e-02,\n",
       "       1.75496369e-01, 1.08309876e-01, 2.17114692e-01, 1.05609096e-01,\n",
       "       5.47602791e-01, 1.76816186e-01, 1.31146826e-01, 3.28036161e-01,\n",
       "       8.02880294e-01, 6.61918932e-03, 2.18175687e-02, 2.58708989e-01,\n",
       "       7.85212333e-01, 3.81247401e+00, 5.38073426e-01, 2.84840288e-01,\n",
       "       2.12526765e-01, 1.48984083e-01, 8.18326307e-02, 1.55568656e-01,\n",
       "       6.90406992e-01, 1.02061012e+00, 9.44436524e-02, 6.16840569e-01,\n",
       "       2.36240410e-02, 9.35329150e-01, 4.79918529e-01, 2.70078397e-02,\n",
       "       3.08591385e-01, 6.67080491e-01, 1.63649062e-01, 3.35235348e-01,\n",
       "       3.07555313e-01, 4.01035981e-01, 5.48690852e-02, 7.73746055e-01,\n",
       "       3.71091383e-02, 3.07377278e-01, 2.63795114e-02, 1.12956973e+00,\n",
       "       4.75236757e-02, 3.66389184e-01, 1.48080232e-01, 7.04659136e-01,\n",
       "       1.02829519e-01, 7.11013504e-01, 1.59824344e+00, 2.48183473e+00,\n",
       "       5.59489802e-01, 9.07380318e-02, 1.37981797e-01, 7.21308919e-01,\n",
       "       5.41235384e-01, 8.18131104e-03, 3.80021162e-01, 1.35864557e-01,\n",
       "       2.25885205e+00, 3.53958437e-02, 4.64804980e-02, 1.99683185e-01,\n",
       "       1.57846946e+00, 1.47081273e+00, 3.71986219e-01, 1.50498861e+00,\n",
       "       2.99131336e-02, 1.47861795e-01, 3.12810767e-01, 1.08831170e-02,\n",
       "       1.59453929e-01, 1.00953070e+00, 6.03210789e-02, 9.71084778e-02,\n",
       "       1.80731639e+00, 9.76888763e-02, 8.63600755e-02, 7.50547769e-02,\n",
       "       4.31518419e-01, 6.20112520e-01, 2.20829882e-01, 2.50973070e+00,\n",
       "       8.68075687e-01, 1.19997921e-01, 1.22117918e-01, 8.94497483e-01,\n",
       "       9.16128880e-01, 5.59541892e-01, 5.96796357e-02, 1.86915097e-01,\n",
       "       4.56695961e-02, 2.15262224e-01, 1.74484330e+00, 1.69344575e-02,\n",
       "       5.47639476e-01, 1.61338203e-01, 6.50452883e-01, 4.28834994e-01,\n",
       "       6.01223997e-01, 1.80511991e-02, 6.33851041e-01, 3.92375135e-02,\n",
       "       8.86483090e-01, 7.95135418e-01, 1.05719988e-01, 4.31456472e-01,\n",
       "       1.88228172e-01, 4.75346943e-02, 6.97204998e-02, 4.81807333e-01,\n",
       "       2.15626501e+00, 8.41917582e-01, 5.68169105e-01, 5.54705466e-02,\n",
       "       5.17215052e-01, 5.17544308e-01, 4.73261301e-01, 4.44086896e-01,\n",
       "       3.09959943e-01, 5.21645097e-02, 2.33402948e-02, 3.46774481e-01,\n",
       "       1.00535374e-02, 5.40017271e-01, 1.53022422e-01, 8.89080391e-01,\n",
       "       2.16373288e-01, 7.69558318e+00, 1.03905449e-01, 4.53518950e-01,\n",
       "       1.30530096e-01, 9.04108540e-01, 2.73101690e-01, 1.37707117e+00,\n",
       "       5.54240723e-01, 3.66593778e-01, 2.55077924e-01, 7.64721888e-01,\n",
       "       4.92027720e-01, 7.46023273e-01, 1.31683587e+00, 2.21084732e-01,\n",
       "       4.19631286e-02, 1.18256273e-01, 1.31551363e+00, 5.38052089e-02,\n",
       "       7.63262781e-01, 1.15497092e-01, 3.28327028e-01, 6.21906386e-02,\n",
       "       1.43522581e+00, 1.37177085e+00, 1.05241549e-01, 1.08216335e-01,\n",
       "       2.13340760e+00, 3.09898274e-01, 9.17825244e-01, 3.57881745e-01,\n",
       "       3.26222692e-01, 1.61454060e-01, 3.93754704e-02, 4.76762140e-02,\n",
       "       3.82136468e-01, 1.24308128e-01, 1.70955708e-01, 5.35856158e+00,\n",
       "       1.55833783e-01, 7.93176890e-01, 1.36236515e-02, 9.15046231e-02,\n",
       "       1.27121823e-02, 4.40803418e-01, 1.76099905e+00, 4.84218123e-02,\n",
       "       8.17242955e-02, 3.70922491e-01, 8.02826210e-02, 4.80422562e-01,\n",
       "       1.10139738e-01, 5.40961708e-02, 4.21677912e-01, 3.84261519e-01,\n",
       "       1.65701738e-02, 9.45668797e-02, 8.69185948e-03, 4.21706167e-02,\n",
       "       1.35330307e-01, 9.06334913e-01, 1.31727633e-01, 4.03246502e-02,\n",
       "       3.64048037e-02, 1.60708247e-02, 6.96443146e-02, 1.40524153e-01,\n",
       "       4.17125843e-01, 6.99588102e-01, 6.21675661e-03, 7.54951457e-02,\n",
       "       2.10978952e-01, 2.49749074e-01, 1.22695159e+00, 4.48411880e-01,\n",
       "       1.39574617e+00, 4.98625425e-01, 7.23709542e-01, 2.15019056e-01,\n",
       "       6.87787432e-02, 2.32591589e+00, 1.90393707e-02, 1.96663431e-01,\n",
       "       1.17287873e-01, 8.51719873e-01, 8.30393368e-01, 3.89026145e-01,\n",
       "       1.42709841e-01, 8.70593519e-02, 2.80577489e-02, 1.94549126e-01,\n",
       "       3.34261504e+00, 7.12312161e-01, 3.44473193e-01, 1.27557993e-01,\n",
       "       5.51744759e-02, 7.50588140e-01, 8.89446427e-02, 2.80345065e-01,\n",
       "       1.36671640e-01, 9.45015373e-01, 1.20082432e+00, 1.38653529e-01,\n",
       "       7.45626856e-01, 2.76404803e-01, 1.44884771e+00, 2.04016335e-01,\n",
       "       2.10759837e-02, 6.70138316e-01, 8.76142091e-02, 2.60394245e-02,\n",
       "       6.86346001e-02, 8.14973485e-02, 4.91831380e-01, 4.47800123e-01,\n",
       "       4.46723352e-02, 4.03581417e-01, 5.53530672e-01, 1.02210060e-01,\n",
       "       5.87145266e-01, 3.60460959e-01, 1.85454402e-01, 2.64216531e-01,\n",
       "       4.18565299e-01, 9.84802459e-01, 4.11863152e+00, 3.16727092e-01,\n",
       "       5.78273856e-01, 1.84085444e-01, 1.87790841e+00, 1.75415954e+00,\n",
       "       6.42891665e-02, 2.71930960e-01, 7.81541946e-04, 5.48999672e-01,\n",
       "       2.63477982e+00, 4.95846072e-01, 2.74631065e-03, 3.94659721e-01,\n",
       "       5.60624466e-02, 2.53792710e-02, 1.27671384e-01, 2.88094407e+00,\n",
       "       9.46807151e-02, 1.02283541e+00, 1.44758129e+00, 3.75778688e-01,\n",
       "       3.63376210e-01, 4.17410923e-02, 6.55449458e-02, 3.25531745e-01,\n",
       "       5.93755212e-01, 5.51171677e-01, 5.66289065e-01, 3.80917132e-01,\n",
       "       1.47641392e-01, 2.10713290e-01, 8.52120121e-02, 4.42039863e-02,\n",
       "       8.33603020e-02, 6.80700924e-01, 2.57609122e-02, 7.74830673e-03,\n",
       "       2.60753976e-01, 2.85924510e-02, 5.57990378e-02, 6.95645237e-01,\n",
       "       1.24397787e-01, 1.65797378e-01, 2.81831177e-01, 2.63270148e-01,\n",
       "       1.18048208e+00, 2.81578569e-01, 6.31562080e-01, 7.12077613e-01,\n",
       "       3.92071310e-03, 1.47530135e-01, 3.80532017e-01, 5.25137435e-02,\n",
       "       1.81561984e-01, 1.75150139e-01, 2.87651304e-01, 6.44878841e-02,\n",
       "       1.88119432e-01, 1.80261965e-01, 6.84451812e-01, 3.17436581e-01,\n",
       "       4.11172677e-02, 4.82157278e-01, 7.66763257e-01, 9.98622706e-01,\n",
       "       5.46922233e-02, 3.56955307e-01, 2.58934270e-01, 1.17623463e-01,\n",
       "       7.14809077e-02, 1.17456041e-01, 6.71866470e-02, 7.54112625e-01,\n",
       "       1.97164020e-01, 1.63282004e+00, 6.75729427e-01, 6.99497453e-02,\n",
       "       1.23081932e+00, 1.84784481e-01, 7.51755031e-01, 1.11626875e-01,\n",
       "       5.35086454e-02, 2.52891718e-02, 3.52282690e-03, 1.40383140e+00,\n",
       "       5.43756793e-02, 4.00675584e-01, 3.69540787e-01, 2.13582410e-01,\n",
       "       3.22355335e-01, 8.84939288e-01, 5.49903376e-02, 4.83112430e-01,\n",
       "       1.91067159e-02, 2.37805731e-01, 2.42339598e-02, 6.96248726e-02,\n",
       "       1.19484454e-01, 5.46243020e-01, 1.84450768e+00, 1.10391597e-01,\n",
       "       1.78626958e-02, 4.57329016e-02, 2.04867588e-02, 2.66204572e-01,\n",
       "       2.46051150e+00, 2.37958099e-02, 9.85648841e-02, 3.31288869e+00,\n",
       "       3.91359984e-01, 3.80868981e-02, 9.25683993e-02, 5.77524205e-02,\n",
       "       1.70658724e-01, 1.80937692e-01, 1.86110049e-01, 1.54890775e+00,\n",
       "       3.73342709e-02, 5.04199409e-01, 8.29296923e-02, 3.74578963e-01,\n",
       "       4.18453253e-02, 3.61289621e-01, 6.09868401e-01, 3.38879382e-01,\n",
       "       1.82876275e-02, 2.24611022e+00, 6.06049531e-03, 4.05699290e-01,\n",
       "       5.75764596e-01, 1.05769328e+00, 8.79850431e-02, 1.48456206e+00,\n",
       "       4.22721149e-01, 1.07314871e+00, 5.56817412e-02, 7.23063649e-02,\n",
       "       4.45248665e-01, 3.17536711e-01, 1.60948514e-01, 4.83012106e-01,\n",
       "       1.50510632e+00, 2.78119451e-01, 1.81959460e-01, 1.08330988e-01,\n",
       "       9.03894004e-02, 9.55697344e-02, 5.43495375e-02, 3.59033416e+00,\n",
       "       3.88710160e-02, 1.35125367e-01, 3.61768592e-02, 1.20226345e-01,\n",
       "       6.21972172e-01, 2.04056672e-01, 2.58141178e-03, 1.40519657e+00,\n",
       "       2.40626832e-01, 2.42065346e-01, 4.26394408e-02, 2.63404262e-02,\n",
       "       1.66757586e-01, 3.37323436e-01, 2.60834325e-01, 2.50144729e+00,\n",
       "       5.09276049e-02, 4.54927214e-01, 7.49259957e-03, 2.80344903e-01,\n",
       "       3.15977504e-01, 2.64885922e-02, 7.22365663e-01, 9.48698570e-02,\n",
       "       3.81534971e-02, 1.51203644e+00, 6.40635015e-02, 1.29967491e-01,\n",
       "       2.48715657e-02, 2.76023562e-01, 2.98900523e-01, 3.48689743e-01,\n",
       "       3.16626893e-01, 4.14631282e+00, 3.59375948e-01, 2.15031861e-01,\n",
       "       3.66771743e-02, 7.38318934e-02, 5.11795035e-01, 2.07555182e-01,\n",
       "       8.30713158e-01, 4.52193066e-01, 5.89024652e-01, 6.16506427e-02,\n",
       "       3.33790281e-03, 3.21335136e-01, 3.97034340e-01, 2.97888446e-01,\n",
       "       9.94490163e-01, 2.32254179e+00, 4.21494780e-01, 6.99125053e-02,\n",
       "       1.13148809e+00, 1.83919455e-01, 5.62857828e-01, 1.31452880e-01,\n",
       "       6.99767384e-02, 6.57057386e-01, 3.84784292e-02, 1.63356306e-01,\n",
       "       2.59080089e-02, 1.94216836e-02, 3.38198794e-01, 1.28985320e-01,\n",
       "       8.32731838e-01, 9.31072168e-02, 1.31317433e-02, 3.22090769e-01,\n",
       "       1.36314055e+00, 5.56422273e-03, 2.02841993e-01, 1.23842409e-01,\n",
       "       2.78779044e-01, 4.78976272e-01, 3.29579814e-01, 1.27833556e-01,\n",
       "       1.09350377e-01, 1.90441745e-01, 6.10146478e-01, 4.18042420e-01,\n",
       "       6.86315087e-02, 1.92642912e-01, 9.80541757e-01, 9.96979664e-02,\n",
       "       2.76264089e-02, 3.58130630e-01, 9.01190810e-02, 7.44968544e-01,\n",
       "       1.80206596e-01, 5.36695132e-02, 8.84697562e-01, 2.44079782e-01,\n",
       "       5.03429196e-02, 5.83826728e-01, 5.73590292e-01, 1.25099536e-01,\n",
       "       2.89036664e-01, 6.75108582e-02, 4.35521701e-03, 2.55148802e-02,\n",
       "       4.54510483e-02, 2.97479927e-01, 2.55657632e-02, 5.27086731e-01,\n",
       "       6.38154667e-01, 1.03794074e+00, 3.84575237e-02, 8.74904282e-02,\n",
       "       2.10695835e-01, 9.65986878e-02, 9.63923727e-02, 1.05897547e+00,\n",
       "       5.47308091e-01, 1.86512341e-01, 1.59966750e-01, 5.22842720e-01,\n",
       "       7.83275259e+00, 3.13812197e-01, 1.92804521e-01, 9.86244845e-02,\n",
       "       2.05594880e-01, 4.15362243e-01, 1.03429225e+00, 2.51453185e-02,\n",
       "       4.70561133e-01, 8.95552237e-01, 1.97182163e-01, 7.78678630e-03,\n",
       "       5.19418509e-01, 1.72387254e-01, 2.32095034e-01, 5.71783293e-01,\n",
       "       7.97888316e-03, 2.87491062e-01, 1.52637488e-01, 1.25971853e+00])"
      ]
     },
     "execution_count": 39,
     "metadata": {},
     "output_type": "execute_result"
    }
   ],
   "source": [
    "# Generate a Pareto II/Lomax distribution with shape = 3\n",
    "\n",
    "pareto2_dist = rng.pareto(a = 3, size = 1000)\n",
    "pareto2_dist"
   ]
  },
  {
   "cell_type": "code",
   "execution_count": 40,
   "id": "20e9f701-5be7-4d37-900e-e4d2f5eb5ce9",
   "metadata": {},
   "outputs": [
    {
     "data": {
      "text/plain": [
       "<seaborn.axisgrid.FacetGrid at 0x24658be4c40>"
      ]
     },
     "execution_count": 40,
     "metadata": {},
     "output_type": "execute_result"
    },
    {
     "data": {
      "image/png": "[encoded data removed]",
      "text/plain": [
       "<Figure size 360x360 with 1 Axes>"
      ]
     },
     "metadata": {
      "needs_background": "light"
     },
     "output_type": "display_data"
    }
   ],
   "source": [
    "sns.displot(pareto2_dist, kde=True)"
   ]
  },
  {
   "cell_type": "markdown",
   "id": "8ca71022-2324-4952-b6be-63e422aa8634",
   "metadata": {},
   "source": [
    "The Pareto II/Lomax distribution is a shifted version of the original Pareto distribution. To create values as per the classical Pareto distribution, the values need to be added by 1 and multiplied with a scale parameter mu. "
   ]
  },
  {
   "cell_type": "code",
   "execution_count": null,
   "id": "5d39c6af-68f0-4be7-8e00-9fb4659b320b",
   "metadata": {},
   "outputs": [],
   "source": []
  },
  {
   "cell_type": "code",
   "execution_count": 41,
   "id": "83b62d63-e6cc-4fec-9fe1-33a2be5a2bf5",
   "metadata": {
    "scrolled": true,
    "tags": []
   },
   "outputs": [
    {
     "data": {
      "text/plain": [
       "array([ 2.11572054,  2.36992383,  2.15359817,  2.18954286,  2.31980285,\n",
       "        2.14251113,  2.26419835,  2.76660997,  3.29600696,  2.16730728,\n",
       "        2.42716317,  2.3070775 ,  3.93033086,  2.92208456,  2.23986681,\n",
       "        2.46969483,  3.18282178,  2.71329501,  4.75849428,  3.62644794,\n",
       "        2.31218607,  2.21538254,  2.60885375,  2.30044529,  2.48799472,\n",
       "        2.56445746,  3.15758701,  2.8755739 ,  4.23128767,  2.08147243,\n",
       "        2.04452107,  2.54200934,  5.40423858,  3.08465975,  4.91230319,\n",
       "        2.85152162,  2.30545296,  2.07056207,  3.29031314,  3.30111748,\n",
       "        3.99099064,  2.45114784,  2.24423876,  6.39750368,  3.11743484,\n",
       "        4.07080298,  2.23247377,  3.50338251,  2.32429207,  2.05081466,\n",
       "        2.98447327,  2.56547409,  2.2300547 ,  4.93131903,  4.15236344,\n",
       "        2.45877122,  2.43298027,  4.70151411,  2.16075947,  2.70150132,\n",
       "        3.7540897 ,  4.15378312,  2.08764692,  2.62919265,  3.93709029,\n",
       "        2.05011093,  6.79050648,  2.01193647,  2.3574995 ,  3.65342281,\n",
       "        7.81034877,  2.15999659,  2.03244839,  5.87866764,  3.60258803,\n",
       "        2.26702364,  2.31456897,  2.13395087,  2.55354089,  2.03077443,\n",
       "        3.41531553,  2.01797805,  2.92812115,  5.26001257,  6.51807029,\n",
       "        3.48172145,  2.05102159,  2.72572702,  2.21386846,  2.02152207,\n",
       "        3.06835987,  2.33856719,  5.02401855,  2.00080753,  2.9206259 ,\n",
       "        2.92220931,  2.05163231,  2.54688744,  2.46653237,  6.98385095,\n",
       "        5.55016493,  2.6596004 ,  2.16943387,  4.84519256,  5.33025492,\n",
       "        2.1699544 ,  2.20465669,  2.15391443,  3.07890418,  2.12571031,\n",
       "        2.24608393,  3.86547624,  3.38495663,  3.37355498,  2.01354085,\n",
       "        2.00230642,  2.20513392,  3.11457048,  4.52284151,  2.0220232 ,\n",
       "        3.02613297,  2.62479049,  2.25662033,  9.83758722,  3.67166255,\n",
       "        2.70074161,  2.59484287,  2.73515514,  6.02545821,  2.37355128,\n",
       "        2.93948874,  2.00236568,  2.39912971,  3.50162699,  2.82181397,\n",
       "        5.70673572,  6.73647091,  3.81644963,  2.68536323,  2.27826078,\n",
       "        3.45837482,  4.62110568,  3.27983861,  3.16386141,  2.11095279,\n",
       "        2.314693  ,  2.07911991,  2.6180339 ,  2.25937985,  3.15940147,\n",
       "        2.30512928,  5.2135487 ,  2.33034065,  2.23551384,  2.3566271 ,\n",
       "        2.79341533,  2.99143338,  2.57311309,  2.05826465,  2.27281518,\n",
       "        2.67129289, 13.45158695,  2.33816825,  3.580107  ,  2.08110743,\n",
       "        4.01694064,  2.41529039,  4.36190057,  2.74045527,  2.55101431,\n",
       "        6.60474495,  2.9727911 ,  3.30724373,  2.95832205,  2.03567517,\n",
       "        4.1541808 ,  2.92016139,  2.26073308,  2.12377915,  2.07912978,\n",
       "        2.50871174,  3.76556775,  3.58540672,  2.19279676,  2.93828115,\n",
       "        2.3490119 ,  3.53060135,  2.0998116 ,  4.23792757,  2.20183576,\n",
       "        2.12523062,  3.30867792,  3.69153893,  7.00378839,  4.30574566,\n",
       "        2.09522284,  2.18428844,  2.51181602,  2.77136532,  6.66606056,\n",
       "        2.07840276,  2.15049055,  2.00297708,  3.6715645 ,  2.76260913,\n",
       "        2.27038881,  3.35746419,  2.09584177,  5.56103499,  2.89816768,\n",
       "        7.58636682,  9.41103238,  2.5783577 ,  2.56633472,  3.65002875,\n",
       "        2.10580037,  2.92897882,  7.70457215, 23.66416453,  2.85354176,\n",
       "        3.09617149,  3.39215204,  7.36357111,  4.86616043,  2.01830651,\n",
       "        3.1310335 ,  3.32140073,  4.47986313,  3.93738756,  2.6660075 ,\n",
       "        2.08321781,  2.64929007,  2.23203169,  2.36444703,  5.21008517,\n",
       "        2.54723928,  2.32482941,  4.77663485,  2.25279833,  2.42071677,\n",
       "        2.20122829,  2.43098238,  4.6751374 ,  2.3921241 ,  2.99599907,\n",
       "        2.31644493,  2.31670479,  3.35877168,  3.38625178,  2.99826579,\n",
       "        2.04782484,  2.27117629,  2.87341658,  3.52045319,  2.45220045,\n",
       "        3.71541954,  2.42139065,  2.91298489,  2.12959484,  2.08621163,\n",
       "        4.7110669 ,  2.07022475,  2.08453728,  2.10284232,  3.61030297,\n",
       "        2.17036215,  2.5136787 ,  4.08436506,  2.03200707,  2.05022334,\n",
       "        2.16521744,  5.68773569,  2.08161489,  2.63869367,  3.12968519,\n",
       "        2.78561248,  2.02934226,  3.50842461,  2.06636597,  2.42703885,\n",
       "        2.56024891,  2.58077257,  2.12739233,  2.43249006, 17.27960936,\n",
       "        2.77003552,  2.34155438,  2.09433128,  2.05630968,  3.79558815,\n",
       "        2.43522109,  4.48397792,  2.58229608,  3.11684476,  3.54216748,\n",
       "       17.81692453,  2.52530846,  5.91218063,  3.02962853,  3.64915719,\n",
       "        3.22885373,  2.12787661,  2.01012936,  2.02154526,  3.06281802,\n",
       "        3.39161167,  2.80614425,  2.23846601,  3.2399478 ,  2.797833  ,\n",
       "        2.69045922,  2.56948389,  2.65970321,  2.87842281,  2.16176251,\n",
       "        2.81235811,  4.03499071,  2.1346925 ,  2.12048031,  5.90602572,\n",
       "        3.71136476,  2.00319509,  3.4423027 ,  2.3844504 ,  2.24436706,\n",
       "        4.35566982,  3.52793094,  2.2855658 ,  2.80594273,  2.16232575,\n",
       "        2.82727702,  2.16971686,  2.35056737,  2.09544796, 13.68380402,\n",
       "        2.1813409 ,  2.48932877,  2.39670217,  4.47298285,  2.4134471 ,\n",
       "        5.29651399,  3.22293798,  2.12234026,  3.45420309,  7.61855748,\n",
       "        2.39753151,  2.81593694,  2.37258967,  7.3174283 ,  2.1080736 ,\n",
       "        3.37996012,  3.25042832,  4.88841873,  2.4656168 ,  2.379496  ,\n",
       "        2.51006838,  3.55145359,  2.23898969,  2.18217692,  2.69326932,\n",
       "        2.5994276 ,  2.54590927,  2.31702033,  2.05258079,  3.42231903,\n",
       "        2.19230673,  2.81548203,  2.47687374,  2.21226147,  4.26300382,\n",
       "        3.04297423,  2.11282916,  2.19567262,  2.58697775,  2.53370928,\n",
       "        2.00351264,  2.337752  ,  2.03658662,  4.36434018,  5.19566211,\n",
       "        4.37645405,  3.19655741, 14.73843319,  3.38536372,  2.77945631,\n",
       "        3.4659458 ,  2.48392635,  2.38328404,  2.21073838, 11.28024586,\n",
       "        2.24170976,  2.50533847,  2.76903732,  2.13047609,  2.80878545,\n",
       "        2.35577699,  3.02727903,  2.08849393,  3.57735304,  3.76896143,\n",
       "        2.14467282,  2.69382542,  2.49470558,  2.24991741,  2.31309892,\n",
       "        2.30043913,  4.66556457,  9.33068158,  3.22493989,  2.50471851,\n",
       "        2.05391177,  2.80144415,  2.616577  ,  2.18049867,  2.42613452,\n",
       "        2.28674765,  3.70411767,  2.70206977,  2.04543952,  4.93112573,\n",
       "        2.12583674,  2.63745745,  2.16735231,  2.57693805,  2.94694   ,\n",
       "        2.32792192,  2.80914855,  2.14562237,  2.53084295,  2.80441008,\n",
       "        2.40425649,  2.3819314 ,  7.58243636,  2.47182055,  3.59368974,\n",
       "        2.11999166,  2.45807635,  2.18958375,  2.10137663,  2.46592558,\n",
       "        2.71049439,  2.08843217,  2.78155492,  2.44185439,  2.03039408,\n",
       "        2.31983544,  2.08263003,  2.67080274,  6.39949377,  3.10793003,\n",
       "        6.17773978,  2.47979491,  2.56940261,  3.32777973,  2.27571718,\n",
       "        2.25388152,  2.44516681,  2.1076742 ,  2.61458825,  2.61346672,\n",
       "        2.06395315,  2.30326498,  2.51638076,  2.67969944,  2.68375228,\n",
       "        4.15893853,  2.17585491,  2.16149334,  2.03928508,  2.14809407,\n",
       "        2.69536533,  2.22929309,  2.19575168,  2.64929757,  3.00548838,\n",
       "        2.60985302,  3.12679975,  2.772733  ,  2.17215563,  5.69580719,\n",
       "        4.70723766,  2.13472477,  2.69576884,  2.7461944 ,  2.99192813,\n",
       "        2.43113322,  3.17479344,  2.10157862,  3.00595202,  3.57079827,\n",
       "        3.25951447,  2.12216699,  2.36844507,  2.15619959,  2.77562823,\n",
       "        5.17532397,  2.3282765 ,  3.36686413,  2.90991501,  2.36679206,\n",
       "        5.79026376,  2.31159066,  2.25490068,  2.03072895,  2.71070837,\n",
       "        3.09723028,  9.37425766,  2.91571523,  2.18058781,  2.77527513,\n",
       "        2.03999659,  2.15765489,  5.96083918,  2.76899313,  3.6400938 ,\n",
       "        2.5364602 ,  2.05798637,  5.82521956,  2.0210331 ,  2.13066675,\n",
       "        2.78203845,  2.08067582,  2.35115827,  2.39610107,  2.2882455 ,\n",
       "        8.31112346,  2.12558764,  2.31694129,  2.9863828 ,  2.0438852 ,\n",
       "        2.37001159,  2.55769516,  2.0728988 ,  2.7363468 ,  2.77433447,\n",
       "        6.43890513,  2.07932649,  2.17566026,  2.11211377,  2.21549612,\n",
       "        2.05618916,  2.11971986,  3.81155154,  2.95610337,  2.06387457,\n",
       "        2.16897719,  2.31994221,  2.3660964 ,  2.10137872,  2.82182217,\n",
       "        2.68451674,  4.62029791,  2.18820189,  2.04897873,  2.16740819,\n",
       "        2.56610561,  2.6331578 ,  3.90968359,  2.22948056,  2.32092215,\n",
       "        3.38753526,  2.10963147,  3.02315905,  2.44236815,  2.12473397,\n",
       "        2.3403967 ,  2.17672964,  2.43511369,  4.7815315 ,  2.57382781,\n",
       "        2.09044948,  2.60919775,  2.71517183,  2.3784182 ,  2.23005032,\n",
       "        2.24748085,  2.12776735,  2.234552  ,  7.14801348,  2.83178825,\n",
       "        2.55508743,  2.03825435,  4.22010001,  3.81301267,  2.18539125,\n",
       "        2.00795782,  2.5091411 ,  4.2437779 ,  2.58572202,  2.62334136,\n",
       "        2.02099746,  3.19380942,  2.0478277 ,  2.5371051 ,  2.24474103,\n",
       "        3.62584918,  2.21761755,  2.06442709,  2.68106983,  3.08328912,\n",
       "        2.13519371,  2.10034031,  2.46752063,  2.35980238,  2.249557  ,\n",
       "        2.78183877,  2.40440769,  2.23564086,  2.0553825 ,  5.91181891,\n",
       "        3.42076657,  4.24558997,  2.29529567,  4.80207117,  2.06104624,\n",
       "        2.23632429,  2.39789245,  3.30072769,  2.25395879,  2.19939861,\n",
       "        2.10782066,  2.3821151 ,  2.08955168,  3.57103509,  2.09844842,\n",
       "        2.73436291,  2.34039404,  2.18838574,  2.47911142,  2.14898229,\n",
       "        2.56950434,  2.23471221,  2.75070573,  3.31278606,  2.31115434,\n",
       "        2.54167367,  2.35993124,  2.03723155,  2.02765519,  3.54038537,\n",
       "        2.59966639,  2.00983793,  2.14230116,  8.67524258,  3.19732198,\n",
       "        3.42852288,  6.98459802,  4.72495481,  2.12115173,  2.34260249,\n",
       "        3.11176245,  2.01756961,  2.35020283,  2.1162615 ,  2.73168929,\n",
       "        2.04094773,  4.6939135 ,  2.13522777,  5.19106214,  2.35454677,\n",
       "        2.3800565 ,  2.22160858,  2.40144319,  2.03358153,  2.30996931,\n",
       "        3.29899443,  4.79205187,  5.79366233,  2.02265434,  2.15041658,\n",
       "        2.19359751,  2.43414929,  3.08678906,  2.69829012,  2.31496903,\n",
       "        4.74790921,  2.06546936,  2.12889168,  2.49602477,  2.18647236,\n",
       "        2.98951814,  3.37653236,  3.22783604,  2.19983867,  2.74714365,\n",
       "        3.25012337,  2.73463578,  2.6052569 ,  3.13975401,  2.07722161,\n",
       "        2.06418162,  6.50143103,  2.22664581,  2.15781947,  2.62239593,\n",
       "        2.33227862,  4.80061194,  2.14576337,  2.10074153,  7.3493437 ,\n",
       "        4.48127253,  2.02097866,  2.32563266,  2.44735706,  2.73060266,\n",
       "        3.41672768,  4.2622601 ,  3.01350706,  2.46176547,  2.06948638,\n",
       "       10.34118247,  2.12947766,  2.64723546,  2.26654498,  2.41612796,\n",
       "        4.13211329,  2.10781239,  3.19584371,  2.7508898 ,  2.58895523,\n",
       "        2.38605408,  4.37711545,  2.09186141,  4.74427003,  5.08590347,\n",
       "        2.83065222,  2.21655895,  2.56593419,  2.33754582,  7.3810197 ,\n",
       "        2.49202858,  4.52619726,  2.33328724,  2.14480114,  3.35334651,\n",
       "        2.53780738,  2.25100451,  2.18733229,  3.6995883 ,  2.67123265,\n",
       "        2.70081958,  2.1314737 ,  2.25345579,  3.3061417 ,  2.25506661,\n",
       "        2.14140199,  2.03778165,  2.200142  ,  2.39633354,  3.67775543,\n",
       "        2.8402261 ,  2.13893091,  2.85339694,  2.68534006,  2.77814468,\n",
       "        3.66129845,  2.1669724 ,  2.1666332 ,  3.83330904,  2.11164477,\n",
       "        2.48713575,  2.64022523,  3.70726156,  4.26011765,  2.73724264,\n",
       "        2.14652631,  5.09123187,  2.13808898,  3.944514  ,  2.21435323,\n",
       "        2.23370255,  3.595037  ,  3.08888978,  3.38761799,  2.24354042,\n",
       "        3.36182237,  2.7270994 ,  4.65415198,  2.16754737,  4.86482419,\n",
       "        2.26294571,  2.51690672,  2.6549945 ,  6.24859533,  2.02098245,\n",
       "        2.78965986,  3.24606982,  3.81993259,  3.4931931 ,  2.25834351,\n",
       "        2.67259761,  2.33215233,  3.68397329,  3.0964058 ,  2.09550031,\n",
       "        3.45706332,  2.12928183,  2.35881333,  3.82581796,  2.15063276,\n",
       "        2.50704865,  2.10668985,  2.50653516,  2.20934937,  2.67659082,\n",
       "        2.73821878,  2.55461162,  2.47896146,  2.61470319,  3.42404436,\n",
       "        3.03597566,  3.76209996,  6.89539462,  2.859397  ,  2.09925061,\n",
       "        2.00455816,  2.67258707,  3.07187649,  2.83230439,  2.77126074,\n",
       "        2.20892793,  3.92664507,  2.64690241,  2.92514286,  2.28232205,\n",
       "        2.40480644,  2.01038628,  2.31956593,  2.56741233,  2.30800936,\n",
       "        2.28447865,  2.93320653,  5.28737599,  2.68520298,  2.28190243,\n",
       "        2.13322796,  2.87818594,  3.13048414,  3.00046655,  2.51174592,\n",
       "        2.05399555,  8.00812119,  2.87740351,  2.37501286,  2.02289553,\n",
       "        2.20281212,  2.73339482,  3.73731281,  2.81859088,  2.57718789,\n",
       "        2.30960173,  2.44672965,  2.70445825,  2.02248186,  2.21446628,\n",
       "        5.3630008 ,  2.44617028,  2.79185742,  2.34216489, 16.57163553,\n",
       "        4.40149989,  3.9262232 ,  2.64218862,  2.13304538,  2.66460906,\n",
       "        6.27431009,  3.28907486,  2.5546809 ,  2.25312726,  5.88172543,\n",
       "        2.93245068,  2.73826857,  5.01175929,  2.13180674,  2.39088065,\n",
       "        2.15357376,  2.1470464 ,  2.2460939 ,  2.62554776,  2.25267986,\n",
       "        2.62578913,  2.38009277,  2.32511205,  2.30589769,  3.3968398 ,\n",
       "        2.25120358,  2.44913943,  2.55102819,  2.01252004,  2.23267662,\n",
       "        2.38352505,  2.16337032,  2.52971272,  2.65887573,  2.96779913,\n",
       "        2.17844987,  3.23443202,  3.82897575,  2.37612156,  2.1323533 ,\n",
       "        2.45404656,  2.75432154,  2.93958682,  3.88417393,  2.30116152,\n",
       "        3.5598545 ,  2.04084155,  3.03995479,  3.36555627,  2.64181746,\n",
       "        2.02231124,  7.43007345,  2.86506421,  2.00105279,  3.48374452,\n",
       "        3.52879425,  2.76403661,  3.289716  ,  3.49536918,  3.80393042,\n",
       "        3.83734375,  2.06947914,  2.14149703,  4.09583336,  2.12048518,\n",
       "        2.22068539,  2.07710252,  2.13971364,  2.00466545,  2.24991481,\n",
       "        2.44413233,  2.75630395,  3.3119613 ,  3.60946874,  3.195692  ,\n",
       "        2.36535415,  3.95247629,  2.03931035,  2.11877458,  2.55112645,\n",
       "        3.08225491,  2.88800552,  2.30086485,  2.21720145,  2.08164522,\n",
       "        6.98734584,  2.18643098,  2.50956473,  3.9955504 ,  2.06055183,\n",
       "        2.78856764,  2.48345819,  2.55352068,  2.72413797,  3.61828619,\n",
       "        3.17640779,  3.21596401,  3.01572918,  9.31842777,  2.2997697 ,\n",
       "        2.21688275,  2.60024894,  2.64598037,  3.53971526,  4.05893596,\n",
       "        2.27920012,  2.92675861,  2.52530427,  4.82400062,  2.30279296,\n",
       "        3.92095495,  4.90731081,  2.01238475,  3.13875035,  2.66026117,\n",
       "        3.548738  ,  2.03864004,  2.01180197,  2.02112135,  2.08123197,\n",
       "        2.66380275,  2.16159433,  3.14690176, 11.23592249,  3.38460397,\n",
       "        2.09762656,  2.81390069,  2.46949986,  4.09420929,  2.25560316,\n",
       "        2.66988805,  2.14113628,  2.03878846,  2.75766402,  2.27977646,\n",
       "        3.24546036,  2.94466578,  2.51603724,  2.60764918,  2.30541468])"
      ]
     },
     "execution_count": 41,
     "metadata": {},
     "output_type": "execute_result"
    }
   ],
   "source": [
    "# Generate a Pareto distribution with shape = 3 and scale = 2\n",
    "\n",
    "pareto_dist = (rng.pareto(a = 3, size = 1000) + 1) * 2\n",
    "pareto_dist"
   ]
  },
  {
   "cell_type": "code",
   "execution_count": 42,
   "id": "642770ab-32cf-46fd-b04a-e0c9adb81b57",
   "metadata": {},
   "outputs": [
    {
     "data": {
      "text/plain": [
       "<seaborn.axisgrid.FacetGrid at 0x24658d8e820>"
      ]
     },
     "execution_count": 42,
     "metadata": {},
     "output_type": "execute_result"
    },
    {
     "data": {
      "image/png": "[encoded data removed]",
      "text/plain": [
       "<Figure size 360x360 with 1 Axes>"
      ]
     },
     "metadata": {
      "needs_background": "light"
     },
     "output_type": "display_data"
    }
   ],
   "source": [
    "sns.displot(pareto_dist, kde=True)"
   ]
  },
  {
   "cell_type": "code",
   "execution_count": null,
   "id": "5ab36395-8b59-4b05-826e-4041aa0e216e",
   "metadata": {
    "scrolled": true,
    "tags": []
   },
   "outputs": [],
   "source": []
  },
  {
   "cell_type": "code",
   "execution_count": null,
   "id": "8add235a-d606-4fcf-8159-0b47f070a00a",
   "metadata": {},
   "outputs": [],
   "source": []
  },
  {
   "cell_type": "code",
   "execution_count": null,
   "id": "0fd1a222-62b4-4887-ae6c-f5249f1437e3",
   "metadata": {},
   "outputs": [],
   "source": []
  },
  {
   "cell_type": "markdown",
   "id": "16315562-8226-4d6f-9f5c-1140feb4e5f5",
   "metadata": {},
   "source": [
    "<br>\n",
    "\n",
    "## **4. Explain the use of seeds in generating pseudorandom numbers.**"
   ]
  },
  {
   "cell_type": "markdown",
   "id": "7cd4afee-e01b-4e8c-8171-63e2eb66ca67",
   "metadata": {},
   "source": [
    "As described in the first section, numpy.random generates pseudo-random numbers which always follow the same sequence. The reason why different numbers are returned whenever a random generator is run is that it starts at a different point of that sequence. This start point is called the seed, and if not defined by the user, numpy.random sets it based on a value derived from the computers operating system.  \n",
    "\n",
    "\n",
    "https://numpy.org/doc/stable/reference/random/index.html (20/11/2021)\n"
   ]
  },
  {
   "cell_type": "markdown",
   "id": "da933c4c-d0d6-4600-9d37-e5149f469f57",
   "metadata": {},
   "source": [
    "<br>\n",
    "\n",
    "### **4.1 - Bitgenerator and Generator**\n",
    "\n",
    "numpy.random generates the numbers using a combination of a bitgenerator and a generator. \n",
    "\n",
    "The Bitgenerator creates sequences of random numbers. The generator then transforms the objects created by the bit generator into numbers that follow a certain distribution as defined by the user. If no seed is specified, an unpredictable value will be set by using data of the operating system. \n",
    "\n",
    "\n",
    "https://numpy.org/doc/stable/reference/random/generator.html#numpy.random.Generator (20/11/2021)\n",
    "https://numpy.org/doc/stable/reference/random/bit_generators/generated/numpy.random.BitGenerator.html#numpy.random.BitGenerator (20/11/2021)"
   ]
  },
  {
   "cell_type": "markdown",
   "id": "7aaa7717-a819-4bb6-965f-db8fb70731d3",
   "metadata": {},
   "source": [
    "<br>\n",
    "\n",
    "### **4.2 - Seeding the Random Number Generator**\n",
    "Some data simulations may require using the same randomly generated data. To achieve this, the seed can be set by the user. Setting the seed to a certain value will result in receiving the same output of random numbers, making the \"random\" numbers actually reproducible. "
   ]
  },
  {
   "cell_type": "code",
   "execution_count": 43,
   "id": "9eecf250-50a8-413d-95a1-f03f03b42aa8",
   "metadata": {},
   "outputs": [
    {
     "data": {
      "text/plain": [
       "array([55, 37, 98, 45, 79], dtype=int64)"
      ]
     },
     "execution_count": 43,
     "metadata": {},
     "output_type": "execute_result"
    }
   ],
   "source": [
    "# Example 1: Generate 5 integers between 1 and 100 without defining a seed\n",
    "test_rng=np.random.default_rng()\n",
    "test_rng.integers(1, 101, 5)"
   ]
  },
  {
   "cell_type": "code",
   "execution_count": 44,
   "id": "2bf1ce5b-3100-4367-81a6-ed83c6db8424",
   "metadata": {},
   "outputs": [
    {
     "data": {
      "text/plain": [
       "array([80, 55,  8, 99, 45], dtype=int64)"
      ]
     },
     "execution_count": 44,
     "metadata": {},
     "output_type": "execute_result"
    }
   ],
   "source": [
    "# When repeating the above, the results will likely be different as the seed has been re-set by the random number generator\n",
    "new_test_rng=np.random.default_rng()\n",
    "new_test_rng.integers(1, 101, 5)"
   ]
  },
  {
   "cell_type": "markdown",
   "id": "d9d2c183-6cc3-4364-a8b0-e61eec1b78c9",
   "metadata": {},
   "source": [
    "<br>\n",
    "\n",
    "When adding a seed parameter, the output of the same function becomes reproducible. "
   ]
  },
  {
   "cell_type": "code",
   "execution_count": 45,
   "id": "b4d0766e-c936-4164-91b3-9609f244b7b6",
   "metadata": {},
   "outputs": [
    {
     "data": {
      "text/plain": [
       "array([68, 81,  3, 81, 47], dtype=int64)"
      ]
     },
     "execution_count": 45,
     "metadata": {},
     "output_type": "execute_result"
    }
   ],
   "source": [
    "# Generate 5 integers between 1 and 10 but this time determine the seed\n",
    "seeded_rng = np.random.default_rng(seed=5)\n",
    "seeded_rng.integers(1,101,5)"
   ]
  },
  {
   "cell_type": "code",
   "execution_count": 46,
   "id": "5864faec-787d-402d-a5d4-5cfba320ce6c",
   "metadata": {},
   "outputs": [
    {
     "data": {
      "text/plain": [
       "array([68, 81,  3, 81, 47], dtype=int64)"
      ]
     },
     "execution_count": 46,
     "metadata": {},
     "output_type": "execute_result"
    }
   ],
   "source": [
    "# Repeat the above, oputput is the same\n",
    "new_seeded_rng = np.random.default_rng(seed=5)\n",
    "new_seeded_rng.integers(1,101,5)"
   ]
  },
  {
   "cell_type": "markdown",
   "id": "8d6a79e5-f942-462c-8f4c-6e7d5e43ee14",
   "metadata": {},
   "source": [
    "https://www.sharpsightlabs.com/blog/numpy-random-seed/ (20/11/2021)"
   ]
  },
  {
   "cell_type": "markdown",
   "id": "a3c7ea93-b4cb-48ee-8908-040444d97254",
   "metadata": {},
   "source": [
    "<br>\n",
    "\n",
    "### **4.3 - PCG64 - numpy.random's BitGenerator Algorithm**\n",
    "\n",
    "The standard bitgenerator used by numpy.random is based on the Permuted Congruential Generator 64-bit (PCG64) algorithm. It was implemented into numpy.random since version 1.19 and is based on O'Neill's \"Permutation Congruential Generator\".\n",
    "\n",
    "PCG64 was developed to achieve among other factors \"good statistical properties, [...] lack of predictability, cryptographic security, good time and space performance, small code size\" (O'Neill, p4). It combines the fast speed and space efficiency of linear congruential generator and adds permutation to achieve\n",
    "\n",
    "PCG64 replaced the previous bitGenerator algorithm MT19937 (Mersenne Twister). \n",
    "\n",
    "In direct comparison PCG64 outperforms MT19937 on a number of factors. \n",
    "\n",
    "| PCG64                           | MT19937                             |\n",
    "|---------------------------------|-------------------------------------|\n",
    "| High prediction difficulty      | Easy prediction                     |\n",
    "| Excellent statistical quality   | Some failures at statistical tests  |\n",
    "| Very fast time performance      | Acceptable time performance         |\n",
    "| Compact space usage             | Huge (2KB)                          |\n",
    "| Small code size and complexity  | Complex Code                        |\n",
    "\n",
    "\n",
    "Source: https://www.pcg-random.org/\n",
    "\n",
    "\n",
    "\n",
    "\n",
    "https://www.ibm.com/docs/en/aix/7.1?topic=types-signed-unsigned-integers (20/11/2021)\n",
    "https://numpy.org/doc/stable/reference/random/bit_generators/pcg64.html (20/11/2021)\n",
    "\n",
    "https://www.pcg-random.org/ (20/11/2021)\n",
    "https://numpy.org/doc/stable/reference/random/bit_generators/mt19937.html#numpy.random.MT19937"
   ]
  },
  {
   "cell_type": "markdown",
   "id": "093ddc16-36b8-423f-a3d4-21ce13ca8ea7",
   "metadata": {},
   "source": []
  },
  {
   "cell_type": "code",
   "execution_count": null,
   "id": "c04ca20f-3b5a-442c-9941-21ff6e230e64",
   "metadata": {},
   "outputs": [],
   "source": []
  },
  {
   "cell_type": "code",
   "execution_count": 47,
   "id": "1498be4e-da45-4295-aed1-0279288b6851",
   "metadata": {},
   "outputs": [
    {
     "name": "stdout",
     "output_type": "stream",
     "text": [
      "All cells running ok\n"
     ]
    }
   ],
   "source": [
    "# Debug check that all cells are running\n",
    "print('All cells running ok')"
   ]
  },
  {
   "cell_type": "markdown",
   "id": "258b0570-39d3-462c-b02e-53203389385b",
   "metadata": {},
   "source": [
    "## References Used"
   ]
  },
  {
   "cell_type": "code",
   "execution_count": null,
   "id": "a050ad53-5514-43df-acbb-0dbb0b26c5c2",
   "metadata": {},
   "outputs": [],
   "source": []
  }
 ],
 "metadata": {
  "kernelspec": {
   "display_name": "Python 3",
   "language": "python",
   "name": "python3"
  },
  "language_info": {
   "codemirror_mode": {
    "name": "ipython",
    "version": 3
   },
   "file_extension": ".py",
   "mimetype": "text/x-python",
   "name": "python",
   "nbconvert_exporter": "python",
   "pygments_lexer": "ipython3",
   "version": "3.8.8"
  }
 },
 "nbformat": 4,
 "nbformat_minor": 5
}
