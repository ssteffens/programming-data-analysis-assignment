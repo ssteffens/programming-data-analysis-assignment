{
 "cells": [
  {
   "cell_type": "markdown",
   "id": "ca747803-6241-4530-9a01-15d8eba91b1a",
   "metadata": {},
   "source": [
    "# Programming for Data Analysis 2021 - Assignment"
   ]
  },
  {
   "cell_type": "markdown",
   "id": "8a1ccc16-20ad-4989-a357-72178e9200ba",
   "metadata": {},
   "source": [
    "## 1. Explain the overall purpose of the numpy.random package."
   ]
  },
  {
   "cell_type": "markdown",
   "id": "933bc638-8079-4fb6-a01f-fa75799805a2",
   "metadata": {},
   "source": [
    "NumPy (short for Numerical Python) is a Python library which is used for dealing with arrays of numerical values. \n",
    "Arrays can be 0-, 1- or multi-dimensional (matrices). \n",
    "All elements of an array need to be of the same data type. \n",
    "\n",
    "To be able to use it, needs to be imported. It is commonly imported as np. "
   ]
  },
  {
   "cell_type": "code",
   "execution_count": 1,
   "id": "d36c8ef6-96ba-4bb3-8293-bf186b98e1c1",
   "metadata": {},
   "outputs": [],
   "source": [
    "import numpy as np"
   ]
  },
  {
   "cell_type": "markdown",
   "id": "e327de91-9ddd-4ad7-b24b-318233c69730",
   "metadata": {},
   "source": [
    "numpy.random is a module within the NumPy library enabling users to generate and work with random numbers.\n",
    "Pseudo-random numbers: generated through a generation algorithm which is not truly random.\n",
    "Truly random numbers can be generated using random data from an outside source which could be mouse movements, time stamps, etc. \n",
    "\n"
   ]
  },
  {
   "cell_type": "code",
   "execution_count": 2,
   "id": "3a0e9542-7ab0-43b1-91b1-09a252ba6c9e",
   "metadata": {},
   "outputs": [
    {
     "data": {
      "text/plain": [
       "0.5693784002033353"
      ]
     },
     "execution_count": 2,
     "metadata": {},
     "output_type": "execute_result"
    }
   ],
   "source": [
    "# To be able to use the random module, it needs to be imported:\n",
    "from numpy import random\n",
    "x = random.rand()\n",
    "x"
   ]
  },
  {
   "cell_type": "markdown",
   "id": "c148e38e-3271-47fa-b823-bdbe42c0942e",
   "metadata": {},
   "source": [
    "BitGenerators - Create sequences of random numbers\n",
    "Generators - use the created sequences to sample from different statistical distributions"
   ]
  },
  {
   "cell_type": "code",
   "execution_count": 3,
   "id": "1025e690-8e04-40af-a754-a5537793735b",
   "metadata": {},
   "outputs": [
    {
     "data": {
      "text/plain": [
       "array([2, 9, 3, 6, 6, 7, 1, 0, 5, 6, 4, 8, 8, 2, 1, 8, 5, 2, 0, 4],\n",
       "      dtype=int64)"
      ]
     },
     "execution_count": 3,
     "metadata": {},
     "output_type": "execute_result"
    }
   ],
   "source": [
    "# rng = random number generator\n",
    "from numpy.random import default_rng\n",
    "rng = default_rng()\n",
    "# Return 20 random integers from 0 to 10 (exclusive)\n",
    "vals = rng.integers(10, size=20)\n",
    "vals"
   ]
  },
  {
   "cell_type": "code",
   "execution_count": 4,
   "id": "49cc56b2-b84a-4420-828c-0a1e0cf97e5e",
   "metadata": {},
   "outputs": [
    {
     "data": {
      "text/plain": [
       "array([0.45921558, 0.49264247, 0.03123534, 0.02662885, 0.07290101,\n",
       "       0.26467423, 0.67105071, 0.70524751, 0.99219408, 0.15352284])"
      ]
     },
     "execution_count": 4,
     "metadata": {},
     "output_type": "execute_result"
    }
   ],
   "source": [
    "# Return random float point number between 0.0 and 1.0\n",
    "rng = np.random.default_rng()\n",
    "rng.random(size=10)"
   ]
  },
  {
   "cell_type": "code",
   "execution_count": 5,
   "id": "d1de7b48-7928-4094-9001-8bdaf28fc95c",
   "metadata": {},
   "outputs": [
    {
     "data": {
      "text/plain": [
       "b'\\xb5C\\x81\\xda%\\xa3\\xf2i\\x9d\\xef'"
      ]
     },
     "execution_count": 5,
     "metadata": {},
     "output_type": "execute_result"
    }
   ],
   "source": [
    "np.random.default_rng().bytes(10)"
   ]
  },
  {
   "cell_type": "code",
   "execution_count": null,
   "id": "4fb88e0d-b912-488b-a2c4-4151cd96d983",
   "metadata": {},
   "outputs": [],
   "source": []
  },
  {
   "cell_type": "markdown",
   "id": "faedcd1b-7aa1-455d-bbd6-9f7bd38b8f13",
   "metadata": {},
   "source": [
    "References:\n",
    "\n",
    "https://www.w3schools.com/python/numpy/numpy_random.asp (30/10/2021)\n",
    "\n",
    "Numpy v.1.21 Manual https://numpy.org/doc/stable/ (30/10/2021)\n",
    "\n",
    "Random sampling (numpy.random) https://numpy.org/doc/stable/reference/random/index.html# (30/10/2021)"
   ]
  },
  {
   "cell_type": "markdown",
   "id": "6ac92937-7622-4ac6-ab5c-090f5f25f1ac",
   "metadata": {},
   "source": [
    "## 2. Explain the use of the “Simple random data” and “Permutations” functions."
   ]
  },
  {
   "cell_type": "markdown",
   "id": "b50d84a8-b410-4a67-bcb2-ac91e36a7f03",
   "metadata": {},
   "source": [
    "Permutations: https://numpy.org/doc/stable/reference/random/generated/numpy.random.Generator.permutation.html"
   ]
  },
  {
   "cell_type": "markdown",
   "id": "13d999c0-127f-4bc5-9383-384f5d921fe5",
   "metadata": {},
   "source": [
    "Simple random data: Return integers, floats, a random sample from a given array or bytes\n",
    "<br>\n",
    "Permutations: Modifies an array or sequence already in place by shuffling or permuting the sequence"
   ]
  },
  {
   "cell_type": "markdown",
   "id": "e5866a16-9e74-4ebb-bae2-12076132f484",
   "metadata": {},
   "source": [
    "### **2.1 Simple Random Data**\n",
    "A number of functions can be used to generate simple random data, for example single or several numbers."
   ]
  },
  {
   "cell_type": "markdown",
   "id": "5631856a-6be4-43d2-a1c8-eece16773938",
   "metadata": {},
   "source": [
    "#### **2.1.1 Generating Random Integers**\n",
    "Using the rng.integers() function to create random integers. "
   ]
  },
  {
   "cell_type": "code",
   "execution_count": 10,
   "id": "6a48cadc-c486-4185-a690-6ee2b377bc4c",
   "metadata": {},
   "outputs": [
    {
     "data": {
      "text/plain": [
       "4"
      ]
     },
     "execution_count": 10,
     "metadata": {},
     "output_type": "execute_result"
    }
   ],
   "source": [
    "# To create random integers: \n",
    "# rng = random number generator\n",
    "from numpy.random import default_rng\n",
    "rng = default_rng()\n",
    "\n",
    "# To return 1 random integer from 0 to 5 (exclusive)\n",
    "vals = rng.integers(5)\n",
    "vals"
   ]
  },
  {
   "cell_type": "markdown",
   "id": "681a6789-3e7d-473b-94a9-ab8735384bb0",
   "metadata": {},
   "source": [
    "The rng.integers() function can take a number of parameters to define\n",
    "- The range from which integers can be drawn (low, high)\n",
    "- The number of random integers to be drawn (size)\n",
    "- Data type of results\n",
    "- Endpoint = True sets the high value to be inclusive of the entered value\n",
    "\n",
    "https://numpy.org/doc/stable/reference/random/generated/numpy.random.Generator.integers.html (13/11/2021)\n",
    "\n"
   ]
  },
  {
   "cell_type": "code",
   "execution_count": 26,
   "id": "eea0adb7-b4ee-4bb5-a0de-6b22926299ed",
   "metadata": {},
   "outputs": [
    {
     "data": {
      "text/plain": [
       "array([19, 13, 15, 15, 16], dtype=int64)"
      ]
     },
     "execution_count": 26,
     "metadata": {},
     "output_type": "execute_result"
    }
   ],
   "source": [
    "# Example: Generate an array of 5 integers between 10 (inclusive) and 20 (exclusive)\n",
    "rng = np.random.default_rng()\n",
    "rng.integers(10, 20, 5)"
   ]
  },
  {
   "cell_type": "markdown",
   "id": "0c7253fb-87db-4c05-ae81-779fc7f1bd13",
   "metadata": {},
   "source": [
    "#### **2.1.2 Generating Random Float Numbers**\n",
    "\n",
    "The rng.random() function can be used to create float point numbers between 0 and 1 (exclusive).\n"
   ]
  },
  {
   "cell_type": "code",
   "execution_count": 24,
   "id": "f2a01847-4439-49fb-9b1f-4901ac56dcdd",
   "metadata": {},
   "outputs": [
    {
     "data": {
      "text/plain": [
       "0.12533751747499688"
      ]
     },
     "execution_count": 24,
     "metadata": {},
     "output_type": "execute_result"
    }
   ],
   "source": [
    "# Exapmle: Creating a float point number\n",
    "fnumber = rng.random()\n",
    "fnumber"
   ]
  },
  {
   "cell_type": "markdown",
   "id": "09792b18-0ebe-46b7-98cc-1d18c4a1a9e5",
   "metadata": {},
   "source": [
    "Similar to creating integers, additional parameters canbe added to further define the output: \n",
    "- The number of random float numbers to be drawn (size)\n",
    "- Data type (float64 or float32)\n",
    "- An alternative output array\n",
    "\n",
    "https://numpy.org/doc/stable/reference/random/generated/numpy.random.Generator.random.html#numpy.random.Generator.random (13/11/2021)"
   ]
  },
  {
   "cell_type": "code",
   "execution_count": 25,
   "id": "84101c36-6ed4-4a29-a994-24dec51f4612",
   "metadata": {},
   "outputs": [
    {
     "data": {
      "text/plain": [
       "array([0.20094955, 0.09716152, 0.85312873, 0.48581303, 0.39000584])"
      ]
     },
     "execution_count": 25,
     "metadata": {},
     "output_type": "execute_result"
    }
   ],
   "source": [
    "# Example for creating an array of 5 float point numbers\n",
    "fnumbers = rng.random(5)\n",
    "fnumbers"
   ]
  },
  {
   "cell_type": "markdown",
   "id": "76fdda62-791a-43ec-bd2e-8500ff0f7fea",
   "metadata": {},
   "source": [
    "#### **2.1.3 Generating n-dimensional Arrays of Random Numbers**\n",
    "\n",
    "Both rng.integers() and rng.random() can be used to create n-dimensional arrays of random numbers. \n",
    "\n",
    "--> need more details and example\n"
   ]
  },
  {
   "cell_type": "markdown",
   "id": "e2774df6-1987-4e29-86e0-62097ad15e36",
   "metadata": {},
   "source": [
    "#### **2.1.4 Selecting Random Numbers from a Predefined Array**\n",
    "\n",
    "The rng.choice() function can be used to generate a random sample from a given array. \n",
    "\n",
    "https://numpy.org/doc/stable/reference/random/generated/numpy.random.Generator.choice.html#numpy.random.Generator.choice (13/11/2021)"
   ]
  },
  {
   "cell_type": "code",
   "execution_count": 31,
   "id": "a701b26e-ff77-4485-a6b0-6cb8904baf79",
   "metadata": {},
   "outputs": [
    {
     "data": {
      "text/plain": [
       "array([3, 1, 2])"
      ]
     },
     "execution_count": 31,
     "metadata": {},
     "output_type": "execute_result"
    }
   ],
   "source": [
    "# Example: Select 3 integers from an array of [1, 2, 3, 4, 5]\n",
    "rng.choice([1,2,3,4,5], 3)"
   ]
  },
  {
   "cell_type": "markdown",
   "id": "a5a88eb3-4fd2-4a59-9d33-f20759fe2b2f",
   "metadata": {},
   "source": [
    "An important aspect of random number generation is the distribution of data. The rng.choice() function can be used to define the probability of random numbers being selected by assigning probability values. "
   ]
  },
  {
   "cell_type": "code",
   "execution_count": 33,
   "id": "66ba29c2-6a9a-4ff8-9ba0-b51cc2455db4",
   "metadata": {},
   "outputs": [
    {
     "data": {
      "text/plain": [
       "array([2, 3, 1, 1, 1, 3, 2, 1, 2, 4])"
      ]
     },
     "execution_count": 33,
     "metadata": {},
     "output_type": "execute_result"
    }
   ],
   "source": [
    "# Example: Select 10 integers from an array of [1, 2, 3, 4, 5]. The probability of selecting 1, 2 and 3 is set to 0.3, \n",
    "# the probaility of selecting 4 is set to 0.1 and the probablility of selecting 5 is set to 0:\n",
    "\n",
    "ch = rng.choice([1,2,3,4,5], 10, p=(0.3, 0.3, 0.3, 0.1, 0))\n",
    "ch"
   ]
  },
  {
   "cell_type": "code",
   "execution_count": null,
   "id": "99e4a617-dd9f-4b7e-b036-67461126ed83",
   "metadata": {},
   "outputs": [],
   "source": []
  },
  {
   "cell_type": "markdown",
   "id": "57ffaf61-b047-4774-b246-fd2476b915bc",
   "metadata": {},
   "source": [
    "### **2.2 Permutations**"
   ]
  },
  {
   "cell_type": "markdown",
   "id": "961d847a-4bf3-4e88-8ca2-c1583a11bd6d",
   "metadata": {},
   "source": [
    "Random permuations can be used to re-arrange elements within a given array, for example by changing the order of [1, 2, 3] to [3, 2, 1].\n",
    "The numpy.random package offers 3 methods for changing the order of array elements: \n",
    "- shuffle()\n",
    "- permutation()\n",
    "- permuted()"
   ]
  },
  {
   "cell_type": "markdown",
   "id": "d4500e25-3204-4d36-8576-6d846d400882",
   "metadata": {},
   "source": [
    "#### **2.2.1 Re-shuffling an Array**\n",
    "The shuffle() function changes the original array by re-arranging its elements. \n",
    "\n",
    "https://numpy.org/doc/stable/reference/random/generated/numpy.random.Generator.shuffle.html#numpy.random.Generator.shuffle (13/11/2021)"
   ]
  },
  {
   "cell_type": "code",
   "execution_count": 35,
   "id": "92d000cb-11d3-466a-bcd8-cd69694b9fbd",
   "metadata": {},
   "outputs": [
    {
     "data": {
      "text/plain": [
       "[2, 4, 3, 1, 5]"
      ]
     },
     "execution_count": 35,
     "metadata": {},
     "output_type": "execute_result"
    }
   ],
   "source": [
    "# Example: \n",
    "arr = [1,2,3,4,5]\n",
    "\n",
    "rng.shuffle(arr)\n",
    "arr"
   ]
  },
  {
   "cell_type": "code",
   "execution_count": null,
   "id": "7989484a-0479-43e3-bc03-1b9deddc3c98",
   "metadata": {},
   "outputs": [],
   "source": []
  },
  {
   "cell_type": "code",
   "execution_count": null,
   "id": "fdfa52f6-666d-41ac-a563-0d15386120c6",
   "metadata": {},
   "outputs": [],
   "source": []
  },
  {
   "cell_type": "code",
   "execution_count": null,
   "id": "808b8e21-4cce-4a15-8944-7ea2cdf30186",
   "metadata": {},
   "outputs": [],
   "source": []
  },
  {
   "cell_type": "code",
   "execution_count": null,
   "id": "dd280df9-507c-4b42-b5d2-219e60308959",
   "metadata": {},
   "outputs": [],
   "source": []
  },
  {
   "cell_type": "code",
   "execution_count": null,
   "id": "d8a70a95-7834-4eb0-ac64-9d7484923ae9",
   "metadata": {},
   "outputs": [],
   "source": []
  },
  {
   "cell_type": "markdown",
   "id": "3b7ba531-e1de-4586-a906-b22be4d5b9fd",
   "metadata": {},
   "source": [
    "## 3. Explain the use and purpose of at least five “Distributions” functions."
   ]
  },
  {
   "cell_type": "code",
   "execution_count": null,
   "id": "9cbe1447-ddd9-4325-a705-e9342e413890",
   "metadata": {},
   "outputs": [],
   "source": []
  },
  {
   "cell_type": "code",
   "execution_count": null,
   "id": "d2ad7da1-b18d-4786-a4ae-e37ad0310e93",
   "metadata": {},
   "outputs": [],
   "source": []
  },
  {
   "cell_type": "code",
   "execution_count": null,
   "id": "0268161b-a61f-4ac2-b056-977505715c6e",
   "metadata": {},
   "outputs": [],
   "source": []
  },
  {
   "cell_type": "code",
   "execution_count": null,
   "id": "5fbefc42-efad-40ed-9a72-70f4de1c635b",
   "metadata": {},
   "outputs": [],
   "source": []
  },
  {
   "cell_type": "markdown",
   "id": "16315562-8226-4d6f-9f5c-1140feb4e5f5",
   "metadata": {},
   "source": [
    "## 4. Explain the use of seeds in generating pseudorandom numbers."
   ]
  },
  {
   "cell_type": "code",
   "execution_count": null,
   "id": "ee426626-1730-4485-8861-934ecd90c8cb",
   "metadata": {},
   "outputs": [],
   "source": []
  },
  {
   "cell_type": "code",
   "execution_count": null,
   "id": "9eecf250-50a8-413d-95a1-f03f03b42aa8",
   "metadata": {},
   "outputs": [],
   "source": []
  },
  {
   "cell_type": "code",
   "execution_count": null,
   "id": "2bf1ce5b-3100-4367-81a6-ed83c6db8424",
   "metadata": {},
   "outputs": [],
   "source": []
  },
  {
   "cell_type": "markdown",
   "id": "258b0570-39d3-462c-b02e-53203389385b",
   "metadata": {},
   "source": [
    "## References Used"
   ]
  },
  {
   "cell_type": "code",
   "execution_count": null,
   "id": "a050ad53-5514-43df-acbb-0dbb0b26c5c2",
   "metadata": {},
   "outputs": [],
   "source": []
  }
 ],
 "metadata": {
  "kernelspec": {
   "display_name": "Python 3",
   "language": "python",
   "name": "python3"
  },
  "language_info": {
   "codemirror_mode": {
    "name": "ipython",
    "version": 3
   },
   "file_extension": ".py",
   "mimetype": "text/x-python",
   "name": "python",
   "nbconvert_exporter": "python",
   "pygments_lexer": "ipython3",
   "version": "3.8.8"
  }
 },
 "nbformat": 4,
 "nbformat_minor": 5
}
