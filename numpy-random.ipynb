{
 "cells": [
  {
   "cell_type": "markdown",
   "id": "ca747803-6241-4530-9a01-15d8eba91b1a",
   "metadata": {},
   "source": [
    "# Programming for Data Analysis 2021 - Assignment"
   ]
  },
  {
   "cell_type": "markdown",
   "id": "8a1ccc16-20ad-4989-a357-72178e9200ba",
   "metadata": {},
   "source": [
    "## 1. Explain the overall purpose of the numpy.random package."
   ]
  },
  {
   "cell_type": "markdown",
   "id": "933bc638-8079-4fb6-a01f-fa75799805a2",
   "metadata": {},
   "source": [
    "### **1.1 The numpy.random Package - Subpackage of NumPy** \n",
    "\n",
    "The numpy.random package is a subpackage within the NumPy package. NumPy (short for Numerical Python) is a Python library which is used for dealing with arrays of numerical values. \n",
    "Arrays in NumPy are maintained as ndarray objects. These arrays can be 0-, 1- or multi-dimensional: \n",
    "- 0-D array: single value/scalar\n",
    "- 1-D array: a list of several 0-D arrays, also called uni-dimensional\n",
    "- 2-D array: an array consisting of two 1-D arrays, also called a matrix\n",
    "- 3-D array: an array that has 2-D arrays as its elements\n",
    "- n-D array: an array that has n-1 -D arrays as its elements\n",
    "All elements of an array need to be of the same data type. \n",
    "\n",
    "To be able to use NumPy, it needs to be imported. It is commonly imported as the alias np. "
   ]
  },
  {
   "cell_type": "code",
   "execution_count": 1,
   "id": "d36c8ef6-96ba-4bb3-8293-bf186b98e1c1",
   "metadata": {},
   "outputs": [],
   "source": [
    "# Importing numPy\n",
    "import numpy as np"
   ]
  },
  {
   "cell_type": "code",
   "execution_count": 2,
   "id": "b090f4b2-e57a-46bd-9b74-20cd88ca0ba9",
   "metadata": {},
   "outputs": [
    {
     "data": {
      "text/plain": [
       "'1.20.1'"
      ]
     },
     "execution_count": 2,
     "metadata": {},
     "output_type": "execute_result"
    }
   ],
   "source": [
    "# To check the installed version of NumPy \n",
    "np.__version__"
   ]
  },
  {
   "cell_type": "markdown",
   "id": "e327de91-9ddd-4ad7-b24b-318233c69730",
   "metadata": {},
   "source": [
    "### **1.2 The numpy.random Package - Use and Purpose**\n",
    "\n",
    "numpy.random is a subpackage within NumPy which enables users to generate and work with random numbers.\n",
    "\n",
    "\"Random means something that can not be predicted logically\" (https://www.w3schools.com/python/numpy/numpy_random.asp)\n",
    "\n",
    "Numbers created with the package are considered pseudo-random, meaning that they are not truly random but rather generated through a generation algorithm. By setting a seed value, the sequence of created numbers is reproducable (see further in part 4). \n",
    "\n",
    "In contrast, truly random numbers can be generated using random data from an outside source which could be mouse movements, time stamps, etc. \n",
    "\n",
    "In programming, pseudo-random numbers can be used for simulating data. the numpy.random package allows to create the required random numbers in different formats and fulfilling different criteria as required by the simulation scenario, for example selecting numbers from a pre-defined sample, or creating random numbers or arrays that follow certain distribution patterns. \n",
    "\n",
    "To be able to use the numpy.random module, calling the function numpy.random.default_rng() will start a new random number generator. "
   ]
  },
  {
   "cell_type": "code",
   "execution_count": 3,
   "id": "3a0e9542-7ab0-43b1-91b1-09a252ba6c9e",
   "metadata": {},
   "outputs": [],
   "source": [
    "# Define the random number generator (RNG)\n",
    "rng=np.random.default_rng()"
   ]
  },
  {
   "cell_type": "code",
   "execution_count": 4,
   "id": "331935d4-f881-4224-bec3-40a56c6ce85b",
   "metadata": {},
   "outputs": [
    {
     "data": {
      "text/plain": [
       "array([0.02636453, 0.0819278 , 0.71627526, 0.86075018, 0.8001705 ,\n",
       "       0.54115274, 0.10951646, 0.14215722, 0.90093103, 0.78503714])"
      ]
     },
     "execution_count": 4,
     "metadata": {},
     "output_type": "execute_result"
    }
   ],
   "source": [
    "# Example: Using the RNG to generate 10 random float point numbers\n",
    "rng.random(size=10)"
   ]
  },
  {
   "cell_type": "markdown",
   "id": "faedcd1b-7aa1-455d-bbd6-9f7bd38b8f13",
   "metadata": {},
   "source": [
    "References:\n",
    "\n",
    "https://www.w3schools.com/python/numpy/numpy_random.asp (30/10/2021)\n",
    "\n",
    "Numpy v.1.21 Manual https://numpy.org/doc/stable/ (30/10/2021)\n",
    "\n",
    "Random sampling (numpy.random) https://numpy.org/doc/stable/reference/random/index.html# (30/10/2021)"
   ]
  },
  {
   "cell_type": "markdown",
   "id": "6ac92937-7622-4ac6-ab5c-090f5f25f1ac",
   "metadata": {},
   "source": [
    "## **2. Explain the use of the “Simple random data” and “Permutations” functions.**"
   ]
  },
  {
   "cell_type": "markdown",
   "id": "13d999c0-127f-4bc5-9383-384f5d921fe5",
   "metadata": {},
   "source": [
    "Functions for creating simple random data can be used to return integers, floats, or a random sample from a given array. \n",
    "<br>\n",
    "Permutation modify an array or sequence already in place by shuffling or rearranging the sequence. "
   ]
  },
  {
   "cell_type": "markdown",
   "id": "e5866a16-9e74-4ebb-bae2-12076132f484",
   "metadata": {},
   "source": [
    "<br>\n",
    "\n",
    "### **2.1 Simple Random Data**\n",
    "A number of functions can be used to generate simple random data, for example single or several numbers, or taking a random sample from a given array. "
   ]
  },
  {
   "cell_type": "markdown",
   "id": "5631856a-6be4-43d2-a1c8-eece16773938",
   "metadata": {},
   "source": [
    "<br>\n",
    "\n",
    "#### **2.1.1 Generating Random Integers**\n",
    "The rng.integers() function can be used to create random integers. "
   ]
  },
  {
   "cell_type": "code",
   "execution_count": 5,
   "id": "6a48cadc-c486-4185-a690-6ee2b377bc4c",
   "metadata": {},
   "outputs": [
    {
     "data": {
      "text/plain": [
       "2"
      ]
     },
     "execution_count": 5,
     "metadata": {},
     "output_type": "execute_result"
    }
   ],
   "source": [
    "# Generate a single random integer in the range from 0 (inclusive) to 5 (exclusive)\n",
    "rng.integers(5)"
   ]
  },
  {
   "cell_type": "markdown",
   "id": "681a6789-3e7d-473b-94a9-ab8735384bb0",
   "metadata": {},
   "source": [
    "The rng.integers() function can take a number of parameters to further define the output:\n",
    "- The range from which integers are drawn (low, high). The range inludes the low value but by default excludes the high value. \n",
    "- The number of random integers to be drawn (size)\n",
    "- Data type of results\n",
    "- Endpoint = True sets the high value to be inclusive of the entered value\n",
    "\n",
    "https://numpy.org/doc/stable/reference/random/generated/numpy.random.Generator.integers.html (13/11/2021)\n",
    "\n"
   ]
  },
  {
   "cell_type": "code",
   "execution_count": 6,
   "id": "eea0adb7-b4ee-4bb5-a0de-6b22926299ed",
   "metadata": {},
   "outputs": [
    {
     "data": {
      "text/plain": [
       "array([15, 16, 10, 17, 18], dtype=int64)"
      ]
     },
     "execution_count": 6,
     "metadata": {},
     "output_type": "execute_result"
    }
   ],
   "source": [
    "# Example: Generate an array of 5 integers between 10 (inclusive) and 20 (exclusive)\n",
    "rng.integers(low=10, high=20, size=5)"
   ]
  },
  {
   "cell_type": "markdown",
   "id": "0c7253fb-87db-4c05-ae81-779fc7f1bd13",
   "metadata": {},
   "source": [
    "<br>\n",
    "\n",
    "#### **2.1.2 Generating Random Float Numbers**\n",
    "\n",
    "The rng.random() function can be used to create float point numbers between 0 and 1 (exclusive).\n"
   ]
  },
  {
   "cell_type": "code",
   "execution_count": 7,
   "id": "f2a01847-4439-49fb-9b1f-4901ac56dcdd",
   "metadata": {},
   "outputs": [
    {
     "data": {
      "text/plain": [
       "0.4627938949123007"
      ]
     },
     "execution_count": 7,
     "metadata": {},
     "output_type": "execute_result"
    }
   ],
   "source": [
    "# Exapmle: Generate a single float point number\n",
    "rng.random()"
   ]
  },
  {
   "cell_type": "markdown",
   "id": "09792b18-0ebe-46b7-98cc-1d18c4a1a9e5",
   "metadata": {},
   "source": [
    "Similar to creating integers, additional parameters can be added to further define the output: \n",
    "- The number of random float numbers to be drawn (size)\n",
    "- Data type (float64 or float32)\n",
    "- An alternative output array\n",
    "\n",
    "https://numpy.org/doc/stable/reference/random/generated/numpy.random.Generator.random.html#numpy.random.Generator.random (13/11/2021)"
   ]
  },
  {
   "cell_type": "code",
   "execution_count": 8,
   "id": "84101c36-6ed4-4a29-a994-24dec51f4612",
   "metadata": {},
   "outputs": [
    {
     "data": {
      "text/plain": [
       "array([0.90731338, 0.01236578, 0.53173903, 0.82221518, 0.38506047])"
      ]
     },
     "execution_count": 8,
     "metadata": {},
     "output_type": "execute_result"
    }
   ],
   "source": [
    "# Generate an array of 5 float point numbers\n",
    "rng.random(size=5)"
   ]
  },
  {
   "cell_type": "markdown",
   "id": "76fdda62-791a-43ec-bd2e-8500ff0f7fea",
   "metadata": {},
   "source": [
    "<br>\n",
    "\n",
    "#### **2.1.3 Generating n-dimensional Arrays of Random Numbers**\n",
    "\n",
    "Both rng.integers() and rng.random() can be used to create n-dimensional arrays of random numbers, for example to simulate a table of values. \n",
    "\n",
    "https://numpy.org/doc/stable/reference/random/generated/numpy.random.Generator.integers.html#numpy.random.Generator.integers (19/11/2021)"
   ]
  },
  {
   "cell_type": "code",
   "execution_count": 9,
   "id": "29f4c59b-02ca-49f8-a0ef-689284e601ca",
   "metadata": {},
   "outputs": [
    {
     "data": {
      "text/plain": [
       "array([[1, 4, 1, 2],\n",
       "       [1, 3, 3, 0],\n",
       "       [0, 0, 3, 2]], dtype=int64)"
      ]
     },
     "execution_count": 9,
     "metadata": {},
     "output_type": "execute_result"
    }
   ],
   "source": [
    "# Generate a 3 x 4 array of integers with maximum value 5 (exlusive)\n",
    "rng.integers(5, size=(3, 4))"
   ]
  },
  {
   "cell_type": "code",
   "execution_count": 10,
   "id": "2fa3021a-e76d-45be-8293-640bfb17e567",
   "metadata": {},
   "outputs": [
    {
     "data": {
      "text/plain": [
       "array([[ 3,  0,  1,  0],\n",
       "       [18, 12, 11, 17],\n",
       "       [24, 28, 25, 20]], dtype=int64)"
      ]
     },
     "execution_count": 10,
     "metadata": {},
     "output_type": "execute_result"
    }
   ],
   "source": [
    "# Generate a 3 x 4 array of integers with different low and high values for each dimension (row)\n",
    "rng.integers([[0, 0, 0, 0], [10, 10, 10, 10], [20, 20, 20, 20]], [[10], [20], [30]], size=[3, 4])"
   ]
  },
  {
   "cell_type": "markdown",
   "id": "e2774df6-1987-4e29-86e0-62097ad15e36",
   "metadata": {},
   "source": [
    "<br>\n",
    "\n",
    "#### **2.1.4 Selecting Random Numbers from a Predefined Array**\n",
    "\n",
    "The rng.choice() function can be used to generate a random sample from a given array. \n",
    "\n",
    "https://numpy.org/doc/stable/reference/random/generated/numpy.random.Generator.choice.html#numpy.random.Generator.choice (13/11/2021)"
   ]
  },
  {
   "cell_type": "code",
   "execution_count": 11,
   "id": "a701b26e-ff77-4485-a6b0-6cb8904baf79",
   "metadata": {},
   "outputs": [
    {
     "data": {
      "text/plain": [
       "array([1, 5, 2])"
      ]
     },
     "execution_count": 11,
     "metadata": {},
     "output_type": "execute_result"
    }
   ],
   "source": [
    "# Select 3 integers from an array of [1, 2, 3, 4, 5]\n",
    "rng.choice([1,2,3,4,5], 3)"
   ]
  },
  {
   "cell_type": "markdown",
   "id": "a5a88eb3-4fd2-4a59-9d33-f20759fe2b2f",
   "metadata": {},
   "source": [
    "An important aspect of random number generation is the distribution of data. The rng.choice() function can be used to define the probability of random numbers being selected by assigning probability values. "
   ]
  },
  {
   "cell_type": "code",
   "execution_count": 12,
   "id": "66ba29c2-6a9a-4ff8-9ba0-b51cc2455db4",
   "metadata": {},
   "outputs": [
    {
     "data": {
      "text/plain": [
       "array([3, 4, 4, 3, 1, 3, 1, 1, 4, 2])"
      ]
     },
     "execution_count": 12,
     "metadata": {},
     "output_type": "execute_result"
    }
   ],
   "source": [
    "# Select 10 integers from an array of [1, 2, 3, 4, 5]. The probability of selecting 1, 2 and 3 is set to 0.3, \n",
    "# the probaility of selecting 4 is set to 0.1 and the probablility of selecting 5 is set to 0:\n",
    "\n",
    "ch = rng.choice([1,2,3,4,5], 10, p=(0.3, 0.3, 0.3, 0.1, 0))\n",
    "ch"
   ]
  },
  {
   "cell_type": "markdown",
   "id": "733e1772-edb3-405d-b904-9ea970ffd28f",
   "metadata": {},
   "source": [
    "<br>\n",
    "\n",
    "#### **2.1.5 Generating Random Bytes**\n",
    "\n",
    "The rng.bytes() function can be used to generate random bytes. The length parameter determines the number of bytes to be created. \n",
    "\n",
    "https://numpy.org/doc/stable/reference/random/generated/numpy.random.Generator.bytes.html#numpy.random.Generator.bytes (19/11/2021)"
   ]
  },
  {
   "cell_type": "code",
   "execution_count": 13,
   "id": "188d1530-db4a-4427-9b36-c2205530a7d0",
   "metadata": {},
   "outputs": [
    {
     "data": {
      "text/plain": [
       "b'E\\xbc\\xb9_nu\\xb0\\x83\\x1b\\xf6'"
      ]
     },
     "execution_count": 13,
     "metadata": {},
     "output_type": "execute_result"
    }
   ],
   "source": [
    "# Example: Generate 10 random bytes\n",
    "rng.bytes(10)"
   ]
  },
  {
   "cell_type": "markdown",
   "id": "57ffaf61-b047-4774-b246-fd2476b915bc",
   "metadata": {},
   "source": [
    "<br>\n",
    "\n",
    "### **2.2 Permutations**"
   ]
  },
  {
   "cell_type": "markdown",
   "id": "961d847a-4bf3-4e88-8ca2-c1583a11bd6d",
   "metadata": {},
   "source": [
    "Random permuations can be used to re-arrange elements within a given array, for example by changing the order of [1, 2, 3] to [3, 2, 1].\n",
    "The numpy.random package offers 3 methods for changing the order of array elements: \n",
    "- shuffle()\n",
    "- permutation()\n",
    "- permuted()\n",
    "\n",
    "Permutations: https://numpy.org/doc/stable/reference/random/generated/numpy.random.Generator.permutation.html"
   ]
  },
  {
   "cell_type": "markdown",
   "id": "d4500e25-3204-4d36-8576-6d846d400882",
   "metadata": {},
   "source": [
    "<br>\n",
    "\n",
    "#### **2.2.1 Re-shuffling an Array**\n",
    "The shuffle() function changes the original array by re-arranging its elements. \n",
    "\n",
    "https://numpy.org/doc/stable/reference/random/generated/numpy.random.Generator.shuffle.html#numpy.random.Generator.shuffle (13/11/2021)\n",
    "\n",
    "https://likegeeks.com/numpy-shuffle/ (14/11/2021)\n",
    "\n",
    "https://zkf85.github.io/2019/01/31/np-shuffle-vs-permutation (14/11/2021)"
   ]
  },
  {
   "cell_type": "code",
   "execution_count": 14,
   "id": "92d000cb-11d3-466a-bcd8-cd69694b9fbd",
   "metadata": {},
   "outputs": [
    {
     "data": {
      "text/plain": [
       "[1, 2, 4, 5, 3]"
      ]
     },
     "execution_count": 14,
     "metadata": {},
     "output_type": "execute_result"
    }
   ],
   "source": [
    "# Example: \n",
    "arr = [1,2,3,4,5]\n",
    "\n",
    "rng.shuffle(arr)\n",
    "arr"
   ]
  },
  {
   "cell_type": "markdown",
   "id": "501c4554-93f7-4b9f-b9c1-eb58eae32403",
   "metadata": {},
   "source": [
    "For 2- or more-dimensional arrays, if using the shuffle() function as above, the order of arrays withinh the first dimension is changed, their individual elements remain in the same order. "
   ]
  },
  {
   "cell_type": "code",
   "execution_count": 15,
   "id": "4da2e6bd-353b-4f8a-83b1-e759bca301b0",
   "metadata": {},
   "outputs": [
    {
     "data": {
      "text/plain": [
       "array([[4, 5, 6],\n",
       "       [1, 2, 3],\n",
       "       [7, 8, 9]])"
      ]
     },
     "execution_count": 15,
     "metadata": {},
     "output_type": "execute_result"
    }
   ],
   "source": [
    "# Example\n",
    "arr = np.array([[1,2,3], [4,5,6], [7,8,9]])\n",
    "rng.shuffle(arr)\n",
    "arr"
   ]
  },
  {
   "cell_type": "markdown",
   "id": "9c60533c-3076-41f5-bb8e-964bb07db2a2",
   "metadata": {},
   "source": [
    "To also rearrange the order of elements within the 2nd dimension, the axis parameter can be added to the function. In the below example, the three sub-arrays will remain in the same order (starting with the array containing numbers 1, 2 and 3) but within the sub-arrays the elements are rearranged. "
   ]
  },
  {
   "cell_type": "code",
   "execution_count": 16,
   "id": "02813440-338b-41fe-85ad-ad7dd4e66918",
   "metadata": {},
   "outputs": [
    {
     "data": {
      "text/plain": [
       "array([[1, 2, 3],\n",
       "       [4, 5, 6],\n",
       "       [7, 8, 9]])"
      ]
     },
     "execution_count": 16,
     "metadata": {},
     "output_type": "execute_result"
    }
   ],
   "source": [
    "arr = np.array([[1,2,3], [4,5,6], [7,8,9]])\n",
    "arr"
   ]
  },
  {
   "cell_type": "code",
   "execution_count": 17,
   "id": "e1dfc667-57e5-4722-9967-4c77981f8d31",
   "metadata": {},
   "outputs": [
    {
     "data": {
      "text/plain": [
       "array([[3, 2, 1],\n",
       "       [6, 5, 4],\n",
       "       [9, 8, 7]])"
      ]
     },
     "execution_count": 17,
     "metadata": {},
     "output_type": "execute_result"
    }
   ],
   "source": [
    "rng.shuffle(arr, axis=1)\n",
    "arr"
   ]
  },
  {
   "cell_type": "markdown",
   "id": "09526518-ec3d-47c4-8a98-efd8467953e4",
   "metadata": {},
   "source": [
    "<br>\n",
    "\n",
    "#### **2.2.2 Creating a Re-arranged Copy of an Array**\n",
    "While the shuffle() function changes to original array, the permutation() function returns a copy of the original array with re-arranged elements.\n",
    "\n",
    "https://numpy.org/doc/stable/reference/random/generated/numpy.random.Generator.permutation.html#numpy.random.Generator.permutation (13/11/2021)"
   ]
  },
  {
   "cell_type": "code",
   "execution_count": 18,
   "id": "fdfa52f6-666d-41ac-a563-0d15386120c6",
   "metadata": {},
   "outputs": [
    {
     "data": {
      "text/plain": [
       "array([4, 2, 5, 3, 1])"
      ]
     },
     "execution_count": 18,
     "metadata": {},
     "output_type": "execute_result"
    }
   ],
   "source": [
    "# Example\n",
    "arr = [1,2,3,4,5]\n",
    "\n",
    "rng.permutation(arr)"
   ]
  },
  {
   "cell_type": "markdown",
   "id": "f19d6e9f-ca1c-4f7a-aa50-af87f0643eef",
   "metadata": {},
   "source": [
    "Similar to the shuffle() function, permuation() also allows to rearrange arrays with more than 1 dimension."
   ]
  },
  {
   "cell_type": "code",
   "execution_count": 19,
   "id": "d8a70a95-7834-4eb0-ac64-9d7484923ae9",
   "metadata": {},
   "outputs": [
    {
     "data": {
      "text/plain": [
       "array([[7, 8, 9],\n",
       "       [4, 5, 6],\n",
       "       [1, 2, 3]])"
      ]
     },
     "execution_count": 19,
     "metadata": {},
     "output_type": "execute_result"
    }
   ],
   "source": [
    "# Example\n",
    "arr = np.array([[1,2,3], [4,5,6], [7,8,9]])\n",
    "rng.permutation(arr)"
   ]
  },
  {
   "cell_type": "code",
   "execution_count": 20,
   "id": "701f59e4-b60e-4f78-a9b3-a40dae96b0cb",
   "metadata": {},
   "outputs": [
    {
     "data": {
      "text/plain": [
       "array([[1, 2, 3],\n",
       "       [4, 5, 6],\n",
       "       [7, 8, 9]])"
      ]
     },
     "execution_count": 20,
     "metadata": {},
     "output_type": "execute_result"
    }
   ],
   "source": [
    "arr = np.array([[1,2,3], [4,5,6], [7,8,9]])\n",
    "arr"
   ]
  },
  {
   "cell_type": "code",
   "execution_count": 21,
   "id": "b131f198-72c4-4560-ad79-1a4b96ca7b6e",
   "metadata": {},
   "outputs": [
    {
     "data": {
      "text/plain": [
       "array([[2, 3, 1],\n",
       "       [5, 6, 4],\n",
       "       [8, 9, 7]])"
      ]
     },
     "execution_count": 21,
     "metadata": {},
     "output_type": "execute_result"
    }
   ],
   "source": [
    "rng.permutation(arr, axis=1)"
   ]
  },
  {
   "cell_type": "markdown",
   "id": "731b25e6-4015-4871-87ef-803f6d712cfc",
   "metadata": {},
   "source": [
    "<br>\n",
    "\n",
    "#### **2.2.3 Re-arranging One- or Multi-dimensional Arrays**\n",
    "The permuted() function enables to shuffle sub-arrays independent of each other. It also gives an option to chose whether for the original array is re-arranged or whether a copy of the original array is re-arranged. \n",
    "\n",
    "https://numpy.org/doc/stable/reference/random/generated/numpy.random.Generator.permuted.html#numpy.random.Generator.permuted (14/11/2021)"
   ]
  },
  {
   "cell_type": "code",
   "execution_count": 22,
   "id": "b18ff551-9223-4a38-acc1-2caae241d916",
   "metadata": {},
   "outputs": [],
   "source": [
    "# Example\n",
    "arr = np.array([[1,2,3], [4,5,6], [7,8,9]])"
   ]
  },
  {
   "cell_type": "code",
   "execution_count": 23,
   "id": "2a9e35dd-279a-4615-9eb5-22d55dae15c9",
   "metadata": {},
   "outputs": [
    {
     "data": {
      "text/plain": [
       "array([[2, 3, 1],\n",
       "       [5, 4, 6],\n",
       "       [9, 8, 7]])"
      ]
     },
     "execution_count": 23,
     "metadata": {},
     "output_type": "execute_result"
    }
   ],
   "source": [
    "yarr = rng.permuted(arr, axis=1)\n",
    "yarr"
   ]
  },
  {
   "cell_type": "code",
   "execution_count": 24,
   "id": "1c1dd6fd-2f74-42bd-8398-4f31f0434f38",
   "metadata": {},
   "outputs": [],
   "source": [
    "# Example\n",
    "arr = np.array([[1,2,3], [4,5,6], [7,8,9]])"
   ]
  },
  {
   "cell_type": "code",
   "execution_count": 25,
   "id": "93c17d0d-0715-42d5-88cf-ed6382f13451",
   "metadata": {},
   "outputs": [
    {
     "data": {
      "text/plain": [
       "array([[1, 2, 3],\n",
       "       [5, 4, 6],\n",
       "       [9, 7, 8]])"
      ]
     },
     "execution_count": 25,
     "metadata": {},
     "output_type": "execute_result"
    }
   ],
   "source": [
    "yarr = rng.permuted(arr, axis=1, out=arr)\n",
    "arr"
   ]
  },
  {
   "cell_type": "code",
   "execution_count": null,
   "id": "a02265dc-a729-4ae0-893b-bf20921e9083",
   "metadata": {},
   "outputs": [],
   "source": []
  },
  {
   "cell_type": "markdown",
   "id": "3b7ba531-e1de-4586-a906-b22be4d5b9fd",
   "metadata": {},
   "source": [
    "<br>\n",
    "\n",
    "## **3. Explain the use and purpose of at least five “Distributions” functions.**"
   ]
  },
  {
   "cell_type": "code",
   "execution_count": null,
   "id": "9cbe1447-ddd9-4325-a705-e9342e413890",
   "metadata": {},
   "outputs": [],
   "source": []
  },
  {
   "cell_type": "code",
   "execution_count": 26,
   "id": "99cc60ee-4574-45bd-8d09-1911d934ca40",
   "metadata": {},
   "outputs": [],
   "source": [
    "# For visualisation of the distribution functions described below, the seaborn module is imported.\n",
    "import seaborn as sns"
   ]
  },
  {
   "cell_type": "markdown",
   "id": "d3eef459-5048-4c5f-af59-4b2466f573ce",
   "metadata": {},
   "source": [
    "### **3.1 Uniform Distribution**\n",
    "\n",
    "https://numpy.org/doc/stable/reference/random/generated/numpy.random.Generator.uniform.html#numpy.random.Generator.uniform (15/11/2021)"
   ]
  },
  {
   "cell_type": "markdown",
   "id": "3af83d93-a077-47df-a5d5-385df8c6ddb2",
   "metadata": {},
   "source": [
    "The uniform() method returns float point numbers in a specified range from low (inclusive) to high (exclusive) values. For uniform distributions each event has equal changes of occuring. "
   ]
  },
  {
   "cell_type": "code",
   "execution_count": 27,
   "id": "5fbefc42-efad-40ed-9a72-70f4de1c635b",
   "metadata": {
    "scrolled": true,
    "tags": []
   },
   "outputs": [
    {
     "data": {
      "text/plain": [
       "array([6.27742024, 7.66154629, 5.67244474, 2.77707023, 7.15537584,\n",
       "       8.33488907, 7.50796149, 5.09950245, 2.16823865, 5.09810947,\n",
       "       7.09143605, 6.6409282 , 4.83905926, 5.0109699 , 1.39057122,\n",
       "       7.65309248, 5.47175715, 6.4755673 , 3.38169605, 1.73701281,\n",
       "       7.77320488, 6.03715905, 6.81434342, 6.24878424, 1.02092708,\n",
       "       1.52085695, 1.11104231, 3.24057167, 7.00050476, 0.10676975,\n",
       "       8.79531065, 7.19145263, 6.96453119, 4.53049783, 2.06562398,\n",
       "       1.60487117, 1.56168052, 9.60519248, 7.8765362 , 0.34519671,\n",
       "       5.88925753, 3.7530608 , 7.2019613 , 4.76177841, 9.56851555,\n",
       "       0.24065451, 7.27751104, 8.04753452, 6.97578165, 1.81036809,\n",
       "       0.92924308, 3.97089604, 5.79889655, 3.93566367, 6.83701749,\n",
       "       9.33697597, 8.07718985, 6.0450039 , 7.06378032, 5.92194042,\n",
       "       3.21838589, 4.46652694, 5.65607329, 2.30754177, 9.23346121,\n",
       "       8.86711568, 8.70207363, 9.49240435, 4.59148888, 0.50552342,\n",
       "       9.64146949, 1.6972236 , 3.09995541, 3.13404718, 3.90783714,\n",
       "       5.57624757, 7.93544701, 2.91892863, 5.05413518, 5.81987497,\n",
       "       0.4298854 , 3.26763047, 3.08961717, 7.42538899, 8.02407386,\n",
       "       0.64712177, 1.14838104, 0.85902757, 3.56233939, 4.89817976,\n",
       "       3.03242772, 5.24684974, 4.43407117, 0.80053269, 9.19140616,\n",
       "       4.87127835, 4.64020521, 1.13914464, 3.29829891, 4.66319258,\n",
       "       1.6810752 , 3.97211489, 4.06288776, 2.41308679, 1.36346589,\n",
       "       3.88007562, 1.19488841, 5.47680526, 5.86779759, 9.57256556,\n",
       "       7.03920498, 7.29188652, 1.52571701, 5.71884122, 7.03115877,\n",
       "       1.09750219, 8.49807372, 6.03244411, 1.80718354, 3.62524745,\n",
       "       0.83192843, 0.93686542, 2.8149315 , 2.39717579, 1.70264916,\n",
       "       6.18233763, 0.47400393, 6.5140112 , 4.97265645, 7.71220646,\n",
       "       1.22760785, 2.67474324, 1.75139945, 9.83387965, 3.57926448,\n",
       "       5.75717663, 9.49418913, 5.59447469, 0.27402275, 8.1674627 ,\n",
       "       2.7478176 , 1.31900194, 4.96092044, 3.90586261, 2.17029082,\n",
       "       1.41342931, 1.40672585, 2.8711679 , 6.27936185, 9.46579502,\n",
       "       6.15803589, 4.00882243, 3.96624237, 1.34594844, 0.66530489,\n",
       "       3.52131997, 1.17083435, 0.68452198, 4.26640348, 3.74185529,\n",
       "       2.76762277, 6.97392128, 9.08982332, 9.8909087 , 7.85398248,\n",
       "       0.0523276 , 6.17265935, 5.49269695, 6.06475768, 1.2744126 ,\n",
       "       6.66773862, 7.14826044, 9.75860027, 9.43132199, 4.39718155,\n",
       "       4.82412213, 9.22420029, 7.99044895, 9.45203085, 9.77028321,\n",
       "       5.88397876, 6.54265959, 1.51976334, 3.70204666, 8.13406977,\n",
       "       8.9162005 , 3.338951  , 6.35821156, 5.05691118, 9.68316462,\n",
       "       5.7151375 , 8.40030158, 0.1029024 , 0.08565462, 1.81869496,\n",
       "       2.32379783, 8.77238857, 8.44533258, 5.17603506, 9.01295102,\n",
       "       8.82089664, 8.16301014, 4.07701299, 2.19942784, 3.74746046,\n",
       "       3.9567225 , 1.94841014, 6.56108125, 8.28974566, 2.52541574,\n",
       "       4.5411331 , 9.04318166, 2.23384822, 2.51099903, 7.64236787,\n",
       "       9.53049181, 2.45268389, 2.05188389, 8.15957094, 8.47287572,\n",
       "       0.35277927, 6.06579351, 4.17567535, 7.55480971, 3.3126216 ,\n",
       "       9.7559377 , 7.81415082, 9.88456187, 1.5610112 , 3.17095265,\n",
       "       2.0845092 , 3.15952893, 5.54898513, 5.4076118 , 7.06997176,\n",
       "       3.91336845, 1.59283671, 8.40449784, 2.15299427, 8.72025069,\n",
       "       3.66929004, 8.26946571, 5.27730531, 2.52348908, 6.51722903,\n",
       "       0.62469997, 1.83651624, 3.95457738, 5.85645234, 6.35931325,\n",
       "       4.29960826, 7.76839329, 9.64792529, 0.58174352, 1.99966735,\n",
       "       7.45197638, 4.02497405, 2.53649553, 8.82972522, 1.88439293,\n",
       "       8.74292659, 7.13412927, 7.94547851, 6.12791852, 1.9381634 ,\n",
       "       1.04752975, 5.40435883, 9.066823  , 0.29034187, 6.35291259,\n",
       "       4.01346952, 9.58842325, 6.35570407, 2.97047621, 5.45202696,\n",
       "       8.11253172, 5.96672254, 4.22783498, 0.80608933, 4.00867953,\n",
       "       0.88200398, 8.62613541, 7.01616527, 8.02253614, 9.56740892,\n",
       "       7.12986555, 5.5018848 , 0.73123069, 5.8870281 , 5.76957762,\n",
       "       1.88273283, 4.09967115, 8.6815436 , 2.60302751, 2.03381239,\n",
       "       1.6619913 , 9.64892065, 1.22304568, 8.54596438, 3.68864607,\n",
       "       2.35687116, 7.24098191, 9.77336585, 7.2012868 , 2.62137938,\n",
       "       5.86719841, 0.78555224, 5.86617021, 6.8830734 , 4.46025402,\n",
       "       1.55237064, 9.69440629, 6.78731905, 7.98327919, 8.51190239,\n",
       "       2.0549182 , 6.83520415, 7.07185471, 3.36118333, 1.76836086,\n",
       "       1.38256077, 0.49920931, 7.29995339, 3.02428926, 4.39646491,\n",
       "       3.51527455, 9.66461139, 3.45239625, 0.91772352, 2.32568001,\n",
       "       6.90559778, 6.99933486, 4.78474852, 9.76552674, 4.99240222,\n",
       "       7.57460795, 5.80003328, 1.10981027, 7.09810431, 2.44639841,\n",
       "       5.60977495, 4.96865839, 3.89957743, 0.55452398, 4.13702542,\n",
       "       9.96244953, 0.93770956, 3.7894737 , 7.54501275, 3.84818011,\n",
       "       9.53972416, 4.01327228, 4.08320831, 6.24538911, 7.99611727,\n",
       "       4.3550061 , 6.97220066, 2.47874478, 0.73475237, 1.96297729,\n",
       "       9.93716096, 0.94075656, 9.64370343, 6.72417412, 4.89879699,\n",
       "       3.8778191 , 4.40316597, 0.67988344, 6.08098866, 2.42704493,\n",
       "       0.58898003, 3.11747478, 7.61207037, 9.39838302, 3.72574934,\n",
       "       1.78691398, 7.15679216, 8.67779542, 8.29566235, 3.92857253,\n",
       "       7.59835065, 9.19436993, 0.24958364, 8.71559114, 5.3851945 ,\n",
       "       8.50789936, 3.06598162, 2.05886767, 8.99047905, 0.40753053,\n",
       "       2.17919696, 8.61782766, 7.73888117, 4.9494262 , 2.14538741,\n",
       "       4.22405819, 7.02563891, 8.77332281, 7.14248674, 3.03422743,\n",
       "       9.30688351, 7.25768511, 6.81908914, 9.23611876, 1.70598883,\n",
       "       6.34632665, 7.35622812, 5.23637473, 0.51802836, 0.81551392,\n",
       "       7.67939547, 0.82020854, 0.39755648, 7.724488  , 8.26589308,\n",
       "       1.07045708, 1.52601464, 3.60528479, 4.55233894, 7.59969245,\n",
       "       1.74154439, 9.04902083, 0.61817419, 8.35064307, 2.84476554,\n",
       "       5.70777867, 7.04159655, 3.54768702, 2.79757697, 3.72358542,\n",
       "       8.91432577, 9.50451975, 1.46817649, 0.37797885, 1.5435296 ,\n",
       "       5.23351943, 7.04510813, 5.49403415, 4.21424839, 8.44829847,\n",
       "       4.57612004, 9.41977886, 8.16334355, 1.87704916, 2.24860199,\n",
       "       9.99903689, 2.81085985, 3.45269596, 7.09706855, 9.55850192,\n",
       "       2.75155296, 8.66143703, 2.46508855, 1.99737322, 4.15731713,\n",
       "       6.1055953 , 2.87281248, 5.77318715, 7.76100951, 8.74868528,\n",
       "       6.73123239, 7.35897541, 8.99259338, 7.68806908, 7.05605182,\n",
       "       0.32947814, 9.37584444, 4.25895458, 6.72353418, 6.51670322,\n",
       "       7.47534667, 1.45570816, 1.5152403 , 7.22968788, 9.24822142,\n",
       "       3.79377826, 4.6517117 , 1.0906266 , 3.62740723, 2.92503099,\n",
       "       6.87868514, 0.52288501, 3.17848162, 6.66988734, 8.48259625,\n",
       "       7.94577304, 3.63505267, 6.90605145, 3.7113471 , 0.0517157 ,\n",
       "       6.52882919, 4.1678158 , 3.91121874, 6.83976885, 5.48284746,\n",
       "       1.45668783, 9.04589418, 9.57844268, 7.11828141, 3.22509806,\n",
       "       7.60846226, 2.86313194, 2.33708134, 7.02044233, 7.85323835,\n",
       "       8.77235487, 3.92673027, 4.32797308, 2.24987289, 0.22511735,\n",
       "       6.48816496, 6.36132728, 7.07449559, 8.77991214, 1.76047754,\n",
       "       8.16462804, 6.29305151, 3.25714017, 9.63706822, 1.22558627,\n",
       "       4.70776111, 4.38401024, 1.90837905, 7.37789109, 9.66950052,\n",
       "       4.18923805, 0.11872116, 3.63193889, 6.7915718 , 4.81961975,\n",
       "       1.44020207, 8.28095281, 3.44149595, 0.1305009 , 2.89321688,\n",
       "       1.01540969, 2.3016698 , 3.67992763, 7.23226827, 4.73622934,\n",
       "       2.98182683, 9.7566034 , 8.60203019, 7.34439445, 2.24342089,\n",
       "       4.86951134, 0.96428021, 6.65069224, 8.51860769, 7.27881015,\n",
       "       9.17529829, 5.28232002, 5.39238007, 5.03197575, 1.62254819,\n",
       "       4.10834641, 6.69565913, 7.09932319, 2.80062755, 9.18872102,\n",
       "       8.44710226, 2.03965127, 9.75096432, 7.34680667, 5.41660023,\n",
       "       0.83453395, 9.59815046, 6.75264687, 7.48212794, 7.73381157,\n",
       "       1.01945241, 5.45014313, 9.82760387, 6.37548606, 2.61309559,\n",
       "       9.84721783, 7.53797637, 6.1720599 , 7.3373534 , 0.03185771,\n",
       "       8.26098537, 9.40249442, 6.14222356, 3.60044577, 0.40191773,\n",
       "       3.50899205, 9.33473419, 2.10146314, 8.34581325, 5.46100105,\n",
       "       4.64218562, 4.9854895 , 7.38668061, 3.95034625, 9.27730888,\n",
       "       7.17087617, 2.40889762, 5.82346007, 2.38546578, 9.37968303,\n",
       "       5.89919224, 4.46921032, 1.84526475, 5.31485403, 5.01820762,\n",
       "       1.54716197, 3.32974913, 8.75978761, 5.56565022, 0.38599193,\n",
       "       1.10697773, 4.7654578 , 7.4384197 , 1.14606946, 5.01335028,\n",
       "       9.5832207 , 3.56845298, 8.32174778, 7.13056806, 2.41463076,\n",
       "       7.7151351 , 2.73896658, 0.22795613, 6.09773172, 3.22019891,\n",
       "       7.65408766, 9.89920508, 1.05317973, 6.11290155, 5.84414433,\n",
       "       7.09154505, 2.65948167, 3.19648595, 3.86815837, 2.38231451,\n",
       "       2.80083284, 4.42646696, 4.21811628, 8.04225189, 7.59091788,\n",
       "       6.27282344, 7.4600502 , 2.27518914, 9.1519222 , 5.18204357,\n",
       "       8.58724453, 8.90183169, 7.63491606, 4.95489957, 6.64155117,\n",
       "       9.52614394, 4.3258918 , 6.98282725, 3.58061117, 0.5935967 ,\n",
       "       9.00147429, 9.32251623, 9.85881417, 3.21350949, 0.13943717,\n",
       "       1.40769724, 3.79691989, 8.48451912, 2.72156605, 1.52924359,\n",
       "       8.30173473, 8.47680229, 8.56327896, 5.59750922, 4.66341555,\n",
       "       2.43787089, 9.11419484, 1.58301469, 5.49039184, 0.48160028,\n",
       "       3.1885087 , 3.50879554, 8.33366199, 5.61759583, 3.39514029,\n",
       "       3.02631815, 4.66697228, 2.93101353, 4.53312215, 6.33509809,\n",
       "       7.03212291, 0.49201116, 1.21931894, 3.43383635, 5.42146883,\n",
       "       1.48657829, 9.98528295, 4.75133238, 8.58143553, 0.92135455,\n",
       "       3.25046933, 3.44745402, 5.37936418, 3.24002667, 2.89500947,\n",
       "       9.74277043, 1.6666422 , 4.0340327 , 8.11487428, 0.66611667,\n",
       "       3.67748184, 5.34902689, 7.17154386, 0.4687899 , 8.33094775,\n",
       "       6.02835608, 1.66143568, 1.7651746 , 5.92896342, 9.94202841,\n",
       "       8.4048961 , 0.73516954, 9.33347208, 1.90533133, 1.02136384,\n",
       "       5.17757816, 8.98824387, 7.81242409, 3.8007127 , 6.58245518,\n",
       "       9.61678762, 1.87519174, 6.23842622, 6.28774369, 6.12020588,\n",
       "       2.43276209, 7.52063943, 4.2421957 , 1.0711439 , 0.19212289,\n",
       "       3.15839113, 2.83563085, 7.43511935, 8.49294897, 1.44929048,\n",
       "       1.64368801, 4.99825781, 4.68153598, 5.86217517, 4.27140067,\n",
       "       9.61999845, 7.46814657, 2.08413024, 6.31009834, 3.87699555,\n",
       "       9.27121315, 6.11894233, 3.1603673 , 0.69483419, 6.10060012,\n",
       "       7.35774853, 6.90561835, 6.50093451, 8.44591134, 7.7102282 ,\n",
       "       2.35715374, 4.88946696, 2.97180822, 4.45241603, 9.53214453,\n",
       "       5.74499222, 3.31382231, 4.87128842, 9.4466733 , 0.24558162,\n",
       "       6.46641783, 6.48715019, 4.45336655, 3.66775029, 2.37443839,\n",
       "       8.88107778, 6.68093458, 9.2616532 , 7.37847055, 0.12321236,\n",
       "       6.08303884, 7.52903619, 9.02116219, 6.38547015, 1.43289464,\n",
       "       3.16752669, 7.65554283, 5.06666325, 2.31251464, 0.39730159,\n",
       "       6.53428532, 2.23930035, 1.30963919, 3.08679839, 2.95547467,\n",
       "       3.76598151, 1.92334517, 0.73118128, 9.0935477 , 1.555392  ,\n",
       "       6.93808657, 5.80317889, 7.22242497, 5.75869674, 7.56810979,\n",
       "       7.21847425, 6.55373385, 1.23546066, 8.82376332, 7.15853734,\n",
       "       1.96463292, 1.19764512, 6.46818353, 9.50078535, 2.99356445,\n",
       "       9.96206257, 4.94423461, 8.30826961, 7.78269802, 6.93635879,\n",
       "       8.38619238, 3.07159556, 5.88616946, 3.33287057, 4.51255157,\n",
       "       5.9811041 , 5.56777641, 6.70912701, 2.15546118, 2.52231141,\n",
       "       0.13502945, 0.18164778, 9.76180952, 6.49763701, 3.80930862,\n",
       "       1.9410018 , 8.7762066 , 3.74358705, 7.25003172, 4.12118984,\n",
       "       3.11359543, 7.59081848, 1.08251328, 3.26185787, 2.78488887,\n",
       "       3.82674098, 1.96543831, 1.49020283, 8.21434504, 3.1837958 ,\n",
       "       1.18162369, 7.55059541, 6.10235597, 6.24162382, 4.33793242,\n",
       "       3.9185211 , 8.51109962, 8.50236002, 7.5598931 , 8.53388161,\n",
       "       7.2030044 , 1.65406421, 1.50745673, 6.89338248, 6.32054407,\n",
       "       1.29925715, 5.632698  , 3.4876002 , 8.34096183, 9.05347958,\n",
       "       2.70077602, 5.04198883, 2.9687512 , 5.5322028 , 5.98911242,\n",
       "       7.92474582, 7.30779937, 3.65001792, 1.86527482, 1.00205498,\n",
       "       5.63443987, 0.49548232, 2.54692717, 8.51707348, 7.72280562,\n",
       "       8.30047586, 8.98006571, 2.77815061, 7.32467532, 9.32842359,\n",
       "       5.64808556, 9.95681275, 6.84935102, 3.36309789, 1.71735552,\n",
       "       9.39754957, 5.0492149 , 8.13265525, 9.42772279, 4.75438422,\n",
       "       4.92190313, 0.97876098, 2.97622029, 9.39533896, 2.75293072,\n",
       "       7.33650744, 5.03920805, 7.60483587, 2.35759703, 7.42190385,\n",
       "       2.28977876, 1.20873628, 2.95228461, 7.74926945, 5.85874275,\n",
       "       5.88738733, 7.57821227, 9.83534916, 3.49877449, 8.73615809,\n",
       "       3.59186794, 9.99259905, 8.47191563, 0.11863611, 5.94894224,\n",
       "       4.21968988, 6.87676744, 4.9589235 , 8.03631173, 0.823757  ,\n",
       "       2.88861296, 3.64636615, 6.40671276, 1.0912207 , 7.7351414 ,\n",
       "       4.10013643, 7.74559797, 1.69617519, 3.29776403, 1.43295478,\n",
       "       1.29375646, 6.12839618, 8.57110892, 5.55954821, 4.30099782,\n",
       "       7.60907688, 1.95389801, 6.14937774, 7.79856517, 9.23201136,\n",
       "       8.43669423, 9.11680492, 8.61484829, 8.95361929, 8.8007049 ,\n",
       "       9.69758826, 8.94828877, 3.21687138, 8.00750532, 9.10361686,\n",
       "       0.35839109, 8.8437001 , 8.26254972, 2.50613718, 6.30004034,\n",
       "       1.77533265, 8.893659  , 7.23533478, 1.75002717, 3.09987509,\n",
       "       6.2981899 , 6.89719133, 4.16739771, 4.55488603, 0.63548741,\n",
       "       4.3083328 , 7.35112842, 7.26707416, 9.18053596, 9.81248339,\n",
       "       6.00974668, 4.85081225, 5.4888442 , 2.15233476, 2.83731147,\n",
       "       5.03771687, 5.06467534, 6.91202899, 8.69926015, 9.25113976,\n",
       "       6.54728886, 7.21077124, 6.14139617, 6.0505275 , 9.99350459,\n",
       "       1.57822245, 2.15734247, 5.87075438, 9.10135501, 0.64394636])"
      ]
     },
     "execution_count": 27,
     "metadata": {},
     "output_type": "execute_result"
    }
   ],
   "source": [
    "# Example: 1000 float point numbers in the range of 0 to 10 (exclusive)\n",
    "\n",
    "s = np.random.default_rng().uniform(low=0, high=10, size=1000)\n",
    "s"
   ]
  },
  {
   "cell_type": "code",
   "execution_count": 28,
   "id": "8655ce21-ff55-4f93-a4e4-a8fbc308910a",
   "metadata": {},
   "outputs": [
    {
     "data": {
      "text/plain": [
       "<AxesSubplot:ylabel='Count'>"
      ]
     },
     "execution_count": 28,
     "metadata": {},
     "output_type": "execute_result"
    },
    {
     "data": {
      "image/png": "[encoded data removed]",
      "text/plain": [
       "<Figure size 432x288 with 1 Axes>"
      ]
     },
     "metadata": {
      "needs_background": "light"
     },
     "output_type": "display_data"
    }
   ],
   "source": [
    "# Histogram:\n",
    "\n",
    "sns.histplot(s, bins = 10)\n",
    "\n",
    "# https://seaborn.pydata.org/generated/seaborn.histplot.html#seaborn.histplot (15/11/2021)"
   ]
  },
  {
   "cell_type": "code",
   "execution_count": null,
   "id": "ee7b01ee-42e7-4a82-a118-3d387cad8d6c",
   "metadata": {},
   "outputs": [],
   "source": []
  },
  {
   "cell_type": "markdown",
   "id": "6ef61b0a-e0e5-4de7-97e4-708560f00e3f",
   "metadata": {
    "tags": []
   },
   "source": [
    "### **3.2 Binomial Distribution**\n",
    "\n",
    "https://numpy.org/doc/stable/reference/random/generated/numpy.random.Generator.binomial.html#numpy.random.Generator.binomial"
   ]
  },
  {
   "cell_type": "markdown",
   "id": "ec43f1f2-50bd-4694-b8a8-5c3a87fd9c6a",
   "metadata": {},
   "source": [
    "The rng.binomial() function returns values from a binomial distribution. A binomial distribution shows the distribution of successful trials that have exactly 2 possible results, such as throwing a coin.\n",
    "\n",
    "Other than for a uniform distirbutinon where all events statistically have the same chance of occuring, for a binomial distribution, the chance of each event occuring can be preset by adding a probablility of success parameter. "
   ]
  },
  {
   "cell_type": "code",
   "execution_count": 29,
   "id": "888e7a0c-e030-47f6-8a26-7187f90321bf",
   "metadata": {},
   "outputs": [
    {
     "data": {
      "text/plain": [
       "array([ 8,  6,  8,  8,  9,  6,  8,  7,  9, 10], dtype=int64)"
      ]
     },
     "execution_count": 29,
     "metadata": {},
     "output_type": "execute_result"
    }
   ],
   "source": [
    "# Generating \n",
    "\n",
    "# n = number of trials\n",
    "# p = probability of success of each trial\n",
    "\n",
    "s_bi = rng.binomial(n=10, p=0.8, size=10)\n",
    "s_bi"
   ]
  },
  {
   "cell_type": "code",
   "execution_count": 30,
   "id": "a8b45ea4-863b-4ccc-aa5e-183d92daafaf",
   "metadata": {},
   "outputs": [
    {
     "data": {
      "text/plain": [
       "<seaborn.axisgrid.FacetGrid at 0x27fcef75580>"
      ]
     },
     "execution_count": 30,
     "metadata": {},
     "output_type": "execute_result"
    },
    {
     "data": {
      "image/png": "[encoded data removed]",
      "text/plain": [
       "<Figure size 360x360 with 1 Axes>"
      ]
     },
     "metadata": {
      "needs_background": "light"
     },
     "output_type": "display_data"
    }
   ],
   "source": [
    "sns.displot(s_bi, bins=10)\n",
    "\n",
    "# https://www.statology.org/binomial-distribution-python/"
   ]
  },
  {
   "cell_type": "markdown",
   "id": "23b585ce-10b4-43fc-a7e5-28184a2bf00f",
   "metadata": {},
   "source": [
    "### **3.3 Multinomial Distribution**\n",
    "\n",
    "https://numpy.org/doc/stable/reference/random/generated/numpy.random.Generator.multinomial.html#numpy.random.Generator.multinomial"
   ]
  },
  {
   "cell_type": "code",
   "execution_count": null,
   "id": "4350fea2-9943-4352-8bea-1b1cab225f74",
   "metadata": {},
   "outputs": [],
   "source": []
  },
  {
   "cell_type": "code",
   "execution_count": null,
   "id": "fe4e6ca8-70fa-420e-9f32-7f4892901bd3",
   "metadata": {},
   "outputs": [],
   "source": []
  },
  {
   "cell_type": "markdown",
   "id": "4fc5bf82-394a-4921-91a5-12b338d509ea",
   "metadata": {},
   "source": [
    "### **3.4 Normal Distribution**\n",
    "\n",
    "https://numpy.org/doc/stable/reference/random/generated/numpy.random.Generator.normal.html#numpy.random.Generator.normal"
   ]
  },
  {
   "cell_type": "code",
   "execution_count": null,
   "id": "f136e213-2515-412a-aedf-e873d40be36b",
   "metadata": {},
   "outputs": [],
   "source": []
  },
  {
   "cell_type": "code",
   "execution_count": null,
   "id": "53ba3fde-fba0-429c-9c0c-d9011c4ead6a",
   "metadata": {},
   "outputs": [],
   "source": []
  },
  {
   "cell_type": "markdown",
   "id": "6bb8f525-d41d-4d4d-a00e-cadbaa950886",
   "metadata": {},
   "source": [
    "### **3.5**"
   ]
  },
  {
   "cell_type": "code",
   "execution_count": null,
   "id": "e63fe69d-fa91-4a9d-8a35-68f77dbb050b",
   "metadata": {},
   "outputs": [],
   "source": []
  },
  {
   "cell_type": "markdown",
   "id": "16315562-8226-4d6f-9f5c-1140feb4e5f5",
   "metadata": {},
   "source": [
    "<br>\n",
    "\n",
    "## **4. Explain the use of seeds in generating pseudorandom numbers.**"
   ]
  },
  {
   "cell_type": "markdown",
   "id": "7cd4afee-e01b-4e8c-8171-63e2eb66ca67",
   "metadata": {},
   "source": [
    "As described in the first section, numpy.random generates pseudo-random numbers which always follow the same sequence. The reason why different numbers are returned whenever a random generator is run is that it starts at a different point of that sequence. This start point is called the seed, and if not defined by the user, numpy.random sets it based on a value derived from the computers operating system.  \n",
    "\n",
    "\n",
    "https://numpy.org/doc/stable/reference/random/index.html (20/11/2021)\n"
   ]
  },
  {
   "cell_type": "markdown",
   "id": "da933c4c-d0d6-4600-9d37-e5149f469f57",
   "metadata": {},
   "source": [
    "<br>\n",
    "\n",
    "### **4.1 - Bitgenerator and Generator**\n",
    "\n",
    "numpy.random generates the numbers using a combination of a bitgenerator and a generator. \n",
    "\n",
    "The Bitgenerator creates sequences of random numbers. The generator then transforms the objects created by the bit generator into numbers that follow a certain distribution as defined by the user. If no seed is specified, an unpredictable value will be set by using data of the operating system. \n",
    "\n",
    "\n",
    "https://numpy.org/doc/stable/reference/random/generator.html#numpy.random.Generator (20/11/2021)\n",
    "https://numpy.org/doc/stable/reference/random/bit_generators/generated/numpy.random.BitGenerator.html#numpy.random.BitGenerator (20/11/2021)"
   ]
  },
  {
   "cell_type": "markdown",
   "id": "7aaa7717-a819-4bb6-965f-db8fb70731d3",
   "metadata": {},
   "source": [
    "<br>\n",
    "\n",
    "### **4.2 - Seeding the Random Number Generator**\n",
    "Some data simulations may require using the same randomly generated data. To achieve this, the seed can be set by the user. Setting the seed to a certain value will result in receiving the same output of random numbers, making the \"random\" numbers actually reproducible. "
   ]
  },
  {
   "cell_type": "code",
   "execution_count": 31,
   "id": "9eecf250-50a8-413d-95a1-f03f03b42aa8",
   "metadata": {},
   "outputs": [
    {
     "data": {
      "text/plain": [
       "array([19, 76,  5, 11, 29], dtype=int64)"
      ]
     },
     "execution_count": 31,
     "metadata": {},
     "output_type": "execute_result"
    }
   ],
   "source": [
    "# Example 1: Generate 5 integers between 1 and 100 without defining a seed\n",
    "test_rng=np.random.default_rng()\n",
    "test_rng.integers(1, 101, 5)"
   ]
  },
  {
   "cell_type": "code",
   "execution_count": 32,
   "id": "2bf1ce5b-3100-4367-81a6-ed83c6db8424",
   "metadata": {},
   "outputs": [
    {
     "data": {
      "text/plain": [
       "array([16, 64, 43, 46, 43], dtype=int64)"
      ]
     },
     "execution_count": 32,
     "metadata": {},
     "output_type": "execute_result"
    }
   ],
   "source": [
    "# When repeating the above, the results will likely be different as the seed has been re-set by the random number generator\n",
    "new_test_rng=np.random.default_rng()\n",
    "new_test_rng.integers(1, 101, 5)"
   ]
  },
  {
   "cell_type": "markdown",
   "id": "d9d2c183-6cc3-4364-a8b0-e61eec1b78c9",
   "metadata": {},
   "source": [
    "<br>\n",
    "\n",
    "When adding a seed parameter, the output of the same function becomes reproducible. "
   ]
  },
  {
   "cell_type": "code",
   "execution_count": 33,
   "id": "b4d0766e-c936-4164-91b3-9609f244b7b6",
   "metadata": {},
   "outputs": [
    {
     "data": {
      "text/plain": [
       "array([68, 81,  3, 81, 47], dtype=int64)"
      ]
     },
     "execution_count": 33,
     "metadata": {},
     "output_type": "execute_result"
    }
   ],
   "source": [
    "# Generate 5 integers between 1 and 10 but this time determine the seed\n",
    "seeded_rng = np.random.default_rng(seed=5)\n",
    "seeded_rng.integers(1,101,5)"
   ]
  },
  {
   "cell_type": "code",
   "execution_count": 34,
   "id": "5864faec-787d-402d-a5d4-5cfba320ce6c",
   "metadata": {},
   "outputs": [
    {
     "data": {
      "text/plain": [
       "array([68, 81,  3, 81, 47], dtype=int64)"
      ]
     },
     "execution_count": 34,
     "metadata": {},
     "output_type": "execute_result"
    }
   ],
   "source": [
    "# Repeat the above, oputput is the same\n",
    "new_seeded_rng = np.random.default_rng(seed=5)\n",
    "new_seeded_rng.integers(1,101,5)"
   ]
  },
  {
   "cell_type": "markdown",
   "id": "8d6a79e5-f942-462c-8f4c-6e7d5e43ee14",
   "metadata": {},
   "source": [
    "https://www.sharpsightlabs.com/blog/numpy-random-seed/ (20/11/2021)"
   ]
  },
  {
   "cell_type": "markdown",
   "id": "a3c7ea93-b4cb-48ee-8908-040444d97254",
   "metadata": {},
   "source": [
    "<br>\n",
    "\n",
    "### **4.3 - PCG64 - numpy.random's BitGenerator Algorithm**\n",
    "\n",
    "The standard bitgenerator used by numpy.random is based on the Permuted Congruential Generator 64-bit (PCG64) algorithm. It was implemented into numpy.random since version 1.19 and is based on O'Neill's \"Permutation Congruential Generator\".\n",
    "\n",
    "PCG64 was developed to achieve among other factors \"good statistical properties, [...] lack of predictability, cryptographic security, good time and space performance, small code size\" (O'Neill, p4). It combines the fast speed and space efficiency of linear congruential generator and adds permutation to achieve\n",
    "\n",
    "PCG64 replaced the previous bitGenerator algorithm MT19937 (Mersenne Twister). \n",
    "\n",
    "In direct comparison PCG64 outperforms MT19937 on a number of factors. \n",
    "\n",
    "| PCG64                           | MT19937                             |\n",
    "|---------------------------------|-------------------------------------|\n",
    "| High prediction difficulty      | Easy prediction                     |\n",
    "| Excellent statistical quality   | Some failures at statistical tests  |\n",
    "| Very fast time performance      | Acceptable time performance         |\n",
    "| Compact space usage             | Huge (2KB)                          |\n",
    "| Small code size and complexity  | Complex Code                        |\n",
    "\n",
    "\n",
    "Source: https://www.pcg-random.org/\n",
    "\n",
    "\n",
    "\n",
    "\n",
    "https://www.ibm.com/docs/en/aix/7.1?topic=types-signed-unsigned-integers (20/11/2021)\n",
    "https://numpy.org/doc/stable/reference/random/bit_generators/pcg64.html (20/11/2021)\n",
    "\n",
    "https://www.pcg-random.org/ (20/11/2021)\n",
    "https://numpy.org/doc/stable/reference/random/bit_generators/mt19937.html#numpy.random.MT19937"
   ]
  },
  {
   "cell_type": "markdown",
   "id": "093ddc16-36b8-423f-a3d4-21ce13ca8ea7",
   "metadata": {},
   "source": []
  },
  {
   "cell_type": "code",
   "execution_count": null,
   "id": "c04ca20f-3b5a-442c-9941-21ff6e230e64",
   "metadata": {},
   "outputs": [],
   "source": []
  },
  {
   "cell_type": "code",
   "execution_count": 35,
   "id": "1498be4e-da45-4295-aed1-0279288b6851",
   "metadata": {},
   "outputs": [
    {
     "name": "stdout",
     "output_type": "stream",
     "text": [
      "All cells running ok\n"
     ]
    }
   ],
   "source": [
    "# Debug check that all cells are running\n",
    "print('All cells running ok')"
   ]
  },
  {
   "cell_type": "markdown",
   "id": "258b0570-39d3-462c-b02e-53203389385b",
   "metadata": {},
   "source": [
    "## References Used"
   ]
  },
  {
   "cell_type": "code",
   "execution_count": null,
   "id": "a050ad53-5514-43df-acbb-0dbb0b26c5c2",
   "metadata": {},
   "outputs": [],
   "source": []
  }
 ],
 "metadata": {
  "kernelspec": {
   "display_name": "Python 3",
   "language": "python",
   "name": "python3"
  },
  "language_info": {
   "codemirror_mode": {
    "name": "ipython",
    "version": 3
   },
   "file_extension": ".py",
   "mimetype": "text/x-python",
   "name": "python",
   "nbconvert_exporter": "python",
   "pygments_lexer": "ipython3",
   "version": "3.8.8"
  }
 },
 "nbformat": 4,
 "nbformat_minor": 5
}
