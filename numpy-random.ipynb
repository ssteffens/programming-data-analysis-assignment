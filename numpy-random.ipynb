{
 "cells": [
  {
   "cell_type": "markdown",
   "id": "ca747803-6241-4530-9a01-15d8eba91b1a",
   "metadata": {},
   "source": [
    "# Programming for Data Analysis 2021 - Assignment"
   ]
  },
  {
   "cell_type": "markdown",
   "id": "8a1ccc16-20ad-4989-a357-72178e9200ba",
   "metadata": {},
   "source": [
    "## 1. Explain the overall purpose of the numpy.random package."
   ]
  },
  {
   "cell_type": "markdown",
   "id": "933bc638-8079-4fb6-a01f-fa75799805a2",
   "metadata": {},
   "source": [
    "### **1.1 The numpy.random Package - Subpackage of NumPy** \n",
    "\n",
    "The numpy.random package is a subpackage within the NumPy package. NumPy (short for Numerical Python) is a Python library which is used for dealing with arrays of numerical values. \n",
    "Arrays in NumPy are maintained as ndarray objects. These arrays can be 0-, 1- or multi-dimensional: \n",
    "- 0-D array: single value/scalar\n",
    "- 1-D array: a list of several 0-D arrays, also called uni-dimensional\n",
    "- 2-D array: an array consisting of two 1-D arrays, also called a matrix\n",
    "- 3-D array: an array that has 2-D arrays as its elements\n",
    "- n-D array: an array that has n-1 -D arrays as its elements\n",
    "All elements of an array need to be of the same data type. \n",
    "\n",
    "To be able to use NumPy, it needs to be imported. It is commonly imported as the alias np. "
   ]
  },
  {
   "cell_type": "code",
   "execution_count": 1,
   "id": "d36c8ef6-96ba-4bb3-8293-bf186b98e1c1",
   "metadata": {},
   "outputs": [],
   "source": [
    "# Importing numPy\n",
    "import numpy as np"
   ]
  },
  {
   "cell_type": "code",
   "execution_count": 2,
   "id": "b090f4b2-e57a-46bd-9b74-20cd88ca0ba9",
   "metadata": {},
   "outputs": [
    {
     "data": {
      "text/plain": [
       "'1.20.1'"
      ]
     },
     "execution_count": 2,
     "metadata": {},
     "output_type": "execute_result"
    }
   ],
   "source": [
    "# To check the installed version of NumPy \n",
    "np.__version__"
   ]
  },
  {
   "cell_type": "markdown",
   "id": "e327de91-9ddd-4ad7-b24b-318233c69730",
   "metadata": {},
   "source": [
    "### **1.2 The numpy.random Package - Use and Purpose**\n",
    "\n",
    "numpy.random is a subpackage within NumPy which enables users to generate and work with random numbers.\n",
    "\n",
    "\"Random means something that can not be predicted logically\" (https://www.w3schools.com/python/numpy/numpy_random.asp)\n",
    "\n",
    "Numbers created with the package are considered pseudo-random, meaning that they are not truly random but rather generated through a generation algorithm. By setting a seed value, the sequence of created numbers is reproducable (see further in part 4). \n",
    "\n",
    "In contrast, truly random numbers can be generated using random data from an outside source which could be mouse movements, time stamps, etc. \n",
    "\n",
    "In programming, pseudo-random numbers can be used for simulating data. the numpy.random package allows to create the required random numbers in different formats and fulfilling different criteria as required by the simulation scenario, for example selecting numbers from a pre-defined sample, or creating random numbers or arrays that follow certain distribution patterns. \n",
    "\n",
    "To be able to use the numpy.random module, calling the function numpy.random.default_rng() will start a new random number generator. "
   ]
  },
  {
   "cell_type": "code",
   "execution_count": 3,
   "id": "3a0e9542-7ab0-43b1-91b1-09a252ba6c9e",
   "metadata": {},
   "outputs": [],
   "source": [
    "# Define the random number generator (RNG)\n",
    "rng=np.random.default_rng()"
   ]
  },
  {
   "cell_type": "code",
   "execution_count": 4,
   "id": "331935d4-f881-4224-bec3-40a56c6ce85b",
   "metadata": {},
   "outputs": [
    {
     "data": {
      "text/plain": [
       "array([0.4056135 , 0.73988632, 0.37065243, 0.45276832, 0.09610496,\n",
       "       0.88742563, 0.81793052, 0.63700558, 0.11433071, 0.8757308 ])"
      ]
     },
     "execution_count": 4,
     "metadata": {},
     "output_type": "execute_result"
    }
   ],
   "source": [
    "# Example: Using the RNG to generate 10 random float point numbers\n",
    "rng.random(size=10)"
   ]
  },
  {
   "cell_type": "markdown",
   "id": "faedcd1b-7aa1-455d-bbd6-9f7bd38b8f13",
   "metadata": {},
   "source": [
    "References:\n",
    "\n",
    "https://www.w3schools.com/python/numpy/numpy_random.asp (30/10/2021)\n",
    "\n",
    "Numpy v.1.21 Manual https://numpy.org/doc/stable/ (30/10/2021)\n",
    "\n",
    "Random sampling (numpy.random) https://numpy.org/doc/stable/reference/random/index.html# (30/10/2021)"
   ]
  },
  {
   "cell_type": "markdown",
   "id": "6ac92937-7622-4ac6-ab5c-090f5f25f1ac",
   "metadata": {},
   "source": [
    "## **2. Explain the use of the “Simple random data” and “Permutations” functions.**"
   ]
  },
  {
   "cell_type": "markdown",
   "id": "13d999c0-127f-4bc5-9383-384f5d921fe5",
   "metadata": {},
   "source": [
    "Functions for creating simple random data can be used to return integers, floats, or a random sample from a given array. \n",
    "<br>\n",
    "Permutation modify an array or sequence already in place by shuffling or rearranging the sequence. "
   ]
  },
  {
   "cell_type": "markdown",
   "id": "e5866a16-9e74-4ebb-bae2-12076132f484",
   "metadata": {},
   "source": [
    "<br>\n",
    "\n",
    "### **2.1 Simple Random Data**\n",
    "A number of functions can be used to generate simple random data, for example single or several numbers, or taking a random sample from a given array. "
   ]
  },
  {
   "cell_type": "markdown",
   "id": "5631856a-6be4-43d2-a1c8-eece16773938",
   "metadata": {},
   "source": [
    "<br>\n",
    "\n",
    "#### **2.1.1 Generating Random Integers**\n",
    "The rng.integers() function can be used to create random integers. "
   ]
  },
  {
   "cell_type": "code",
   "execution_count": 5,
   "id": "6a48cadc-c486-4185-a690-6ee2b377bc4c",
   "metadata": {},
   "outputs": [
    {
     "data": {
      "text/plain": [
       "0"
      ]
     },
     "execution_count": 5,
     "metadata": {},
     "output_type": "execute_result"
    }
   ],
   "source": [
    "# Generate a single random integer in the range from 0 (inclusive) to 5 (exclusive)\n",
    "rng.integers(5)"
   ]
  },
  {
   "cell_type": "markdown",
   "id": "681a6789-3e7d-473b-94a9-ab8735384bb0",
   "metadata": {},
   "source": [
    "The rng.integers() function can take a number of parameters to further define the output:\n",
    "- The range from which integers are drawn (low, high). The range inludes the low value but by default excludes the high value. \n",
    "- The number of random integers to be drawn (size)\n",
    "- Data type of results\n",
    "- Endpoint = True sets the high value to be inclusive of the entered value\n",
    "\n",
    "https://numpy.org/doc/stable/reference/random/generated/numpy.random.Generator.integers.html (13/11/2021)\n",
    "\n"
   ]
  },
  {
   "cell_type": "code",
   "execution_count": 6,
   "id": "eea0adb7-b4ee-4bb5-a0de-6b22926299ed",
   "metadata": {},
   "outputs": [
    {
     "data": {
      "text/plain": [
       "array([16, 15, 11, 10, 19], dtype=int64)"
      ]
     },
     "execution_count": 6,
     "metadata": {},
     "output_type": "execute_result"
    }
   ],
   "source": [
    "# Example: Generate an array of 5 integers between 10 (inclusive) and 20 (exclusive)\n",
    "rng.integers(low=10, high=20, size=5)"
   ]
  },
  {
   "cell_type": "markdown",
   "id": "0c7253fb-87db-4c05-ae81-779fc7f1bd13",
   "metadata": {},
   "source": [
    "<br>\n",
    "\n",
    "#### **2.1.2 Generating Random Float Numbers**\n",
    "\n",
    "The rng.random() function can be used to create float point numbers between 0 and 1 (exclusive).\n"
   ]
  },
  {
   "cell_type": "code",
   "execution_count": 7,
   "id": "f2a01847-4439-49fb-9b1f-4901ac56dcdd",
   "metadata": {},
   "outputs": [
    {
     "data": {
      "text/plain": [
       "0.9998344667993312"
      ]
     },
     "execution_count": 7,
     "metadata": {},
     "output_type": "execute_result"
    }
   ],
   "source": [
    "# Exapmle: Generate a single float point number\n",
    "rng.random()"
   ]
  },
  {
   "cell_type": "markdown",
   "id": "09792b18-0ebe-46b7-98cc-1d18c4a1a9e5",
   "metadata": {},
   "source": [
    "Similar to creating integers, additional parameters can be added to further define the output: \n",
    "- The number of random float numbers to be drawn (size)\n",
    "- Data type (float64 or float32)\n",
    "- An alternative output array\n",
    "\n",
    "https://numpy.org/doc/stable/reference/random/generated/numpy.random.Generator.random.html#numpy.random.Generator.random (13/11/2021)"
   ]
  },
  {
   "cell_type": "code",
   "execution_count": 8,
   "id": "84101c36-6ed4-4a29-a994-24dec51f4612",
   "metadata": {},
   "outputs": [
    {
     "data": {
      "text/plain": [
       "array([0.89377736, 0.82882235, 0.98931806, 0.49582327, 0.8463719 ])"
      ]
     },
     "execution_count": 8,
     "metadata": {},
     "output_type": "execute_result"
    }
   ],
   "source": [
    "# Generate an array of 5 float point numbers\n",
    "rng.random(size=5)"
   ]
  },
  {
   "cell_type": "markdown",
   "id": "76fdda62-791a-43ec-bd2e-8500ff0f7fea",
   "metadata": {},
   "source": [
    "<br>\n",
    "\n",
    "#### **2.1.3 Generating n-dimensional Arrays of Random Numbers**\n",
    "\n",
    "Both rng.integers() and rng.random() can be used to create n-dimensional arrays of random numbers, for example to simulate a table of values. \n",
    "\n",
    "https://numpy.org/doc/stable/reference/random/generated/numpy.random.Generator.integers.html#numpy.random.Generator.integers (19/11/2021)"
   ]
  },
  {
   "cell_type": "code",
   "execution_count": 9,
   "id": "29f4c59b-02ca-49f8-a0ef-689284e601ca",
   "metadata": {},
   "outputs": [
    {
     "data": {
      "text/plain": [
       "array([[1, 1, 2, 4],\n",
       "       [1, 1, 1, 1],\n",
       "       [2, 1, 4, 1]], dtype=int64)"
      ]
     },
     "execution_count": 9,
     "metadata": {},
     "output_type": "execute_result"
    }
   ],
   "source": [
    "# Generate a 3 x 4 array of integers with maximum value 5 (exlusive)\n",
    "rng.integers(5, size=(3, 4))"
   ]
  },
  {
   "cell_type": "code",
   "execution_count": 10,
   "id": "2fa3021a-e76d-45be-8293-640bfb17e567",
   "metadata": {},
   "outputs": [
    {
     "data": {
      "text/plain": [
       "array([[ 0,  5,  3,  6],\n",
       "       [11, 15, 19, 13],\n",
       "       [27, 21, 24, 29]], dtype=int64)"
      ]
     },
     "execution_count": 10,
     "metadata": {},
     "output_type": "execute_result"
    }
   ],
   "source": [
    "# Generate a 3 x 4 array of integers with different low and high values for each dimension (row)\n",
    "rng.integers([[0, 0, 0, 0], [10, 10, 10, 10], [20, 20, 20, 20]], [[10], [20], [30]], size=[3, 4])"
   ]
  },
  {
   "cell_type": "markdown",
   "id": "e2774df6-1987-4e29-86e0-62097ad15e36",
   "metadata": {},
   "source": [
    "<br>\n",
    "\n",
    "#### **2.1.4 Selecting Random Numbers from a Predefined Array**\n",
    "\n",
    "The rng.choice() function can be used to generate a random sample from a given array. \n",
    "\n",
    "https://numpy.org/doc/stable/reference/random/generated/numpy.random.Generator.choice.html#numpy.random.Generator.choice (13/11/2021)"
   ]
  },
  {
   "cell_type": "code",
   "execution_count": 11,
   "id": "a701b26e-ff77-4485-a6b0-6cb8904baf79",
   "metadata": {},
   "outputs": [
    {
     "data": {
      "text/plain": [
       "array([1, 1, 5])"
      ]
     },
     "execution_count": 11,
     "metadata": {},
     "output_type": "execute_result"
    }
   ],
   "source": [
    "# Select 3 integers from an array of [1, 2, 3, 4, 5]\n",
    "rng.choice([1,2,3,4,5], 3)"
   ]
  },
  {
   "cell_type": "markdown",
   "id": "a5a88eb3-4fd2-4a59-9d33-f20759fe2b2f",
   "metadata": {},
   "source": [
    "An important aspect of random number generation is the distribution of data. The rng.choice() function can be used to define the probability of random numbers being selected by assigning probability values. "
   ]
  },
  {
   "cell_type": "code",
   "execution_count": 12,
   "id": "66ba29c2-6a9a-4ff8-9ba0-b51cc2455db4",
   "metadata": {},
   "outputs": [
    {
     "data": {
      "text/plain": [
       "array([2, 2, 3, 2, 3, 3, 1, 3, 3, 2])"
      ]
     },
     "execution_count": 12,
     "metadata": {},
     "output_type": "execute_result"
    }
   ],
   "source": [
    "# Select 10 integers from an array of [1, 2, 3, 4, 5]. The probability of selecting 1, 2 and 3 is set to 0.3, \n",
    "# the probaility of selecting 4 is set to 0.1 and the probablility of selecting 5 is set to 0:\n",
    "\n",
    "ch = rng.choice([1,2,3,4,5], 10, p=(0.3, 0.3, 0.3, 0.1, 0))\n",
    "ch"
   ]
  },
  {
   "cell_type": "markdown",
   "id": "733e1772-edb3-405d-b904-9ea970ffd28f",
   "metadata": {},
   "source": [
    "<br>\n",
    "\n",
    "#### **2.1.5 Generating Random Bytes**\n",
    "\n",
    "The rng.bytes() function can be used to generate random bytes. The length parameter determines the number of bytes to be created. \n",
    "\n",
    "https://numpy.org/doc/stable/reference/random/generated/numpy.random.Generator.bytes.html#numpy.random.Generator.bytes (19/11/2021)"
   ]
  },
  {
   "cell_type": "code",
   "execution_count": 13,
   "id": "188d1530-db4a-4427-9b36-c2205530a7d0",
   "metadata": {},
   "outputs": [
    {
     "data": {
      "text/plain": [
       "b'/4\\xc7\\xd7\\xe3\\x11\\x8c^\\x18!'"
      ]
     },
     "execution_count": 13,
     "metadata": {},
     "output_type": "execute_result"
    }
   ],
   "source": [
    "# Example: Generate 10 random bytes\n",
    "rng.bytes(10)"
   ]
  },
  {
   "cell_type": "markdown",
   "id": "57ffaf61-b047-4774-b246-fd2476b915bc",
   "metadata": {},
   "source": [
    "<br>\n",
    "\n",
    "### **2.2 Permutations**"
   ]
  },
  {
   "cell_type": "markdown",
   "id": "961d847a-4bf3-4e88-8ca2-c1583a11bd6d",
   "metadata": {},
   "source": [
    "Random permuations can be used to re-arrange elements within a given array, for example by changing the order of [1, 2, 3] to [3, 2, 1].\n",
    "The numpy.random package offers 3 methods for changing the order of array elements: \n",
    "- shuffle()\n",
    "- permutation()\n",
    "- permuted()\n",
    "\n",
    "Permutations: https://numpy.org/doc/stable/reference/random/generated/numpy.random.Generator.permutation.html"
   ]
  },
  {
   "cell_type": "markdown",
   "id": "d4500e25-3204-4d36-8576-6d846d400882",
   "metadata": {},
   "source": [
    "<br>\n",
    "\n",
    "#### **2.2.1 Re-shuffling an Array**\n",
    "The shuffle() function changes the original array by re-arranging its elements. \n",
    "\n",
    "https://numpy.org/doc/stable/reference/random/generated/numpy.random.Generator.shuffle.html#numpy.random.Generator.shuffle (13/11/2021)\n",
    "\n",
    "https://likegeeks.com/numpy-shuffle/ (14/11/2021)\n",
    "\n",
    "https://zkf85.github.io/2019/01/31/np-shuffle-vs-permutation (14/11/2021)"
   ]
  },
  {
   "cell_type": "code",
   "execution_count": 14,
   "id": "92d000cb-11d3-466a-bcd8-cd69694b9fbd",
   "metadata": {},
   "outputs": [
    {
     "data": {
      "text/plain": [
       "[4, 5, 1, 2, 3]"
      ]
     },
     "execution_count": 14,
     "metadata": {},
     "output_type": "execute_result"
    }
   ],
   "source": [
    "# Example: \n",
    "arr = [1,2,3,4,5]\n",
    "\n",
    "rng.shuffle(arr)\n",
    "arr"
   ]
  },
  {
   "cell_type": "markdown",
   "id": "501c4554-93f7-4b9f-b9c1-eb58eae32403",
   "metadata": {},
   "source": [
    "For 2- or more-dimensional arrays, if using the shuffle() function as above, the order of arrays withinh the first dimension is changed, their individual elements remain in the same order. "
   ]
  },
  {
   "cell_type": "code",
   "execution_count": 15,
   "id": "4da2e6bd-353b-4f8a-83b1-e759bca301b0",
   "metadata": {},
   "outputs": [
    {
     "data": {
      "text/plain": [
       "array([[1, 2, 3],\n",
       "       [4, 5, 6],\n",
       "       [7, 8, 9]])"
      ]
     },
     "execution_count": 15,
     "metadata": {},
     "output_type": "execute_result"
    }
   ],
   "source": [
    "# Example\n",
    "arr = np.array([[1,2,3], [4,5,6], [7,8,9]])\n",
    "rng.shuffle(arr)\n",
    "arr"
   ]
  },
  {
   "cell_type": "markdown",
   "id": "9c60533c-3076-41f5-bb8e-964bb07db2a2",
   "metadata": {},
   "source": [
    "To also rearrange the order of elements within the 2nd dimension, the axis parameter can be added to the function. In the below example, the three sub-arrays will remain in the same order (starting with the array containing numbers 1, 2 and 3) but within the sub-arrays the elements are rearranged. "
   ]
  },
  {
   "cell_type": "code",
   "execution_count": 16,
   "id": "02813440-338b-41fe-85ad-ad7dd4e66918",
   "metadata": {},
   "outputs": [
    {
     "data": {
      "text/plain": [
       "array([[1, 2, 3],\n",
       "       [4, 5, 6],\n",
       "       [7, 8, 9]])"
      ]
     },
     "execution_count": 16,
     "metadata": {},
     "output_type": "execute_result"
    }
   ],
   "source": [
    "arr = np.array([[1,2,3], [4,5,6], [7,8,9]])\n",
    "arr"
   ]
  },
  {
   "cell_type": "code",
   "execution_count": 17,
   "id": "e1dfc667-57e5-4722-9967-4c77981f8d31",
   "metadata": {},
   "outputs": [
    {
     "data": {
      "text/plain": [
       "array([[3, 1, 2],\n",
       "       [6, 4, 5],\n",
       "       [9, 7, 8]])"
      ]
     },
     "execution_count": 17,
     "metadata": {},
     "output_type": "execute_result"
    }
   ],
   "source": [
    "rng.shuffle(arr, axis=1)\n",
    "arr"
   ]
  },
  {
   "cell_type": "markdown",
   "id": "09526518-ec3d-47c4-8a98-efd8467953e4",
   "metadata": {},
   "source": [
    "<br>\n",
    "\n",
    "#### **2.2.2 Creating a Re-arranged Copy of an Array**\n",
    "While the shuffle() function changes to original array, the permutation() function returns a copy of the original array with re-arranged elements.\n",
    "\n",
    "https://numpy.org/doc/stable/reference/random/generated/numpy.random.Generator.permutation.html#numpy.random.Generator.permutation (13/11/2021)"
   ]
  },
  {
   "cell_type": "code",
   "execution_count": 18,
   "id": "fdfa52f6-666d-41ac-a563-0d15386120c6",
   "metadata": {},
   "outputs": [
    {
     "data": {
      "text/plain": [
       "array([3, 5, 4, 2, 1])"
      ]
     },
     "execution_count": 18,
     "metadata": {},
     "output_type": "execute_result"
    }
   ],
   "source": [
    "# Example\n",
    "arr = [1,2,3,4,5]\n",
    "\n",
    "rng.permutation(arr)"
   ]
  },
  {
   "cell_type": "markdown",
   "id": "f19d6e9f-ca1c-4f7a-aa50-af87f0643eef",
   "metadata": {},
   "source": [
    "Similar to the shuffle() function, permuation() also allows to rearrange arrays with more than 1 dimension."
   ]
  },
  {
   "cell_type": "code",
   "execution_count": 19,
   "id": "d8a70a95-7834-4eb0-ac64-9d7484923ae9",
   "metadata": {},
   "outputs": [
    {
     "data": {
      "text/plain": [
       "array([[7, 8, 9],\n",
       "       [4, 5, 6],\n",
       "       [1, 2, 3]])"
      ]
     },
     "execution_count": 19,
     "metadata": {},
     "output_type": "execute_result"
    }
   ],
   "source": [
    "# Example\n",
    "arr = np.array([[1,2,3], [4,5,6], [7,8,9]])\n",
    "rng.permutation(arr)"
   ]
  },
  {
   "cell_type": "code",
   "execution_count": 20,
   "id": "701f59e4-b60e-4f78-a9b3-a40dae96b0cb",
   "metadata": {},
   "outputs": [
    {
     "data": {
      "text/plain": [
       "array([[1, 2, 3],\n",
       "       [4, 5, 6],\n",
       "       [7, 8, 9]])"
      ]
     },
     "execution_count": 20,
     "metadata": {},
     "output_type": "execute_result"
    }
   ],
   "source": [
    "arr = np.array([[1,2,3], [4,5,6], [7,8,9]])\n",
    "arr"
   ]
  },
  {
   "cell_type": "code",
   "execution_count": 21,
   "id": "b131f198-72c4-4560-ad79-1a4b96ca7b6e",
   "metadata": {},
   "outputs": [
    {
     "data": {
      "text/plain": [
       "array([[1, 3, 2],\n",
       "       [4, 6, 5],\n",
       "       [7, 9, 8]])"
      ]
     },
     "execution_count": 21,
     "metadata": {},
     "output_type": "execute_result"
    }
   ],
   "source": [
    "rng.permutation(arr, axis=1)"
   ]
  },
  {
   "cell_type": "markdown",
   "id": "731b25e6-4015-4871-87ef-803f6d712cfc",
   "metadata": {},
   "source": [
    "<br>\n",
    "\n",
    "#### **2.2.3 Re-arranging One- or Multi-dimensional Arrays**\n",
    "The permuted() function enables to shuffle sub-arrays independent of each other. It also gives an option to chose whether for the original array is re-arranged or whether a copy of the original array is re-arranged. \n",
    "\n",
    "https://numpy.org/doc/stable/reference/random/generated/numpy.random.Generator.permuted.html#numpy.random.Generator.permuted (14/11/2021)"
   ]
  },
  {
   "cell_type": "code",
   "execution_count": 22,
   "id": "b18ff551-9223-4a38-acc1-2caae241d916",
   "metadata": {},
   "outputs": [],
   "source": [
    "# Example\n",
    "arr = np.array([[1,2,3], [4,5,6], [7,8,9]])"
   ]
  },
  {
   "cell_type": "code",
   "execution_count": 23,
   "id": "2a9e35dd-279a-4615-9eb5-22d55dae15c9",
   "metadata": {},
   "outputs": [
    {
     "data": {
      "text/plain": [
       "array([[3, 1, 2],\n",
       "       [6, 4, 5],\n",
       "       [8, 7, 9]])"
      ]
     },
     "execution_count": 23,
     "metadata": {},
     "output_type": "execute_result"
    }
   ],
   "source": [
    "yarr = rng.permuted(arr, axis=1)\n",
    "yarr"
   ]
  },
  {
   "cell_type": "code",
   "execution_count": 24,
   "id": "1c1dd6fd-2f74-42bd-8398-4f31f0434f38",
   "metadata": {},
   "outputs": [],
   "source": [
    "# Example\n",
    "arr = np.array([[1,2,3], [4,5,6], [7,8,9]])"
   ]
  },
  {
   "cell_type": "code",
   "execution_count": 25,
   "id": "93c17d0d-0715-42d5-88cf-ed6382f13451",
   "metadata": {},
   "outputs": [
    {
     "data": {
      "text/plain": [
       "array([[2, 1, 3],\n",
       "       [6, 4, 5],\n",
       "       [8, 9, 7]])"
      ]
     },
     "execution_count": 25,
     "metadata": {},
     "output_type": "execute_result"
    }
   ],
   "source": [
    "yarr = rng.permuted(arr, axis=1, out=arr)\n",
    "arr"
   ]
  },
  {
   "cell_type": "code",
   "execution_count": null,
   "id": "a02265dc-a729-4ae0-893b-bf20921e9083",
   "metadata": {},
   "outputs": [],
   "source": []
  },
  {
   "cell_type": "markdown",
   "id": "3b7ba531-e1de-4586-a906-b22be4d5b9fd",
   "metadata": {},
   "source": [
    "<br>\n",
    "\n",
    "## **3. Explain the use and purpose of at least five “Distributions” functions.**"
   ]
  },
  {
   "cell_type": "code",
   "execution_count": null,
   "id": "9cbe1447-ddd9-4325-a705-e9342e413890",
   "metadata": {},
   "outputs": [],
   "source": []
  },
  {
   "cell_type": "code",
   "execution_count": 26,
   "id": "99cc60ee-4574-45bd-8d09-1911d934ca40",
   "metadata": {},
   "outputs": [],
   "source": [
    "# For visualisation of the distribution functions described below, the seaborn module is imported.\n",
    "import seaborn as sns"
   ]
  },
  {
   "cell_type": "markdown",
   "id": "d3eef459-5048-4c5f-af59-4b2466f573ce",
   "metadata": {},
   "source": [
    "### **3.1 Uniform Distribution**\n",
    "\n",
    "https://numpy.org/doc/stable/reference/random/generated/numpy.random.Generator.uniform.html#numpy.random.Generator.uniform (15/11/2021)"
   ]
  },
  {
   "cell_type": "markdown",
   "id": "3af83d93-a077-47df-a5d5-385df8c6ddb2",
   "metadata": {},
   "source": [
    "The uniform() method returns float point numbers in a specified range from low (inclusive) to high (exclusive) values. For uniform distributions each event has equal changes of occuring. "
   ]
  },
  {
   "cell_type": "code",
   "execution_count": 27,
   "id": "5fbefc42-efad-40ed-9a72-70f4de1c635b",
   "metadata": {
    "scrolled": true,
    "tags": []
   },
   "outputs": [
    {
     "data": {
      "text/plain": [
       "array([2.61508203e+00, 2.08037303e+00, 4.61463733e+00, 3.72272676e+00,\n",
       "       2.83881169e-01, 2.75145445e+00, 8.30135984e+00, 6.43695925e+00,\n",
       "       2.98710373e+00, 5.35288969e+00, 3.92173612e+00, 6.66882436e+00,\n",
       "       1.95546138e+00, 6.54589301e+00, 5.23885015e+00, 1.57285920e+00,\n",
       "       9.00948350e+00, 5.54227276e+00, 2.45371377e+00, 4.99026777e+00,\n",
       "       4.65560813e+00, 1.47654702e+00, 4.44254062e+00, 3.13800818e+00,\n",
       "       9.49668035e+00, 4.87656440e+00, 8.42584370e-01, 7.42061611e-01,\n",
       "       9.46043913e-01, 3.78048706e+00, 5.71351747e+00, 8.69549236e+00,\n",
       "       7.28410166e+00, 9.67875108e+00, 5.83911568e+00, 9.77788631e+00,\n",
       "       3.85372671e+00, 8.02061859e+00, 4.37883183e+00, 3.09667318e+00,\n",
       "       1.42919189e+00, 4.90710543e-01, 6.98344611e-01, 7.62233407e+00,\n",
       "       3.93679446e+00, 6.92778616e+00, 3.68354465e+00, 2.59315375e+00,\n",
       "       4.09911192e+00, 7.87010276e+00, 9.09524761e+00, 8.05001028e+00,\n",
       "       9.70126999e+00, 3.13021864e+00, 5.33073787e+00, 1.70898036e+00,\n",
       "       6.33370795e+00, 9.05020586e+00, 3.31971910e-01, 4.56401979e+00,\n",
       "       7.62635437e+00, 6.44749358e+00, 6.64005763e+00, 2.36370577e+00,\n",
       "       8.18174339e+00, 6.69708582e+00, 9.67158007e+00, 9.90967515e+00,\n",
       "       3.66919293e+00, 6.61755639e-02, 1.04698713e+00, 3.81954510e+00,\n",
       "       4.92241917e+00, 1.69406416e+00, 2.66139905e+00, 9.06936809e+00,\n",
       "       4.66309384e+00, 1.86264014e+00, 5.71723151e+00, 2.68841029e+00,\n",
       "       5.17547072e+00, 4.75728275e+00, 5.40012932e+00, 3.51434051e+00,\n",
       "       6.31911042e+00, 7.02956706e+00, 7.68728319e+00, 8.04564662e+00,\n",
       "       5.01696040e+00, 4.05795188e+00, 4.61668232e+00, 6.39157179e+00,\n",
       "       1.52256315e+00, 9.31520849e-01, 4.73972462e+00, 8.99427702e-02,\n",
       "       5.86531161e+00, 4.11013166e+00, 2.24960120e+00, 3.85557751e+00,\n",
       "       3.33689029e+00, 6.60357962e+00, 9.45718875e+00, 1.83578993e+00,\n",
       "       6.69175845e+00, 9.27926804e+00, 1.69834125e+00, 1.22435257e+00,\n",
       "       3.87878144e+00, 5.09302011e+00, 5.35540069e+00, 7.24418046e-01,\n",
       "       5.41417635e-01, 4.02843282e+00, 7.51364116e+00, 6.59819643e+00,\n",
       "       3.83273363e+00, 2.62544483e+00, 3.63079929e+00, 1.72645650e+00,\n",
       "       1.21231407e+00, 6.77434436e+00, 8.72218750e+00, 4.10319069e+00,\n",
       "       9.88601934e+00, 5.52041902e-01, 7.18310260e+00, 2.29585966e+00,\n",
       "       5.08100129e+00, 6.52224272e+00, 5.68626122e+00, 9.95972788e+00,\n",
       "       4.93388124e+00, 2.67086027e+00, 3.11081272e+00, 3.99370105e+00,\n",
       "       4.31179087e+00, 8.76401819e+00, 8.19045093e+00, 7.51081061e-01,\n",
       "       1.51170264e+00, 5.54172013e-01, 4.95573893e-02, 7.41297188e+00,\n",
       "       3.87152986e+00, 4.14530076e+00, 5.94768608e+00, 8.25875129e+00,\n",
       "       5.20772196e+00, 3.50445404e+00, 8.80665836e+00, 7.94542712e+00,\n",
       "       9.54635746e+00, 6.38444466e+00, 6.46840687e+00, 1.84589840e+00,\n",
       "       5.47299591e+00, 5.62010299e-01, 5.78415590e+00, 6.52495165e+00,\n",
       "       8.50240013e+00, 2.48868031e+00, 9.31347723e+00, 7.62059967e+00,\n",
       "       8.10477751e+00, 8.87963253e+00, 2.78474590e+00, 6.67426946e+00,\n",
       "       6.13892466e+00, 5.78190178e+00, 5.72482876e+00, 8.85330644e+00,\n",
       "       2.21620192e+00, 1.96799598e+00, 2.98649620e+00, 4.64471495e-02,\n",
       "       8.40606602e+00, 3.98678363e-01, 6.78116057e+00, 1.62006721e+00,\n",
       "       7.74016021e-01, 5.53774485e+00, 4.28630548e+00, 5.40646606e-02,\n",
       "       1.23198327e-01, 5.04618737e+00, 9.24593770e+00, 6.53367143e+00,\n",
       "       9.09201460e+00, 1.49395625e+00, 2.20802398e+00, 6.96853555e+00,\n",
       "       4.03986076e+00, 2.46995481e+00, 1.98701071e+00, 8.93930885e+00,\n",
       "       5.00739098e+00, 2.31833683e+00, 7.59029999e+00, 3.29229299e+00,\n",
       "       6.24586788e+00, 9.44576946e+00, 6.64816408e+00, 9.85207766e+00,\n",
       "       9.87245437e-01, 9.48034690e+00, 6.15311190e+00, 1.64211861e+00,\n",
       "       3.34731774e+00, 4.71764587e+00, 3.74781055e+00, 9.09900803e-01,\n",
       "       2.68908923e+00, 6.37123039e+00, 1.96366885e+00, 1.51887331e+00,\n",
       "       1.70708607e-01, 2.81934126e+00, 6.47678254e+00, 3.61884054e+00,\n",
       "       2.22230019e+00, 9.95541787e+00, 6.50052863e+00, 4.20863678e+00,\n",
       "       4.50660173e+00, 6.35562302e+00, 3.12058244e+00, 1.90885374e+00,\n",
       "       6.27975606e+00, 9.61224058e+00, 1.55822792e+00, 6.23483940e+00,\n",
       "       3.14631341e+00, 2.36492437e+00, 4.87712248e+00, 3.88598320e-01,\n",
       "       2.35368032e+00, 2.00359142e-01, 1.41915635e+00, 9.50569846e+00,\n",
       "       9.14025359e+00, 8.03079142e+00, 8.67756595e+00, 1.39080786e+00,\n",
       "       8.39013181e+00, 6.85530967e+00, 7.26284782e+00, 7.43304279e+00,\n",
       "       1.05839973e+00, 4.86894185e+00, 4.86481719e+00, 8.20647072e+00,\n",
       "       5.76843410e+00, 6.83990101e+00, 5.60540495e-01, 4.72333801e-01,\n",
       "       3.95058782e+00, 7.38361401e+00, 5.13486101e+00, 4.06270690e+00,\n",
       "       6.97357946e+00, 9.36932713e+00, 6.68202200e-02, 9.26988018e+00,\n",
       "       6.35531158e-01, 9.27112719e+00, 5.04726402e+00, 1.62145849e+00,\n",
       "       7.63439350e+00, 1.55344735e+00, 8.89641069e+00, 9.13979751e+00,\n",
       "       2.43751027e+00, 2.41205968e+00, 9.60754245e+00, 3.77566714e-01,\n",
       "       3.81924204e+00, 4.94663895e+00, 9.73455502e+00, 3.01710998e+00,\n",
       "       8.06756464e+00, 6.68792903e+00, 6.76512900e+00, 2.99095210e+00,\n",
       "       8.78683894e+00, 3.40659928e-02, 1.71616044e+00, 7.64394899e+00,\n",
       "       6.02995996e-01, 2.06890668e+00, 4.90211540e+00, 8.30646722e+00,\n",
       "       2.75646554e+00, 7.30442689e+00, 3.73198071e+00, 5.11086563e+00,\n",
       "       3.73625429e+00, 3.24258077e+00, 6.86989010e+00, 9.55218607e+00,\n",
       "       3.36625306e+00, 5.93253277e+00, 3.32926136e-01, 3.84582845e+00,\n",
       "       5.97074454e+00, 2.71079499e+00, 4.93269260e+00, 4.19432222e+00,\n",
       "       4.84967773e+00, 1.66049125e+00, 3.47235255e+00, 3.88991007e+00,\n",
       "       2.78580050e+00, 7.07914001e+00, 2.14678931e+00, 8.26434507e+00,\n",
       "       5.84267072e+00, 8.90545647e+00, 9.76980079e+00, 2.83035916e+00,\n",
       "       1.11041684e+00, 7.16490280e+00, 3.94789652e+00, 1.31311650e+00,\n",
       "       6.45928182e+00, 9.94399627e+00, 6.95191170e-01, 4.18213180e+00,\n",
       "       7.08355577e+00, 2.11507088e+00, 5.31113785e+00, 4.69517001e+00,\n",
       "       6.43585163e+00, 5.69694360e+00, 7.61574198e-01, 3.46231451e+00,\n",
       "       9.14156149e+00, 7.83205726e+00, 1.69240223e+00, 5.55015507e+00,\n",
       "       5.90091219e+00, 9.60555313e+00, 5.48931285e+00, 2.05212235e+00,\n",
       "       4.93813769e+00, 4.53303183e+00, 1.70077142e+00, 4.41537353e+00,\n",
       "       9.61210826e+00, 6.44665040e+00, 1.68604181e+00, 3.52275486e+00,\n",
       "       9.74364412e-01, 8.69342962e+00, 7.25797740e+00, 6.84624231e+00,\n",
       "       5.43398782e+00, 7.48874830e+00, 2.28064895e+00, 9.14382017e+00,\n",
       "       1.65877137e+00, 3.36131237e+00, 2.65006465e+00, 1.50253587e+00,\n",
       "       8.58462225e+00, 9.18913242e+00, 2.13156268e-01, 1.27821417e+00,\n",
       "       6.99192348e+00, 4.04814553e+00, 2.87727074e+00, 3.61575874e+00,\n",
       "       7.09928924e+00, 6.91343934e+00, 4.95043509e+00, 2.71098810e+00,\n",
       "       9.10674806e+00, 1.94823793e+00, 3.93264151e+00, 7.78130915e+00,\n",
       "       2.02510427e+00, 7.11982015e+00, 5.99906062e+00, 6.07230387e-01,\n",
       "       9.63632903e+00, 8.86091798e+00, 3.04325716e+00, 7.38845284e+00,\n",
       "       3.08062531e+00, 6.02303307e+00, 5.38511669e+00, 8.32610964e+00,\n",
       "       4.85741372e+00, 7.04855962e+00, 8.86957987e+00, 2.95806628e+00,\n",
       "       5.61973644e+00, 3.96417341e+00, 4.04913839e-01, 4.30190758e-01,\n",
       "       9.50610532e+00, 8.97124049e+00, 6.80464846e+00, 7.12232860e+00,\n",
       "       5.49694907e+00, 7.05486915e+00, 4.72883538e+00, 4.76652981e+00,\n",
       "       5.83739239e+00, 6.95667033e+00, 7.19652809e+00, 4.32162434e+00,\n",
       "       2.55363476e-01, 9.64121083e+00, 7.38418065e+00, 8.94833637e+00,\n",
       "       9.17490386e+00, 2.57003831e+00, 5.33794165e+00, 5.06206003e+00,\n",
       "       1.57209171e+00, 4.14343789e+00, 7.42403083e+00, 4.72965771e+00,\n",
       "       6.61040942e+00, 2.76256483e+00, 1.36731752e+00, 8.95605494e+00,\n",
       "       7.59302878e+00, 4.32069487e+00, 5.41289173e+00, 5.76127114e+00,\n",
       "       1.05768035e+00, 5.71406837e+00, 8.87577596e+00, 8.28050397e+00,\n",
       "       3.24007926e+00, 1.90151022e+00, 6.96176134e+00, 6.38484279e+00,\n",
       "       8.96294212e+00, 3.39838652e-01, 2.23595331e+00, 9.29584006e+00,\n",
       "       4.57092167e+00, 1.24684390e+00, 6.21999759e+00, 8.99086846e-01,\n",
       "       1.72396838e+00, 4.90999074e+00, 7.58984903e+00, 1.98191549e+00,\n",
       "       8.20282650e+00, 9.98618643e+00, 1.45238898e+00, 3.51813363e+00,\n",
       "       2.21402108e+00, 6.01250352e+00, 4.19866186e+00, 7.47625876e+00,\n",
       "       5.24240315e+00, 7.71281210e+00, 2.55992989e+00, 6.53107935e+00,\n",
       "       2.84485505e+00, 1.04447731e+00, 9.75397521e+00, 2.57660379e-01,\n",
       "       5.03511226e+00, 8.56187225e+00, 4.13253477e+00, 1.01442967e+00,\n",
       "       5.71927495e+00, 3.77772130e+00, 9.76148158e+00, 5.00242984e+00,\n",
       "       5.44264407e+00, 9.85295411e+00, 4.42547119e+00, 8.34110647e+00,\n",
       "       7.30154477e+00, 1.22921142e-01, 2.50261072e+00, 3.35287177e+00,\n",
       "       8.04146743e+00, 1.37879663e+00, 3.21940008e+00, 8.87272695e+00,\n",
       "       7.88085598e+00, 9.88655121e+00, 2.49009168e+00, 6.39925753e+00,\n",
       "       9.49664003e+00, 5.73859162e+00, 2.36955837e+00, 8.11628583e+00,\n",
       "       7.74720228e+00, 2.56641094e+00, 8.66482778e+00, 8.32955740e+00,\n",
       "       8.31924379e+00, 1.31679503e+00, 6.24158864e-01, 9.06749338e-01,\n",
       "       3.64794746e+00, 8.45493875e-01, 3.22846580e-01, 6.60817787e+00,\n",
       "       1.62367207e-01, 4.26259541e+00, 4.32320522e+00, 7.63064567e+00,\n",
       "       2.11564720e+00, 9.13979553e+00, 7.01657184e+00, 9.62180894e+00,\n",
       "       4.44479957e+00, 2.26138451e+00, 8.61532834e+00, 1.78209152e+00,\n",
       "       4.44857680e+00, 9.07043102e+00, 8.15365095e+00, 6.91888563e+00,\n",
       "       3.20164840e-01, 6.42638490e+00, 2.85376876e+00, 2.87341718e+00,\n",
       "       2.91111324e-01, 4.81061860e+00, 9.88552046e+00, 4.36575549e+00,\n",
       "       6.15778974e-01, 7.29663836e-01, 1.65921844e+00, 9.72550973e+00,\n",
       "       1.19372487e+00, 6.11590569e-01, 7.45022727e+00, 3.21644825e+00,\n",
       "       1.46743091e+00, 8.18395603e+00, 3.82018659e+00, 6.60126219e+00,\n",
       "       8.66979049e+00, 6.66859962e+00, 6.63938618e+00, 8.30326847e+00,\n",
       "       6.67124656e+00, 3.41791513e+00, 7.82262665e-02, 1.79768571e+00,\n",
       "       2.90607468e+00, 4.64629014e+00, 4.10850551e+00, 4.53127294e+00,\n",
       "       5.73031726e+00, 2.04546842e-01, 9.07553465e-01, 2.09752641e+00,\n",
       "       3.22705768e+00, 3.83150192e+00, 9.88462966e+00, 9.14426036e+00,\n",
       "       7.06011048e-01, 5.99644723e-01, 4.14462356e+00, 2.92046304e+00,\n",
       "       4.54543008e+00, 4.79504626e+00, 6.69328614e+00, 4.93917455e+00,\n",
       "       4.23515123e+00, 9.17269055e+00, 1.51260388e+00, 4.73964170e+00,\n",
       "       5.11995967e+00, 5.98558105e+00, 6.55815146e+00, 9.15456142e+00,\n",
       "       5.44701282e+00, 2.71162889e+00, 8.86252971e+00, 9.39517456e-01,\n",
       "       1.88996138e+00, 9.12315601e+00, 8.58634669e+00, 4.14389680e+00,\n",
       "       3.02781894e+00, 9.24599723e+00, 3.93388939e+00, 4.51833342e+00,\n",
       "       2.73072450e-01, 2.54114372e-02, 6.22685378e+00, 3.08642236e+00,\n",
       "       2.54859042e+00, 3.88972141e+00, 7.98792941e+00, 9.39661321e+00,\n",
       "       3.40024326e+00, 4.39263795e+00, 4.19475505e+00, 4.05570822e+00,\n",
       "       8.72508865e+00, 5.47923533e+00, 4.13168959e+00, 2.11209604e+00,\n",
       "       6.89304927e+00, 8.34367705e+00, 2.59053121e+00, 1.06389160e+00,\n",
       "       2.33774920e+00, 6.75767930e+00, 8.02589314e+00, 9.76577072e+00,\n",
       "       2.83452742e+00, 8.65265109e+00, 3.88302011e+00, 3.33258474e+00,\n",
       "       1.40784993e-01, 5.96313586e+00, 2.00456728e-01, 3.24550986e+00,\n",
       "       5.48272638e+00, 3.45617365e+00, 9.77843201e+00, 2.14513678e+00,\n",
       "       3.73239799e+00, 4.57208756e+00, 3.05389288e+00, 3.22525643e+00,\n",
       "       1.12270052e+00, 9.78137427e+00, 8.63835165e+00, 3.23007928e+00,\n",
       "       1.76806197e-01, 3.79542571e+00, 1.33075888e+00, 3.77065687e+00,\n",
       "       2.45690662e+00, 1.12946608e+00, 7.64672282e+00, 3.47613945e+00,\n",
       "       9.56399668e+00, 4.47367968e+00, 9.33914458e+00, 4.60878900e+00,\n",
       "       1.78262564e+00, 5.51312877e+00, 4.20532069e+00, 6.55765752e+00,\n",
       "       1.20742300e+00, 9.45427823e+00, 4.98080240e+00, 4.97720116e-01,\n",
       "       2.35554792e+00, 6.99825426e+00, 7.00345596e+00, 1.60795927e-01,\n",
       "       4.34254890e+00, 6.28489345e+00, 9.13228404e+00, 8.46958823e+00,\n",
       "       4.62821698e-01, 3.03205041e+00, 8.48881920e+00, 3.29410231e+00,\n",
       "       9.93782218e+00, 6.83871037e+00, 7.59709002e-01, 9.72771704e+00,\n",
       "       7.36439304e+00, 7.67405446e-01, 7.61649329e+00, 2.57421142e+00,\n",
       "       5.12807930e-01, 4.89525784e+00, 7.98071641e+00, 4.54573730e+00,\n",
       "       6.13840512e+00, 5.88599074e+00, 4.88283947e+00, 8.13371461e+00,\n",
       "       3.36026560e+00, 3.30591221e+00, 3.85208005e-01, 2.39148495e+00,\n",
       "       5.32621699e+00, 1.29021722e-01, 3.84607492e+00, 3.54804342e+00,\n",
       "       8.06220030e+00, 2.80546718e+00, 3.16548504e+00, 3.64404290e-01,\n",
       "       3.17824285e+00, 9.64142356e+00, 2.48151325e-01, 6.21953499e+00,\n",
       "       9.44179593e-01, 2.13196629e+00, 5.95753757e-01, 8.26691887e+00,\n",
       "       7.87291964e+00, 8.10398713e+00, 3.25772012e-01, 3.75361937e+00,\n",
       "       1.29867252e+00, 3.63224329e+00, 6.19559454e+00, 9.20539986e+00,\n",
       "       2.23849535e+00, 1.42280603e+00, 2.70060173e+00, 1.75861272e+00,\n",
       "       1.00466860e+00, 4.56758132e+00, 2.79604411e-02, 2.48126565e+00,\n",
       "       5.92939778e+00, 4.16584809e+00, 7.39260940e+00, 9.26406492e-01,\n",
       "       6.92239272e+00, 1.88971900e+00, 8.89444757e+00, 9.97625359e+00,\n",
       "       1.40663553e-01, 2.33838093e+00, 2.58349605e+00, 1.21332930e+00,\n",
       "       8.64702716e+00, 9.84519927e+00, 1.19538090e+00, 6.79197394e+00,\n",
       "       1.43268503e+00, 8.97342751e+00, 7.54704411e+00, 5.44317252e+00,\n",
       "       1.71516698e+00, 6.86869013e+00, 9.12714129e+00, 8.36615647e+00,\n",
       "       6.50561181e-01, 7.63378420e+00, 9.21538933e+00, 3.46319642e+00,\n",
       "       5.48529187e+00, 6.88488081e+00, 2.19261805e+00, 4.29975324e+00,\n",
       "       3.73118003e+00, 1.05518109e+00, 1.99633451e+00, 4.56752500e+00,\n",
       "       9.47251801e-01, 5.26591137e-01, 4.00645541e+00, 8.67917638e+00,\n",
       "       2.07741471e-01, 7.60213460e+00, 9.13673574e+00, 9.71482406e+00,\n",
       "       4.99519318e+00, 2.70436212e+00, 1.58326649e-01, 1.49179157e+00,\n",
       "       5.89684787e+00, 1.19080501e+00, 1.27037089e+00, 9.36554491e+00,\n",
       "       9.43582783e+00, 3.62201221e+00, 6.38407452e+00, 1.54177757e+00,\n",
       "       5.96472653e+00, 5.03253931e+00, 9.90302342e+00, 1.61287145e-01,\n",
       "       5.47501126e-01, 7.69321305e+00, 5.42737075e-01, 5.69692903e+00,\n",
       "       8.69008620e+00, 1.39560585e+00, 5.92792523e+00, 4.19744017e+00,\n",
       "       5.39997613e+00, 7.24675502e+00, 1.24976986e+00, 1.28846234e+00,\n",
       "       9.38409845e+00, 8.93375328e+00, 5.58350812e+00, 8.63546228e+00,\n",
       "       4.14374673e+00, 9.23515435e+00, 6.25995302e+00, 8.03325364e+00,\n",
       "       7.61114695e-01, 2.08549741e+00, 4.99185868e+00, 5.63220398e+00,\n",
       "       9.83070381e+00, 8.74060610e+00, 3.60358600e+00, 7.35124487e+00,\n",
       "       1.35433364e+00, 5.41419835e+00, 1.70391791e-01, 1.41840514e+00,\n",
       "       7.33020974e+00, 5.96177176e+00, 2.50736208e-01, 5.00197239e+00,\n",
       "       8.93244326e+00, 8.87730487e+00, 7.83632626e+00, 5.61106470e+00,\n",
       "       2.94178504e+00, 3.61581867e+00, 9.39485605e+00, 3.68916224e+00,\n",
       "       4.26690968e+00, 8.75131435e+00, 7.80172698e+00, 6.36807478e+00,\n",
       "       6.42630669e+00, 3.12000660e+00, 1.58390875e+00, 3.55884557e+00,\n",
       "       6.41028332e+00, 7.08580692e+00, 6.40882403e-01, 3.99879251e+00,\n",
       "       3.45492778e+00, 1.56612714e+00, 7.30913552e+00, 2.56259043e+00,\n",
       "       4.48383164e+00, 7.64078479e-01, 5.16728952e+00, 4.26291122e+00,\n",
       "       1.56492755e+00, 2.73257719e+00, 4.04813187e+00, 7.69032361e+00,\n",
       "       3.97374466e+00, 3.48733380e+00, 7.09943222e+00, 4.91907024e+00,\n",
       "       9.96083879e+00, 3.27170994e+00, 1.60875114e+00, 5.76536663e+00,\n",
       "       4.02924124e-01, 8.90351012e+00, 2.00307747e+00, 5.60615021e-01,\n",
       "       4.46606748e+00, 1.69686356e+00, 3.74694817e+00, 6.19841823e+00,\n",
       "       4.79649610e+00, 1.49822819e+00, 3.48687373e+00, 3.94185266e+00,\n",
       "       5.79118934e+00, 3.84324139e-01, 4.44659426e+00, 4.78522460e+00,\n",
       "       4.13475884e+00, 4.13016190e+00, 4.38334536e+00, 9.44057885e+00,\n",
       "       7.19128472e-01, 1.47852209e+00, 4.65318302e+00, 4.68933312e+00,\n",
       "       8.04362704e-01, 6.52153747e+00, 4.98155545e+00, 9.71597079e-01,\n",
       "       5.77803482e+00, 7.82272909e+00, 1.87544429e+00, 8.14489190e+00,\n",
       "       6.14668141e+00, 9.34957003e+00, 2.82256759e+00, 5.04726023e+00,\n",
       "       2.15448920e+00, 5.96323498e+00, 4.83080530e+00, 5.25059067e+00,\n",
       "       8.39345292e+00, 6.31857218e+00, 3.30053332e+00, 4.31876639e-01,\n",
       "       6.63641304e+00, 2.44305244e+00, 2.45390422e+00, 2.53714793e-01,\n",
       "       5.37207182e+00, 6.98169757e+00, 2.50447023e+00, 7.79844091e+00,\n",
       "       7.15170877e+00, 9.91343187e+00, 6.37462189e+00, 1.50285362e+00,\n",
       "       8.65166664e+00, 9.38547608e+00, 3.54408012e-01, 9.33374416e-01,\n",
       "       7.74735577e+00, 5.89877349e+00, 6.11565086e+00, 2.02115725e+00,\n",
       "       1.27929439e+00, 4.54206468e+00, 9.96470901e+00, 6.09075993e-01,\n",
       "       1.48031294e+00, 8.66821039e+00, 9.61195066e+00, 2.17996659e+00,\n",
       "       4.22276270e+00, 9.94468812e-03, 7.85584418e+00, 6.28274902e+00,\n",
       "       8.39533543e+00, 9.79639131e+00, 5.57316684e-01, 1.19190337e+00,\n",
       "       8.21391187e-01, 6.39991433e-01, 1.07736767e+00, 4.11836485e-02,\n",
       "       7.68966013e+00, 2.12449436e+00, 1.49951239e+00, 4.68621977e-01,\n",
       "       9.95206040e+00, 7.19605259e+00, 2.17967966e+00, 8.89554969e+00,\n",
       "       7.49637599e-01, 5.39003826e+00, 3.97606151e+00, 7.37191674e+00,\n",
       "       7.38557473e+00, 6.20499825e-01, 9.66525915e+00, 1.41454056e+00,\n",
       "       3.15016404e+00, 7.51681478e+00, 9.71932408e+00, 2.38437010e+00,\n",
       "       9.42538700e+00, 7.83745000e-01, 6.88427696e+00, 6.65811744e+00,\n",
       "       5.95551626e+00, 5.79246123e+00, 6.69055007e+00, 5.18133523e-01,\n",
       "       6.46485136e-01, 2.65773186e+00, 5.31744444e+00, 7.02717691e+00,\n",
       "       4.31503013e+00, 6.60827577e-01, 2.79756951e+00, 6.72177872e+00,\n",
       "       6.98602061e+00, 2.17575626e+00, 3.28748874e+00, 3.53040820e+00,\n",
       "       8.87727815e+00, 3.84657911e+00, 1.98513312e+00, 6.01423268e+00,\n",
       "       2.26396706e+00, 4.46381230e+00, 3.69485361e+00, 9.25820544e+00,\n",
       "       3.96808064e+00, 7.60082398e+00, 8.04644212e+00, 2.97293815e+00,\n",
       "       9.48437751e+00, 3.93510537e-01, 2.24786953e+00, 6.50882396e+00,\n",
       "       4.59666381e+00, 6.01052602e+00, 1.61780814e+00, 8.94804377e+00])"
      ]
     },
     "execution_count": 27,
     "metadata": {},
     "output_type": "execute_result"
    }
   ],
   "source": [
    "# Example: 1000 float point numbers in the range of 0 to 10 (exclusive)\n",
    "\n",
    "s = np.random.default_rng().uniform(low=0, high=10, size=1000)\n",
    "s"
   ]
  },
  {
   "cell_type": "code",
   "execution_count": 28,
   "id": "8655ce21-ff55-4f93-a4e4-a8fbc308910a",
   "metadata": {},
   "outputs": [
    {
     "data": {
      "text/plain": [
       "<AxesSubplot:ylabel='Count'>"
      ]
     },
     "execution_count": 28,
     "metadata": {},
     "output_type": "execute_result"
    },
    {
     "data": {
      "image/png": "[encoded data removed]",
      "text/plain": [
       "<Figure size 432x288 with 1 Axes>"
      ]
     },
     "metadata": {
      "needs_background": "light"
     },
     "output_type": "display_data"
    }
   ],
   "source": [
    "# Histogram:\n",
    "\n",
    "sns.histplot(s, bins = 10)\n",
    "\n",
    "# https://seaborn.pydata.org/generated/seaborn.histplot.html#seaborn.histplot (15/11/2021)"
   ]
  },
  {
   "cell_type": "code",
   "execution_count": null,
   "id": "ee7b01ee-42e7-4a82-a118-3d387cad8d6c",
   "metadata": {},
   "outputs": [],
   "source": []
  },
  {
   "cell_type": "markdown",
   "id": "6ef61b0a-e0e5-4de7-97e4-708560f00e3f",
   "metadata": {
    "tags": []
   },
   "source": [
    "### **3.2 Binomial Distribution**\n",
    "\n",
    "https://numpy.org/doc/stable/reference/random/generated/numpy.random.Generator.binomial.html#numpy.random.Generator.binomial\n",
    "\n",
    "https://en.wikipedia.org/wiki/Binomial_distribution"
   ]
  },
  {
   "cell_type": "markdown",
   "id": "ec43f1f2-50bd-4694-b8a8-5c3a87fd9c6a",
   "metadata": {},
   "source": [
    "The rng.binomial() function returns values from a binomial distribution. A binomial distribution shows the distribution of successful trials that have exactly 2 possible results, such as throwing a coin.\n",
    "\n",
    "Other than for a uniform distirbutinon where all events statistically have the same chance of occuring, for a binomial distribution, the chance of each event occuring can be preset by adding a probablility of success parameter. \n",
    "\n",
    "Parameters for defining the binomial distribution: \n",
    "- n = Number of trials\n",
    "- p = probability of success of each trial\n",
    "- size"
   ]
  },
  {
   "cell_type": "code",
   "execution_count": 29,
   "id": "888e7a0c-e030-47f6-8a26-7187f90321bf",
   "metadata": {},
   "outputs": [
    {
     "data": {
      "text/plain": [
       "array([6, 4, 9, 8, 8, 7, 9, 7, 6, 7], dtype=int64)"
      ]
     },
     "execution_count": 29,
     "metadata": {},
     "output_type": "execute_result"
    }
   ],
   "source": [
    "# Simulation of tossing a loaded coin with a chance of 70% towards 'head'\n",
    "\n",
    "s_bi = rng.binomial(n=10, p=0.7, size=10)\n",
    "s_bi"
   ]
  },
  {
   "cell_type": "code",
   "execution_count": 30,
   "id": "a8b45ea4-863b-4ccc-aa5e-183d92daafaf",
   "metadata": {},
   "outputs": [
    {
     "data": {
      "text/plain": [
       "<seaborn.axisgrid.FacetGrid at 0x221253fdca0>"
      ]
     },
     "execution_count": 30,
     "metadata": {},
     "output_type": "execute_result"
    },
    {
     "data": {
      "image/png": "[encoded data removed]",
      "text/plain": [
       "<Figure size 360x360 with 1 Axes>"
      ]
     },
     "metadata": {
      "needs_background": "light"
     },
     "output_type": "display_data"
    }
   ],
   "source": [
    "sns.displot(s_bi, bins=10)\n",
    "\n",
    "# https://www.statology.org/binomial-distribution-python/"
   ]
  },
  {
   "cell_type": "markdown",
   "id": "23b585ce-10b4-43fc-a7e5-28184a2bf00f",
   "metadata": {},
   "source": [
    "### **3.3 Multinomial Distribution**\n",
    "\n",
    "https://numpy.org/doc/stable/reference/random/generated/numpy.random.Generator.multinomial.html#numpy.random.Generator.multinomial"
   ]
  },
  {
   "cell_type": "markdown",
   "id": "739a81de-296a-445a-949a-a25682a43e70",
   "metadata": {},
   "source": [
    "Similar to the binomial distribution, the multinomial distribution returns the distribution of successful trials, but for more than 2 possible results, for example when rolling a die. \n",
    "\n",
    "- n = number of trials\n",
    "- pvals = probabilities of each of the different outcomes (must sum to 1)\n",
    "- size"
   ]
  },
  {
   "cell_type": "code",
   "execution_count": 31,
   "id": "fe4e6ca8-70fa-420e-9f32-7f4892901bd3",
   "metadata": {},
   "outputs": [
    {
     "data": {
      "text/plain": [
       "array([[5, 1, 2, 1, 0, 1]], dtype=int64)"
      ]
     },
     "execution_count": 31,
     "metadata": {},
     "output_type": "execute_result"
    }
   ],
   "source": [
    "# Throwing a die 10 times\n",
    "die = rng.multinomial(n=10, pvals=[1/6.]*6, size=1)\n",
    "die"
   ]
  },
  {
   "cell_type": "code",
   "execution_count": 32,
   "id": "3465247d-72fb-42e5-9ff6-f3acedc49ede",
   "metadata": {},
   "outputs": [],
   "source": [
    "## Plot!!\n",
    "\n",
    "# sns.displot(die, bins=6)"
   ]
  },
  {
   "cell_type": "code",
   "execution_count": null,
   "id": "0627a06a-ebe0-44d7-adec-49bb20334b31",
   "metadata": {},
   "outputs": [],
   "source": []
  },
  {
   "cell_type": "code",
   "execution_count": 33,
   "id": "39f56536-5e8c-4935-93ec-6cb9a480e82a",
   "metadata": {},
   "outputs": [
    {
     "data": {
      "text/plain": [
       "array([[ 4, 10,  9,  6,  6, 15]], dtype=int64)"
      ]
     },
     "execution_count": 33,
     "metadata": {},
     "output_type": "execute_result"
    }
   ],
   "source": [
    "# Throwing a loaded die 50 times\n",
    "rng.multinomial(n=50, pvals=[1/7.]*5 + [2/7.], size=1)"
   ]
  },
  {
   "cell_type": "code",
   "execution_count": 34,
   "id": "3d66be81-4003-4762-b1c2-7569efe53e7c",
   "metadata": {},
   "outputs": [],
   "source": [
    "## Plot!! "
   ]
  },
  {
   "cell_type": "code",
   "execution_count": null,
   "id": "765ebb5f-b37c-48c0-bccd-4164d5b3a184",
   "metadata": {},
   "outputs": [],
   "source": []
  },
  {
   "cell_type": "markdown",
   "id": "4fc5bf82-394a-4921-91a5-12b338d509ea",
   "metadata": {},
   "source": [
    "### **3.4 Normal Distribution**\n",
    "\n",
    "https://numpy.org/doc/stable/reference/random/generated/numpy.random.Generator.normal.html#numpy.random.Generator.normal"
   ]
  },
  {
   "cell_type": "code",
   "execution_count": null,
   "id": "f136e213-2515-412a-aedf-e873d40be36b",
   "metadata": {},
   "outputs": [],
   "source": []
  },
  {
   "cell_type": "code",
   "execution_count": null,
   "id": "53ba3fde-fba0-429c-9c0c-d9011c4ead6a",
   "metadata": {},
   "outputs": [],
   "source": []
  },
  {
   "cell_type": "markdown",
   "id": "6bb8f525-d41d-4d4d-a00e-cadbaa950886",
   "metadata": {},
   "source": [
    "### **3.5**"
   ]
  },
  {
   "cell_type": "code",
   "execution_count": null,
   "id": "e63fe69d-fa91-4a9d-8a35-68f77dbb050b",
   "metadata": {},
   "outputs": [],
   "source": []
  },
  {
   "cell_type": "markdown",
   "id": "16315562-8226-4d6f-9f5c-1140feb4e5f5",
   "metadata": {},
   "source": [
    "<br>\n",
    "\n",
    "## **4. Explain the use of seeds in generating pseudorandom numbers.**"
   ]
  },
  {
   "cell_type": "markdown",
   "id": "7cd4afee-e01b-4e8c-8171-63e2eb66ca67",
   "metadata": {},
   "source": [
    "As described in the first section, numpy.random generates pseudo-random numbers which always follow the same sequence. The reason why different numbers are returned whenever a random generator is run is that it starts at a different point of that sequence. This start point is called the seed, and if not defined by the user, numpy.random sets it based on a value derived from the computers operating system.  \n",
    "\n",
    "\n",
    "https://numpy.org/doc/stable/reference/random/index.html (20/11/2021)\n"
   ]
  },
  {
   "cell_type": "markdown",
   "id": "da933c4c-d0d6-4600-9d37-e5149f469f57",
   "metadata": {},
   "source": [
    "<br>\n",
    "\n",
    "### **4.1 - Bitgenerator and Generator**\n",
    "\n",
    "numpy.random generates the numbers using a combination of a bitgenerator and a generator. \n",
    "\n",
    "The Bitgenerator creates sequences of random numbers. The generator then transforms the objects created by the bit generator into numbers that follow a certain distribution as defined by the user. If no seed is specified, an unpredictable value will be set by using data of the operating system. \n",
    "\n",
    "\n",
    "https://numpy.org/doc/stable/reference/random/generator.html#numpy.random.Generator (20/11/2021)\n",
    "https://numpy.org/doc/stable/reference/random/bit_generators/generated/numpy.random.BitGenerator.html#numpy.random.BitGenerator (20/11/2021)"
   ]
  },
  {
   "cell_type": "markdown",
   "id": "7aaa7717-a819-4bb6-965f-db8fb70731d3",
   "metadata": {},
   "source": [
    "<br>\n",
    "\n",
    "### **4.2 - Seeding the Random Number Generator**\n",
    "Some data simulations may require using the same randomly generated data. To achieve this, the seed can be set by the user. Setting the seed to a certain value will result in receiving the same output of random numbers, making the \"random\" numbers actually reproducible. "
   ]
  },
  {
   "cell_type": "code",
   "execution_count": 35,
   "id": "9eecf250-50a8-413d-95a1-f03f03b42aa8",
   "metadata": {},
   "outputs": [
    {
     "data": {
      "text/plain": [
       "array([63, 32, 17, 82, 56], dtype=int64)"
      ]
     },
     "execution_count": 35,
     "metadata": {},
     "output_type": "execute_result"
    }
   ],
   "source": [
    "# Example 1: Generate 5 integers between 1 and 100 without defining a seed\n",
    "test_rng=np.random.default_rng()\n",
    "test_rng.integers(1, 101, 5)"
   ]
  },
  {
   "cell_type": "code",
   "execution_count": 36,
   "id": "2bf1ce5b-3100-4367-81a6-ed83c6db8424",
   "metadata": {},
   "outputs": [
    {
     "data": {
      "text/plain": [
       "array([93, 16, 23, 97, 89], dtype=int64)"
      ]
     },
     "execution_count": 36,
     "metadata": {},
     "output_type": "execute_result"
    }
   ],
   "source": [
    "# When repeating the above, the results will likely be different as the seed has been re-set by the random number generator\n",
    "new_test_rng=np.random.default_rng()\n",
    "new_test_rng.integers(1, 101, 5)"
   ]
  },
  {
   "cell_type": "markdown",
   "id": "d9d2c183-6cc3-4364-a8b0-e61eec1b78c9",
   "metadata": {},
   "source": [
    "<br>\n",
    "\n",
    "When adding a seed parameter, the output of the same function becomes reproducible. "
   ]
  },
  {
   "cell_type": "code",
   "execution_count": 37,
   "id": "b4d0766e-c936-4164-91b3-9609f244b7b6",
   "metadata": {},
   "outputs": [
    {
     "data": {
      "text/plain": [
       "array([68, 81,  3, 81, 47], dtype=int64)"
      ]
     },
     "execution_count": 37,
     "metadata": {},
     "output_type": "execute_result"
    }
   ],
   "source": [
    "# Generate 5 integers between 1 and 10 but this time determine the seed\n",
    "seeded_rng = np.random.default_rng(seed=5)\n",
    "seeded_rng.integers(1,101,5)"
   ]
  },
  {
   "cell_type": "code",
   "execution_count": 38,
   "id": "5864faec-787d-402d-a5d4-5cfba320ce6c",
   "metadata": {},
   "outputs": [
    {
     "data": {
      "text/plain": [
       "array([68, 81,  3, 81, 47], dtype=int64)"
      ]
     },
     "execution_count": 38,
     "metadata": {},
     "output_type": "execute_result"
    }
   ],
   "source": [
    "# Repeat the above, oputput is the same\n",
    "new_seeded_rng = np.random.default_rng(seed=5)\n",
    "new_seeded_rng.integers(1,101,5)"
   ]
  },
  {
   "cell_type": "markdown",
   "id": "8d6a79e5-f942-462c-8f4c-6e7d5e43ee14",
   "metadata": {},
   "source": [
    "https://www.sharpsightlabs.com/blog/numpy-random-seed/ (20/11/2021)"
   ]
  },
  {
   "cell_type": "markdown",
   "id": "a3c7ea93-b4cb-48ee-8908-040444d97254",
   "metadata": {},
   "source": [
    "<br>\n",
    "\n",
    "### **4.3 - PCG64 - numpy.random's BitGenerator Algorithm**\n",
    "\n",
    "The standard bitgenerator used by numpy.random is based on the Permuted Congruential Generator 64-bit (PCG64) algorithm. It was implemented into numpy.random since version 1.19 and is based on O'Neill's \"Permutation Congruential Generator\".\n",
    "\n",
    "PCG64 was developed to achieve among other factors \"good statistical properties, [...] lack of predictability, cryptographic security, good time and space performance, small code size\" (O'Neill, p4). It combines the fast speed and space efficiency of linear congruential generator and adds permutation to achieve\n",
    "\n",
    "PCG64 replaced the previous bitGenerator algorithm MT19937 (Mersenne Twister). \n",
    "\n",
    "In direct comparison PCG64 outperforms MT19937 on a number of factors. \n",
    "\n",
    "| PCG64                           | MT19937                             |\n",
    "|---------------------------------|-------------------------------------|\n",
    "| High prediction difficulty      | Easy prediction                     |\n",
    "| Excellent statistical quality   | Some failures at statistical tests  |\n",
    "| Very fast time performance      | Acceptable time performance         |\n",
    "| Compact space usage             | Huge (2KB)                          |\n",
    "| Small code size and complexity  | Complex Code                        |\n",
    "\n",
    "\n",
    "Source: https://www.pcg-random.org/\n",
    "\n",
    "\n",
    "\n",
    "\n",
    "https://www.ibm.com/docs/en/aix/7.1?topic=types-signed-unsigned-integers (20/11/2021)\n",
    "https://numpy.org/doc/stable/reference/random/bit_generators/pcg64.html (20/11/2021)\n",
    "\n",
    "https://www.pcg-random.org/ (20/11/2021)\n",
    "https://numpy.org/doc/stable/reference/random/bit_generators/mt19937.html#numpy.random.MT19937"
   ]
  },
  {
   "cell_type": "markdown",
   "id": "093ddc16-36b8-423f-a3d4-21ce13ca8ea7",
   "metadata": {},
   "source": []
  },
  {
   "cell_type": "code",
   "execution_count": null,
   "id": "c04ca20f-3b5a-442c-9941-21ff6e230e64",
   "metadata": {},
   "outputs": [],
   "source": []
  },
  {
   "cell_type": "code",
   "execution_count": 39,
   "id": "1498be4e-da45-4295-aed1-0279288b6851",
   "metadata": {},
   "outputs": [
    {
     "name": "stdout",
     "output_type": "stream",
     "text": [
      "All cells running ok\n"
     ]
    }
   ],
   "source": [
    "# Debug check that all cells are running\n",
    "print('All cells running ok')"
   ]
  },
  {
   "cell_type": "markdown",
   "id": "258b0570-39d3-462c-b02e-53203389385b",
   "metadata": {},
   "source": [
    "## References Used"
   ]
  },
  {
   "cell_type": "code",
   "execution_count": null,
   "id": "a050ad53-5514-43df-acbb-0dbb0b26c5c2",
   "metadata": {},
   "outputs": [],
   "source": []
  }
 ],
 "metadata": {
  "kernelspec": {
   "display_name": "Python 3",
   "language": "python",
   "name": "python3"
  },
  "language_info": {
   "codemirror_mode": {
    "name": "ipython",
    "version": 3
   },
   "file_extension": ".py",
   "mimetype": "text/x-python",
   "name": "python",
   "nbconvert_exporter": "python",
   "pygments_lexer": "ipython3",
   "version": "3.8.8"
  }
 },
 "nbformat": 4,
 "nbformat_minor": 5
}
