{
 "cells": [
  {
   "cell_type": "markdown",
   "id": "ca747803-6241-4530-9a01-15d8eba91b1a",
   "metadata": {},
   "source": [
    "# Programming for Data Analysis 2021 - Assignment"
   ]
  },
  {
   "cell_type": "markdown",
   "id": "8a1ccc16-20ad-4989-a357-72178e9200ba",
   "metadata": {},
   "source": [
    "## 1. Explain the overall purpose of the numpy.random package."
   ]
  },
  {
   "cell_type": "markdown",
   "id": "933bc638-8079-4fb6-a01f-fa75799805a2",
   "metadata": {},
   "source": [
    "NumPy (short for Numerical Python) is a Python library which is used for dealing with arrays of numerical values. \n",
    "Arrays can be 0-, 1- or multi-dimensional (matrices). \n",
    "All elements of an array need to be of the same data type. \n",
    "\n",
    "To be able to use it, needs to be imported. It is commonly imported as np. "
   ]
  },
  {
   "cell_type": "code",
   "execution_count": 1,
   "id": "d36c8ef6-96ba-4bb3-8293-bf186b98e1c1",
   "metadata": {},
   "outputs": [],
   "source": [
    "import numpy as np"
   ]
  },
  {
   "cell_type": "markdown",
   "id": "e327de91-9ddd-4ad7-b24b-318233c69730",
   "metadata": {},
   "source": [
    "numpy.random is a module within the NumPy library enabling users to generate and work with random numbers.\n",
    "Pseudo-random numbers: generated through a generation algorithm which is not truly random.\n",
    "Truly random numbers can be generated using random data from an outside source which could be mouse movements, time stamps, etc. \n",
    "\n"
   ]
  },
  {
   "cell_type": "code",
   "execution_count": 2,
   "id": "3a0e9542-7ab0-43b1-91b1-09a252ba6c9e",
   "metadata": {},
   "outputs": [
    {
     "data": {
      "text/plain": [
       "0.05810769848949682"
      ]
     },
     "execution_count": 2,
     "metadata": {},
     "output_type": "execute_result"
    }
   ],
   "source": [
    "# To be able to use the random module, it needs to be imported:\n",
    "from numpy import random\n",
    "x = random.rand()\n",
    "x"
   ]
  },
  {
   "cell_type": "markdown",
   "id": "c148e38e-3271-47fa-b823-bdbe42c0942e",
   "metadata": {},
   "source": [
    "BitGenerators - Create sequences of random numbers\n",
    "Generators - use the created sequences to sample from different statistical distributions"
   ]
  },
  {
   "cell_type": "code",
   "execution_count": 3,
   "id": "1025e690-8e04-40af-a754-a5537793735b",
   "metadata": {},
   "outputs": [
    {
     "data": {
      "text/plain": [
       "array([7, 3, 1, 7, 4, 1, 6, 1, 4, 0, 5, 7, 0, 2, 5, 0, 6, 5, 9, 1],\n",
       "      dtype=int64)"
      ]
     },
     "execution_count": 3,
     "metadata": {},
     "output_type": "execute_result"
    }
   ],
   "source": [
    "# rng = random number generator\n",
    "from numpy.random import default_rng\n",
    "rng = default_rng()\n",
    "# Return 20 random integers from 0 to 10 (exclusive)\n",
    "vals = rng.integers(10, size=20)\n",
    "vals"
   ]
  },
  {
   "cell_type": "code",
   "execution_count": 4,
   "id": "49cc56b2-b84a-4420-828c-0a1e0cf97e5e",
   "metadata": {},
   "outputs": [
    {
     "data": {
      "text/plain": [
       "array([0.6940659 , 0.50292287, 0.81963045, 0.93232672, 0.31386793,\n",
       "       0.39451621, 0.49944572, 0.53184092, 0.37617001, 0.20774341])"
      ]
     },
     "execution_count": 4,
     "metadata": {},
     "output_type": "execute_result"
    }
   ],
   "source": [
    "# Return random float point number between 0.0 and 1.0\n",
    "rng = np.random.default_rng()\n",
    "rng.random(size=10)"
   ]
  },
  {
   "cell_type": "code",
   "execution_count": 5,
   "id": "d1de7b48-7928-4094-9001-8bdaf28fc95c",
   "metadata": {},
   "outputs": [
    {
     "data": {
      "text/plain": [
       "b' \\x11M\\xbb8\\x11|#\\x15<'"
      ]
     },
     "execution_count": 5,
     "metadata": {},
     "output_type": "execute_result"
    }
   ],
   "source": [
    "np.random.default_rng().bytes(10)"
   ]
  },
  {
   "cell_type": "code",
   "execution_count": null,
   "id": "4fb88e0d-b912-488b-a2c4-4151cd96d983",
   "metadata": {},
   "outputs": [],
   "source": []
  },
  {
   "cell_type": "markdown",
   "id": "faedcd1b-7aa1-455d-bbd6-9f7bd38b8f13",
   "metadata": {},
   "source": [
    "References:\n",
    "\n",
    "https://www.w3schools.com/python/numpy/numpy_random.asp (30/10/2021)\n",
    "\n",
    "Numpy v.1.21 Manual https://numpy.org/doc/stable/ (30/10/2021)\n",
    "\n",
    "Random sampling (numpy.random) https://numpy.org/doc/stable/reference/random/index.html# (30/10/2021)"
   ]
  },
  {
   "cell_type": "markdown",
   "id": "6ac92937-7622-4ac6-ab5c-090f5f25f1ac",
   "metadata": {},
   "source": [
    "## 2. Explain the use of the “Simple random data” and “Permutations” functions."
   ]
  },
  {
   "cell_type": "markdown",
   "id": "b50d84a8-b410-4a67-bcb2-ac91e36a7f03",
   "metadata": {},
   "source": [
    "Permutations: https://numpy.org/doc/stable/reference/random/generated/numpy.random.Generator.permutation.html"
   ]
  },
  {
   "cell_type": "markdown",
   "id": "13d999c0-127f-4bc5-9383-384f5d921fe5",
   "metadata": {},
   "source": [
    "Simple random data: Return integers, floats, a random sample from a given array or bytes\n",
    "<br>\n",
    "Permutations: Modifies an array or sequence already in place by shuffling or permuting the sequence"
   ]
  },
  {
   "cell_type": "markdown",
   "id": "e5866a16-9e74-4ebb-bae2-12076132f484",
   "metadata": {},
   "source": [
    "### **2.1 Simple Random Data**\n",
    "A number of functions can be used to generate simple random data, for example single or several numbers."
   ]
  },
  {
   "cell_type": "markdown",
   "id": "5631856a-6be4-43d2-a1c8-eece16773938",
   "metadata": {},
   "source": [
    "#### **2.1.1 Generating Random Integers**\n",
    "Using the rng.integers() function to create random integers. "
   ]
  },
  {
   "cell_type": "code",
   "execution_count": 6,
   "id": "6a48cadc-c486-4185-a690-6ee2b377bc4c",
   "metadata": {},
   "outputs": [
    {
     "data": {
      "text/plain": [
       "4"
      ]
     },
     "execution_count": 6,
     "metadata": {},
     "output_type": "execute_result"
    }
   ],
   "source": [
    "# To create random integers: \n",
    "# rng = random number generator\n",
    "from numpy.random import default_rng\n",
    "rng = default_rng()\n",
    "\n",
    "# To return 1 random integer from 0 to 5 (exclusive)\n",
    "vals = rng.integers(5)\n",
    "vals"
   ]
  },
  {
   "cell_type": "markdown",
   "id": "681a6789-3e7d-473b-94a9-ab8735384bb0",
   "metadata": {},
   "source": [
    "The rng.integers() function can take a number of parameters to define\n",
    "- The range from which integers can be drawn (low, high)\n",
    "- The number of random integers to be drawn (size)\n",
    "- Data type of results\n",
    "- Endpoint = True sets the high value to be inclusive of the entered value\n",
    "\n",
    "https://numpy.org/doc/stable/reference/random/generated/numpy.random.Generator.integers.html (13/11/2021)\n",
    "\n"
   ]
  },
  {
   "cell_type": "code",
   "execution_count": 7,
   "id": "eea0adb7-b4ee-4bb5-a0de-6b22926299ed",
   "metadata": {},
   "outputs": [
    {
     "data": {
      "text/plain": [
       "array([10, 19, 10, 13, 16], dtype=int64)"
      ]
     },
     "execution_count": 7,
     "metadata": {},
     "output_type": "execute_result"
    }
   ],
   "source": [
    "# Example: Generate an array of 5 integers between 10 (inclusive) and 20 (exclusive)\n",
    "rng = np.random.default_rng()\n",
    "rng.integers(10, 20, 5)"
   ]
  },
  {
   "cell_type": "markdown",
   "id": "0c7253fb-87db-4c05-ae81-779fc7f1bd13",
   "metadata": {},
   "source": [
    "#### **2.1.2 Generating Random Float Numbers**\n",
    "\n",
    "The rng.random() function can be used to create float point numbers between 0 and 1 (exclusive).\n"
   ]
  },
  {
   "cell_type": "code",
   "execution_count": 8,
   "id": "f2a01847-4439-49fb-9b1f-4901ac56dcdd",
   "metadata": {},
   "outputs": [
    {
     "data": {
      "text/plain": [
       "0.23394867242793693"
      ]
     },
     "execution_count": 8,
     "metadata": {},
     "output_type": "execute_result"
    }
   ],
   "source": [
    "# Exapmle: Creating a float point number\n",
    "fnumber = rng.random()\n",
    "fnumber"
   ]
  },
  {
   "cell_type": "markdown",
   "id": "09792b18-0ebe-46b7-98cc-1d18c4a1a9e5",
   "metadata": {},
   "source": [
    "Similar to creating integers, additional parameters canbe added to further define the output: \n",
    "- The number of random float numbers to be drawn (size)\n",
    "- Data type (float64 or float32)\n",
    "- An alternative output array\n",
    "\n",
    "https://numpy.org/doc/stable/reference/random/generated/numpy.random.Generator.random.html#numpy.random.Generator.random (13/11/2021)"
   ]
  },
  {
   "cell_type": "code",
   "execution_count": 9,
   "id": "84101c36-6ed4-4a29-a994-24dec51f4612",
   "metadata": {},
   "outputs": [
    {
     "data": {
      "text/plain": [
       "array([0.00952665, 0.04743223, 0.68930779, 0.68201472, 0.19239445])"
      ]
     },
     "execution_count": 9,
     "metadata": {},
     "output_type": "execute_result"
    }
   ],
   "source": [
    "# Example for creating an array of 5 float point numbers\n",
    "fnumbers = rng.random(5)\n",
    "fnumbers"
   ]
  },
  {
   "cell_type": "markdown",
   "id": "76fdda62-791a-43ec-bd2e-8500ff0f7fea",
   "metadata": {},
   "source": [
    "#### **2.1.3 Generating n-dimensional Arrays of Random Numbers**\n",
    "\n",
    "Both rng.integers() and rng.random() can be used to create n-dimensional arrays of random numbers. \n",
    "\n",
    "--> need more details and example\n"
   ]
  },
  {
   "cell_type": "markdown",
   "id": "e2774df6-1987-4e29-86e0-62097ad15e36",
   "metadata": {},
   "source": [
    "#### **2.1.4 Selecting Random Numbers from a Predefined Array**\n",
    "\n",
    "The rng.choice() function can be used to generate a random sample from a given array. \n",
    "\n",
    "https://numpy.org/doc/stable/reference/random/generated/numpy.random.Generator.choice.html#numpy.random.Generator.choice (13/11/2021)"
   ]
  },
  {
   "cell_type": "code",
   "execution_count": 10,
   "id": "a701b26e-ff77-4485-a6b0-6cb8904baf79",
   "metadata": {},
   "outputs": [
    {
     "data": {
      "text/plain": [
       "array([5, 2, 3])"
      ]
     },
     "execution_count": 10,
     "metadata": {},
     "output_type": "execute_result"
    }
   ],
   "source": [
    "# Example: Select 3 integers from an array of [1, 2, 3, 4, 5]\n",
    "rng.choice([1,2,3,4,5], 3)"
   ]
  },
  {
   "cell_type": "markdown",
   "id": "a5a88eb3-4fd2-4a59-9d33-f20759fe2b2f",
   "metadata": {},
   "source": [
    "An important aspect of random number generation is the distribution of data. The rng.choice() function can be used to define the probability of random numbers being selected by assigning probability values. "
   ]
  },
  {
   "cell_type": "code",
   "execution_count": 11,
   "id": "66ba29c2-6a9a-4ff8-9ba0-b51cc2455db4",
   "metadata": {},
   "outputs": [
    {
     "data": {
      "text/plain": [
       "array([3, 1, 3, 2, 1, 1, 1, 2, 1, 1])"
      ]
     },
     "execution_count": 11,
     "metadata": {},
     "output_type": "execute_result"
    }
   ],
   "source": [
    "# Example: Select 10 integers from an array of [1, 2, 3, 4, 5]. The probability of selecting 1, 2 and 3 is set to 0.3, \n",
    "# the probaility of selecting 4 is set to 0.1 and the probablility of selecting 5 is set to 0:\n",
    "\n",
    "ch = rng.choice([1,2,3,4,5], 10, p=(0.3, 0.3, 0.3, 0.1, 0))\n",
    "ch"
   ]
  },
  {
   "cell_type": "code",
   "execution_count": null,
   "id": "99e4a617-dd9f-4b7e-b036-67461126ed83",
   "metadata": {},
   "outputs": [],
   "source": []
  },
  {
   "cell_type": "markdown",
   "id": "57ffaf61-b047-4774-b246-fd2476b915bc",
   "metadata": {},
   "source": [
    "### **2.2 Permutations**"
   ]
  },
  {
   "cell_type": "markdown",
   "id": "961d847a-4bf3-4e88-8ca2-c1583a11bd6d",
   "metadata": {},
   "source": [
    "Random permuations can be used to re-arrange elements within a given array, for example by changing the order of [1, 2, 3] to [3, 2, 1].\n",
    "The numpy.random package offers 3 methods for changing the order of array elements: \n",
    "- shuffle()\n",
    "- permutation()\n",
    "- permuted()"
   ]
  },
  {
   "cell_type": "markdown",
   "id": "d4500e25-3204-4d36-8576-6d846d400882",
   "metadata": {},
   "source": [
    "#### **2.2.1 Re-shuffling an Array**\n",
    "The shuffle() function changes the original array by re-arranging its elements. \n",
    "\n",
    "https://numpy.org/doc/stable/reference/random/generated/numpy.random.Generator.shuffle.html#numpy.random.Generator.shuffle (13/11/2021)\n",
    "\n",
    "https://likegeeks.com/numpy-shuffle/ (14/11/2021)\n",
    "\n",
    "https://zkf85.github.io/2019/01/31/np-shuffle-vs-permutation (14/11/2021)"
   ]
  },
  {
   "cell_type": "code",
   "execution_count": 12,
   "id": "92d000cb-11d3-466a-bcd8-cd69694b9fbd",
   "metadata": {},
   "outputs": [
    {
     "data": {
      "text/plain": [
       "[1, 3, 5, 2, 4]"
      ]
     },
     "execution_count": 12,
     "metadata": {},
     "output_type": "execute_result"
    }
   ],
   "source": [
    "# Example: \n",
    "arr = [1,2,3,4,5]\n",
    "\n",
    "rng.shuffle(arr)\n",
    "arr"
   ]
  },
  {
   "cell_type": "markdown",
   "id": "501c4554-93f7-4b9f-b9c1-eb58eae32403",
   "metadata": {},
   "source": [
    "For 2- or more-dimensional arrays, if using the shuffle() function as above, the order of arrays withinh the first dimension is changed, their individual elements remain in the same order. "
   ]
  },
  {
   "cell_type": "code",
   "execution_count": 13,
   "id": "4da2e6bd-353b-4f8a-83b1-e759bca301b0",
   "metadata": {},
   "outputs": [
    {
     "data": {
      "text/plain": [
       "array([[7, 8, 9],\n",
       "       [4, 5, 6],\n",
       "       [1, 2, 3]])"
      ]
     },
     "execution_count": 13,
     "metadata": {},
     "output_type": "execute_result"
    }
   ],
   "source": [
    "# Example\n",
    "arr = np.array([[1,2,3], [4,5,6], [7,8,9]])\n",
    "rng.shuffle(arr)\n",
    "arr"
   ]
  },
  {
   "cell_type": "markdown",
   "id": "9c60533c-3076-41f5-bb8e-964bb07db2a2",
   "metadata": {},
   "source": [
    "To also rearrange the order of elements within the 2nd dimension, the axis parameter can be added to the function. In the below example, the three sub-arrays will remain in the same order (starting with the array containing numbers 1, 2 and 3) but within the sub-arrays the elements are rearranged. "
   ]
  },
  {
   "cell_type": "code",
   "execution_count": 14,
   "id": "02813440-338b-41fe-85ad-ad7dd4e66918",
   "metadata": {},
   "outputs": [
    {
     "data": {
      "text/plain": [
       "array([[1, 2, 3],\n",
       "       [4, 5, 6],\n",
       "       [7, 8, 9]])"
      ]
     },
     "execution_count": 14,
     "metadata": {},
     "output_type": "execute_result"
    }
   ],
   "source": [
    "arr = np.array([[1,2,3], [4,5,6], [7,8,9]])\n",
    "arr"
   ]
  },
  {
   "cell_type": "code",
   "execution_count": 15,
   "id": "e1dfc667-57e5-4722-9967-4c77981f8d31",
   "metadata": {},
   "outputs": [
    {
     "data": {
      "text/plain": [
       "array([[3, 1, 2],\n",
       "       [6, 4, 5],\n",
       "       [9, 7, 8]])"
      ]
     },
     "execution_count": 15,
     "metadata": {},
     "output_type": "execute_result"
    }
   ],
   "source": [
    "rng.shuffle(arr, axis=1)\n",
    "arr"
   ]
  },
  {
   "cell_type": "markdown",
   "id": "09526518-ec3d-47c4-8a98-efd8467953e4",
   "metadata": {},
   "source": [
    "#### **2.2.2 Creating a Re-arranged Copy of an Array**\n",
    "While the shuffle() function changes to original array, the permutation() function returns a copy of the original array with re-arranged elements.\n",
    "\n",
    "https://numpy.org/doc/stable/reference/random/generated/numpy.random.Generator.permutation.html#numpy.random.Generator.permutation (13/11/2021)"
   ]
  },
  {
   "cell_type": "code",
   "execution_count": 16,
   "id": "fdfa52f6-666d-41ac-a563-0d15386120c6",
   "metadata": {},
   "outputs": [
    {
     "data": {
      "text/plain": [
       "array([4, 3, 1, 2, 5])"
      ]
     },
     "execution_count": 16,
     "metadata": {},
     "output_type": "execute_result"
    }
   ],
   "source": [
    "# Example\n",
    "arr = [1,2,3,4,5]\n",
    "\n",
    "rng.permutation(arr)"
   ]
  },
  {
   "cell_type": "markdown",
   "id": "f19d6e9f-ca1c-4f7a-aa50-af87f0643eef",
   "metadata": {},
   "source": [
    "Similar to the shuffle() function, permuation() also allows to rearrange arrays with more than 1 dimension."
   ]
  },
  {
   "cell_type": "code",
   "execution_count": 17,
   "id": "d8a70a95-7834-4eb0-ac64-9d7484923ae9",
   "metadata": {},
   "outputs": [
    {
     "data": {
      "text/plain": [
       "array([[1, 2, 3],\n",
       "       [7, 8, 9],\n",
       "       [4, 5, 6]])"
      ]
     },
     "execution_count": 17,
     "metadata": {},
     "output_type": "execute_result"
    }
   ],
   "source": [
    "# Example\n",
    "arr = np.array([[1,2,3], [4,5,6], [7,8,9]])\n",
    "rng.permutation(arr)"
   ]
  },
  {
   "cell_type": "code",
   "execution_count": 18,
   "id": "701f59e4-b60e-4f78-a9b3-a40dae96b0cb",
   "metadata": {},
   "outputs": [
    {
     "data": {
      "text/plain": [
       "array([[1, 2, 3],\n",
       "       [4, 5, 6],\n",
       "       [7, 8, 9]])"
      ]
     },
     "execution_count": 18,
     "metadata": {},
     "output_type": "execute_result"
    }
   ],
   "source": [
    "arr = np.array([[1,2,3], [4,5,6], [7,8,9]])\n",
    "arr"
   ]
  },
  {
   "cell_type": "code",
   "execution_count": 19,
   "id": "b131f198-72c4-4560-ad79-1a4b96ca7b6e",
   "metadata": {},
   "outputs": [
    {
     "data": {
      "text/plain": [
       "array([[3, 2, 1],\n",
       "       [6, 5, 4],\n",
       "       [9, 8, 7]])"
      ]
     },
     "execution_count": 19,
     "metadata": {},
     "output_type": "execute_result"
    }
   ],
   "source": [
    "rng.permutation(arr, axis=1)"
   ]
  },
  {
   "cell_type": "markdown",
   "id": "731b25e6-4015-4871-87ef-803f6d712cfc",
   "metadata": {},
   "source": [
    "#### **2.2.3 Re-arranging One- or Multi-dimensional Arrays**\n",
    "The permuted() function enables to shuffle sub-arrays independent of each other. It also gives an option to chose whether for the original array is re-arranged or whether a copy of the original array is re-arranged. \n",
    "\n",
    "https://numpy.org/doc/stable/reference/random/generated/numpy.random.Generator.permuted.html#numpy.random.Generator.permuted (14/11/2021)"
   ]
  },
  {
   "cell_type": "code",
   "execution_count": 20,
   "id": "b18ff551-9223-4a38-acc1-2caae241d916",
   "metadata": {},
   "outputs": [],
   "source": [
    "# Example\n",
    "arr = np.array([[1,2,3], [4,5,6], [7,8,9]])"
   ]
  },
  {
   "cell_type": "code",
   "execution_count": 21,
   "id": "2a9e35dd-279a-4615-9eb5-22d55dae15c9",
   "metadata": {},
   "outputs": [
    {
     "data": {
      "text/plain": [
       "array([[2, 1, 3],\n",
       "       [6, 4, 5],\n",
       "       [9, 7, 8]])"
      ]
     },
     "execution_count": 21,
     "metadata": {},
     "output_type": "execute_result"
    }
   ],
   "source": [
    "yarr = rng.permuted(arr, axis=1)\n",
    "yarr"
   ]
  },
  {
   "cell_type": "code",
   "execution_count": 22,
   "id": "1c1dd6fd-2f74-42bd-8398-4f31f0434f38",
   "metadata": {},
   "outputs": [],
   "source": [
    "# Example\n",
    "arr = np.array([[1,2,3], [4,5,6], [7,8,9]])"
   ]
  },
  {
   "cell_type": "code",
   "execution_count": 23,
   "id": "93c17d0d-0715-42d5-88cf-ed6382f13451",
   "metadata": {},
   "outputs": [
    {
     "data": {
      "text/plain": [
       "array([[2, 3, 1],\n",
       "       [5, 6, 4],\n",
       "       [9, 8, 7]])"
      ]
     },
     "execution_count": 23,
     "metadata": {},
     "output_type": "execute_result"
    }
   ],
   "source": [
    "yarr = rng.permuted(arr, axis=1, out=arr)\n",
    "arr"
   ]
  },
  {
   "cell_type": "code",
   "execution_count": null,
   "id": "a02265dc-a729-4ae0-893b-bf20921e9083",
   "metadata": {},
   "outputs": [],
   "source": []
  },
  {
   "cell_type": "markdown",
   "id": "3b7ba531-e1de-4586-a906-b22be4d5b9fd",
   "metadata": {},
   "source": [
    "## 3. Explain the use and purpose of at least five “Distributions” functions."
   ]
  },
  {
   "cell_type": "code",
   "execution_count": null,
   "id": "9cbe1447-ddd9-4325-a705-e9342e413890",
   "metadata": {},
   "outputs": [],
   "source": []
  },
  {
   "cell_type": "code",
   "execution_count": 29,
   "id": "99cc60ee-4574-45bd-8d09-1911d934ca40",
   "metadata": {},
   "outputs": [],
   "source": [
    "# For visualisation of the distribution functions described below, the seaborn module is imported.\n",
    "import seaborn as sns"
   ]
  },
  {
   "cell_type": "markdown",
   "id": "d3eef459-5048-4c5f-af59-4b2466f573ce",
   "metadata": {},
   "source": [
    "### **3.1 Uniform Distribution**\n",
    "\n",
    "https://numpy.org/doc/stable/reference/random/generated/numpy.random.Generator.uniform.html#numpy.random.Generator.uniform (15/11/2021)"
   ]
  },
  {
   "cell_type": "markdown",
   "id": "3af83d93-a077-47df-a5d5-385df8c6ddb2",
   "metadata": {},
   "source": [
    "The uniform() method returns float point numbers in a specified range from low (inclusive) to high (exclusive) values. For uniform distributions each event has equal changes of occuring. "
   ]
  },
  {
   "cell_type": "code",
   "execution_count": 38,
   "id": "5fbefc42-efad-40ed-9a72-70f4de1c635b",
   "metadata": {
    "scrolled": true,
    "tags": []
   },
   "outputs": [
    {
     "data": {
      "text/plain": [
       "array([7.61756148e+00, 8.87845099e+00, 5.66322107e+00, 9.57286481e+00,\n",
       "       6.63352006e+00, 8.97435185e+00, 2.77461641e+00, 7.15748837e+00,\n",
       "       5.05502500e+00, 5.06887190e-01, 4.88890108e+00, 6.66300491e+00,\n",
       "       2.93399480e+00, 3.47223347e+00, 7.48620475e-01, 1.78551270e+00,\n",
       "       9.20018787e+00, 6.59262032e+00, 1.15349232e+00, 8.55647670e+00,\n",
       "       9.60663618e+00, 6.93264680e+00, 9.32415125e+00, 4.47067531e+00,\n",
       "       2.01739064e+00, 1.06629379e+00, 8.59322526e+00, 2.34561135e+00,\n",
       "       2.07933531e+00, 3.85618938e+00, 8.82408992e+00, 5.28899657e+00,\n",
       "       4.68824083e+00, 7.81650626e+00, 9.50479308e+00, 2.29793964e+00,\n",
       "       3.79015459e+00, 9.21828730e+00, 6.93713507e+00, 3.12184811e+00,\n",
       "       1.92399632e+00, 3.94530006e+00, 4.94815960e+00, 9.50684744e+00,\n",
       "       2.16092816e+00, 3.68833179e+00, 5.58679703e+00, 3.57587804e+00,\n",
       "       4.26764328e-01, 8.72635297e+00, 3.26208734e+00, 7.04903257e+00,\n",
       "       8.21022258e+00, 8.34475962e+00, 6.55481994e+00, 2.36849335e+00,\n",
       "       3.65227820e+00, 9.22626994e+00, 2.76134438e+00, 9.40558164e+00,\n",
       "       6.34872978e+00, 3.98045645e+00, 3.00013598e+00, 2.51655983e+00,\n",
       "       7.48416585e+00, 4.15696870e+00, 9.97296793e+00, 7.67598707e+00,\n",
       "       3.91695102e-01, 3.80581249e+00, 9.91470808e+00, 4.97424367e-01,\n",
       "       6.54875907e+00, 3.06402624e+00, 8.44698973e+00, 6.24301925e+00,\n",
       "       6.77197360e+00, 1.84344168e+00, 8.29571972e+00, 9.78839102e+00,\n",
       "       6.81232926e+00, 7.84943688e+00, 1.46886037e+00, 4.43113146e+00,\n",
       "       6.64419257e+00, 3.61675806e+00, 2.64033965e+00, 5.09063395e+00,\n",
       "       4.06320202e+00, 1.16168115e+00, 3.31725094e-01, 2.65276230e-01,\n",
       "       8.69719167e+00, 4.75738079e+00, 6.37631995e+00, 7.51763684e+00,\n",
       "       9.65322646e+00, 8.21698919e+00, 2.75560170e+00, 8.61826492e+00,\n",
       "       9.29220902e+00, 2.22204586e+00, 1.65565052e+00, 8.84959615e+00,\n",
       "       1.42102319e+00, 1.63963890e+00, 3.96371258e+00, 5.79055474e+00,\n",
       "       1.30966218e+00, 2.51560745e+00, 9.60325838e+00, 8.40400843e+00,\n",
       "       4.30839074e+00, 4.11284427e+00, 2.41498464e+00, 6.12099717e+00,\n",
       "       6.91114680e+00, 4.27295644e+00, 1.27205236e+00, 4.20086298e-01,\n",
       "       4.72461412e+00, 3.14092395e+00, 6.00785603e+00, 4.67602028e+00,\n",
       "       9.06245183e+00, 9.26300532e+00, 3.38699441e+00, 9.34328296e+00,\n",
       "       6.63855242e+00, 1.76257987e-01, 4.95457312e+00, 1.76201998e+00,\n",
       "       6.56833628e+00, 4.15140022e+00, 7.54307872e+00, 1.55429354e+00,\n",
       "       8.58088540e+00, 9.34610461e-01, 5.94233914e+00, 6.66119443e+00,\n",
       "       1.83001831e+00, 7.21400814e+00, 4.74242931e+00, 3.29478723e+00,\n",
       "       3.61479156e+00, 7.02944543e+00, 4.11053807e+00, 3.53009971e+00,\n",
       "       2.72246475e+00, 4.93132077e+00, 3.36912011e+00, 4.62509943e+00,\n",
       "       2.00323569e+00, 2.17858675e+00, 1.26234573e+00, 4.97329215e+00,\n",
       "       9.61301561e+00, 8.15320608e+00, 3.93284795e+00, 4.16973211e+00,\n",
       "       8.36254300e+00, 6.82940213e+00, 4.94128022e-01, 7.30786394e+00,\n",
       "       2.79404168e+00, 1.77917360e+00, 2.53495032e+00, 4.71985729e+00,\n",
       "       2.05802383e+00, 7.91979950e+00, 3.58729747e+00, 4.89090226e+00,\n",
       "       6.74853307e+00, 4.49024751e+00, 9.08497905e+00, 8.49559387e-01,\n",
       "       9.11181007e+00, 9.97833848e+00, 9.03385569e+00, 5.94430205e+00,\n",
       "       3.77016633e+00, 2.77406807e+00, 7.59574001e+00, 5.66467902e+00,\n",
       "       3.17411493e+00, 4.62819949e+00, 4.74036253e+00, 1.30678482e+00,\n",
       "       9.22355394e+00, 2.96602702e-01, 3.14683020e+00, 3.63653135e+00,\n",
       "       7.25404780e+00, 7.80208796e+00, 9.00509220e+00, 8.36126827e+00,\n",
       "       6.50605012e+00, 6.70334253e+00, 7.31597262e+00, 4.24884513e-01,\n",
       "       3.52089524e+00, 3.16978598e+00, 8.51370085e+00, 6.33493922e+00,\n",
       "       5.83944146e+00, 2.34140784e+00, 7.38160886e+00, 3.31959859e-01,\n",
       "       1.85357408e+00, 5.66441572e+00, 7.63449466e+00, 5.90511265e+00,\n",
       "       9.75265606e+00, 6.15369462e+00, 7.76534488e+00, 2.76355796e+00,\n",
       "       2.55576793e+00, 6.33838817e+00, 4.73662934e+00, 5.49613745e+00,\n",
       "       9.00279513e-01, 8.23304745e+00, 8.47284620e+00, 2.06892192e+00,\n",
       "       7.61020484e+00, 9.21200115e+00, 4.89049896e+00, 9.62220793e+00,\n",
       "       8.25017413e+00, 1.76861933e+00, 8.51029270e-01, 5.35811064e+00,\n",
       "       1.89387595e+00, 5.45982831e+00, 3.53586796e-01, 7.13345521e+00,\n",
       "       6.15314609e+00, 9.29081473e+00, 4.57598742e-01, 9.65167577e+00,\n",
       "       4.33505518e+00, 7.89842460e+00, 7.53114456e+00, 6.85497396e+00,\n",
       "       7.52562794e+00, 5.19422163e-03, 8.32540762e+00, 7.87379997e+00,\n",
       "       9.87970570e+00, 4.38647986e+00, 3.84858002e+00, 5.01756649e+00,\n",
       "       3.38409732e+00, 1.83198968e+00, 7.66327863e+00, 1.14444000e+00,\n",
       "       5.03156238e+00, 4.61130743e+00, 8.19219378e+00, 3.34256844e-01,\n",
       "       1.50672137e+00, 3.74133030e+00, 6.71303823e+00, 2.31944197e+00,\n",
       "       3.16530045e+00, 6.15446086e+00, 5.27214421e+00, 1.47661395e-01,\n",
       "       1.87753918e+00, 6.38906294e+00, 9.53930849e+00, 3.78966287e+00,\n",
       "       9.01022249e-01, 5.24236403e+00, 9.23420018e+00, 4.46590477e+00,\n",
       "       6.74418470e+00, 9.99408322e+00, 1.91192942e+00, 6.28026354e+00,\n",
       "       2.43369305e+00, 9.13512892e+00, 5.19119624e+00, 7.27463721e+00,\n",
       "       8.62965295e+00, 8.89540127e-01, 2.41257390e+00, 4.18410232e+00,\n",
       "       9.28547047e+00, 3.29084339e+00, 2.56463635e+00, 9.73698651e+00,\n",
       "       8.91047628e+00, 2.61972568e-01, 8.43361335e+00, 5.51762653e+00,\n",
       "       8.93856653e+00, 7.28092808e+00, 4.10690216e-01, 8.65765969e+00,\n",
       "       7.65230649e+00, 2.52293383e+00, 7.43501596e+00, 2.40938363e+00,\n",
       "       4.29504831e+00, 7.22920470e+00, 2.06838122e+00, 3.96526559e+00,\n",
       "       1.09278738e+00, 6.10768954e-01, 6.49873691e+00, 6.17849333e+00,\n",
       "       5.11837615e+00, 2.18910345e+00, 1.09409382e+00, 2.18864994e+00,\n",
       "       2.27925184e+00, 7.54103568e+00, 4.35645824e+00, 5.30223007e+00,\n",
       "       7.13838409e+00, 2.26414881e+00, 4.95879863e+00, 9.03878491e+00,\n",
       "       9.24570473e+00, 3.02074611e+00, 7.11566633e+00, 1.39958983e-01,\n",
       "       4.17745293e+00, 9.13854126e+00, 9.58798183e+00, 9.24832270e-01,\n",
       "       1.16604046e+00, 2.10806951e+00, 8.82842886e+00, 7.38591198e+00,\n",
       "       7.95664255e+00, 6.56295588e+00, 5.22027811e+00, 2.02871705e+00,\n",
       "       5.66778588e+00, 6.29304044e+00, 6.96416370e+00, 2.89115115e+00,\n",
       "       1.66721387e+00, 9.95070700e+00, 8.29937758e+00, 9.06317216e+00,\n",
       "       3.57265807e+00, 5.29140247e+00, 1.66363719e+00, 9.81266355e+00,\n",
       "       4.60685928e-01, 5.13485079e+00, 4.96468302e+00, 3.63044926e+00,\n",
       "       6.71116236e+00, 3.21297559e+00, 7.83153508e+00, 8.00272252e-01,\n",
       "       5.01579458e+00, 8.23156864e+00, 1.03200970e-02, 2.48734452e+00,\n",
       "       3.59167828e+00, 7.85835798e-01, 7.88784966e+00, 3.79785039e+00,\n",
       "       1.92036472e+00, 8.28985745e+00, 6.27584102e+00, 6.52464808e+00,\n",
       "       7.65756853e+00, 2.58727171e-01, 7.93725589e+00, 8.31088765e+00,\n",
       "       9.81782990e+00, 3.18402298e+00, 3.10341134e+00, 2.38767689e+00,\n",
       "       9.03681288e+00, 6.71379358e+00, 6.86069094e+00, 8.74499940e+00,\n",
       "       2.11175797e-04, 1.62851658e-01, 9.56556338e-01, 5.07787468e+00,\n",
       "       3.22322868e+00, 1.41541131e+00, 7.62701373e+00, 5.31471567e+00,\n",
       "       7.26450134e+00, 3.26127724e+00, 4.68255461e-01, 1.03874472e+00,\n",
       "       3.77706599e+00, 3.46603737e+00, 5.40930236e+00, 1.66525455e+00,\n",
       "       7.78220299e+00, 7.73926462e-01, 8.83375763e+00, 2.50143854e-01,\n",
       "       1.79283302e+00, 6.74075131e+00, 4.15452580e-01, 2.50013481e+00,\n",
       "       9.43560519e+00, 2.71606048e+00, 8.12290034e-02, 5.00413952e+00,\n",
       "       5.81834933e+00, 2.18443819e-01, 8.53812127e+00, 4.44433951e+00,\n",
       "       5.40627226e+00, 3.00867675e+00, 4.61146442e+00, 1.51226054e+00,\n",
       "       5.74966073e+00, 6.22150467e+00, 3.07839159e+00, 6.53089365e+00,\n",
       "       2.03741259e+00, 7.56399981e+00, 9.99095494e+00, 6.59005829e+00,\n",
       "       8.32268395e+00, 2.40378749e+00, 5.93804845e+00, 4.17586051e+00,\n",
       "       3.78207218e+00, 8.11356465e+00, 9.82273588e+00, 5.17149246e-01,\n",
       "       6.19606948e-01, 1.45436997e-01, 8.81960036e-01, 1.07752803e-01,\n",
       "       1.31023042e-01, 9.37896973e+00, 4.25590461e+00, 7.54963464e+00,\n",
       "       5.21605124e+00, 6.54912188e-01, 1.35591580e+00, 5.67917716e+00,\n",
       "       3.72583848e+00, 8.91836824e+00, 8.71434746e+00, 8.38192264e+00,\n",
       "       6.59956173e+00, 5.36989161e+00, 9.33557470e+00, 4.12986875e-01,\n",
       "       5.60005760e+00, 6.99078326e+00, 4.86927821e+00, 9.44059385e+00,\n",
       "       8.85523492e+00, 1.86812813e+00, 2.51794995e+00, 4.38563777e+00,\n",
       "       4.79537562e+00, 9.36256912e+00, 9.77071494e+00, 2.92923254e+00,\n",
       "       8.63458318e+00, 8.63250546e+00, 7.31441584e-01, 4.40551968e+00,\n",
       "       6.83782224e+00, 5.30549329e+00, 9.37948862e+00, 4.55816138e+00,\n",
       "       3.25048733e+00, 8.54400091e+00, 4.16828946e+00, 7.68510040e+00,\n",
       "       5.74105784e+00, 7.85193274e+00, 5.93493389e-01, 3.17365498e+00,\n",
       "       2.35878647e+00, 8.26053561e+00, 4.80603183e+00, 3.97241046e+00,\n",
       "       7.06120257e-01, 2.95923389e+00, 4.89701160e+00, 7.61744264e+00,\n",
       "       1.19013964e+00, 4.24089369e+00, 6.49892818e+00, 9.12421474e+00,\n",
       "       2.98359249e-01, 2.05621333e+00, 2.54997322e+00, 8.41782370e+00,\n",
       "       2.67062537e+00, 5.06885682e-01, 3.52430134e+00, 4.88857184e+00,\n",
       "       6.83451050e-01, 8.07054529e+00, 2.50567275e+00, 5.57891251e+00,\n",
       "       6.88857612e+00, 5.94608884e+00, 5.14934042e+00, 4.78611485e+00,\n",
       "       8.32497716e+00, 9.34031894e+00, 3.52192807e+00, 1.84520691e+00,\n",
       "       3.77026215e+00, 2.96888428e+00, 4.22166365e+00, 5.01933580e+00,\n",
       "       1.24020988e+00, 1.61234741e+00, 5.95711146e-01, 7.02766495e+00,\n",
       "       3.83445301e+00, 9.82192380e+00, 2.13087995e+00, 4.82134868e+00,\n",
       "       4.67010966e+00, 7.52591099e+00, 2.61415490e+00, 5.34338996e-01,\n",
       "       7.41977034e-02, 5.87119250e+00, 9.11182827e+00, 6.52412922e+00,\n",
       "       1.91733742e+00, 7.96663149e+00, 9.32945827e+00, 2.81018437e+00,\n",
       "       4.75849834e+00, 5.12406667e+00, 3.64576596e+00, 2.63083050e+00,\n",
       "       5.48230133e+00, 3.78663873e+00, 7.24898311e+00, 9.77454792e+00,\n",
       "       4.28118520e+00, 5.79422347e+00, 8.99349716e+00, 1.35550787e+00,\n",
       "       1.40961375e+00, 6.18788789e+00, 6.44779571e+00, 5.86026227e+00,\n",
       "       1.53507373e-01, 1.36851568e-02, 5.24714899e-01, 1.38989079e-01,\n",
       "       4.35868034e+00, 7.94681884e+00, 5.59157451e+00, 6.05604760e+00,\n",
       "       6.83727186e+00, 8.05244568e+00, 6.73635945e-01, 9.94677660e-01,\n",
       "       5.20676364e+00, 1.87675469e+00, 7.22370018e+00, 7.41689934e+00,\n",
       "       9.22032375e+00, 3.03082639e+00, 1.18222391e+00, 3.08121895e+00,\n",
       "       2.69767743e+00, 9.20759443e+00, 2.92265674e+00, 5.01545839e+00,\n",
       "       5.05726611e+00, 1.36401298e+00, 8.14087399e+00, 3.80187093e+00,\n",
       "       7.56788340e+00, 8.22147334e+00, 5.07044012e+00, 2.76305365e-01,\n",
       "       9.08923304e+00, 1.16443838e+00, 4.29615069e+00, 7.12094092e-01,\n",
       "       1.27518979e+00, 2.87228366e+00, 3.78600611e+00, 8.14060020e-01,\n",
       "       3.90725285e+00, 4.37457991e+00, 5.81004768e+00, 6.44092062e+00,\n",
       "       9.74610435e+00, 3.23169986e+00, 3.92289701e+00, 4.34221378e+00,\n",
       "       3.94438536e+00, 5.99825284e+00, 4.31032090e+00, 6.74211264e+00,\n",
       "       4.81368210e+00, 5.04172688e+00, 7.46507878e+00, 9.44557246e+00,\n",
       "       6.34572114e+00, 4.50815214e+00, 3.40561697e+00, 2.83790178e+00,\n",
       "       8.94278238e+00, 4.85884126e+00, 1.14761466e+00, 3.78369192e+00,\n",
       "       3.41882462e+00, 6.99685260e+00, 2.66966937e-01, 5.77004495e+00,\n",
       "       4.89536003e+00, 1.42431651e+00, 5.66691659e+00, 2.76951997e+00,\n",
       "       1.96295552e+00, 5.59233174e+00, 7.71858812e-01, 7.75591314e+00,\n",
       "       2.06114940e+00, 4.16947733e+00, 5.19877253e+00, 1.77824545e+00,\n",
       "       3.00094952e+00, 3.98290291e+00, 7.28809718e+00, 9.87081494e+00,\n",
       "       9.80379895e+00, 2.73523999e-01, 3.12684001e+00, 3.75156623e+00,\n",
       "       5.93273281e+00, 2.00680882e+00, 8.69449264e+00, 2.40794364e+00,\n",
       "       5.61963602e+00, 4.81420099e+00, 2.19080541e+00, 1.16124778e+00,\n",
       "       1.20103087e+00, 1.88005713e+00, 2.33962806e+00, 8.70224264e+00,\n",
       "       3.63344870e+00, 3.61966647e+00, 9.02836081e+00, 9.36867218e+00,\n",
       "       1.25958598e+00, 1.66749575e+00, 9.81229164e+00, 1.41108327e+00,\n",
       "       2.55475547e+00, 5.21716647e+00, 2.45486280e+00, 6.03064247e-01,\n",
       "       4.84534265e+00, 4.66657887e-01, 2.96709523e+00, 2.91990270e+00,\n",
       "       2.87912325e+00, 2.64292681e+00, 7.92930200e+00, 2.01352094e+00,\n",
       "       8.31825722e+00, 7.89763634e+00, 4.62774727e-02, 7.84403499e+00,\n",
       "       3.50322035e+00, 2.07017192e+00, 8.11700130e+00, 2.08810837e+00,\n",
       "       7.03115006e+00, 5.16670730e+00, 2.26609415e+00, 4.04018239e+00,\n",
       "       4.74407286e+00, 6.29767661e-01, 9.79314079e+00, 6.79813541e+00,\n",
       "       1.27147681e+00, 6.74657467e+00, 9.39499720e+00, 9.19191203e+00,\n",
       "       8.80016659e+00, 4.75341748e+00, 4.44496364e+00, 8.70156157e+00,\n",
       "       1.51570025e+00, 5.01096051e+00, 1.11274391e+00, 9.79472191e+00,\n",
       "       9.89219492e+00, 2.91434801e+00, 5.62039194e+00, 3.47019016e+00,\n",
       "       2.88737091e+00, 8.63560764e+00, 4.66609829e+00, 8.19754435e+00,\n",
       "       7.93376972e+00, 8.85493589e+00, 6.80317227e+00, 6.75651190e-01,\n",
       "       2.33482857e-01, 8.62775415e+00, 7.02046707e+00, 9.24071319e-01,\n",
       "       5.09312211e+00, 6.05804770e+00, 3.32352669e+00, 1.08451719e+00,\n",
       "       4.44066130e+00, 4.42436717e+00, 3.67301689e+00, 8.78172804e+00,\n",
       "       7.41357618e+00, 8.35226916e+00, 7.17720034e+00, 2.04134776e+00,\n",
       "       8.77040890e+00, 5.23860775e-01, 8.26598620e+00, 6.39914893e+00,\n",
       "       2.43224502e+00, 9.19711097e+00, 2.76466448e+00, 9.99112298e-01,\n",
       "       3.35857220e+00, 3.00142170e-01, 2.03893191e+00, 8.55040585e+00,\n",
       "       7.46305294e+00, 7.29113524e+00, 9.14689735e+00, 7.11006200e+00,\n",
       "       6.48757669e+00, 5.00832955e+00, 6.93994737e+00, 3.73337592e+00,\n",
       "       4.66367132e+00, 8.70971514e+00, 1.93897076e+00, 1.98406245e+00,\n",
       "       8.54129423e+00, 4.67250703e+00, 9.27846126e+00, 3.82695689e+00,\n",
       "       1.02812692e+00, 4.66557681e-01, 2.22081918e+00, 7.71787279e+00,\n",
       "       2.78744520e+00, 5.76302555e+00, 4.04351348e+00, 9.29152571e+00,\n",
       "       9.05959670e+00, 6.44937890e-03, 1.69071619e+00, 7.69383554e+00,\n",
       "       4.53139144e+00, 2.56125329e+00, 7.61376089e+00, 9.50407169e+00,\n",
       "       2.72236729e+00, 9.05621800e+00, 4.15638765e+00, 4.54700351e+00,\n",
       "       8.51520943e+00, 9.37426109e-02, 6.53314018e+00, 6.71133175e+00,\n",
       "       2.01228911e+00, 6.03039724e+00, 5.19252334e+00, 3.47478817e+00,\n",
       "       9.14871626e+00, 3.22135956e+00, 6.22889862e+00, 9.71888882e+00,\n",
       "       2.08972859e+00, 5.20099707e+00, 5.67885519e+00, 2.06782075e+00,\n",
       "       9.03100568e+00, 1.88510199e-01, 4.51708422e+00, 4.30023982e+00,\n",
       "       4.62370433e+00, 4.04641539e+00, 7.56579769e+00, 5.02884083e+00,\n",
       "       2.75568560e+00, 4.44245337e+00, 4.91098178e+00, 6.48399582e+00,\n",
       "       4.05043424e+00, 5.92020427e+00, 1.79168695e-01, 4.54080616e+00,\n",
       "       8.89136615e+00, 5.48249009e+00, 9.24260688e+00, 2.23892224e+00,\n",
       "       8.75766867e+00, 5.74846650e+00, 6.15291287e+00, 2.27415344e+00,\n",
       "       1.40120561e+00, 7.21628992e+00, 1.57346708e+00, 6.83097915e+00,\n",
       "       6.23568922e+00, 1.80336031e-01, 6.56558185e+00, 9.71188560e+00,\n",
       "       6.29271127e-01, 7.55429071e+00, 9.75766822e+00, 1.39272495e+00,\n",
       "       6.25277959e+00, 4.24627846e+00, 8.12428430e+00, 4.97595233e+00,\n",
       "       6.26870985e+00, 9.53281956e+00, 6.47701047e+00, 2.10482951e+00,\n",
       "       8.10412734e+00, 2.74694545e+00, 8.07446929e+00, 1.72872599e+00,\n",
       "       2.90867761e+00, 9.06874941e-01, 4.68618110e+00, 4.19475270e+00,\n",
       "       8.78734824e+00, 2.50361242e+00, 8.16676966e+00, 7.62503821e+00,\n",
       "       6.17096844e+00, 6.59917783e+00, 4.91924080e+00, 5.54466690e+00,\n",
       "       8.30497168e-01, 3.04228039e+00, 7.76198526e+00, 2.60755954e+00,\n",
       "       6.73467252e-01, 8.79609602e+00, 7.52649377e+00, 2.11226959e+00,\n",
       "       2.02632210e+00, 4.13946503e+00, 8.07293660e+00, 5.71085076e+00,\n",
       "       5.09863384e+00, 1.63688993e+00, 8.47371044e+00, 9.08947416e+00,\n",
       "       3.91650967e+00, 5.85260307e+00, 1.05454571e+00, 9.08732752e+00,\n",
       "       2.72384077e+00, 1.89993611e+00, 1.08528742e-02, 7.02874305e+00,\n",
       "       7.05666404e+00, 8.72566968e+00, 2.92019811e+00, 9.96180106e+00,\n",
       "       7.26754444e+00, 8.93810444e+00, 9.93504302e+00, 5.91907928e+00,\n",
       "       2.74825311e+00, 2.79777069e+00, 6.43980638e+00, 7.35079745e+00,\n",
       "       5.20430941e+00, 6.81283632e-01, 4.92777205e-01, 3.31394645e+00,\n",
       "       1.55482889e+00, 8.97671467e+00, 6.31404780e+00, 4.99815398e+00,\n",
       "       8.07494021e+00, 7.67829844e+00, 9.57543879e+00, 2.48460545e-01,\n",
       "       4.96186814e+00, 5.79819104e-03, 3.90966447e+00, 7.39090351e+00,\n",
       "       2.96623895e+00, 4.30583030e+00, 5.77307697e+00, 4.49885067e-01,\n",
       "       9.81183836e+00, 2.37312322e+00, 5.95996029e+00, 4.58675057e-01,\n",
       "       1.24050006e+00, 2.44627251e+00, 8.62012006e+00, 2.66551432e+00,\n",
       "       5.42090977e+00, 5.70107834e+00, 5.10441435e+00, 5.76860766e+00,\n",
       "       8.81507688e+00, 2.36903493e+00, 4.05640461e+00, 5.42692741e+00,\n",
       "       7.87008497e+00, 3.27935321e+00, 4.18074468e+00, 1.45271570e+00,\n",
       "       2.36600398e+00, 8.65553643e+00, 3.08514886e+00, 9.87187741e+00,\n",
       "       3.79923631e+00, 9.55652413e+00, 7.95151259e+00, 6.99239597e+00,\n",
       "       2.18507111e+00, 6.49385628e+00, 3.83507664e+00, 2.21276670e+00,\n",
       "       9.62613949e+00, 3.32499279e+00, 2.99166617e+00, 8.81527753e+00,\n",
       "       3.72895635e+00, 4.54005801e+00, 2.62772278e+00, 8.83469944e+00,\n",
       "       2.96476116e-01, 9.14358091e+00, 6.82001988e+00, 2.16850863e+00,\n",
       "       4.54630791e+00, 6.28368856e+00, 3.30158330e+00, 3.72425026e+00,\n",
       "       1.61422476e+00, 1.13696025e+00, 4.94920959e+00, 7.61244747e+00,\n",
       "       8.16636767e+00, 1.88936633e-01, 1.71648142e+00, 4.70644576e+00,\n",
       "       5.89330681e+00, 2.08268200e+00, 3.60502027e+00, 5.37499356e+00,\n",
       "       8.12190619e+00, 2.86066532e+00, 8.89648405e+00, 1.30716066e+00,\n",
       "       7.23371196e+00, 4.65757164e+00, 5.23557544e+00, 9.72353894e+00,\n",
       "       3.17770512e+00, 2.44459030e+00, 9.15170302e+00, 9.44029155e+00,\n",
       "       7.97027625e-01, 9.56752006e-01, 8.45375054e+00, 7.96922199e+00,\n",
       "       9.66511163e+00, 2.20053735e+00, 6.39375913e+00, 6.37725054e+00,\n",
       "       1.84143961e+00, 2.12989972e+00, 8.44302661e+00, 7.46449680e+00,\n",
       "       9.83177003e+00, 6.79325517e+00, 9.88958891e+00, 5.44798939e+00])"
      ]
     },
     "execution_count": 38,
     "metadata": {},
     "output_type": "execute_result"
    }
   ],
   "source": [
    "# Example: 1000 float point numbers in the range of 0 to 10 (exclusive)\n",
    "\n",
    "s = np.random.default_rng().uniform(low=0, high=10, size=1000)\n",
    "s"
   ]
  },
  {
   "cell_type": "code",
   "execution_count": 37,
   "id": "8655ce21-ff55-4f93-a4e4-a8fbc308910a",
   "metadata": {},
   "outputs": [
    {
     "data": {
      "text/plain": [
       "<AxesSubplot:ylabel='Count'>"
      ]
     },
     "execution_count": 37,
     "metadata": {},
     "output_type": "execute_result"
    },
    {
     "data": {
      "image/png": "[encoded data removed]",
      "text/plain": [
       "<Figure size 432x288 with 1 Axes>"
      ]
     },
     "metadata": {
      "needs_background": "light"
     },
     "output_type": "display_data"
    }
   ],
   "source": [
    "# Histogram:\n",
    "\n",
    "sns.histplot(s, bins = 10)\n",
    "\n",
    "# https://seaborn.pydata.org/generated/seaborn.histplot.html#seaborn.histplot (15/11/2021)"
   ]
  },
  {
   "cell_type": "code",
   "execution_count": null,
   "id": "ee7b01ee-42e7-4a82-a118-3d387cad8d6c",
   "metadata": {},
   "outputs": [],
   "source": []
  },
  {
   "cell_type": "markdown",
   "id": "6ef61b0a-e0e5-4de7-97e4-708560f00e3f",
   "metadata": {
    "tags": []
   },
   "source": [
    "### **3.2 Binomial Distribution**\n",
    "\n",
    "https://numpy.org/doc/stable/reference/random/generated/numpy.random.Generator.binomial.html#numpy.random.Generator.binomial"
   ]
  },
  {
   "cell_type": "code",
   "execution_count": null,
   "id": "b9e280d6-628e-49ed-a5b4-07996b5ee113",
   "metadata": {},
   "outputs": [],
   "source": []
  },
  {
   "cell_type": "code",
   "execution_count": null,
   "id": "888e7a0c-e030-47f6-8a26-7187f90321bf",
   "metadata": {},
   "outputs": [],
   "source": []
  },
  {
   "cell_type": "markdown",
   "id": "23b585ce-10b4-43fc-a7e5-28184a2bf00f",
   "metadata": {},
   "source": [
    "### **3.3 Multinomial Distribution**\n",
    "\n",
    "https://numpy.org/doc/stable/reference/random/generated/numpy.random.Generator.multinomial.html#numpy.random.Generator.multinomial"
   ]
  },
  {
   "cell_type": "code",
   "execution_count": null,
   "id": "4350fea2-9943-4352-8bea-1b1cab225f74",
   "metadata": {},
   "outputs": [],
   "source": []
  },
  {
   "cell_type": "code",
   "execution_count": null,
   "id": "fe4e6ca8-70fa-420e-9f32-7f4892901bd3",
   "metadata": {},
   "outputs": [],
   "source": []
  },
  {
   "cell_type": "markdown",
   "id": "4fc5bf82-394a-4921-91a5-12b338d509ea",
   "metadata": {},
   "source": [
    "### **3.4 Normal Distribution**\n",
    "\n",
    "https://numpy.org/doc/stable/reference/random/generated/numpy.random.Generator.normal.html#numpy.random.Generator.normal"
   ]
  },
  {
   "cell_type": "code",
   "execution_count": null,
   "id": "f136e213-2515-412a-aedf-e873d40be36b",
   "metadata": {},
   "outputs": [],
   "source": []
  },
  {
   "cell_type": "code",
   "execution_count": null,
   "id": "53ba3fde-fba0-429c-9c0c-d9011c4ead6a",
   "metadata": {},
   "outputs": [],
   "source": []
  },
  {
   "cell_type": "markdown",
   "id": "6bb8f525-d41d-4d4d-a00e-cadbaa950886",
   "metadata": {},
   "source": [
    "### **3.5**"
   ]
  },
  {
   "cell_type": "code",
   "execution_count": null,
   "id": "e63fe69d-fa91-4a9d-8a35-68f77dbb050b",
   "metadata": {},
   "outputs": [],
   "source": []
  },
  {
   "cell_type": "markdown",
   "id": "16315562-8226-4d6f-9f5c-1140feb4e5f5",
   "metadata": {},
   "source": [
    "## 4. Explain the use of seeds in generating pseudorandom numbers."
   ]
  },
  {
   "cell_type": "code",
   "execution_count": null,
   "id": "ee426626-1730-4485-8861-934ecd90c8cb",
   "metadata": {},
   "outputs": [],
   "source": []
  },
  {
   "cell_type": "code",
   "execution_count": null,
   "id": "9eecf250-50a8-413d-95a1-f03f03b42aa8",
   "metadata": {},
   "outputs": [],
   "source": []
  },
  {
   "cell_type": "code",
   "execution_count": null,
   "id": "2bf1ce5b-3100-4367-81a6-ed83c6db8424",
   "metadata": {},
   "outputs": [],
   "source": []
  },
  {
   "cell_type": "markdown",
   "id": "258b0570-39d3-462c-b02e-53203389385b",
   "metadata": {},
   "source": [
    "## References Used"
   ]
  },
  {
   "cell_type": "code",
   "execution_count": null,
   "id": "a050ad53-5514-43df-acbb-0dbb0b26c5c2",
   "metadata": {},
   "outputs": [],
   "source": []
  }
 ],
 "metadata": {
  "kernelspec": {
   "display_name": "Python 3",
   "language": "python",
   "name": "python3"
  },
  "language_info": {
   "codemirror_mode": {
    "name": "ipython",
    "version": 3
   },
   "file_extension": ".py",
   "mimetype": "text/x-python",
   "name": "python",
   "nbconvert_exporter": "python",
   "pygments_lexer": "ipython3",
   "version": "3.8.8"
  }
 },
 "nbformat": 4,
 "nbformat_minor": 5
}
