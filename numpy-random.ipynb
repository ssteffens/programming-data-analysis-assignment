{
 "cells": [
  {
   "cell_type": "markdown",
   "id": "ca747803-6241-4530-9a01-15d8eba91b1a",
   "metadata": {},
   "source": [
    "# Programming for Data Analysis 2021 - Assignment"
   ]
  },
  {
   "cell_type": "markdown",
   "id": "8a1ccc16-20ad-4989-a357-72178e9200ba",
   "metadata": {},
   "source": [
    "## 1. Explain the overall purpose of the numpy.random package."
   ]
  },
  {
   "cell_type": "markdown",
   "id": "933bc638-8079-4fb6-a01f-fa75799805a2",
   "metadata": {},
   "source": [
    "### **1.1 The numpy.random Package - Subpackage of NumPy** \n",
    "\n",
    "The numpy.random package is a subpackage within the NumPy package. NumPy (short for Numerical Python) is a Python library which is used for dealing with arrays of numerical values. \n",
    "Arrays in NumPy are maintained as ndarray objects. These arrays can be 0-, 1- or multi-dimensional: \n",
    "- 0-D array: single value/scalar\n",
    "- 1-D array: a list of several 0-D arrays, also called uni-dimensional\n",
    "- 2-D array: an array consisting of two 1-D arrays, also called a matrix\n",
    "- 3-D array: an array that has 2-D arrays as its elements\n",
    "- n-D array: an array that has n-1 -D arrays as its elements\n",
    "All elements of an array need to be of the same data type. \n",
    "\n",
    "To be able to use NumPy, it needs to be imported. It is commonly imported as the alias np. "
   ]
  },
  {
   "cell_type": "code",
   "execution_count": 1,
   "id": "d36c8ef6-96ba-4bb3-8293-bf186b98e1c1",
   "metadata": {},
   "outputs": [],
   "source": [
    "# Importing numPy\n",
    "import numpy as np"
   ]
  },
  {
   "cell_type": "code",
   "execution_count": 2,
   "id": "b090f4b2-e57a-46bd-9b74-20cd88ca0ba9",
   "metadata": {},
   "outputs": [
    {
     "data": {
      "text/plain": [
       "'1.20.1'"
      ]
     },
     "execution_count": 2,
     "metadata": {},
     "output_type": "execute_result"
    }
   ],
   "source": [
    "# To check the installed version of NumPy \n",
    "np.__version__"
   ]
  },
  {
   "cell_type": "markdown",
   "id": "e327de91-9ddd-4ad7-b24b-318233c69730",
   "metadata": {},
   "source": [
    "### **1.2 The numpy.random Package - Use and Purpose**\n",
    "\n",
    "numpy.random is a subpackage within NumPy which enables users to generate and work with random numbers.\n",
    "\n",
    "\"Random means something that can not be predicted logically\" (https://www.w3schools.com/python/numpy/numpy_random.asp)\n",
    "\n",
    "Numbers created with the package are considered pseudo-random, meaning that they are not truly random but rather generated through a generation algorithm. By setting a seed value, the sequence of created numbers is reproducable (see further in part 4). \n",
    "\n",
    "In contrast, truly random numbers can be generated using random data from an outside source which could be mouse movements, time stamps, etc. \n",
    "\n",
    "In programming, pseudo-random numbers can be used for simulating data. the numpy.random package allows to create the required random numbers in different formats and fulfilling different criteria as required by the simulation scenario, for example selecting numbers from a pre-defined sample, or creating random numbers or arrays that follow certain distribution patterns. \n",
    "\n",
    "BitGenerators - Create sequences of random numbers\n",
    "Generators - use the created sequences to sample from different statistical distributions\n",
    "\n",
    "To be able to use the numpy.random module, calling the function numpy.random.default_rng() will start a new random number generator. "
   ]
  },
  {
   "cell_type": "code",
   "execution_count": 3,
   "id": "3a0e9542-7ab0-43b1-91b1-09a252ba6c9e",
   "metadata": {},
   "outputs": [],
   "source": [
    "# Define the random number generator (RNG)\n",
    "rng=np.random.default_rng()"
   ]
  },
  {
   "cell_type": "code",
   "execution_count": 4,
   "id": "331935d4-f881-4224-bec3-40a56c6ce85b",
   "metadata": {},
   "outputs": [
    {
     "data": {
      "text/plain": [
       "array([0.22558012, 0.35087363, 0.83408408, 0.5772944 , 0.69316142,\n",
       "       0.31974401, 0.7164726 , 0.87513063, 0.14481723, 0.72690154])"
      ]
     },
     "execution_count": 4,
     "metadata": {},
     "output_type": "execute_result"
    }
   ],
   "source": [
    "# Example: Using the RNG to generate 10 random float point numbers\n",
    "rng.random(size=10)"
   ]
  },
  {
   "cell_type": "markdown",
   "id": "faedcd1b-7aa1-455d-bbd6-9f7bd38b8f13",
   "metadata": {},
   "source": [
    "References:\n",
    "\n",
    "https://www.w3schools.com/python/numpy/numpy_random.asp (30/10/2021)\n",
    "\n",
    "Numpy v.1.21 Manual https://numpy.org/doc/stable/ (30/10/2021)\n",
    "\n",
    "Random sampling (numpy.random) https://numpy.org/doc/stable/reference/random/index.html# (30/10/2021)"
   ]
  },
  {
   "cell_type": "markdown",
   "id": "6ac92937-7622-4ac6-ab5c-090f5f25f1ac",
   "metadata": {},
   "source": [
    "## **2. Explain the use of the “Simple random data” and “Permutations” functions.**"
   ]
  },
  {
   "cell_type": "markdown",
   "id": "13d999c0-127f-4bc5-9383-384f5d921fe5",
   "metadata": {},
   "source": [
    "Functions for creating simple random data can be used to return integers, floats, or a random sample from a given array. \n",
    "<br>\n",
    "Permutation modify an array or sequence already in place by shuffling or rearranging the sequence. "
   ]
  },
  {
   "cell_type": "markdown",
   "id": "e5866a16-9e74-4ebb-bae2-12076132f484",
   "metadata": {},
   "source": [
    "<br>\n",
    "\n",
    "### **2.1 Simple Random Data**\n",
    "A number of functions can be used to generate simple random data, for example single or several numbers, or taking a random sample from a given array. "
   ]
  },
  {
   "cell_type": "markdown",
   "id": "5631856a-6be4-43d2-a1c8-eece16773938",
   "metadata": {},
   "source": [
    "<br>\n",
    "\n",
    "#### **2.1.1 Generating Random Integers**\n",
    "The rng.integers() function can be used to create random integers. "
   ]
  },
  {
   "cell_type": "code",
   "execution_count": 5,
   "id": "6a48cadc-c486-4185-a690-6ee2b377bc4c",
   "metadata": {},
   "outputs": [
    {
     "data": {
      "text/plain": [
       "0"
      ]
     },
     "execution_count": 5,
     "metadata": {},
     "output_type": "execute_result"
    }
   ],
   "source": [
    "# Generate a single random integer in the range from 0 (inclusive) to 5 (exclusive)\n",
    "rng.integers(5)"
   ]
  },
  {
   "cell_type": "markdown",
   "id": "681a6789-3e7d-473b-94a9-ab8735384bb0",
   "metadata": {},
   "source": [
    "The rng.integers() function can take a number of parameters to further define the output:\n",
    "- The range from which integers are drawn (low, high). The range inludes the low value but by default excludes the high value. \n",
    "- The number of random integers to be drawn (size)\n",
    "- Data type of results\n",
    "- Endpoint = True sets the high value to be inclusive of the entered value\n",
    "\n",
    "https://numpy.org/doc/stable/reference/random/generated/numpy.random.Generator.integers.html (13/11/2021)\n",
    "\n"
   ]
  },
  {
   "cell_type": "code",
   "execution_count": 6,
   "id": "eea0adb7-b4ee-4bb5-a0de-6b22926299ed",
   "metadata": {},
   "outputs": [
    {
     "data": {
      "text/plain": [
       "array([13, 17, 12, 11, 19], dtype=int64)"
      ]
     },
     "execution_count": 6,
     "metadata": {},
     "output_type": "execute_result"
    }
   ],
   "source": [
    "# Example: Generate an array of 5 integers between 10 (inclusive) and 20 (exclusive)\n",
    "rng.integers(low=10, high=20, size=5)"
   ]
  },
  {
   "cell_type": "markdown",
   "id": "0c7253fb-87db-4c05-ae81-779fc7f1bd13",
   "metadata": {},
   "source": [
    "<br>\n",
    "\n",
    "#### **2.1.2 Generating Random Float Numbers**\n",
    "\n",
    "The rng.random() function can be used to create float point numbers between 0 and 1 (exclusive).\n"
   ]
  },
  {
   "cell_type": "code",
   "execution_count": 7,
   "id": "f2a01847-4439-49fb-9b1f-4901ac56dcdd",
   "metadata": {},
   "outputs": [
    {
     "data": {
      "text/plain": [
       "0.21258560001982796"
      ]
     },
     "execution_count": 7,
     "metadata": {},
     "output_type": "execute_result"
    }
   ],
   "source": [
    "# Exapmle: Generate a single float point number\n",
    "rng.random()"
   ]
  },
  {
   "cell_type": "markdown",
   "id": "09792b18-0ebe-46b7-98cc-1d18c4a1a9e5",
   "metadata": {},
   "source": [
    "Similar to creating integers, additional parameters can be added to further define the output: \n",
    "- The number of random float numbers to be drawn (size)\n",
    "- Data type (float64 or float32)\n",
    "- An alternative output array\n",
    "\n",
    "https://numpy.org/doc/stable/reference/random/generated/numpy.random.Generator.random.html#numpy.random.Generator.random (13/11/2021)"
   ]
  },
  {
   "cell_type": "code",
   "execution_count": 8,
   "id": "84101c36-6ed4-4a29-a994-24dec51f4612",
   "metadata": {},
   "outputs": [
    {
     "data": {
      "text/plain": [
       "array([0.75539304, 0.95871626, 0.13936416, 0.04579376, 0.28968896])"
      ]
     },
     "execution_count": 8,
     "metadata": {},
     "output_type": "execute_result"
    }
   ],
   "source": [
    "# Generate an array of 5 float point numbers\n",
    "rng.random(size=5)"
   ]
  },
  {
   "cell_type": "markdown",
   "id": "76fdda62-791a-43ec-bd2e-8500ff0f7fea",
   "metadata": {},
   "source": [
    "<br>\n",
    "\n",
    "#### **2.1.3 Generating n-dimensional Arrays of Random Numbers**\n",
    "\n",
    "Both rng.integers() and rng.random() can be used to create n-dimensional arrays of random numbers, for example to simulate a table of values. \n",
    "\n",
    "https://numpy.org/doc/stable/reference/random/generated/numpy.random.Generator.integers.html#numpy.random.Generator.integers (19/11/2021)"
   ]
  },
  {
   "cell_type": "code",
   "execution_count": 9,
   "id": "29f4c59b-02ca-49f8-a0ef-689284e601ca",
   "metadata": {},
   "outputs": [
    {
     "data": {
      "text/plain": [
       "array([[2, 0, 3, 4],\n",
       "       [1, 2, 2, 1],\n",
       "       [3, 1, 0, 1]], dtype=int64)"
      ]
     },
     "execution_count": 9,
     "metadata": {},
     "output_type": "execute_result"
    }
   ],
   "source": [
    "# Generate a 3 x 4 array of integers with maximum value 5 (exlusive)\n",
    "rng.integers(5, size=(3, 4))"
   ]
  },
  {
   "cell_type": "code",
   "execution_count": 10,
   "id": "2fa3021a-e76d-45be-8293-640bfb17e567",
   "metadata": {},
   "outputs": [
    {
     "data": {
      "text/plain": [
       "array([[ 7,  9,  8,  8],\n",
       "       [11, 19, 10, 10],\n",
       "       [29, 24, 26, 21]], dtype=int64)"
      ]
     },
     "execution_count": 10,
     "metadata": {},
     "output_type": "execute_result"
    }
   ],
   "source": [
    "# Generate a 3 x 4 array of integers with different low and high values for each dimension (row)\n",
    "rng.integers([[0, 0, 0, 0], [10, 10, 10, 10], [20, 20, 20, 20]], [[10], [20], [30]], size=[3, 4])"
   ]
  },
  {
   "cell_type": "markdown",
   "id": "e2774df6-1987-4e29-86e0-62097ad15e36",
   "metadata": {},
   "source": [
    "<br>\n",
    "\n",
    "#### **2.1.4 Selecting Random Numbers from a Predefined Array**\n",
    "\n",
    "The rng.choice() function can be used to generate a random sample from a given array. \n",
    "\n",
    "https://numpy.org/doc/stable/reference/random/generated/numpy.random.Generator.choice.html#numpy.random.Generator.choice (13/11/2021)"
   ]
  },
  {
   "cell_type": "code",
   "execution_count": 11,
   "id": "a701b26e-ff77-4485-a6b0-6cb8904baf79",
   "metadata": {},
   "outputs": [
    {
     "data": {
      "text/plain": [
       "array([4, 5, 3])"
      ]
     },
     "execution_count": 11,
     "metadata": {},
     "output_type": "execute_result"
    }
   ],
   "source": [
    "# Select 3 integers from an array of [1, 2, 3, 4, 5]\n",
    "rng.choice([1,2,3,4,5], 3)"
   ]
  },
  {
   "cell_type": "markdown",
   "id": "a5a88eb3-4fd2-4a59-9d33-f20759fe2b2f",
   "metadata": {},
   "source": [
    "An important aspect of random number generation is the distribution of data. The rng.choice() function can be used to define the probability of random numbers being selected by assigning probability values. "
   ]
  },
  {
   "cell_type": "code",
   "execution_count": 12,
   "id": "66ba29c2-6a9a-4ff8-9ba0-b51cc2455db4",
   "metadata": {},
   "outputs": [
    {
     "data": {
      "text/plain": [
       "array([3, 4, 1, 2, 2, 4, 1, 1, 1, 2])"
      ]
     },
     "execution_count": 12,
     "metadata": {},
     "output_type": "execute_result"
    }
   ],
   "source": [
    "# Select 10 integers from an array of [1, 2, 3, 4, 5]. The probability of selecting 1, 2 and 3 is set to 0.3, \n",
    "# the probaility of selecting 4 is set to 0.1 and the probablility of selecting 5 is set to 0:\n",
    "\n",
    "ch = rng.choice([1,2,3,4,5], 10, p=(0.3, 0.3, 0.3, 0.1, 0))\n",
    "ch"
   ]
  },
  {
   "cell_type": "markdown",
   "id": "733e1772-edb3-405d-b904-9ea970ffd28f",
   "metadata": {},
   "source": [
    "<br>\n",
    "\n",
    "#### **2.1.5 Generating Random Bytes**\n",
    "\n",
    "The rng.bytes() function can be used to generate random bytes. The length parameter determines the number of bytes to be created. \n",
    "\n",
    "https://numpy.org/doc/stable/reference/random/generated/numpy.random.Generator.bytes.html#numpy.random.Generator.bytes (19/11/2021)"
   ]
  },
  {
   "cell_type": "code",
   "execution_count": 13,
   "id": "188d1530-db4a-4427-9b36-c2205530a7d0",
   "metadata": {},
   "outputs": [
    {
     "data": {
      "text/plain": [
       "b'\\xd7}\\x82X\\xff\\x1c\\x95}6\\x16'"
      ]
     },
     "execution_count": 13,
     "metadata": {},
     "output_type": "execute_result"
    }
   ],
   "source": [
    "# Example: Generate 10 random bytes\n",
    "rng.bytes(10)"
   ]
  },
  {
   "cell_type": "markdown",
   "id": "57ffaf61-b047-4774-b246-fd2476b915bc",
   "metadata": {},
   "source": [
    "<br>\n",
    "\n",
    "### **2.2 Permutations**"
   ]
  },
  {
   "cell_type": "markdown",
   "id": "961d847a-4bf3-4e88-8ca2-c1583a11bd6d",
   "metadata": {},
   "source": [
    "Random permuations can be used to re-arrange elements within a given array, for example by changing the order of [1, 2, 3] to [3, 2, 1].\n",
    "The numpy.random package offers 3 methods for changing the order of array elements: \n",
    "- shuffle()\n",
    "- permutation()\n",
    "- permuted()\n",
    "\n",
    "Permutations: https://numpy.org/doc/stable/reference/random/generated/numpy.random.Generator.permutation.html"
   ]
  },
  {
   "cell_type": "markdown",
   "id": "d4500e25-3204-4d36-8576-6d846d400882",
   "metadata": {},
   "source": [
    "<br>\n",
    "\n",
    "#### **2.2.1 Re-shuffling an Array**\n",
    "The shuffle() function changes the original array by re-arranging its elements. \n",
    "\n",
    "https://numpy.org/doc/stable/reference/random/generated/numpy.random.Generator.shuffle.html#numpy.random.Generator.shuffle (13/11/2021)\n",
    "\n",
    "https://likegeeks.com/numpy-shuffle/ (14/11/2021)\n",
    "\n",
    "https://zkf85.github.io/2019/01/31/np-shuffle-vs-permutation (14/11/2021)"
   ]
  },
  {
   "cell_type": "code",
   "execution_count": 14,
   "id": "92d000cb-11d3-466a-bcd8-cd69694b9fbd",
   "metadata": {},
   "outputs": [
    {
     "data": {
      "text/plain": [
       "[4, 2, 3, 5, 1]"
      ]
     },
     "execution_count": 14,
     "metadata": {},
     "output_type": "execute_result"
    }
   ],
   "source": [
    "# Example: \n",
    "arr = [1,2,3,4,5]\n",
    "\n",
    "rng.shuffle(arr)\n",
    "arr"
   ]
  },
  {
   "cell_type": "markdown",
   "id": "501c4554-93f7-4b9f-b9c1-eb58eae32403",
   "metadata": {},
   "source": [
    "For 2- or more-dimensional arrays, if using the shuffle() function as above, the order of arrays withinh the first dimension is changed, their individual elements remain in the same order. "
   ]
  },
  {
   "cell_type": "code",
   "execution_count": 15,
   "id": "4da2e6bd-353b-4f8a-83b1-e759bca301b0",
   "metadata": {},
   "outputs": [
    {
     "data": {
      "text/plain": [
       "array([[1, 2, 3],\n",
       "       [7, 8, 9],\n",
       "       [4, 5, 6]])"
      ]
     },
     "execution_count": 15,
     "metadata": {},
     "output_type": "execute_result"
    }
   ],
   "source": [
    "# Example\n",
    "arr = np.array([[1,2,3], [4,5,6], [7,8,9]])\n",
    "rng.shuffle(arr)\n",
    "arr"
   ]
  },
  {
   "cell_type": "markdown",
   "id": "9c60533c-3076-41f5-bb8e-964bb07db2a2",
   "metadata": {},
   "source": [
    "To also rearrange the order of elements within the 2nd dimension, the axis parameter can be added to the function. In the below example, the three sub-arrays will remain in the same order (starting with the array containing numbers 1, 2 and 3) but within the sub-arrays the elements are rearranged. "
   ]
  },
  {
   "cell_type": "code",
   "execution_count": 16,
   "id": "02813440-338b-41fe-85ad-ad7dd4e66918",
   "metadata": {},
   "outputs": [
    {
     "data": {
      "text/plain": [
       "array([[1, 2, 3],\n",
       "       [4, 5, 6],\n",
       "       [7, 8, 9]])"
      ]
     },
     "execution_count": 16,
     "metadata": {},
     "output_type": "execute_result"
    }
   ],
   "source": [
    "arr = np.array([[1,2,3], [4,5,6], [7,8,9]])\n",
    "arr"
   ]
  },
  {
   "cell_type": "code",
   "execution_count": 17,
   "id": "e1dfc667-57e5-4722-9967-4c77981f8d31",
   "metadata": {},
   "outputs": [
    {
     "data": {
      "text/plain": [
       "array([[1, 2, 3],\n",
       "       [4, 5, 6],\n",
       "       [7, 8, 9]])"
      ]
     },
     "execution_count": 17,
     "metadata": {},
     "output_type": "execute_result"
    }
   ],
   "source": [
    "rng.shuffle(arr, axis=1)\n",
    "arr"
   ]
  },
  {
   "cell_type": "markdown",
   "id": "09526518-ec3d-47c4-8a98-efd8467953e4",
   "metadata": {},
   "source": [
    "<br>\n",
    "\n",
    "#### **2.2.2 Creating a Re-arranged Copy of an Array**\n",
    "While the shuffle() function changes to original array, the permutation() function returns a copy of the original array with re-arranged elements.\n",
    "\n",
    "https://numpy.org/doc/stable/reference/random/generated/numpy.random.Generator.permutation.html#numpy.random.Generator.permutation (13/11/2021)"
   ]
  },
  {
   "cell_type": "code",
   "execution_count": 18,
   "id": "fdfa52f6-666d-41ac-a563-0d15386120c6",
   "metadata": {},
   "outputs": [
    {
     "data": {
      "text/plain": [
       "array([2, 4, 5, 3, 1])"
      ]
     },
     "execution_count": 18,
     "metadata": {},
     "output_type": "execute_result"
    }
   ],
   "source": [
    "# Example\n",
    "arr = [1,2,3,4,5]\n",
    "\n",
    "rng.permutation(arr)"
   ]
  },
  {
   "cell_type": "markdown",
   "id": "f19d6e9f-ca1c-4f7a-aa50-af87f0643eef",
   "metadata": {},
   "source": [
    "Similar to the shuffle() function, permuation() also allows to rearrange arrays with more than 1 dimension."
   ]
  },
  {
   "cell_type": "code",
   "execution_count": 19,
   "id": "d8a70a95-7834-4eb0-ac64-9d7484923ae9",
   "metadata": {},
   "outputs": [
    {
     "data": {
      "text/plain": [
       "array([[4, 5, 6],\n",
       "       [1, 2, 3],\n",
       "       [7, 8, 9]])"
      ]
     },
     "execution_count": 19,
     "metadata": {},
     "output_type": "execute_result"
    }
   ],
   "source": [
    "# Example\n",
    "arr = np.array([[1,2,3], [4,5,6], [7,8,9]])\n",
    "rng.permutation(arr)"
   ]
  },
  {
   "cell_type": "code",
   "execution_count": 20,
   "id": "701f59e4-b60e-4f78-a9b3-a40dae96b0cb",
   "metadata": {},
   "outputs": [
    {
     "data": {
      "text/plain": [
       "array([[1, 2, 3],\n",
       "       [4, 5, 6],\n",
       "       [7, 8, 9]])"
      ]
     },
     "execution_count": 20,
     "metadata": {},
     "output_type": "execute_result"
    }
   ],
   "source": [
    "arr = np.array([[1,2,3], [4,5,6], [7,8,9]])\n",
    "arr"
   ]
  },
  {
   "cell_type": "code",
   "execution_count": 21,
   "id": "b131f198-72c4-4560-ad79-1a4b96ca7b6e",
   "metadata": {},
   "outputs": [
    {
     "data": {
      "text/plain": [
       "array([[1, 2, 3],\n",
       "       [4, 5, 6],\n",
       "       [7, 8, 9]])"
      ]
     },
     "execution_count": 21,
     "metadata": {},
     "output_type": "execute_result"
    }
   ],
   "source": [
    "rng.permutation(arr, axis=1)"
   ]
  },
  {
   "cell_type": "markdown",
   "id": "731b25e6-4015-4871-87ef-803f6d712cfc",
   "metadata": {},
   "source": [
    "<br>\n",
    "\n",
    "#### **2.2.3 Re-arranging One- or Multi-dimensional Arrays**\n",
    "The permuted() function enables to shuffle sub-arrays independent of each other. It also gives an option to chose whether for the original array is re-arranged or whether a copy of the original array is re-arranged. \n",
    "\n",
    "https://numpy.org/doc/stable/reference/random/generated/numpy.random.Generator.permuted.html#numpy.random.Generator.permuted (14/11/2021)"
   ]
  },
  {
   "cell_type": "code",
   "execution_count": 22,
   "id": "b18ff551-9223-4a38-acc1-2caae241d916",
   "metadata": {},
   "outputs": [],
   "source": [
    "# Example\n",
    "arr = np.array([[1,2,3], [4,5,6], [7,8,9]])"
   ]
  },
  {
   "cell_type": "code",
   "execution_count": 23,
   "id": "2a9e35dd-279a-4615-9eb5-22d55dae15c9",
   "metadata": {},
   "outputs": [
    {
     "data": {
      "text/plain": [
       "array([[3, 1, 2],\n",
       "       [5, 4, 6],\n",
       "       [7, 8, 9]])"
      ]
     },
     "execution_count": 23,
     "metadata": {},
     "output_type": "execute_result"
    }
   ],
   "source": [
    "yarr = rng.permuted(arr, axis=1)\n",
    "yarr"
   ]
  },
  {
   "cell_type": "code",
   "execution_count": 24,
   "id": "1c1dd6fd-2f74-42bd-8398-4f31f0434f38",
   "metadata": {},
   "outputs": [],
   "source": [
    "# Example\n",
    "arr = np.array([[1,2,3], [4,5,6], [7,8,9]])"
   ]
  },
  {
   "cell_type": "code",
   "execution_count": 25,
   "id": "93c17d0d-0715-42d5-88cf-ed6382f13451",
   "metadata": {},
   "outputs": [
    {
     "data": {
      "text/plain": [
       "array([[3, 1, 2],\n",
       "       [5, 6, 4],\n",
       "       [9, 8, 7]])"
      ]
     },
     "execution_count": 25,
     "metadata": {},
     "output_type": "execute_result"
    }
   ],
   "source": [
    "yarr = rng.permuted(arr, axis=1, out=arr)\n",
    "arr"
   ]
  },
  {
   "cell_type": "code",
   "execution_count": null,
   "id": "a02265dc-a729-4ae0-893b-bf20921e9083",
   "metadata": {},
   "outputs": [],
   "source": []
  },
  {
   "cell_type": "markdown",
   "id": "3b7ba531-e1de-4586-a906-b22be4d5b9fd",
   "metadata": {},
   "source": [
    "<br>\n",
    "\n",
    "## **3. Explain the use and purpose of at least five “Distributions” functions.**"
   ]
  },
  {
   "cell_type": "code",
   "execution_count": null,
   "id": "9cbe1447-ddd9-4325-a705-e9342e413890",
   "metadata": {},
   "outputs": [],
   "source": []
  },
  {
   "cell_type": "code",
   "execution_count": 26,
   "id": "99cc60ee-4574-45bd-8d09-1911d934ca40",
   "metadata": {},
   "outputs": [],
   "source": [
    "# For visualisation of the distribution functions described below, the seaborn module is imported.\n",
    "import seaborn as sns"
   ]
  },
  {
   "cell_type": "markdown",
   "id": "d3eef459-5048-4c5f-af59-4b2466f573ce",
   "metadata": {},
   "source": [
    "### **3.1 Uniform Distribution**\n",
    "\n",
    "https://numpy.org/doc/stable/reference/random/generated/numpy.random.Generator.uniform.html#numpy.random.Generator.uniform (15/11/2021)"
   ]
  },
  {
   "cell_type": "markdown",
   "id": "3af83d93-a077-47df-a5d5-385df8c6ddb2",
   "metadata": {},
   "source": [
    "The uniform() method returns float point numbers in a specified range from low (inclusive) to high (exclusive) values. For uniform distributions each event has equal changes of occuring. "
   ]
  },
  {
   "cell_type": "code",
   "execution_count": 27,
   "id": "5fbefc42-efad-40ed-9a72-70f4de1c635b",
   "metadata": {
    "scrolled": true,
    "tags": []
   },
   "outputs": [
    {
     "data": {
      "text/plain": [
       "array([9.5859013 , 1.58618059, 9.41986282, 1.22537963, 8.3994931 ,\n",
       "       4.05705205, 1.28569833, 3.62416298, 1.01730913, 0.35170969,\n",
       "       4.47199212, 7.69791927, 6.32055087, 3.15842159, 5.78140205,\n",
       "       8.35177838, 8.16687806, 8.72900817, 9.57361771, 5.48850748,\n",
       "       6.11052247, 4.3537864 , 8.11110432, 5.74073528, 5.61322461,\n",
       "       5.61516929, 4.60157046, 6.47350676, 6.82325272, 5.46072896,\n",
       "       3.51623614, 4.10189283, 7.1446477 , 6.01847414, 3.23324876,\n",
       "       6.52297849, 7.26858326, 1.88481965, 8.24890202, 6.70106201,\n",
       "       9.59955682, 4.54710741, 2.79510539, 7.45333981, 9.18186814,\n",
       "       3.90508996, 9.09678571, 0.85350197, 3.49392446, 1.99075802,\n",
       "       4.62903536, 6.19846171, 1.40081158, 2.08788916, 0.07222102,\n",
       "       5.03442654, 7.89425889, 7.74141206, 0.30573825, 5.46835954,\n",
       "       4.15802729, 2.38362344, 1.55101335, 5.3949656 , 6.94881463,\n",
       "       5.68720815, 9.74517703, 4.24501654, 2.12092361, 0.75333793,\n",
       "       8.47595297, 1.56149514, 0.58123966, 7.87849112, 0.46175361,\n",
       "       1.00755969, 8.43507275, 7.80622928, 3.44498728, 6.16685789,\n",
       "       5.13769165, 6.46342674, 9.06951176, 2.53103411, 4.27903524,\n",
       "       3.87191151, 7.83430373, 5.06532962, 1.86404   , 1.10114521,\n",
       "       3.32787395, 5.79539693, 8.73535372, 8.84370696, 8.1562633 ,\n",
       "       7.27398663, 6.80611682, 2.66699019, 0.23269983, 8.04174274,\n",
       "       6.16442659, 3.26161858, 5.93562173, 5.95424647, 5.30826747,\n",
       "       7.84585034, 0.8131126 , 3.5810092 , 2.01636571, 9.4001893 ,\n",
       "       4.97030289, 0.05968082, 9.25391363, 8.9272275 , 6.67104536,\n",
       "       6.13260433, 0.11993006, 1.29646277, 9.19143364, 7.57062949,\n",
       "       3.42441337, 9.13243419, 7.43440758, 9.49523102, 8.70493415,\n",
       "       9.80628015, 3.0991046 , 6.81411662, 9.6338826 , 1.64976442,\n",
       "       9.62605888, 0.2410888 , 9.4764085 , 0.21672214, 4.69582224,\n",
       "       0.57783528, 7.57216254, 5.72464209, 6.43993023, 9.64710141,\n",
       "       0.2493624 , 0.22793117, 8.00024753, 2.07524293, 6.55790232,\n",
       "       5.83947227, 5.61230669, 5.71880775, 9.18920534, 7.49663429,\n",
       "       6.83724304, 2.15312348, 1.26044265, 0.9040977 , 3.14760035,\n",
       "       1.70835905, 5.70443686, 6.19439579, 0.56585368, 9.53727123,\n",
       "       9.65420845, 0.92660673, 1.89803587, 9.55193595, 4.99379313,\n",
       "       4.92203114, 5.0115904 , 6.32114098, 7.35817994, 5.49764978,\n",
       "       7.789063  , 9.86398929, 8.19329351, 8.6274421 , 5.02117849,\n",
       "       7.97785783, 5.0642962 , 3.50674213, 1.32894701, 6.00204083,\n",
       "       5.06547829, 0.2405626 , 0.54982214, 0.49728426, 9.50142351,\n",
       "       8.74946751, 0.71726054, 9.36849629, 3.48769828, 7.12277929,\n",
       "       7.27938553, 5.90664169, 6.10015632, 2.51792678, 5.19738249,\n",
       "       5.69856212, 6.32005236, 5.54900616, 5.48405401, 4.25874418,\n",
       "       3.59265666, 2.42365541, 9.99448218, 8.80766852, 8.8197616 ,\n",
       "       9.81538557, 3.49846341, 2.62082894, 3.43313618, 8.15076002,\n",
       "       0.74892386, 2.9501496 , 8.19371304, 2.88186093, 6.75840842,\n",
       "       8.46249101, 8.31870209, 4.81745216, 0.60914636, 7.27251877,\n",
       "       5.98258189, 1.17093857, 3.13550878, 2.46644253, 5.80463829,\n",
       "       0.47515483, 2.71107958, 5.8629328 , 9.90708133, 9.92373363,\n",
       "       6.13548222, 4.86673389, 7.06383392, 3.89227651, 2.12095013,\n",
       "       1.79404435, 6.78708406, 4.65341399, 2.73669886, 7.82125849,\n",
       "       6.26545047, 6.02429443, 1.1489375 , 9.25881293, 7.41716228,\n",
       "       6.88179808, 8.10317819, 5.19910919, 9.67391961, 0.67219257,\n",
       "       8.75220988, 3.63146708, 6.34213016, 3.73169664, 0.72733556,\n",
       "       8.63061203, 9.3676684 , 0.27679676, 7.12429135, 0.54878805,\n",
       "       2.99615939, 1.26456762, 2.21118735, 8.30123753, 0.90949495,\n",
       "       7.15940467, 6.36033179, 3.20356348, 5.47974567, 7.299342  ,\n",
       "       6.40588497, 8.74600218, 4.4818106 , 9.26418281, 3.84846325,\n",
       "       7.19760357, 0.61410922, 4.73448712, 4.89301179, 6.49207437,\n",
       "       5.21709001, 4.27962195, 6.83730726, 9.14082586, 7.66012698,\n",
       "       0.60874625, 4.76721773, 1.04555817, 3.062752  , 5.27028949,\n",
       "       8.25178624, 3.67675894, 3.04129306, 8.77675566, 8.11559737,\n",
       "       8.74792171, 9.45349924, 1.70755089, 9.17951161, 7.3060143 ,\n",
       "       9.88250758, 2.72937714, 9.67448677, 6.1609453 , 5.24699713,\n",
       "       1.88932436, 8.46391251, 9.48469045, 8.20906661, 7.23833667,\n",
       "       1.3299164 , 3.62651865, 4.0235999 , 8.41492053, 8.62749778,\n",
       "       5.5975582 , 3.06238883, 3.82513926, 5.28751525, 5.33687982,\n",
       "       0.11936463, 6.11176019, 7.3825299 , 7.90951532, 5.96927137,\n",
       "       3.28204603, 9.28395001, 2.32996021, 8.90020875, 3.89986525,\n",
       "       0.34625179, 1.53625726, 6.54556003, 5.06371302, 1.59264749,\n",
       "       8.14234489, 3.46338667, 0.3168148 , 3.80138565, 9.72342423,\n",
       "       5.34649308, 4.73948183, 3.12338635, 9.76214506, 6.12849847,\n",
       "       2.44880411, 0.53336641, 6.20824443, 6.17696857, 3.82233678,\n",
       "       1.06930064, 3.77126222, 5.2322352 , 2.86459024, 5.66461023,\n",
       "       2.7040868 , 3.96540885, 5.55340106, 5.95001971, 2.21997513,\n",
       "       3.63173284, 1.90192908, 3.08581178, 8.93284654, 6.78683551,\n",
       "       1.07530172, 4.52567547, 7.71043242, 8.64932202, 1.89869007,\n",
       "       7.68412136, 5.02669085, 1.37531011, 3.75253169, 9.09133297,\n",
       "       9.07819791, 7.27199394, 6.36300997, 7.46184851, 1.40398093,\n",
       "       4.21913632, 8.34426781, 8.00272545, 6.75589651, 1.07116045,\n",
       "       6.52607605, 0.65575854, 2.78474059, 9.38943957, 4.26173514,\n",
       "       3.24935434, 5.69910067, 7.38115901, 9.34168671, 5.00032653,\n",
       "       4.95939017, 8.5335571 , 0.89034641, 8.78678267, 5.65578942,\n",
       "       6.70673226, 8.22591446, 2.9035862 , 8.72431636, 6.13889911,\n",
       "       0.34618463, 5.40189502, 7.87749126, 3.6507343 , 9.2504425 ,\n",
       "       6.40102206, 3.81039348, 7.611459  , 1.96669569, 8.16124106,\n",
       "       6.68661796, 1.19550509, 2.840148  , 9.90672708, 5.01059196,\n",
       "       6.34136506, 6.10642965, 5.39087612, 5.81243156, 1.09941615,\n",
       "       9.52860601, 5.26501585, 1.48307147, 4.59843869, 7.87351842,\n",
       "       6.72201672, 3.53857104, 0.8708249 , 1.38719449, 2.91241022,\n",
       "       2.21427173, 1.84011118, 0.07554883, 7.73515495, 0.30765085,\n",
       "       7.19708352, 1.64994146, 6.72912823, 6.9364717 , 2.45286438,\n",
       "       8.81388025, 7.52695029, 6.76895757, 8.87407227, 8.88277355,\n",
       "       5.02677907, 2.10034904, 9.08708373, 5.39595102, 6.81217251,\n",
       "       1.3148471 , 7.25072875, 9.5988922 , 6.14448667, 8.82973702,\n",
       "       0.36663883, 1.03832498, 5.0834676 , 3.41078217, 1.12272313,\n",
       "       7.75559275, 4.97533068, 3.86204622, 4.12675014, 4.21604171,\n",
       "       1.54819414, 8.64172575, 0.43773267, 0.64205705, 6.00249674,\n",
       "       3.56743014, 0.96290612, 7.48875794, 0.78499613, 5.54634647,\n",
       "       2.71402339, 2.32974259, 4.84306859, 6.95560492, 5.61956153,\n",
       "       6.54191231, 2.47803644, 9.34973559, 8.55593736, 7.45527895,\n",
       "       8.7170348 , 2.85624535, 2.84682227, 5.57914243, 4.78045259,\n",
       "       1.86981919, 2.59447492, 9.56228791, 2.01143157, 8.16214682,\n",
       "       1.15845633, 6.77987848, 3.41720911, 0.76504878, 3.38662101,\n",
       "       2.90620973, 1.68326184, 5.94985964, 2.35404511, 2.59011362,\n",
       "       5.2999231 , 5.27392246, 5.08184729, 1.35016552, 6.9560689 ,\n",
       "       8.68896008, 2.46644938, 6.22013355, 8.76226936, 7.40622538,\n",
       "       7.04298306, 7.52548686, 8.73609163, 2.84868861, 4.30627025,\n",
       "       9.49679048, 0.35872438, 7.85711814, 0.78770574, 4.53413204,\n",
       "       1.72695921, 4.24669205, 8.24911285, 6.76478518, 2.92926279,\n",
       "       4.0691847 , 3.91436303, 9.01546914, 7.37252865, 9.8271782 ,\n",
       "       1.79630299, 6.22432462, 1.66818783, 9.91783219, 9.01443509,\n",
       "       1.04307904, 9.16589186, 6.22521742, 6.38360409, 7.25943433,\n",
       "       5.40286487, 8.26810723, 9.87274288, 6.64176828, 3.70647718,\n",
       "       9.48523395, 8.19313741, 4.0611872 , 5.28238455, 7.38910077,\n",
       "       9.86940743, 3.73663337, 0.27013235, 4.3550666 , 4.27438155,\n",
       "       4.68665535, 3.86197177, 9.27568411, 2.78156454, 9.79077896,\n",
       "       7.55846738, 0.44565958, 5.4034044 , 4.15597885, 6.91604785,\n",
       "       8.23631736, 7.55740772, 1.12368541, 1.60570101, 9.76927231,\n",
       "       9.77071849, 3.0106214 , 7.40742077, 3.75115038, 6.64339859,\n",
       "       3.21234638, 0.83897601, 4.49751444, 2.82766008, 6.23369296,\n",
       "       4.39800897, 3.3320624 , 8.01387948, 9.9981649 , 8.38492381,\n",
       "       3.78386444, 4.73412277, 9.35219713, 0.22687416, 6.05106502,\n",
       "       9.83578028, 0.09280176, 6.65116237, 1.99701758, 6.02694827,\n",
       "       5.47494985, 7.9929527 , 3.32756807, 9.20484314, 5.30217143,\n",
       "       7.14383547, 7.61654666, 0.43794938, 7.00977088, 3.31113166,\n",
       "       2.03962618, 6.0033026 , 3.34600897, 3.27113238, 3.46461207,\n",
       "       8.81880342, 8.77285504, 4.15128982, 4.98884881, 3.38623774,\n",
       "       6.20463888, 2.59515104, 1.5580697 , 6.7433255 , 7.40893934,\n",
       "       8.62121148, 7.1367212 , 9.15329325, 6.25473588, 8.86809333,\n",
       "       2.49017057, 7.74245425, 1.68277694, 4.76420681, 4.23080818,\n",
       "       7.576293  , 0.74504094, 3.49247815, 2.75508272, 2.46958237,\n",
       "       9.62072791, 0.71735613, 0.4924537 , 5.87873716, 7.98827091,\n",
       "       7.86851052, 4.08903543, 3.2755087 , 1.54925155, 7.85714686,\n",
       "       7.12015788, 5.58203576, 9.02216381, 5.87636071, 1.51555923,\n",
       "       8.47975178, 5.86776858, 1.40870706, 0.29760198, 6.71725147,\n",
       "       4.07152236, 7.3510198 , 3.16575369, 7.82507698, 8.44282611,\n",
       "       8.66010697, 4.83393816, 0.70859565, 0.73539944, 6.52289955,\n",
       "       6.05009721, 5.81607872, 6.01144894, 8.23564262, 8.0021729 ,\n",
       "       7.92370926, 8.44242286, 8.13050825, 4.42102147, 5.41911171,\n",
       "       4.91658541, 4.22793254, 3.26633141, 6.64401968, 4.44776927,\n",
       "       9.60299632, 2.33635752, 9.51781117, 2.48758944, 5.78120896,\n",
       "       8.49651814, 6.59770301, 8.96794523, 4.99745615, 9.53475935,\n",
       "       8.43667812, 8.32174626, 2.16246559, 8.25409098, 3.68296074,\n",
       "       9.70764686, 0.56656976, 5.77864831, 2.40365242, 5.75917047,\n",
       "       8.19092515, 5.19030064, 7.58981241, 0.51620052, 9.80966199,\n",
       "       0.47112736, 4.84200607, 5.79484151, 1.45269882, 5.20368303,\n",
       "       0.6927063 , 6.269536  , 5.07215478, 6.7319768 , 3.37160141,\n",
       "       0.31860476, 6.31197554, 2.80120549, 4.60108436, 7.3943301 ,\n",
       "       6.30529361, 6.51360481, 4.52172117, 0.21982684, 5.58751658,\n",
       "       2.75667699, 7.72278341, 2.66601231, 7.98306205, 7.89769747,\n",
       "       7.50302904, 2.9720599 , 1.19048251, 2.67157675, 2.37807164,\n",
       "       1.81269568, 4.02818309, 1.55057062, 1.36563883, 7.88896366,\n",
       "       4.81658172, 5.26166423, 0.63133128, 0.24869385, 8.83001825,\n",
       "       3.14994912, 5.25294313, 5.4567087 , 0.17587882, 7.30576439,\n",
       "       4.05474676, 6.71171722, 2.08448575, 5.66841531, 3.52235797,\n",
       "       3.02519885, 3.68083601, 3.33073811, 8.38372928, 4.02528778,\n",
       "       3.40403121, 7.96032995, 3.66240036, 6.84429197, 2.24601714,\n",
       "       0.67359493, 3.55887155, 3.91644863, 6.1651749 , 1.32734388,\n",
       "       3.44940508, 9.1056775 , 5.13342106, 9.61288895, 6.10118997,\n",
       "       3.48602604, 0.038801  , 3.04095701, 8.1986915 , 5.78145336,\n",
       "       7.10034797, 0.10876298, 4.34443266, 7.75986763, 9.47626602,\n",
       "       0.71483211, 6.26737942, 5.99032691, 2.65035684, 4.37292507,\n",
       "       5.63427285, 2.16405772, 8.23438524, 3.02111715, 7.99107229,\n",
       "       9.43632693, 4.81292123, 7.63110044, 8.77663034, 3.43705578,\n",
       "       5.83099028, 3.08755243, 6.77562145, 8.20479474, 2.16132726,\n",
       "       1.85444628, 0.51830009, 3.9564943 , 7.0758465 , 6.26335348,\n",
       "       0.15954503, 5.61434848, 5.03358644, 2.34575098, 0.2554197 ,\n",
       "       3.89897315, 8.77606214, 5.25606717, 7.86648173, 3.15457081,\n",
       "       9.50904357, 8.88962542, 9.16241252, 2.73447821, 0.58537703,\n",
       "       3.40545985, 8.08080416, 3.46303828, 3.45953609, 6.51956941,\n",
       "       6.01594494, 2.89919613, 9.75142818, 9.61274526, 7.22884895,\n",
       "       4.88944674, 7.57670806, 8.62730838, 9.3346624 , 4.25293615,\n",
       "       4.98790084, 6.44049324, 0.67714591, 5.92021457, 7.03220427,\n",
       "       9.38068101, 0.75887655, 0.98159146, 2.56894816, 3.4920731 ,\n",
       "       4.23882561, 6.76790759, 6.54956662, 8.61943415, 7.02896781,\n",
       "       8.46339624, 9.05461463, 3.06207107, 5.35274246, 9.26462753,\n",
       "       6.44402994, 8.16626885, 8.02674514, 8.74753632, 0.14796465,\n",
       "       4.94181237, 0.4246355 , 8.08813051, 2.82915545, 9.19896841,\n",
       "       8.44960824, 1.64469982, 1.64846541, 0.99924179, 5.23649558,\n",
       "       1.39918699, 0.16628391, 4.90739941, 8.26758279, 6.74997427,\n",
       "       1.10157663, 1.28223946, 2.13875257, 8.28584507, 2.22371196,\n",
       "       9.95393255, 5.32158075, 5.20594516, 0.06623986, 1.42978251,\n",
       "       0.65629585, 5.46120238, 7.67939029, 1.11917431, 5.53795939,\n",
       "       8.29485794, 9.55722989, 9.44232541, 5.85460309, 4.43677475,\n",
       "       1.12262385, 0.5531842 , 2.11268097, 8.1881854 , 9.18010955,\n",
       "       3.71544743, 7.85582815, 2.43126494, 8.04349032, 9.10501023,\n",
       "       1.45167121, 2.14130213, 2.25687929, 9.86555378, 1.88246451,\n",
       "       6.19155012, 1.89220413, 8.48974518, 4.44658151, 0.94617894,\n",
       "       7.04979007, 0.58602607, 1.99414595, 4.64782041, 8.17441966,\n",
       "       3.9726397 , 6.28564558, 6.81962073, 6.16302311, 6.55984271,\n",
       "       4.16202504, 6.35253534, 9.15382387, 3.05818061, 1.01692186,\n",
       "       9.77094717, 5.3860386 , 4.02875696, 4.76860051, 6.52256915,\n",
       "       0.22369458, 1.37305126, 4.16047508, 4.04697199, 0.60432752,\n",
       "       7.47205887, 9.49216334, 5.17613855, 4.20165241, 5.66856044,\n",
       "       5.40055263, 6.33937757, 5.7513004 , 4.00158119, 7.02597933,\n",
       "       9.93956124, 9.5095643 , 0.75858201, 0.07102358, 5.95875719,\n",
       "       3.81868483, 8.93198205, 7.89480364, 9.58386147, 8.02985649,\n",
       "       1.83488685, 4.51529145, 7.08750689, 1.61310796, 3.42066302,\n",
       "       7.18909756, 1.32054727, 5.77253102, 1.10078539, 5.38750597,\n",
       "       8.25665694, 2.083054  , 1.08297233, 5.30041581, 1.97992492,\n",
       "       8.80827955, 8.51032692, 4.95758884, 2.73499317, 2.09760118,\n",
       "       4.40737322, 1.49004052, 9.13014391, 7.05261323, 9.78529859])"
      ]
     },
     "execution_count": 27,
     "metadata": {},
     "output_type": "execute_result"
    }
   ],
   "source": [
    "# Example: 1000 float point numbers in the range of 0 to 10 (exclusive)\n",
    "\n",
    "s = np.random.default_rng().uniform(low=0, high=10, size=1000)\n",
    "s"
   ]
  },
  {
   "cell_type": "code",
   "execution_count": 28,
   "id": "8655ce21-ff55-4f93-a4e4-a8fbc308910a",
   "metadata": {},
   "outputs": [
    {
     "data": {
      "text/plain": [
       "<AxesSubplot:ylabel='Count'>"
      ]
     },
     "execution_count": 28,
     "metadata": {},
     "output_type": "execute_result"
    },
    {
     "data": {
      "image/png": "[encoded data removed]",
      "text/plain": [
       "<Figure size 432x288 with 1 Axes>"
      ]
     },
     "metadata": {
      "needs_background": "light"
     },
     "output_type": "display_data"
    }
   ],
   "source": [
    "# Histogram:\n",
    "\n",
    "sns.histplot(s, bins = 10)\n",
    "\n",
    "# https://seaborn.pydata.org/generated/seaborn.histplot.html#seaborn.histplot (15/11/2021)"
   ]
  },
  {
   "cell_type": "code",
   "execution_count": null,
   "id": "ee7b01ee-42e7-4a82-a118-3d387cad8d6c",
   "metadata": {},
   "outputs": [],
   "source": []
  },
  {
   "cell_type": "markdown",
   "id": "6ef61b0a-e0e5-4de7-97e4-708560f00e3f",
   "metadata": {
    "tags": []
   },
   "source": [
    "### **3.2 Binomial Distribution**\n",
    "\n",
    "https://numpy.org/doc/stable/reference/random/generated/numpy.random.Generator.binomial.html#numpy.random.Generator.binomial"
   ]
  },
  {
   "cell_type": "code",
   "execution_count": null,
   "id": "b9e280d6-628e-49ed-a5b4-07996b5ee113",
   "metadata": {},
   "outputs": [],
   "source": []
  },
  {
   "cell_type": "code",
   "execution_count": null,
   "id": "888e7a0c-e030-47f6-8a26-7187f90321bf",
   "metadata": {},
   "outputs": [],
   "source": []
  },
  {
   "cell_type": "markdown",
   "id": "23b585ce-10b4-43fc-a7e5-28184a2bf00f",
   "metadata": {},
   "source": [
    "### **3.3 Multinomial Distribution**\n",
    "\n",
    "https://numpy.org/doc/stable/reference/random/generated/numpy.random.Generator.multinomial.html#numpy.random.Generator.multinomial"
   ]
  },
  {
   "cell_type": "code",
   "execution_count": null,
   "id": "4350fea2-9943-4352-8bea-1b1cab225f74",
   "metadata": {},
   "outputs": [],
   "source": []
  },
  {
   "cell_type": "code",
   "execution_count": null,
   "id": "fe4e6ca8-70fa-420e-9f32-7f4892901bd3",
   "metadata": {},
   "outputs": [],
   "source": []
  },
  {
   "cell_type": "markdown",
   "id": "4fc5bf82-394a-4921-91a5-12b338d509ea",
   "metadata": {},
   "source": [
    "### **3.4 Normal Distribution**\n",
    "\n",
    "https://numpy.org/doc/stable/reference/random/generated/numpy.random.Generator.normal.html#numpy.random.Generator.normal"
   ]
  },
  {
   "cell_type": "code",
   "execution_count": null,
   "id": "f136e213-2515-412a-aedf-e873d40be36b",
   "metadata": {},
   "outputs": [],
   "source": []
  },
  {
   "cell_type": "code",
   "execution_count": null,
   "id": "53ba3fde-fba0-429c-9c0c-d9011c4ead6a",
   "metadata": {},
   "outputs": [],
   "source": []
  },
  {
   "cell_type": "markdown",
   "id": "6bb8f525-d41d-4d4d-a00e-cadbaa950886",
   "metadata": {},
   "source": [
    "### **3.5**"
   ]
  },
  {
   "cell_type": "code",
   "execution_count": null,
   "id": "e63fe69d-fa91-4a9d-8a35-68f77dbb050b",
   "metadata": {},
   "outputs": [],
   "source": []
  },
  {
   "cell_type": "markdown",
   "id": "16315562-8226-4d6f-9f5c-1140feb4e5f5",
   "metadata": {},
   "source": [
    "## 4. Explain the use of seeds in generating pseudorandom numbers."
   ]
  },
  {
   "cell_type": "code",
   "execution_count": null,
   "id": "ee426626-1730-4485-8861-934ecd90c8cb",
   "metadata": {},
   "outputs": [],
   "source": []
  },
  {
   "cell_type": "code",
   "execution_count": null,
   "id": "9eecf250-50a8-413d-95a1-f03f03b42aa8",
   "metadata": {},
   "outputs": [],
   "source": []
  },
  {
   "cell_type": "code",
   "execution_count": null,
   "id": "2bf1ce5b-3100-4367-81a6-ed83c6db8424",
   "metadata": {},
   "outputs": [],
   "source": []
  },
  {
   "cell_type": "code",
   "execution_count": 29,
   "id": "1498be4e-da45-4295-aed1-0279288b6851",
   "metadata": {},
   "outputs": [
    {
     "name": "stdout",
     "output_type": "stream",
     "text": [
      "All cells running ok\n"
     ]
    }
   ],
   "source": [
    "# Debug check that all cells are running\n",
    "print('All cells running ok')"
   ]
  },
  {
   "cell_type": "markdown",
   "id": "258b0570-39d3-462c-b02e-53203389385b",
   "metadata": {},
   "source": [
    "## References Used"
   ]
  },
  {
   "cell_type": "code",
   "execution_count": null,
   "id": "a050ad53-5514-43df-acbb-0dbb0b26c5c2",
   "metadata": {},
   "outputs": [],
   "source": []
  }
 ],
 "metadata": {
  "kernelspec": {
   "display_name": "Python 3",
   "language": "python",
   "name": "python3"
  },
  "language_info": {
   "codemirror_mode": {
    "name": "ipython",
    "version": 3
   },
   "file_extension": ".py",
   "mimetype": "text/x-python",
   "name": "python",
   "nbconvert_exporter": "python",
   "pygments_lexer": "ipython3",
   "version": "3.8.8"
  }
 },
 "nbformat": 4,
 "nbformat_minor": 5
}
