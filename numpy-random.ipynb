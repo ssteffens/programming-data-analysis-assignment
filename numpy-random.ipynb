{
 "cells": [
  {
   "cell_type": "markdown",
   "id": "ca747803-6241-4530-9a01-15d8eba91b1a",
   "metadata": {},
   "source": [
    "# Programming for Data Analysis 2021 - Assignment"
   ]
  },
  {
   "cell_type": "markdown",
   "id": "8a1ccc16-20ad-4989-a357-72178e9200ba",
   "metadata": {},
   "source": [
    "## 1. Explain the overall purpose of the numpy.random package."
   ]
  },
  {
   "cell_type": "markdown",
   "id": "933bc638-8079-4fb6-a01f-fa75799805a2",
   "metadata": {},
   "source": [
    "### **1.1 The numpy.random Package - Subpackage of NumPy** \n",
    "\n",
    "The numpy.random package is a subpackage within the NumPy package. NumPy (short for Numerical Python) is a Python library which is used for dealing with arrays of numerical values. \n",
    "Arrays in NumPy are maintained as ndarray objects. These arrays can be 0-, 1- or multi-dimensional: \n",
    "- 0-D array: single value/scalar\n",
    "- 1-D array: a list of several 0-D arrays, also called uni-dimensional\n",
    "- 2-D array: an array consisting of two 1-D arrays, also called a matrix\n",
    "- 3-D array: an array that has 2-D arrays as its elements\n",
    "- n-D array: an array that has n-1 -D arrays as its elements\n",
    "All elements of an array need to be of the same data type. \n",
    "\n",
    "To be able to use NumPy, it needs to be imported. It is commonly imported as the alias np. "
   ]
  },
  {
   "cell_type": "code",
   "execution_count": 1,
   "id": "d36c8ef6-96ba-4bb3-8293-bf186b98e1c1",
   "metadata": {},
   "outputs": [],
   "source": [
    "# Importing numPy\n",
    "import numpy as np"
   ]
  },
  {
   "cell_type": "code",
   "execution_count": 2,
   "id": "b090f4b2-e57a-46bd-9b74-20cd88ca0ba9",
   "metadata": {},
   "outputs": [
    {
     "data": {
      "text/plain": [
       "'1.20.1'"
      ]
     },
     "execution_count": 2,
     "metadata": {},
     "output_type": "execute_result"
    }
   ],
   "source": [
    "# To check the installed version of NumPy \n",
    "np.__version__"
   ]
  },
  {
   "cell_type": "markdown",
   "id": "e327de91-9ddd-4ad7-b24b-318233c69730",
   "metadata": {},
   "source": [
    "### **1.2 The numpy.random Package - Use and Purpose**\n",
    "\n",
    "numpy.random is a subpackage within NumPy which enables users to generate and work with random numbers.\n",
    "\n",
    "\"Random means something that can not be predicted logically\" (https://www.w3schools.com/python/numpy/numpy_random.asp)\n",
    "\n",
    "Numbers created with the package are considered pseudo-random, meaning that they are not truly random but rather generated through a generation algorithm. By setting a seed value, the sequence of created numbers is reproducable (see further in part 4). \n",
    "\n",
    "In contrast, truly random numbers can be generated using random data from an outside source which could be mouse movements, time stamps, etc. \n",
    "\n",
    "In programming, pseudo-random numbers can be used for simulating data. the numpy.random package allows to create the required random numbers in different formats and fulfilling different criteria as required by the simulation scenario, for example selecting numbers from a pre-defined sample, or creating random numbers or arrays that follow certain distribution patterns. \n",
    "\n",
    "BitGenerators - Create sequences of random numbers\n",
    "Generators - use the created sequences to sample from different statistical distributions\n",
    "\n",
    "To be able to use the numpy.random module, calling the function numpy.random.default_rng() will start a new random number generator. "
   ]
  },
  {
   "cell_type": "code",
   "execution_count": 3,
   "id": "3a0e9542-7ab0-43b1-91b1-09a252ba6c9e",
   "metadata": {},
   "outputs": [],
   "source": [
    "# Define the random number generator (RNG)\n",
    "rng=np.random.default_rng()"
   ]
  },
  {
   "cell_type": "code",
   "execution_count": 4,
   "id": "331935d4-f881-4224-bec3-40a56c6ce85b",
   "metadata": {},
   "outputs": [
    {
     "data": {
      "text/plain": [
       "array([0.78414664, 0.64701953, 0.41180441, 0.9342571 , 0.85251192,\n",
       "       0.89020612, 0.19489166, 0.37441436, 0.09321359, 0.21947841])"
      ]
     },
     "execution_count": 4,
     "metadata": {},
     "output_type": "execute_result"
    }
   ],
   "source": [
    "# Example: Using the RNG to generate 10 random float point numbers\n",
    "rng.random(size=10)"
   ]
  },
  {
   "cell_type": "markdown",
   "id": "faedcd1b-7aa1-455d-bbd6-9f7bd38b8f13",
   "metadata": {},
   "source": [
    "References:\n",
    "\n",
    "https://www.w3schools.com/python/numpy/numpy_random.asp (30/10/2021)\n",
    "\n",
    "Numpy v.1.21 Manual https://numpy.org/doc/stable/ (30/10/2021)\n",
    "\n",
    "Random sampling (numpy.random) https://numpy.org/doc/stable/reference/random/index.html# (30/10/2021)"
   ]
  },
  {
   "cell_type": "markdown",
   "id": "6ac92937-7622-4ac6-ab5c-090f5f25f1ac",
   "metadata": {},
   "source": [
    "## 2. Explain the use of the “Simple random data” and “Permutations” functions."
   ]
  },
  {
   "cell_type": "markdown",
   "id": "b50d84a8-b410-4a67-bcb2-ac91e36a7f03",
   "metadata": {},
   "source": [
    "Permutations: https://numpy.org/doc/stable/reference/random/generated/numpy.random.Generator.permutation.html"
   ]
  },
  {
   "cell_type": "markdown",
   "id": "13d999c0-127f-4bc5-9383-384f5d921fe5",
   "metadata": {},
   "source": [
    "Simple random data: Return integers, floats, a random sample from a given array or bytes\n",
    "<br>\n",
    "Permutations: Modifies an array or sequence already in place by shuffling or permuting the sequence"
   ]
  },
  {
   "cell_type": "markdown",
   "id": "e5866a16-9e74-4ebb-bae2-12076132f484",
   "metadata": {},
   "source": [
    "### **2.1 Simple Random Data**\n",
    "A number of functions can be used to generate simple random data, for example single or several numbers."
   ]
  },
  {
   "cell_type": "markdown",
   "id": "5631856a-6be4-43d2-a1c8-eece16773938",
   "metadata": {},
   "source": [
    "#### **2.1.1 Generating Random Integers**\n",
    "Using the rng.integers() function to create random integers. "
   ]
  },
  {
   "cell_type": "code",
   "execution_count": 5,
   "id": "6a48cadc-c486-4185-a690-6ee2b377bc4c",
   "metadata": {},
   "outputs": [
    {
     "data": {
      "text/plain": [
       "1"
      ]
     },
     "execution_count": 5,
     "metadata": {},
     "output_type": "execute_result"
    }
   ],
   "source": [
    "# To create random integers: \n",
    "# rng = random number generator\n",
    "from numpy.random import default_rng\n",
    "rng = default_rng()\n",
    "\n",
    "# To return 1 random integer from 0 to 5 (exclusive)\n",
    "vals = rng.integers(5)\n",
    "vals"
   ]
  },
  {
   "cell_type": "markdown",
   "id": "681a6789-3e7d-473b-94a9-ab8735384bb0",
   "metadata": {},
   "source": [
    "The rng.integers() function can take a number of parameters to define\n",
    "- The range from which integers can be drawn (low, high)\n",
    "- The number of random integers to be drawn (size)\n",
    "- Data type of results\n",
    "- Endpoint = True sets the high value to be inclusive of the entered value\n",
    "\n",
    "https://numpy.org/doc/stable/reference/random/generated/numpy.random.Generator.integers.html (13/11/2021)\n",
    "\n"
   ]
  },
  {
   "cell_type": "code",
   "execution_count": 6,
   "id": "eea0adb7-b4ee-4bb5-a0de-6b22926299ed",
   "metadata": {},
   "outputs": [
    {
     "data": {
      "text/plain": [
       "array([19, 16, 14, 11, 11], dtype=int64)"
      ]
     },
     "execution_count": 6,
     "metadata": {},
     "output_type": "execute_result"
    }
   ],
   "source": [
    "# Example: Generate an array of 5 integers between 10 (inclusive) and 20 (exclusive)\n",
    "rng = np.random.default_rng()\n",
    "rng.integers(low=10, high=20, size=5)"
   ]
  },
  {
   "cell_type": "markdown",
   "id": "0c7253fb-87db-4c05-ae81-779fc7f1bd13",
   "metadata": {},
   "source": [
    "#### **2.1.2 Generating Random Float Numbers**\n",
    "\n",
    "The rng.random() function can be used to create float point numbers between 0 and 1 (exclusive).\n"
   ]
  },
  {
   "cell_type": "code",
   "execution_count": 7,
   "id": "f2a01847-4439-49fb-9b1f-4901ac56dcdd",
   "metadata": {},
   "outputs": [
    {
     "data": {
      "text/plain": [
       "0.14294120655486575"
      ]
     },
     "execution_count": 7,
     "metadata": {},
     "output_type": "execute_result"
    }
   ],
   "source": [
    "# Exapmle: Creating a float point number\n",
    "fnumber = rng.random()\n",
    "fnumber"
   ]
  },
  {
   "cell_type": "markdown",
   "id": "09792b18-0ebe-46b7-98cc-1d18c4a1a9e5",
   "metadata": {},
   "source": [
    "Similar to creating integers, additional parameters canbe added to further define the output: \n",
    "- The number of random float numbers to be drawn (size)\n",
    "- Data type (float64 or float32)\n",
    "- An alternative output array\n",
    "\n",
    "https://numpy.org/doc/stable/reference/random/generated/numpy.random.Generator.random.html#numpy.random.Generator.random (13/11/2021)"
   ]
  },
  {
   "cell_type": "code",
   "execution_count": 8,
   "id": "84101c36-6ed4-4a29-a994-24dec51f4612",
   "metadata": {},
   "outputs": [
    {
     "data": {
      "text/plain": [
       "array([0.34955015, 0.87869266, 0.32537902, 0.15118874, 0.31774441])"
      ]
     },
     "execution_count": 8,
     "metadata": {},
     "output_type": "execute_result"
    }
   ],
   "source": [
    "# Example for creating an array of 5 float point numbers\n",
    "fnumbers = rng.random(5)\n",
    "fnumbers"
   ]
  },
  {
   "cell_type": "markdown",
   "id": "76fdda62-791a-43ec-bd2e-8500ff0f7fea",
   "metadata": {},
   "source": [
    "#### **2.1.3 Generating n-dimensional Arrays of Random Numbers**\n",
    "\n",
    "Both rng.integers() and rng.random() can be used to create n-dimensional arrays of random numbers. \n",
    "\n",
    "--> need more details and example\n"
   ]
  },
  {
   "cell_type": "markdown",
   "id": "e2774df6-1987-4e29-86e0-62097ad15e36",
   "metadata": {},
   "source": [
    "#### **2.1.4 Selecting Random Numbers from a Predefined Array**\n",
    "\n",
    "The rng.choice() function can be used to generate a random sample from a given array. \n",
    "\n",
    "https://numpy.org/doc/stable/reference/random/generated/numpy.random.Generator.choice.html#numpy.random.Generator.choice (13/11/2021)"
   ]
  },
  {
   "cell_type": "code",
   "execution_count": 9,
   "id": "a701b26e-ff77-4485-a6b0-6cb8904baf79",
   "metadata": {},
   "outputs": [
    {
     "data": {
      "text/plain": [
       "array([1, 4, 2])"
      ]
     },
     "execution_count": 9,
     "metadata": {},
     "output_type": "execute_result"
    }
   ],
   "source": [
    "# Example: Select 3 integers from an array of [1, 2, 3, 4, 5]\n",
    "rng.choice([1,2,3,4,5], 3)"
   ]
  },
  {
   "cell_type": "markdown",
   "id": "a5a88eb3-4fd2-4a59-9d33-f20759fe2b2f",
   "metadata": {},
   "source": [
    "An important aspect of random number generation is the distribution of data. The rng.choice() function can be used to define the probability of random numbers being selected by assigning probability values. "
   ]
  },
  {
   "cell_type": "code",
   "execution_count": 10,
   "id": "66ba29c2-6a9a-4ff8-9ba0-b51cc2455db4",
   "metadata": {},
   "outputs": [
    {
     "data": {
      "text/plain": [
       "array([3, 4, 1, 2, 1, 2, 3, 3, 4, 3])"
      ]
     },
     "execution_count": 10,
     "metadata": {},
     "output_type": "execute_result"
    }
   ],
   "source": [
    "# Example: Select 10 integers from an array of [1, 2, 3, 4, 5]. The probability of selecting 1, 2 and 3 is set to 0.3, \n",
    "# the probaility of selecting 4 is set to 0.1 and the probablility of selecting 5 is set to 0:\n",
    "\n",
    "ch = rng.choice([1,2,3,4,5], 10, p=(0.3, 0.3, 0.3, 0.1, 0))\n",
    "ch"
   ]
  },
  {
   "cell_type": "code",
   "execution_count": null,
   "id": "99e4a617-dd9f-4b7e-b036-67461126ed83",
   "metadata": {},
   "outputs": [],
   "source": []
  },
  {
   "cell_type": "code",
   "execution_count": 11,
   "id": "188d1530-db4a-4427-9b36-c2205530a7d0",
   "metadata": {},
   "outputs": [
    {
     "data": {
      "text/plain": [
       "b'l\\xb8\\xe6sh\\x94\\x08\\x03\\xe8)'"
      ]
     },
     "execution_count": 11,
     "metadata": {},
     "output_type": "execute_result"
    }
   ],
   "source": [
    "np.random.default_rng().bytes(10)"
   ]
  },
  {
   "cell_type": "code",
   "execution_count": null,
   "id": "c2c9d7ed-f6d6-4afa-972c-8e9e663c436c",
   "metadata": {},
   "outputs": [],
   "source": []
  },
  {
   "cell_type": "code",
   "execution_count": null,
   "id": "efd70d87-e43f-4fce-8bde-df5005d5df2a",
   "metadata": {},
   "outputs": [],
   "source": []
  },
  {
   "cell_type": "markdown",
   "id": "57ffaf61-b047-4774-b246-fd2476b915bc",
   "metadata": {},
   "source": [
    "### **2.2 Permutations**"
   ]
  },
  {
   "cell_type": "markdown",
   "id": "961d847a-4bf3-4e88-8ca2-c1583a11bd6d",
   "metadata": {},
   "source": [
    "Random permuations can be used to re-arrange elements within a given array, for example by changing the order of [1, 2, 3] to [3, 2, 1].\n",
    "The numpy.random package offers 3 methods for changing the order of array elements: \n",
    "- shuffle()\n",
    "- permutation()\n",
    "- permuted()"
   ]
  },
  {
   "cell_type": "markdown",
   "id": "d4500e25-3204-4d36-8576-6d846d400882",
   "metadata": {},
   "source": [
    "#### **2.2.1 Re-shuffling an Array**\n",
    "The shuffle() function changes the original array by re-arranging its elements. \n",
    "\n",
    "https://numpy.org/doc/stable/reference/random/generated/numpy.random.Generator.shuffle.html#numpy.random.Generator.shuffle (13/11/2021)\n",
    "\n",
    "https://likegeeks.com/numpy-shuffle/ (14/11/2021)\n",
    "\n",
    "https://zkf85.github.io/2019/01/31/np-shuffle-vs-permutation (14/11/2021)"
   ]
  },
  {
   "cell_type": "code",
   "execution_count": 12,
   "id": "92d000cb-11d3-466a-bcd8-cd69694b9fbd",
   "metadata": {},
   "outputs": [
    {
     "data": {
      "text/plain": [
       "[1, 5, 4, 2, 3]"
      ]
     },
     "execution_count": 12,
     "metadata": {},
     "output_type": "execute_result"
    }
   ],
   "source": [
    "# Example: \n",
    "arr = [1,2,3,4,5]\n",
    "\n",
    "rng.shuffle(arr)\n",
    "arr"
   ]
  },
  {
   "cell_type": "markdown",
   "id": "501c4554-93f7-4b9f-b9c1-eb58eae32403",
   "metadata": {},
   "source": [
    "For 2- or more-dimensional arrays, if using the shuffle() function as above, the order of arrays withinh the first dimension is changed, their individual elements remain in the same order. "
   ]
  },
  {
   "cell_type": "code",
   "execution_count": 13,
   "id": "4da2e6bd-353b-4f8a-83b1-e759bca301b0",
   "metadata": {},
   "outputs": [
    {
     "data": {
      "text/plain": [
       "array([[1, 2, 3],\n",
       "       [7, 8, 9],\n",
       "       [4, 5, 6]])"
      ]
     },
     "execution_count": 13,
     "metadata": {},
     "output_type": "execute_result"
    }
   ],
   "source": [
    "# Example\n",
    "arr = np.array([[1,2,3], [4,5,6], [7,8,9]])\n",
    "rng.shuffle(arr)\n",
    "arr"
   ]
  },
  {
   "cell_type": "markdown",
   "id": "9c60533c-3076-41f5-bb8e-964bb07db2a2",
   "metadata": {},
   "source": [
    "To also rearrange the order of elements within the 2nd dimension, the axis parameter can be added to the function. In the below example, the three sub-arrays will remain in the same order (starting with the array containing numbers 1, 2 and 3) but within the sub-arrays the elements are rearranged. "
   ]
  },
  {
   "cell_type": "code",
   "execution_count": 14,
   "id": "02813440-338b-41fe-85ad-ad7dd4e66918",
   "metadata": {},
   "outputs": [
    {
     "data": {
      "text/plain": [
       "array([[1, 2, 3],\n",
       "       [4, 5, 6],\n",
       "       [7, 8, 9]])"
      ]
     },
     "execution_count": 14,
     "metadata": {},
     "output_type": "execute_result"
    }
   ],
   "source": [
    "arr = np.array([[1,2,3], [4,5,6], [7,8,9]])\n",
    "arr"
   ]
  },
  {
   "cell_type": "code",
   "execution_count": 15,
   "id": "e1dfc667-57e5-4722-9967-4c77981f8d31",
   "metadata": {},
   "outputs": [
    {
     "data": {
      "text/plain": [
       "array([[1, 2, 3],\n",
       "       [4, 5, 6],\n",
       "       [7, 8, 9]])"
      ]
     },
     "execution_count": 15,
     "metadata": {},
     "output_type": "execute_result"
    }
   ],
   "source": [
    "rng.shuffle(arr, axis=1)\n",
    "arr"
   ]
  },
  {
   "cell_type": "markdown",
   "id": "09526518-ec3d-47c4-8a98-efd8467953e4",
   "metadata": {},
   "source": [
    "#### **2.2.2 Creating a Re-arranged Copy of an Array**\n",
    "While the shuffle() function changes to original array, the permutation() function returns a copy of the original array with re-arranged elements.\n",
    "\n",
    "https://numpy.org/doc/stable/reference/random/generated/numpy.random.Generator.permutation.html#numpy.random.Generator.permutation (13/11/2021)"
   ]
  },
  {
   "cell_type": "code",
   "execution_count": 16,
   "id": "fdfa52f6-666d-41ac-a563-0d15386120c6",
   "metadata": {},
   "outputs": [
    {
     "data": {
      "text/plain": [
       "array([1, 4, 3, 5, 2])"
      ]
     },
     "execution_count": 16,
     "metadata": {},
     "output_type": "execute_result"
    }
   ],
   "source": [
    "# Example\n",
    "arr = [1,2,3,4,5]\n",
    "\n",
    "rng.permutation(arr)"
   ]
  },
  {
   "cell_type": "markdown",
   "id": "f19d6e9f-ca1c-4f7a-aa50-af87f0643eef",
   "metadata": {},
   "source": [
    "Similar to the shuffle() function, permuation() also allows to rearrange arrays with more than 1 dimension."
   ]
  },
  {
   "cell_type": "code",
   "execution_count": 17,
   "id": "d8a70a95-7834-4eb0-ac64-9d7484923ae9",
   "metadata": {},
   "outputs": [
    {
     "data": {
      "text/plain": [
       "array([[4, 5, 6],\n",
       "       [7, 8, 9],\n",
       "       [1, 2, 3]])"
      ]
     },
     "execution_count": 17,
     "metadata": {},
     "output_type": "execute_result"
    }
   ],
   "source": [
    "# Example\n",
    "arr = np.array([[1,2,3], [4,5,6], [7,8,9]])\n",
    "rng.permutation(arr)"
   ]
  },
  {
   "cell_type": "code",
   "execution_count": 18,
   "id": "701f59e4-b60e-4f78-a9b3-a40dae96b0cb",
   "metadata": {},
   "outputs": [
    {
     "data": {
      "text/plain": [
       "array([[1, 2, 3],\n",
       "       [4, 5, 6],\n",
       "       [7, 8, 9]])"
      ]
     },
     "execution_count": 18,
     "metadata": {},
     "output_type": "execute_result"
    }
   ],
   "source": [
    "arr = np.array([[1,2,3], [4,5,6], [7,8,9]])\n",
    "arr"
   ]
  },
  {
   "cell_type": "code",
   "execution_count": 19,
   "id": "b131f198-72c4-4560-ad79-1a4b96ca7b6e",
   "metadata": {},
   "outputs": [
    {
     "data": {
      "text/plain": [
       "array([[2, 1, 3],\n",
       "       [5, 4, 6],\n",
       "       [8, 7, 9]])"
      ]
     },
     "execution_count": 19,
     "metadata": {},
     "output_type": "execute_result"
    }
   ],
   "source": [
    "rng.permutation(arr, axis=1)"
   ]
  },
  {
   "cell_type": "markdown",
   "id": "731b25e6-4015-4871-87ef-803f6d712cfc",
   "metadata": {},
   "source": [
    "#### **2.2.3 Re-arranging One- or Multi-dimensional Arrays**\n",
    "The permuted() function enables to shuffle sub-arrays independent of each other. It also gives an option to chose whether for the original array is re-arranged or whether a copy of the original array is re-arranged. \n",
    "\n",
    "https://numpy.org/doc/stable/reference/random/generated/numpy.random.Generator.permuted.html#numpy.random.Generator.permuted (14/11/2021)"
   ]
  },
  {
   "cell_type": "code",
   "execution_count": 20,
   "id": "b18ff551-9223-4a38-acc1-2caae241d916",
   "metadata": {},
   "outputs": [],
   "source": [
    "# Example\n",
    "arr = np.array([[1,2,3], [4,5,6], [7,8,9]])"
   ]
  },
  {
   "cell_type": "code",
   "execution_count": 21,
   "id": "2a9e35dd-279a-4615-9eb5-22d55dae15c9",
   "metadata": {},
   "outputs": [
    {
     "data": {
      "text/plain": [
       "array([[2, 1, 3],\n",
       "       [6, 4, 5],\n",
       "       [8, 7, 9]])"
      ]
     },
     "execution_count": 21,
     "metadata": {},
     "output_type": "execute_result"
    }
   ],
   "source": [
    "yarr = rng.permuted(arr, axis=1)\n",
    "yarr"
   ]
  },
  {
   "cell_type": "code",
   "execution_count": 22,
   "id": "1c1dd6fd-2f74-42bd-8398-4f31f0434f38",
   "metadata": {},
   "outputs": [],
   "source": [
    "# Example\n",
    "arr = np.array([[1,2,3], [4,5,6], [7,8,9]])"
   ]
  },
  {
   "cell_type": "code",
   "execution_count": 23,
   "id": "93c17d0d-0715-42d5-88cf-ed6382f13451",
   "metadata": {},
   "outputs": [
    {
     "data": {
      "text/plain": [
       "array([[2, 3, 1],\n",
       "       [4, 6, 5],\n",
       "       [9, 7, 8]])"
      ]
     },
     "execution_count": 23,
     "metadata": {},
     "output_type": "execute_result"
    }
   ],
   "source": [
    "yarr = rng.permuted(arr, axis=1, out=arr)\n",
    "arr"
   ]
  },
  {
   "cell_type": "code",
   "execution_count": null,
   "id": "a02265dc-a729-4ae0-893b-bf20921e9083",
   "metadata": {},
   "outputs": [],
   "source": []
  },
  {
   "cell_type": "markdown",
   "id": "3b7ba531-e1de-4586-a906-b22be4d5b9fd",
   "metadata": {},
   "source": [
    "## 3. Explain the use and purpose of at least five “Distributions” functions."
   ]
  },
  {
   "cell_type": "code",
   "execution_count": null,
   "id": "9cbe1447-ddd9-4325-a705-e9342e413890",
   "metadata": {},
   "outputs": [],
   "source": []
  },
  {
   "cell_type": "code",
   "execution_count": 24,
   "id": "99cc60ee-4574-45bd-8d09-1911d934ca40",
   "metadata": {},
   "outputs": [],
   "source": [
    "# For visualisation of the distribution functions described below, the seaborn module is imported.\n",
    "import seaborn as sns"
   ]
  },
  {
   "cell_type": "markdown",
   "id": "d3eef459-5048-4c5f-af59-4b2466f573ce",
   "metadata": {},
   "source": [
    "### **3.1 Uniform Distribution**\n",
    "\n",
    "https://numpy.org/doc/stable/reference/random/generated/numpy.random.Generator.uniform.html#numpy.random.Generator.uniform (15/11/2021)"
   ]
  },
  {
   "cell_type": "markdown",
   "id": "3af83d93-a077-47df-a5d5-385df8c6ddb2",
   "metadata": {},
   "source": [
    "The uniform() method returns float point numbers in a specified range from low (inclusive) to high (exclusive) values. For uniform distributions each event has equal changes of occuring. "
   ]
  },
  {
   "cell_type": "code",
   "execution_count": 25,
   "id": "5fbefc42-efad-40ed-9a72-70f4de1c635b",
   "metadata": {
    "scrolled": true,
    "tags": []
   },
   "outputs": [
    {
     "data": {
      "text/plain": [
       "array([6.76561913e+00, 8.52713918e+00, 5.97179471e+00, 6.66713964e+00,\n",
       "       6.55255576e+00, 7.83820538e+00, 9.40320768e+00, 2.98128108e+00,\n",
       "       7.63298879e+00, 5.44822451e+00, 2.91200532e+00, 7.36288024e+00,\n",
       "       9.68150598e+00, 8.95814063e+00, 8.33341177e+00, 4.07300712e+00,\n",
       "       9.49751275e+00, 5.33236425e+00, 8.61203491e+00, 3.51784247e+00,\n",
       "       7.88556256e+00, 8.68783765e+00, 1.76387831e+00, 2.19975322e+00,\n",
       "       5.96904002e+00, 8.11548001e+00, 4.67382449e+00, 1.51065401e+00,\n",
       "       9.70246461e+00, 5.86220440e+00, 1.52281905e+00, 2.71957077e+00,\n",
       "       4.96835564e+00, 3.47673793e+00, 9.97598340e+00, 2.40944483e+00,\n",
       "       4.25670797e+00, 6.46562924e+00, 5.63902706e+00, 8.33718866e+00,\n",
       "       4.00951998e+00, 3.64329268e+00, 5.40539868e+00, 3.91831001e+00,\n",
       "       4.73236109e+00, 6.08877390e+00, 9.06281722e+00, 7.84488360e-01,\n",
       "       6.47577103e+00, 2.90548146e+00, 6.76113295e+00, 4.18613436e-01,\n",
       "       5.67318187e+00, 3.08152340e+00, 8.54795261e+00, 9.74803194e+00,\n",
       "       8.28555742e+00, 8.95663959e+00, 2.76910868e+00, 6.12449279e+00,\n",
       "       1.67630989e+00, 7.72550482e+00, 8.87257203e+00, 8.51943810e+00,\n",
       "       3.87485451e+00, 4.11935465e-02, 1.32590631e+00, 4.65049008e+00,\n",
       "       5.01201805e+00, 1.96889173e+00, 4.33589437e-02, 8.32684210e+00,\n",
       "       9.95660153e-01, 3.95478447e-01, 5.86110064e+00, 6.90287850e+00,\n",
       "       9.52691649e+00, 1.93254876e+00, 1.98407305e+00, 8.19864521e+00,\n",
       "       9.11681913e+00, 7.27364045e+00, 3.54959304e+00, 8.22416716e+00,\n",
       "       8.69537706e+00, 8.59615743e-01, 7.82014162e+00, 7.42206599e+00,\n",
       "       2.76697269e+00, 9.29012935e+00, 2.94178086e+00, 9.19859772e+00,\n",
       "       8.55049917e+00, 1.67543162e+00, 7.90817715e+00, 3.77557930e+00,\n",
       "       4.97277195e-01, 8.68875725e+00, 1.45394832e+00, 1.27674541e+00,\n",
       "       3.88175170e+00, 5.40991226e+00, 3.12468975e+00, 2.43834812e+00,\n",
       "       6.22548490e+00, 4.70759197e+00, 6.90340344e+00, 9.36396732e+00,\n",
       "       3.54125866e+00, 5.26116105e+00, 5.24622759e+00, 3.72937679e+00,\n",
       "       5.21356442e+00, 5.58236788e+00, 1.08554506e+00, 5.04764672e+00,\n",
       "       3.21193140e+00, 1.53975246e+00, 1.69445885e+00, 1.09894526e+00,\n",
       "       4.34576054e+00, 9.77269865e+00, 1.73866565e+00, 5.85428216e+00,\n",
       "       5.52193394e+00, 2.84909398e+00, 3.11453013e+00, 9.82421051e+00,\n",
       "       3.32845027e+00, 6.04274037e+00, 2.95224113e+00, 4.33609358e+00,\n",
       "       7.52189965e+00, 5.69040317e+00, 4.85793462e-01, 6.58948675e+00,\n",
       "       2.95613221e+00, 9.49333115e+00, 6.81756419e+00, 8.04362426e+00,\n",
       "       6.76504155e+00, 1.54294746e-01, 1.40394311e+00, 9.23002699e+00,\n",
       "       8.04082572e+00, 3.94763588e+00, 5.97549802e+00, 9.66991617e+00,\n",
       "       6.45183307e+00, 5.84637831e+00, 7.94093443e+00, 5.23631241e+00,\n",
       "       1.48401393e+00, 4.76167035e+00, 9.65407511e+00, 9.52411667e+00,\n",
       "       3.99521328e+00, 4.90078066e+00, 4.43839962e+00, 3.49474865e-01,\n",
       "       6.33638384e+00, 6.32781760e+00, 6.58476819e+00, 5.75676625e-01,\n",
       "       5.29761418e-01, 6.31062716e+00, 5.09307591e+00, 4.39199076e+00,\n",
       "       1.97266278e+00, 6.82079871e+00, 3.78444872e+00, 8.43122577e+00,\n",
       "       2.12540138e+00, 3.25772155e+00, 1.14859927e+00, 3.99785929e+00,\n",
       "       7.28404744e+00, 6.45262382e+00, 2.32544170e+00, 7.51352375e+00,\n",
       "       8.58834125e+00, 7.86178731e+00, 2.62730714e+00, 9.79060202e-01,\n",
       "       5.21771020e+00, 2.23075785e+00, 2.06362732e+00, 3.49101013e+00,\n",
       "       2.32729947e+00, 7.92858749e+00, 6.30961197e+00, 3.16641806e+00,\n",
       "       1.43266957e+00, 2.69911412e+00, 3.46461794e+00, 8.72031130e+00,\n",
       "       8.12141984e+00, 4.67135138e+00, 5.03069971e+00, 8.02381210e+00,\n",
       "       3.10606653e+00, 2.53939276e+00, 4.77178398e-01, 5.63950969e+00,\n",
       "       7.88129284e+00, 1.78109956e+00, 7.86316809e+00, 2.50802567e+00,\n",
       "       9.43102574e+00, 1.98174849e+00, 3.24591773e+00, 2.44286259e+00,\n",
       "       8.46666737e+00, 4.96939705e+00, 6.10625918e+00, 9.72234551e+00,\n",
       "       1.80147962e+00, 8.81349571e+00, 1.45667445e+00, 6.63063147e+00,\n",
       "       6.45928801e-01, 7.25787071e+00, 3.90944920e+00, 2.33842448e-01,\n",
       "       1.41829441e+00, 4.70799795e+00, 4.36303265e+00, 1.73994813e+00,\n",
       "       2.34761396e+00, 3.49537574e+00, 5.72140449e+00, 7.82064470e-01,\n",
       "       3.45338128e+00, 2.05440704e-01, 1.87156244e+00, 2.04631943e+00,\n",
       "       8.79106582e+00, 1.79673566e+00, 1.93893971e+00, 5.22795143e+00,\n",
       "       7.03469438e+00, 8.35659557e+00, 5.35857309e+00, 6.27867340e+00,\n",
       "       2.93769095e+00, 7.60983934e+00, 2.14341459e+00, 2.08940003e+00,\n",
       "       1.73913784e+00, 5.83422142e+00, 8.10676346e+00, 2.13857350e+00,\n",
       "       9.77343483e+00, 3.69585473e+00, 1.59300482e+00, 7.53233978e+00,\n",
       "       2.06579505e+00, 1.75049769e+00, 4.25641238e+00, 2.39584463e+00,\n",
       "       1.49644410e+00, 5.59052370e-01, 4.95558464e+00, 6.82117084e+00,\n",
       "       3.63948285e+00, 6.56244703e+00, 2.78192146e+00, 2.55389018e-01,\n",
       "       8.18247230e+00, 6.46094097e+00, 8.94351414e+00, 3.36720734e+00,\n",
       "       9.09157099e+00, 9.81748323e+00, 3.30720810e+00, 5.13559859e+00,\n",
       "       5.71366566e+00, 6.48449947e+00, 1.89933131e+00, 5.37751124e-01,\n",
       "       3.31221901e+00, 4.58778268e+00, 7.84279179e+00, 6.78113078e+00,\n",
       "       4.52016078e+00, 3.29796415e-01, 9.41113644e+00, 4.37577918e+00,\n",
       "       1.07897668e+00, 6.14191606e+00, 3.27165871e+00, 8.19907246e+00,\n",
       "       2.25063696e+00, 1.48084216e+00, 3.23544294e+00, 3.37050091e+00,\n",
       "       1.07995440e+00, 1.48645271e+00, 2.02827349e+00, 2.17247691e+00,\n",
       "       7.15135909e+00, 2.62113528e+00, 9.88657174e+00, 1.54963819e+00,\n",
       "       4.79197842e+00, 2.91004075e+00, 4.84345512e+00, 9.05686446e+00,\n",
       "       4.56352640e+00, 1.98543514e+00, 5.36429555e+00, 4.47845172e-01,\n",
       "       4.89290550e+00, 7.67624404e+00, 1.55821083e+00, 3.69622641e-01,\n",
       "       6.73849412e+00, 6.67221955e+00, 3.04799629e+00, 1.51187849e+00,\n",
       "       8.54527536e+00, 6.00239489e+00, 9.72919188e+00, 7.73971927e+00,\n",
       "       1.18989787e+00, 9.49863728e+00, 5.24849342e+00, 6.91267050e+00,\n",
       "       7.39748816e-02, 1.56210855e+00, 8.16182479e+00, 7.89685696e+00,\n",
       "       8.30504308e+00, 5.37247167e+00, 7.10244683e+00, 8.75739504e+00,\n",
       "       7.90937157e+00, 1.79684890e+00, 5.59128263e+00, 8.14290416e+00,\n",
       "       5.16466691e+00, 9.19952512e+00, 8.58529827e+00, 3.02733289e+00,\n",
       "       1.41083118e+00, 9.45361582e+00, 1.60428061e+00, 9.22438959e+00,\n",
       "       3.29935333e+00, 2.90527763e+00, 2.73683939e+00, 5.96145045e+00,\n",
       "       5.86910565e-01, 5.78584250e+00, 4.84765530e+00, 5.72290451e+00,\n",
       "       8.88502627e+00, 3.45372275e-01, 6.65116979e+00, 5.23282841e+00,\n",
       "       4.13289068e+00, 1.42450383e+00, 5.46705937e+00, 5.25904929e+00,\n",
       "       4.48596888e+00, 7.67929950e+00, 9.69167338e+00, 2.29143863e+00,\n",
       "       1.77572918e+00, 2.42044266e+00, 8.99825689e+00, 1.99526107e+00,\n",
       "       4.01827081e-01, 3.22579075e+00, 5.30897910e+00, 6.69321671e+00,\n",
       "       9.64106833e+00, 8.30831074e+00, 1.07420664e+00, 3.33119753e+00,\n",
       "       5.52902271e+00, 1.61836172e+00, 4.45617040e+00, 7.87797835e+00,\n",
       "       2.82762911e+00, 3.38717820e+00, 7.65031746e+00, 5.57690790e+00,\n",
       "       5.94330053e-01, 2.12950940e+00, 6.54202886e+00, 2.62757209e+00,\n",
       "       9.60927441e+00, 7.36954901e-01, 1.21724211e+00, 2.99498911e+00,\n",
       "       8.50573437e+00, 7.75147058e+00, 3.84658777e+00, 7.96077231e+00,\n",
       "       5.19812111e+00, 3.11412144e-01, 8.90769251e+00, 9.37850902e+00,\n",
       "       2.61765793e+00, 9.30025403e+00, 7.60641043e+00, 8.21820937e+00,\n",
       "       2.89051120e+00, 2.23187628e+00, 9.02441720e+00, 5.43733579e+00,\n",
       "       8.67398824e+00, 9.25698754e-01, 8.73610618e-01, 5.94591816e-01,\n",
       "       5.82768485e+00, 1.42450712e+00, 7.97401432e+00, 8.71276261e+00,\n",
       "       6.34464100e-01, 1.16140858e+00, 3.55293966e+00, 3.48088947e+00,\n",
       "       8.59349465e+00, 8.27358719e+00, 3.63418935e+00, 3.29005211e+00,\n",
       "       9.42763079e+00, 2.89635844e+00, 1.21926671e+00, 3.37494490e+00,\n",
       "       8.92564461e+00, 6.87532867e+00, 3.39056319e+00, 3.56538974e+00,\n",
       "       5.49521124e+00, 2.41681638e+00, 8.79093045e+00, 4.94669700e+00,\n",
       "       9.62244792e+00, 9.06458072e+00, 9.55566875e+00, 4.87305975e+00,\n",
       "       8.48530125e+00, 2.20918948e+00, 7.66785874e+00, 6.38235964e-01,\n",
       "       2.52926892e+00, 5.23919578e+00, 4.26363800e+00, 8.61805510e+00,\n",
       "       1.35459755e+00, 7.07532353e+00, 8.53123754e+00, 2.69412255e-01,\n",
       "       1.69350193e+00, 1.33991603e-01, 7.30755525e+00, 2.79341781e-01,\n",
       "       5.32116857e+00, 2.70315589e+00, 5.66633036e+00, 2.25037328e-01,\n",
       "       9.72584012e+00, 9.09366207e+00, 3.10757012e-01, 7.33803047e+00,\n",
       "       4.59483206e+00, 6.78945874e-01, 5.50868452e+00, 6.44784540e+00,\n",
       "       8.72592790e+00, 3.50230092e+00, 3.54595441e+00, 7.86480156e+00,\n",
       "       9.97543070e+00, 2.18601992e+00, 9.78333108e+00, 2.49510474e+00,\n",
       "       8.65991424e+00, 9.24505364e+00, 4.82191434e+00, 1.44332207e+00,\n",
       "       3.85874660e+00, 4.71180189e+00, 5.77306629e+00, 5.62693261e+00,\n",
       "       8.71194745e+00, 2.29125891e+00, 8.95304155e+00, 9.16827093e+00,\n",
       "       9.03701644e+00, 7.06800483e+00, 7.84188876e+00, 9.04287104e+00,\n",
       "       6.72486043e+00, 7.70199331e+00, 1.12461508e+00, 4.71420495e-01,\n",
       "       9.53463415e+00, 1.63036581e+00, 9.18123851e+00, 1.95705956e+00,\n",
       "       5.43266642e+00, 8.29476954e+00, 7.75720916e+00, 6.17897452e+00,\n",
       "       7.38674333e+00, 6.70819010e-03, 5.87249118e-01, 6.83672737e-01,\n",
       "       3.65731041e+00, 2.75013054e+00, 8.71365293e+00, 4.75994039e+00,\n",
       "       5.76303326e+00, 1.12551624e+00, 6.59384225e+00, 4.56993004e+00,\n",
       "       3.49860038e+00, 2.72601818e+00, 4.37359931e+00, 2.23588410e+00,\n",
       "       8.41097146e+00, 3.64570237e+00, 3.12549689e+00, 5.90656050e+00,\n",
       "       4.37114089e+00, 5.93089930e+00, 7.67529543e+00, 3.25639703e+00,\n",
       "       2.21356171e+00, 3.55420971e-01, 1.88319780e+00, 1.38972467e+00,\n",
       "       4.86187162e+00, 7.64764505e+00, 9.44379141e+00, 1.97960993e+00,\n",
       "       5.33089842e+00, 8.76796240e+00, 9.66105945e+00, 5.02076642e+00,\n",
       "       8.85259891e+00, 2.70805113e+00, 1.13895525e+00, 7.64905657e+00,\n",
       "       2.08816559e+00, 8.96324308e+00, 8.72894408e+00, 5.19914636e-01,\n",
       "       1.66191554e+00, 7.17688564e+00, 6.20364539e+00, 6.67999273e+00,\n",
       "       5.88849303e+00, 4.85825721e+00, 2.39914181e+00, 5.93063414e+00,\n",
       "       5.58085347e+00, 9.57891991e-01, 1.87492004e+00, 2.52897585e+00,\n",
       "       3.20304484e+00, 8.25669365e+00, 5.33360516e+00, 3.29791797e+00,\n",
       "       3.55963801e+00, 8.22228756e+00, 6.06866766e+00, 3.01567379e+00,\n",
       "       3.10522598e+00, 8.20099867e+00, 7.47650635e-01, 6.58839007e+00,\n",
       "       3.03069440e+00, 6.78620398e+00, 1.90669149e+00, 4.28388755e+00,\n",
       "       6.16372263e-01, 8.38061158e+00, 3.06719578e+00, 7.32963875e+00,\n",
       "       2.62510666e+00, 4.68002833e-01, 2.99718218e+00, 5.17261849e+00,\n",
       "       6.10830073e+00, 5.59512163e+00, 5.58013993e+00, 9.95392726e+00,\n",
       "       9.70277273e+00, 4.29252830e+00, 4.40078106e+00, 5.44724860e-01,\n",
       "       7.15040227e+00, 3.53931908e+00, 5.90977869e-01, 1.23985876e+00,\n",
       "       5.23567741e+00, 2.24238252e+00, 5.80123214e+00, 9.43698134e-01,\n",
       "       4.03021303e+00, 3.97009517e-01, 4.24414732e+00, 1.92452940e+00,\n",
       "       1.22206927e+00, 9.61458514e+00, 6.47473223e+00, 9.70561935e+00,\n",
       "       2.31379513e+00, 3.38905936e+00, 5.37323715e+00, 9.33424758e+00,\n",
       "       2.69738828e+00, 9.66581236e+00, 8.76047411e+00, 9.17711329e+00,\n",
       "       1.22502420e+00, 4.14235216e+00, 9.47365059e+00, 6.34724369e+00,\n",
       "       2.79815510e+00, 4.04815029e+00, 8.91701848e+00, 8.23692657e+00,\n",
       "       8.46282994e+00, 2.53797113e+00, 7.06823971e+00, 6.96147209e-01,\n",
       "       6.18116676e+00, 5.29208825e+00, 2.79856515e+00, 7.33611129e+00,\n",
       "       7.51283123e+00, 3.60966067e-04, 6.49991256e+00, 8.16358078e+00,\n",
       "       5.60898180e+00, 9.77996856e+00, 3.85753939e+00, 6.63586301e+00,\n",
       "       5.18857470e+00, 4.65671982e+00, 5.10667224e+00, 8.18699429e+00,\n",
       "       1.40241226e+00, 8.43310251e+00, 1.51652775e+00, 1.86404888e+00,\n",
       "       7.05734370e+00, 9.60854142e+00, 2.75492592e+00, 7.95218428e+00,\n",
       "       5.22101976e-01, 4.08963102e-01, 1.87518367e+00, 3.87711092e+00,\n",
       "       9.84405058e+00, 1.74975223e+00, 1.32199802e+00, 9.51879994e+00,\n",
       "       1.65236515e-01, 1.65378369e+00, 4.30547141e+00, 7.24715246e+00,\n",
       "       3.38291991e+00, 1.47924017e+00, 4.73759350e+00, 5.01106810e+00,\n",
       "       6.51782444e+00, 6.68553015e+00, 4.13722600e+00, 3.91335846e+00,\n",
       "       6.05375138e+00, 1.44814369e+00, 8.82444444e+00, 7.67435927e+00,\n",
       "       6.93564810e+00, 8.13524797e+00, 1.51045417e+00, 3.31672938e+00,\n",
       "       2.14526641e-01, 3.77604066e+00, 8.35785613e+00, 5.38548805e+00,\n",
       "       4.35417914e+00, 1.66575094e+00, 9.72207925e+00, 3.38262022e+00,\n",
       "       6.32801570e+00, 6.90547877e-01, 6.11478407e+00, 8.43273596e+00,\n",
       "       7.90412135e+00, 5.34170106e+00, 4.72665345e+00, 3.19585078e+00,\n",
       "       5.99513184e+00, 2.05540123e+00, 6.87343500e+00, 1.07047425e+00,\n",
       "       7.34977086e+00, 1.23188627e+00, 5.52338773e+00, 2.67902177e+00,\n",
       "       3.12559607e+00, 1.53100911e+00, 5.01964371e+00, 4.25821320e+00,\n",
       "       5.96367157e+00, 9.71207362e+00, 3.30879424e+00, 1.04837260e+00,\n",
       "       1.87399924e+00, 4.52261441e+00, 9.74924526e+00, 9.13796781e+00,\n",
       "       5.44904737e+00, 5.06408620e-01, 3.23199508e+00, 1.73873357e+00,\n",
       "       8.96767609e+00, 9.27340972e+00, 7.56183840e-01, 9.63944322e+00,\n",
       "       3.01353019e-01, 9.97992980e-02, 4.77823431e+00, 5.61487345e+00,\n",
       "       4.71888600e+00, 5.91529482e+00, 6.06493794e+00, 4.56413041e+00,\n",
       "       1.35151309e-01, 1.60516161e+00, 9.03772869e+00, 3.51946938e+00,\n",
       "       2.94868447e+00, 2.64550189e+00, 7.27959020e+00, 4.46460200e+00,\n",
       "       6.85985320e+00, 3.29553315e+00, 7.29174317e+00, 8.99239478e+00,\n",
       "       1.74148670e+00, 9.53740919e+00, 3.11968418e+00, 7.82967097e-01,\n",
       "       5.99912142e+00, 5.11298386e-01, 4.56978189e+00, 9.14761970e+00,\n",
       "       6.20203182e+00, 9.74988104e+00, 3.38155572e+00, 6.62556810e+00,\n",
       "       9.80327908e+00, 4.97297976e+00, 2.10876395e+00, 5.45853595e+00,\n",
       "       5.09429927e+00, 5.87525966e+00, 4.67706818e+00, 8.34755299e+00,\n",
       "       5.06611685e+00, 1.98992683e+00, 7.02552764e+00, 1.68994607e+00,\n",
       "       7.45258022e+00, 8.16228977e+00, 2.23046178e+00, 3.60799647e+00,\n",
       "       5.32965496e+00, 7.57401828e+00, 1.58283739e+00, 4.16623391e+00,\n",
       "       8.67127163e+00, 4.76511380e+00, 9.54268198e+00, 5.36258673e-02,\n",
       "       7.07184372e+00, 9.99651818e+00, 1.98909880e+00, 7.98731593e-01,\n",
       "       7.09205769e+00, 1.44440929e+00, 1.77062568e+00, 8.76110800e+00,\n",
       "       8.21332582e+00, 7.15240469e+00, 4.30211482e+00, 8.98101144e+00,\n",
       "       4.70591750e+00, 4.43484922e+00, 1.42208581e+00, 9.99202981e+00,\n",
       "       3.02843205e+00, 3.70226666e+00, 3.13105768e+00, 4.27305198e+00,\n",
       "       2.82985101e+00, 9.06089248e+00, 1.82876884e-01, 9.19537603e+00,\n",
       "       4.71186289e+00, 6.22722057e+00, 9.09651941e+00, 2.97474410e+00,\n",
       "       7.81377240e+00, 1.42489200e+00, 8.57352247e+00, 2.78448538e+00,\n",
       "       3.23770235e+00, 4.01919525e+00, 1.82030424e+00, 8.60217669e+00,\n",
       "       5.26573937e+00, 2.86355405e+00, 6.64613877e+00, 9.94421549e+00,\n",
       "       9.04641782e+00, 5.99451773e+00, 8.12608159e+00, 6.52063369e+00,\n",
       "       8.50446280e-01, 7.68226461e-03, 4.86096501e+00, 6.07448216e+00,\n",
       "       4.08567137e+00, 6.33303564e-01, 5.39059877e+00, 3.38013616e+00,\n",
       "       1.82772369e+00, 9.62411678e+00, 4.35039673e+00, 9.40996100e+00,\n",
       "       3.92390748e+00, 2.66048892e+00, 4.34504423e+00, 8.78492725e+00,\n",
       "       9.77519399e+00, 3.33008281e+00, 7.34701203e+00, 1.26900625e+00,\n",
       "       2.00333922e+00, 1.91871532e+00, 9.17273936e+00, 8.15585458e+00,\n",
       "       2.86473988e+00, 8.71359402e+00, 9.07453659e+00, 5.90346253e+00,\n",
       "       4.93327922e+00, 7.28891073e+00, 8.33989236e+00, 1.09851383e-01,\n",
       "       6.51470271e+00, 9.67663966e+00, 1.46462232e+00, 6.60124185e+00,\n",
       "       9.92354808e+00, 6.10185213e+00, 9.71364361e+00, 2.30146905e+00,\n",
       "       3.86687751e+00, 1.96194772e+00, 3.26938248e+00, 1.06588623e+00,\n",
       "       7.97326517e+00, 2.41975220e+00, 6.80377915e+00, 8.73972999e+00,\n",
       "       2.11228599e+00, 3.58735678e+00, 7.87891418e+00, 8.06583508e+00,\n",
       "       7.66791549e+00, 6.12237195e+00, 3.12716553e+00, 1.73887590e+00,\n",
       "       2.49414925e+00, 6.08599341e+00, 8.45472302e+00, 9.57472238e+00,\n",
       "       5.16491130e+00, 6.53340172e-01, 9.98998870e+00, 7.76216772e+00,\n",
       "       3.16357709e-01, 3.24344763e+00, 8.49217419e-02, 8.85801578e+00,\n",
       "       4.05859048e-01, 5.79864801e+00, 6.25387981e+00, 5.20019032e-01,\n",
       "       7.11714336e+00, 3.64119757e+00, 6.15888805e+00, 7.69890322e+00,\n",
       "       9.22037358e+00, 1.87991620e+00, 1.32293642e-01, 5.74294820e+00,\n",
       "       2.34230751e+00, 3.14464202e+00, 1.28194087e+00, 8.44123509e+00,\n",
       "       8.92110405e+00, 2.23064190e+00, 2.85099200e+00, 6.26333253e-01,\n",
       "       6.79206431e+00, 9.29151036e+00, 1.73496532e+00, 7.00944698e+00,\n",
       "       1.09188331e+00, 5.04353061e+00, 1.23457816e+00, 2.89029533e+00,\n",
       "       1.94179814e+00, 4.73718510e+00, 4.94925990e+00, 5.32816936e+00,\n",
       "       8.85128118e+00, 5.41200792e+00, 7.51367985e+00, 5.39604656e+00,\n",
       "       2.72657293e+00, 8.28382534e+00, 1.65288123e+00, 8.17443151e-01,\n",
       "       5.29895769e+00, 6.47817908e+00, 4.34408553e+00, 4.93187843e-01,\n",
       "       8.15139463e+00, 2.04811562e+00, 9.19519079e-02, 3.51132899e+00,\n",
       "       4.23732798e+00, 4.93953331e-01, 2.29379325e+00, 6.35887583e+00,\n",
       "       9.77950352e-01, 1.59882969e+00, 9.67957306e+00, 2.23557493e+00,\n",
       "       4.74415063e+00, 8.59000280e+00, 7.02649878e+00, 5.53063976e+00,\n",
       "       8.68856129e+00, 8.33040315e+00, 1.67055913e-01, 4.25227565e+00,\n",
       "       5.96484723e+00, 2.79182826e+00, 5.45669159e+00, 2.10122096e+00,\n",
       "       3.13559199e+00, 8.87207456e+00, 5.80420492e-01, 7.40369567e+00,\n",
       "       1.32606009e+00, 8.61002938e+00, 1.45963540e+00, 7.19324829e+00,\n",
       "       8.19637701e+00, 9.34335900e-01, 3.83393389e+00, 1.14977719e+00,\n",
       "       7.06265933e+00, 2.64134345e+00, 4.56941012e+00, 2.28593845e+00,\n",
       "       8.37560596e+00, 2.70863193e+00, 2.32865242e+00, 4.33316937e+00,\n",
       "       1.27006915e+00, 7.20742166e+00, 7.93976903e+00, 4.35515493e-01,\n",
       "       7.30541319e+00, 1.66442800e+00, 5.68539022e+00, 3.09479316e+00,\n",
       "       3.61085738e+00, 2.14082606e+00, 5.11864660e+00, 6.51740037e+00,\n",
       "       8.82807883e+00, 8.83715023e+00, 2.98353733e+00, 8.13955309e+00])"
      ]
     },
     "execution_count": 25,
     "metadata": {},
     "output_type": "execute_result"
    }
   ],
   "source": [
    "# Example: 1000 float point numbers in the range of 0 to 10 (exclusive)\n",
    "\n",
    "s = np.random.default_rng().uniform(low=0, high=10, size=1000)\n",
    "s"
   ]
  },
  {
   "cell_type": "code",
   "execution_count": 26,
   "id": "8655ce21-ff55-4f93-a4e4-a8fbc308910a",
   "metadata": {},
   "outputs": [
    {
     "data": {
      "text/plain": [
       "<AxesSubplot:ylabel='Count'>"
      ]
     },
     "execution_count": 26,
     "metadata": {},
     "output_type": "execute_result"
    },
    {
     "data": {
      "image/png": "[encoded data removed]",
      "text/plain": [
       "<Figure size 432x288 with 1 Axes>"
      ]
     },
     "metadata": {
      "needs_background": "light"
     },
     "output_type": "display_data"
    }
   ],
   "source": [
    "# Histogram:\n",
    "\n",
    "sns.histplot(s, bins = 10)\n",
    "\n",
    "# https://seaborn.pydata.org/generated/seaborn.histplot.html#seaborn.histplot (15/11/2021)"
   ]
  },
  {
   "cell_type": "code",
   "execution_count": null,
   "id": "ee7b01ee-42e7-4a82-a118-3d387cad8d6c",
   "metadata": {},
   "outputs": [],
   "source": []
  },
  {
   "cell_type": "markdown",
   "id": "6ef61b0a-e0e5-4de7-97e4-708560f00e3f",
   "metadata": {
    "tags": []
   },
   "source": [
    "### **3.2 Binomial Distribution**\n",
    "\n",
    "https://numpy.org/doc/stable/reference/random/generated/numpy.random.Generator.binomial.html#numpy.random.Generator.binomial"
   ]
  },
  {
   "cell_type": "code",
   "execution_count": null,
   "id": "b9e280d6-628e-49ed-a5b4-07996b5ee113",
   "metadata": {},
   "outputs": [],
   "source": []
  },
  {
   "cell_type": "code",
   "execution_count": null,
   "id": "888e7a0c-e030-47f6-8a26-7187f90321bf",
   "metadata": {},
   "outputs": [],
   "source": []
  },
  {
   "cell_type": "markdown",
   "id": "23b585ce-10b4-43fc-a7e5-28184a2bf00f",
   "metadata": {},
   "source": [
    "### **3.3 Multinomial Distribution**\n",
    "\n",
    "https://numpy.org/doc/stable/reference/random/generated/numpy.random.Generator.multinomial.html#numpy.random.Generator.multinomial"
   ]
  },
  {
   "cell_type": "code",
   "execution_count": null,
   "id": "4350fea2-9943-4352-8bea-1b1cab225f74",
   "metadata": {},
   "outputs": [],
   "source": []
  },
  {
   "cell_type": "code",
   "execution_count": null,
   "id": "fe4e6ca8-70fa-420e-9f32-7f4892901bd3",
   "metadata": {},
   "outputs": [],
   "source": []
  },
  {
   "cell_type": "markdown",
   "id": "4fc5bf82-394a-4921-91a5-12b338d509ea",
   "metadata": {},
   "source": [
    "### **3.4 Normal Distribution**\n",
    "\n",
    "https://numpy.org/doc/stable/reference/random/generated/numpy.random.Generator.normal.html#numpy.random.Generator.normal"
   ]
  },
  {
   "cell_type": "code",
   "execution_count": null,
   "id": "f136e213-2515-412a-aedf-e873d40be36b",
   "metadata": {},
   "outputs": [],
   "source": []
  },
  {
   "cell_type": "code",
   "execution_count": null,
   "id": "53ba3fde-fba0-429c-9c0c-d9011c4ead6a",
   "metadata": {},
   "outputs": [],
   "source": []
  },
  {
   "cell_type": "markdown",
   "id": "6bb8f525-d41d-4d4d-a00e-cadbaa950886",
   "metadata": {},
   "source": [
    "### **3.5**"
   ]
  },
  {
   "cell_type": "code",
   "execution_count": null,
   "id": "e63fe69d-fa91-4a9d-8a35-68f77dbb050b",
   "metadata": {},
   "outputs": [],
   "source": []
  },
  {
   "cell_type": "markdown",
   "id": "16315562-8226-4d6f-9f5c-1140feb4e5f5",
   "metadata": {},
   "source": [
    "## 4. Explain the use of seeds in generating pseudorandom numbers."
   ]
  },
  {
   "cell_type": "code",
   "execution_count": null,
   "id": "ee426626-1730-4485-8861-934ecd90c8cb",
   "metadata": {},
   "outputs": [],
   "source": []
  },
  {
   "cell_type": "code",
   "execution_count": null,
   "id": "9eecf250-50a8-413d-95a1-f03f03b42aa8",
   "metadata": {},
   "outputs": [],
   "source": []
  },
  {
   "cell_type": "code",
   "execution_count": null,
   "id": "2bf1ce5b-3100-4367-81a6-ed83c6db8424",
   "metadata": {},
   "outputs": [],
   "source": []
  },
  {
   "cell_type": "code",
   "execution_count": 29,
   "id": "1498be4e-da45-4295-aed1-0279288b6851",
   "metadata": {},
   "outputs": [
    {
     "name": "stdout",
     "output_type": "stream",
     "text": [
      "All cells running ok\n"
     ]
    }
   ],
   "source": [
    "# Debug check that all cells are running\n",
    "print('All cells running ok')"
   ]
  },
  {
   "cell_type": "markdown",
   "id": "258b0570-39d3-462c-b02e-53203389385b",
   "metadata": {},
   "source": [
    "## References Used"
   ]
  },
  {
   "cell_type": "code",
   "execution_count": null,
   "id": "a050ad53-5514-43df-acbb-0dbb0b26c5c2",
   "metadata": {},
   "outputs": [],
   "source": []
  }
 ],
 "metadata": {
  "kernelspec": {
   "display_name": "Python 3",
   "language": "python",
   "name": "python3"
  },
  "language_info": {
   "codemirror_mode": {
    "name": "ipython",
    "version": 3
   },
   "file_extension": ".py",
   "mimetype": "text/x-python",
   "name": "python",
   "nbconvert_exporter": "python",
   "pygments_lexer": "ipython3",
   "version": "3.8.8"
  }
 },
 "nbformat": 4,
 "nbformat_minor": 5
}
