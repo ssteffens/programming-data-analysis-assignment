{
 "cells": [
  {
   "cell_type": "markdown",
   "id": "ca747803-6241-4530-9a01-15d8eba91b1a",
   "metadata": {},
   "source": [
    "# Programming for Data Analysis 2021 - Assignment"
   ]
  },
  {
   "cell_type": "markdown",
   "id": "8a1ccc16-20ad-4989-a357-72178e9200ba",
   "metadata": {},
   "source": [
    "## 1. Explain the overall purpose of the numpy.random package."
   ]
  },
  {
   "cell_type": "markdown",
   "id": "933bc638-8079-4fb6-a01f-fa75799805a2",
   "metadata": {},
   "source": [
    "### **1.1 The numpy.random Package - Subpackage of NumPy** \n",
    "\n",
    "The numpy.random package is a subpackage within the NumPy package. NumPy (short for Numerical Python) is a Python library which is used for dealing with arrays of numerical values. \n",
    "Arrays in NumPy are maintained as ndarray objects. These arrays can be 0-, 1- or multi-dimensional: \n",
    "- 0-D array: single value/scalar\n",
    "- 1-D array: a list of several 0-D arrays, also called uni-dimensional\n",
    "- 2-D array: an array consisting of two 1-D arrays, also called a matrix\n",
    "- 3-D array: an array that has 2-D arrays as its elements\n",
    "- n-D array: an array that has n-1 -D arrays as its elements\n",
    "All elements of an array need to be of the same data type. \n",
    "\n",
    "To be able to use NumPy, it needs to be imported. It is commonly imported as the alias np. "
   ]
  },
  {
   "cell_type": "code",
   "execution_count": 1,
   "id": "d36c8ef6-96ba-4bb3-8293-bf186b98e1c1",
   "metadata": {},
   "outputs": [],
   "source": [
    "# Importing numPy\n",
    "import numpy as np"
   ]
  },
  {
   "cell_type": "code",
   "execution_count": 2,
   "id": "b090f4b2-e57a-46bd-9b74-20cd88ca0ba9",
   "metadata": {},
   "outputs": [
    {
     "data": {
      "text/plain": [
       "'1.20.1'"
      ]
     },
     "execution_count": 2,
     "metadata": {},
     "output_type": "execute_result"
    }
   ],
   "source": [
    "# To check the installed version of NumPy \n",
    "np.__version__"
   ]
  },
  {
   "cell_type": "markdown",
   "id": "e327de91-9ddd-4ad7-b24b-318233c69730",
   "metadata": {},
   "source": [
    "### **1.2 The numpy.random Package - Use and Purpose**\n",
    "\n",
    "numpy.random is a subpackage within NumPy which enables users to generate and work with random numbers.\n",
    "\n",
    "\"Random means something that can not be predicted logically\" (https://www.w3schools.com/python/numpy/numpy_random.asp)\n",
    "\n",
    "Numbers created with the package are considered pseudo-random, meaning that they are not truly random but rather generated through a generation algorithm. By setting a seed value, the sequence of created numbers is reproducable (see further in part 4). \n",
    "\n",
    "In contrast, truly random numbers can be generated using random data from an outside source which could be mouse movements, time stamps, etc. \n",
    "\n",
    "In programming, pseudo-random numbers can be used for simulating data. the numpy.random package allows to create the required random numbers in different formats and fulfilling different criteria as required by the simulation scenario, for example selecting numbers from a pre-defined sample, or creating random numbers or arrays that follow certain distribution patterns. \n",
    "\n",
    "To be able to use the numpy.random module, calling the function numpy.random.default_rng() will start a new random number generator. "
   ]
  },
  {
   "cell_type": "code",
   "execution_count": 3,
   "id": "3a0e9542-7ab0-43b1-91b1-09a252ba6c9e",
   "metadata": {},
   "outputs": [],
   "source": [
    "# Define the random number generator (RNG)\n",
    "rng=np.random.default_rng()"
   ]
  },
  {
   "cell_type": "code",
   "execution_count": 4,
   "id": "331935d4-f881-4224-bec3-40a56c6ce85b",
   "metadata": {},
   "outputs": [
    {
     "data": {
      "text/plain": [
       "array([0.52195098, 0.02805595, 0.98996774, 0.01190275, 0.43992356,\n",
       "       0.02671617, 0.80646096, 0.50700643, 0.70452754, 0.9002777 ])"
      ]
     },
     "execution_count": 4,
     "metadata": {},
     "output_type": "execute_result"
    }
   ],
   "source": [
    "# Example: Using the RNG to generate 10 random float point numbers\n",
    "rng.random(size=10)"
   ]
  },
  {
   "cell_type": "markdown",
   "id": "faedcd1b-7aa1-455d-bbd6-9f7bd38b8f13",
   "metadata": {},
   "source": [
    "References:\n",
    "\n",
    "https://www.w3schools.com/python/numpy/numpy_random.asp (30/10/2021)\n",
    "\n",
    "Numpy v.1.21 Manual https://numpy.org/doc/stable/ (30/10/2021)\n",
    "\n",
    "Random sampling (numpy.random) https://numpy.org/doc/stable/reference/random/index.html# (30/10/2021)"
   ]
  },
  {
   "cell_type": "markdown",
   "id": "6ac92937-7622-4ac6-ab5c-090f5f25f1ac",
   "metadata": {},
   "source": [
    "## **2. Explain the use of the “Simple random data” and “Permutations” functions.**"
   ]
  },
  {
   "cell_type": "markdown",
   "id": "13d999c0-127f-4bc5-9383-384f5d921fe5",
   "metadata": {},
   "source": [
    "Functions for creating simple random data can be used to return integers, floats, or a random sample from a given array. \n",
    "<br>\n",
    "Permutation modify an array or sequence already in place by shuffling or rearranging the sequence. "
   ]
  },
  {
   "cell_type": "markdown",
   "id": "e5866a16-9e74-4ebb-bae2-12076132f484",
   "metadata": {},
   "source": [
    "<br>\n",
    "\n",
    "### **2.1 Simple Random Data**\n",
    "A number of functions can be used to generate simple random data, for example single or several numbers, or taking a random sample from a given array. "
   ]
  },
  {
   "cell_type": "markdown",
   "id": "5631856a-6be4-43d2-a1c8-eece16773938",
   "metadata": {},
   "source": [
    "<br>\n",
    "\n",
    "#### **2.1.1 Generating Random Integers**\n",
    "The rng.integers() function can be used to create random integers. "
   ]
  },
  {
   "cell_type": "code",
   "execution_count": 5,
   "id": "6a48cadc-c486-4185-a690-6ee2b377bc4c",
   "metadata": {},
   "outputs": [
    {
     "data": {
      "text/plain": [
       "2"
      ]
     },
     "execution_count": 5,
     "metadata": {},
     "output_type": "execute_result"
    }
   ],
   "source": [
    "# Generate a single random integer in the range from 0 (inclusive) to 5 (exclusive)\n",
    "rng.integers(5)"
   ]
  },
  {
   "cell_type": "markdown",
   "id": "681a6789-3e7d-473b-94a9-ab8735384bb0",
   "metadata": {},
   "source": [
    "The rng.integers() function can take a number of parameters to further define the output:\n",
    "- The range from which integers are drawn (low, high). The range inludes the low value but by default excludes the high value. \n",
    "- The number of random integers to be drawn (size)\n",
    "- Data type of results\n",
    "- Endpoint = True sets the high value to be inclusive of the entered value\n",
    "\n",
    "https://numpy.org/doc/stable/reference/random/generated/numpy.random.Generator.integers.html (13/11/2021)\n",
    "\n"
   ]
  },
  {
   "cell_type": "code",
   "execution_count": 6,
   "id": "eea0adb7-b4ee-4bb5-a0de-6b22926299ed",
   "metadata": {},
   "outputs": [
    {
     "data": {
      "text/plain": [
       "array([13, 12, 10, 19, 19], dtype=int64)"
      ]
     },
     "execution_count": 6,
     "metadata": {},
     "output_type": "execute_result"
    }
   ],
   "source": [
    "# Example: Generate an array of 5 integers between 10 (inclusive) and 20 (exclusive)\n",
    "rng.integers(low=10, high=20, size=5)"
   ]
  },
  {
   "cell_type": "markdown",
   "id": "0c7253fb-87db-4c05-ae81-779fc7f1bd13",
   "metadata": {},
   "source": [
    "<br>\n",
    "\n",
    "#### **2.1.2 Generating Random Float Numbers**\n",
    "\n",
    "The rng.random() function can be used to create float point numbers between 0 and 1 (exclusive).\n"
   ]
  },
  {
   "cell_type": "code",
   "execution_count": 7,
   "id": "f2a01847-4439-49fb-9b1f-4901ac56dcdd",
   "metadata": {},
   "outputs": [
    {
     "data": {
      "text/plain": [
       "0.7375198966360584"
      ]
     },
     "execution_count": 7,
     "metadata": {},
     "output_type": "execute_result"
    }
   ],
   "source": [
    "# Exapmle: Generate a single float point number\n",
    "rng.random()"
   ]
  },
  {
   "cell_type": "markdown",
   "id": "09792b18-0ebe-46b7-98cc-1d18c4a1a9e5",
   "metadata": {},
   "source": [
    "Similar to creating integers, additional parameters can be added to further define the output: \n",
    "- The number of random float numbers to be drawn (size)\n",
    "- Data type (float64 or float32)\n",
    "- An alternative output array\n",
    "\n",
    "https://numpy.org/doc/stable/reference/random/generated/numpy.random.Generator.random.html#numpy.random.Generator.random (13/11/2021)"
   ]
  },
  {
   "cell_type": "code",
   "execution_count": 8,
   "id": "84101c36-6ed4-4a29-a994-24dec51f4612",
   "metadata": {},
   "outputs": [
    {
     "data": {
      "text/plain": [
       "array([0.48152838, 0.38049468, 0.53290975, 0.13318309, 0.98394495])"
      ]
     },
     "execution_count": 8,
     "metadata": {},
     "output_type": "execute_result"
    }
   ],
   "source": [
    "# Generate an array of 5 float point numbers\n",
    "rng.random(size=5)"
   ]
  },
  {
   "cell_type": "markdown",
   "id": "76fdda62-791a-43ec-bd2e-8500ff0f7fea",
   "metadata": {},
   "source": [
    "<br>\n",
    "\n",
    "#### **2.1.3 Generating n-dimensional Arrays of Random Numbers**\n",
    "\n",
    "Both rng.integers() and rng.random() can be used to create n-dimensional arrays of random numbers, for example to simulate a table of values. \n",
    "\n",
    "https://numpy.org/doc/stable/reference/random/generated/numpy.random.Generator.integers.html#numpy.random.Generator.integers (19/11/2021)"
   ]
  },
  {
   "cell_type": "code",
   "execution_count": 9,
   "id": "29f4c59b-02ca-49f8-a0ef-689284e601ca",
   "metadata": {},
   "outputs": [
    {
     "data": {
      "text/plain": [
       "array([[4, 4, 0, 2],\n",
       "       [4, 1, 4, 3],\n",
       "       [3, 2, 0, 4]], dtype=int64)"
      ]
     },
     "execution_count": 9,
     "metadata": {},
     "output_type": "execute_result"
    }
   ],
   "source": [
    "# Generate a 3 x 4 array of integers with maximum value 5 (exlusive)\n",
    "rng.integers(5, size=(3, 4))"
   ]
  },
  {
   "cell_type": "code",
   "execution_count": 10,
   "id": "2fa3021a-e76d-45be-8293-640bfb17e567",
   "metadata": {},
   "outputs": [
    {
     "data": {
      "text/plain": [
       "array([[ 0,  7,  3,  2],\n",
       "       [12, 19, 17, 14],\n",
       "       [26, 25, 29, 27]], dtype=int64)"
      ]
     },
     "execution_count": 10,
     "metadata": {},
     "output_type": "execute_result"
    }
   ],
   "source": [
    "# Generate a 3 x 4 array of integers with different low and high values for each dimension (row)\n",
    "rng.integers([[0, 0, 0, 0], [10, 10, 10, 10], [20, 20, 20, 20]], [[10], [20], [30]], size=[3, 4])"
   ]
  },
  {
   "cell_type": "markdown",
   "id": "e2774df6-1987-4e29-86e0-62097ad15e36",
   "metadata": {},
   "source": [
    "<br>\n",
    "\n",
    "#### **2.1.4 Selecting Random Numbers from a Predefined Array**\n",
    "\n",
    "The rng.choice() function can be used to generate a random sample from a given array. \n",
    "\n",
    "https://numpy.org/doc/stable/reference/random/generated/numpy.random.Generator.choice.html#numpy.random.Generator.choice (13/11/2021)"
   ]
  },
  {
   "cell_type": "code",
   "execution_count": 11,
   "id": "a701b26e-ff77-4485-a6b0-6cb8904baf79",
   "metadata": {},
   "outputs": [
    {
     "data": {
      "text/plain": [
       "array([3, 2, 4])"
      ]
     },
     "execution_count": 11,
     "metadata": {},
     "output_type": "execute_result"
    }
   ],
   "source": [
    "# Select 3 integers from an array of [1, 2, 3, 4, 5]\n",
    "rng.choice([1,2,3,4,5], 3)"
   ]
  },
  {
   "cell_type": "markdown",
   "id": "a5a88eb3-4fd2-4a59-9d33-f20759fe2b2f",
   "metadata": {},
   "source": [
    "An important aspect of random number generation is the distribution of data. The rng.choice() function can be used to define the probability of random numbers being selected by assigning probability values. "
   ]
  },
  {
   "cell_type": "code",
   "execution_count": 12,
   "id": "66ba29c2-6a9a-4ff8-9ba0-b51cc2455db4",
   "metadata": {},
   "outputs": [
    {
     "data": {
      "text/plain": [
       "array([4, 1, 2, 2, 2, 3, 3, 1, 3, 1])"
      ]
     },
     "execution_count": 12,
     "metadata": {},
     "output_type": "execute_result"
    }
   ],
   "source": [
    "# Select 10 integers from an array of [1, 2, 3, 4, 5]. The probability of selecting 1, 2 and 3 is set to 0.3, \n",
    "# the probaility of selecting 4 is set to 0.1 and the probablility of selecting 5 is set to 0:\n",
    "\n",
    "ch = rng.choice([1,2,3,4,5], 10, p=(0.3, 0.3, 0.3, 0.1, 0))\n",
    "ch"
   ]
  },
  {
   "cell_type": "markdown",
   "id": "733e1772-edb3-405d-b904-9ea970ffd28f",
   "metadata": {},
   "source": [
    "<br>\n",
    "\n",
    "#### **2.1.5 Generating Random Bytes**\n",
    "\n",
    "The rng.bytes() function can be used to generate random bytes. The length parameter determines the number of bytes to be created. \n",
    "\n",
    "https://numpy.org/doc/stable/reference/random/generated/numpy.random.Generator.bytes.html#numpy.random.Generator.bytes (19/11/2021)"
   ]
  },
  {
   "cell_type": "code",
   "execution_count": 13,
   "id": "188d1530-db4a-4427-9b36-c2205530a7d0",
   "metadata": {},
   "outputs": [
    {
     "data": {
      "text/plain": [
       "b\"y\\xa6\\xdf'\\x96\\xc3\\xeb\\xd8\\x07\\xfb\""
      ]
     },
     "execution_count": 13,
     "metadata": {},
     "output_type": "execute_result"
    }
   ],
   "source": [
    "# Example: Generate 10 random bytes\n",
    "rng.bytes(10)"
   ]
  },
  {
   "cell_type": "markdown",
   "id": "57ffaf61-b047-4774-b246-fd2476b915bc",
   "metadata": {},
   "source": [
    "<br>\n",
    "\n",
    "### **2.2 Permutations**"
   ]
  },
  {
   "cell_type": "markdown",
   "id": "961d847a-4bf3-4e88-8ca2-c1583a11bd6d",
   "metadata": {},
   "source": [
    "Random permuations can be used to re-arrange elements within a given array, for example by changing the order of [1, 2, 3] to [3, 2, 1].\n",
    "The numpy.random package offers 3 methods for changing the order of array elements: \n",
    "- shuffle()\n",
    "- permutation()\n",
    "- permuted()\n",
    "\n",
    "Permutations: https://numpy.org/doc/stable/reference/random/generated/numpy.random.Generator.permutation.html"
   ]
  },
  {
   "cell_type": "markdown",
   "id": "d4500e25-3204-4d36-8576-6d846d400882",
   "metadata": {},
   "source": [
    "<br>\n",
    "\n",
    "#### **2.2.1 Re-shuffling an Array**\n",
    "The shuffle() function changes the original array by re-arranging its elements. \n",
    "\n",
    "https://numpy.org/doc/stable/reference/random/generated/numpy.random.Generator.shuffle.html#numpy.random.Generator.shuffle (13/11/2021)\n",
    "\n",
    "https://likegeeks.com/numpy-shuffle/ (14/11/2021)\n",
    "\n",
    "https://zkf85.github.io/2019/01/31/np-shuffle-vs-permutation (14/11/2021)"
   ]
  },
  {
   "cell_type": "code",
   "execution_count": 14,
   "id": "92d000cb-11d3-466a-bcd8-cd69694b9fbd",
   "metadata": {},
   "outputs": [
    {
     "data": {
      "text/plain": [
       "[3, 2, 1, 4, 5]"
      ]
     },
     "execution_count": 14,
     "metadata": {},
     "output_type": "execute_result"
    }
   ],
   "source": [
    "# Example: \n",
    "arr = [1,2,3,4,5]\n",
    "\n",
    "rng.shuffle(arr)\n",
    "arr"
   ]
  },
  {
   "cell_type": "markdown",
   "id": "501c4554-93f7-4b9f-b9c1-eb58eae32403",
   "metadata": {},
   "source": [
    "For 2- or more-dimensional arrays, if using the shuffle() function as above, the order of arrays withinh the first dimension is changed, their individual elements remain in the same order. "
   ]
  },
  {
   "cell_type": "code",
   "execution_count": 15,
   "id": "4da2e6bd-353b-4f8a-83b1-e759bca301b0",
   "metadata": {},
   "outputs": [
    {
     "data": {
      "text/plain": [
       "array([[1, 2, 3],\n",
       "       [4, 5, 6],\n",
       "       [7, 8, 9]])"
      ]
     },
     "execution_count": 15,
     "metadata": {},
     "output_type": "execute_result"
    }
   ],
   "source": [
    "# Example\n",
    "arr = np.array([[1,2,3], [4,5,6], [7,8,9]])\n",
    "rng.shuffle(arr)\n",
    "arr"
   ]
  },
  {
   "cell_type": "markdown",
   "id": "9c60533c-3076-41f5-bb8e-964bb07db2a2",
   "metadata": {},
   "source": [
    "To also rearrange the order of elements within the 2nd dimension, the axis parameter can be added to the function. In the below example, the three sub-arrays will remain in the same order (starting with the array containing numbers 1, 2 and 3) but within the sub-arrays the elements are rearranged. "
   ]
  },
  {
   "cell_type": "code",
   "execution_count": 16,
   "id": "02813440-338b-41fe-85ad-ad7dd4e66918",
   "metadata": {},
   "outputs": [
    {
     "data": {
      "text/plain": [
       "array([[1, 2, 3],\n",
       "       [4, 5, 6],\n",
       "       [7, 8, 9]])"
      ]
     },
     "execution_count": 16,
     "metadata": {},
     "output_type": "execute_result"
    }
   ],
   "source": [
    "arr = np.array([[1,2,3], [4,5,6], [7,8,9]])\n",
    "arr"
   ]
  },
  {
   "cell_type": "code",
   "execution_count": 17,
   "id": "e1dfc667-57e5-4722-9967-4c77981f8d31",
   "metadata": {},
   "outputs": [
    {
     "data": {
      "text/plain": [
       "array([[2, 3, 1],\n",
       "       [5, 6, 4],\n",
       "       [8, 9, 7]])"
      ]
     },
     "execution_count": 17,
     "metadata": {},
     "output_type": "execute_result"
    }
   ],
   "source": [
    "rng.shuffle(arr, axis=1)\n",
    "arr"
   ]
  },
  {
   "cell_type": "markdown",
   "id": "09526518-ec3d-47c4-8a98-efd8467953e4",
   "metadata": {},
   "source": [
    "<br>\n",
    "\n",
    "#### **2.2.2 Creating a Re-arranged Copy of an Array**\n",
    "While the shuffle() function changes to original array, the permutation() function returns a copy of the original array with re-arranged elements.\n",
    "\n",
    "https://numpy.org/doc/stable/reference/random/generated/numpy.random.Generator.permutation.html#numpy.random.Generator.permutation (13/11/2021)"
   ]
  },
  {
   "cell_type": "code",
   "execution_count": 18,
   "id": "fdfa52f6-666d-41ac-a563-0d15386120c6",
   "metadata": {},
   "outputs": [
    {
     "data": {
      "text/plain": [
       "array([5, 4, 2, 1, 3])"
      ]
     },
     "execution_count": 18,
     "metadata": {},
     "output_type": "execute_result"
    }
   ],
   "source": [
    "# Example\n",
    "arr = [1,2,3,4,5]\n",
    "\n",
    "rng.permutation(arr)"
   ]
  },
  {
   "cell_type": "markdown",
   "id": "f19d6e9f-ca1c-4f7a-aa50-af87f0643eef",
   "metadata": {},
   "source": [
    "Similar to the shuffle() function, permuation() also allows to rearrange arrays with more than 1 dimension."
   ]
  },
  {
   "cell_type": "code",
   "execution_count": 19,
   "id": "d8a70a95-7834-4eb0-ac64-9d7484923ae9",
   "metadata": {},
   "outputs": [
    {
     "data": {
      "text/plain": [
       "array([[1, 2, 3],\n",
       "       [7, 8, 9],\n",
       "       [4, 5, 6]])"
      ]
     },
     "execution_count": 19,
     "metadata": {},
     "output_type": "execute_result"
    }
   ],
   "source": [
    "# Example\n",
    "arr = np.array([[1,2,3], [4,5,6], [7,8,9]])\n",
    "rng.permutation(arr)"
   ]
  },
  {
   "cell_type": "code",
   "execution_count": 20,
   "id": "701f59e4-b60e-4f78-a9b3-a40dae96b0cb",
   "metadata": {},
   "outputs": [
    {
     "data": {
      "text/plain": [
       "array([[1, 2, 3],\n",
       "       [4, 5, 6],\n",
       "       [7, 8, 9]])"
      ]
     },
     "execution_count": 20,
     "metadata": {},
     "output_type": "execute_result"
    }
   ],
   "source": [
    "arr = np.array([[1,2,3], [4,5,6], [7,8,9]])\n",
    "arr"
   ]
  },
  {
   "cell_type": "code",
   "execution_count": 21,
   "id": "b131f198-72c4-4560-ad79-1a4b96ca7b6e",
   "metadata": {},
   "outputs": [
    {
     "data": {
      "text/plain": [
       "array([[2, 3, 1],\n",
       "       [5, 6, 4],\n",
       "       [8, 9, 7]])"
      ]
     },
     "execution_count": 21,
     "metadata": {},
     "output_type": "execute_result"
    }
   ],
   "source": [
    "rng.permutation(arr, axis=1)"
   ]
  },
  {
   "cell_type": "markdown",
   "id": "731b25e6-4015-4871-87ef-803f6d712cfc",
   "metadata": {},
   "source": [
    "<br>\n",
    "\n",
    "#### **2.2.3 Re-arranging One- or Multi-dimensional Arrays**\n",
    "The permuted() function enables to shuffle sub-arrays independent of each other. It also gives an option to chose whether for the original array is re-arranged or whether a copy of the original array is re-arranged. \n",
    "\n",
    "https://numpy.org/doc/stable/reference/random/generated/numpy.random.Generator.permuted.html#numpy.random.Generator.permuted (14/11/2021)"
   ]
  },
  {
   "cell_type": "code",
   "execution_count": 22,
   "id": "b18ff551-9223-4a38-acc1-2caae241d916",
   "metadata": {},
   "outputs": [],
   "source": [
    "# Example\n",
    "arr = np.array([[1,2,3], [4,5,6], [7,8,9]])"
   ]
  },
  {
   "cell_type": "code",
   "execution_count": 23,
   "id": "2a9e35dd-279a-4615-9eb5-22d55dae15c9",
   "metadata": {},
   "outputs": [
    {
     "data": {
      "text/plain": [
       "array([[2, 3, 1],\n",
       "       [6, 5, 4],\n",
       "       [7, 9, 8]])"
      ]
     },
     "execution_count": 23,
     "metadata": {},
     "output_type": "execute_result"
    }
   ],
   "source": [
    "yarr = rng.permuted(arr, axis=1)\n",
    "yarr"
   ]
  },
  {
   "cell_type": "code",
   "execution_count": 24,
   "id": "1c1dd6fd-2f74-42bd-8398-4f31f0434f38",
   "metadata": {},
   "outputs": [],
   "source": [
    "# Example\n",
    "arr = np.array([[1,2,3], [4,5,6], [7,8,9]])"
   ]
  },
  {
   "cell_type": "code",
   "execution_count": 25,
   "id": "93c17d0d-0715-42d5-88cf-ed6382f13451",
   "metadata": {},
   "outputs": [
    {
     "data": {
      "text/plain": [
       "array([[3, 2, 1],\n",
       "       [5, 6, 4],\n",
       "       [7, 9, 8]])"
      ]
     },
     "execution_count": 25,
     "metadata": {},
     "output_type": "execute_result"
    }
   ],
   "source": [
    "yarr = rng.permuted(arr, axis=1, out=arr)\n",
    "arr"
   ]
  },
  {
   "cell_type": "code",
   "execution_count": null,
   "id": "a02265dc-a729-4ae0-893b-bf20921e9083",
   "metadata": {},
   "outputs": [],
   "source": []
  },
  {
   "cell_type": "markdown",
   "id": "3b7ba531-e1de-4586-a906-b22be4d5b9fd",
   "metadata": {},
   "source": [
    "<br>\n",
    "\n",
    "## **3. Explain the use and purpose of at least five “Distributions” functions.**"
   ]
  },
  {
   "cell_type": "code",
   "execution_count": null,
   "id": "9cbe1447-ddd9-4325-a705-e9342e413890",
   "metadata": {},
   "outputs": [],
   "source": []
  },
  {
   "cell_type": "code",
   "execution_count": 26,
   "id": "99cc60ee-4574-45bd-8d09-1911d934ca40",
   "metadata": {},
   "outputs": [],
   "source": [
    "# For visualisation of the distribution functions described below, the seaborn module is imported.\n",
    "import seaborn as sns"
   ]
  },
  {
   "cell_type": "markdown",
   "id": "d3eef459-5048-4c5f-af59-4b2466f573ce",
   "metadata": {},
   "source": [
    "### **3.1 Uniform Distribution**\n",
    "\n",
    "https://numpy.org/doc/stable/reference/random/generated/numpy.random.Generator.uniform.html#numpy.random.Generator.uniform (15/11/2021)"
   ]
  },
  {
   "cell_type": "markdown",
   "id": "3af83d93-a077-47df-a5d5-385df8c6ddb2",
   "metadata": {},
   "source": [
    "The uniform() method returns float point numbers in a specified range from low (inclusive) to high (exclusive) values. For uniform distributions each event has equal changes of occuring. "
   ]
  },
  {
   "cell_type": "code",
   "execution_count": 27,
   "id": "5fbefc42-efad-40ed-9a72-70f4de1c635b",
   "metadata": {
    "scrolled": true,
    "tags": []
   },
   "outputs": [
    {
     "data": {
      "text/plain": [
       "array([6.39407284e+00, 8.29579803e+00, 1.47792764e+00, 4.00174101e+00,\n",
       "       5.25999599e+00, 7.73750020e+00, 6.22102983e+00, 9.43420642e-01,\n",
       "       3.41449426e+00, 8.96585915e+00, 8.71566902e+00, 4.31828812e+00,\n",
       "       2.31024953e+00, 3.28608777e+00, 2.57093265e+00, 2.91706440e+00,\n",
       "       2.95397060e+00, 8.22984433e+00, 6.64327627e+00, 2.47006518e+00,\n",
       "       3.65655600e+00, 1.52904162e+00, 2.08281983e+00, 6.28861658e+00,\n",
       "       7.71907236e+00, 5.92477946e+00, 9.37520266e-01, 8.26746209e+00,\n",
       "       8.53904922e+00, 6.73543595e+00, 3.60214342e+00, 5.88172914e+00,\n",
       "       7.98959997e+00, 9.42099216e+00, 9.50934325e+00, 9.26950983e+00,\n",
       "       4.59482973e+00, 3.99347701e+00, 1.01325249e-01, 5.09654285e+00,\n",
       "       9.74433903e+00, 1.97385254e+00, 8.83943420e+00, 9.49771141e-01,\n",
       "       3.89000001e+00, 8.26544430e+00, 5.30128560e+00, 8.39643333e+00,\n",
       "       8.46151974e+00, 9.29447807e+00, 9.58770423e+00, 5.18387078e+00,\n",
       "       1.17825373e+00, 6.99340088e+00, 2.92670325e+00, 7.13231601e+00,\n",
       "       4.99556103e+00, 8.67349537e+00, 4.93954332e+00, 7.06629280e+00,\n",
       "       7.67989377e-01, 6.72346077e+00, 5.20773892e+00, 6.90530436e+00,\n",
       "       3.11393203e+00, 5.45706647e+00, 8.55308264e+00, 9.22478457e-01,\n",
       "       9.70310804e+00, 2.96746193e-01, 8.32889695e+00, 9.56902857e-01,\n",
       "       7.02620581e+00, 3.37951722e+00, 2.76228599e-01, 9.84873814e+00,\n",
       "       8.06076111e-01, 9.22990859e+00, 1.22696354e-01, 2.24210551e+00,\n",
       "       8.18232199e-01, 5.26396897e+00, 6.17999481e+00, 2.79936145e+00,\n",
       "       9.73539241e+00, 8.86976042e+00, 1.00551585e+00, 6.35646299e+00,\n",
       "       3.97651252e+00, 6.35409928e+00, 2.06639069e+00, 7.79173036e-02,\n",
       "       7.75598752e+00, 7.24735804e-01, 9.19726419e-01, 4.28581047e+00,\n",
       "       6.14461997e+00, 9.39290839e+00, 8.89484312e+00, 3.23670915e+00,\n",
       "       1.94303959e+00, 9.37024610e+00, 9.03431507e+00, 3.51962119e+00,\n",
       "       6.76023331e+00, 2.92162306e+00, 5.17004969e+00, 9.86868542e+00,\n",
       "       4.56662435e+00, 8.20377185e+00, 4.92955324e+00, 3.21911781e+00,\n",
       "       1.40006853e+00, 6.34718075e+00, 2.25965873e+00, 8.86647401e+00,\n",
       "       7.37217471e+00, 8.77848108e+00, 4.06503791e+00, 4.03291979e+00,\n",
       "       9.08189903e+00, 2.21518684e-02, 4.85694451e+00, 8.12599738e+00,\n",
       "       7.82712937e+00, 9.48709693e+00, 2.77550074e+00, 6.47994899e+00,\n",
       "       9.67778693e+00, 5.87624812e-01, 2.72331856e+00, 5.77589551e+00,\n",
       "       4.16848272e+00, 7.19487544e-01, 8.06142776e+00, 1.66740494e-01,\n",
       "       1.30501064e-01, 3.55338913e-02, 9.68838653e+00, 6.18178816e-01,\n",
       "       6.40014516e+00, 7.34433434e+00, 4.40988123e+00, 3.83621047e+00,\n",
       "       1.91514966e+00, 8.34932192e+00, 4.41630539e+00, 1.84733898e+00,\n",
       "       5.86965039e+00, 1.33038249e-01, 9.69031946e+00, 3.66187158e+00,\n",
       "       6.21274816e+00, 9.74131688e+00, 5.85975216e+00, 2.69409057e+00,\n",
       "       4.51975733e+00, 4.49458344e+00, 7.89340997e+00, 2.04725566e+00,\n",
       "       7.72595138e+00, 2.41655064e-01, 5.22223963e+00, 7.60295854e+00,\n",
       "       5.95672990e+00, 7.56102315e+00, 6.38010023e+00, 8.62184939e+00,\n",
       "       6.84349257e+00, 8.33174024e-01, 1.66184525e+00, 6.69882597e+00,\n",
       "       3.53021363e+00, 7.90836646e-02, 3.09998959e+00, 6.80693232e+00,\n",
       "       6.83618905e+00, 5.03503853e+00, 2.80739658e+00, 8.27884992e+00,\n",
       "       6.54298164e+00, 9.38832722e+00, 5.16551522e+00, 3.07436789e-01,\n",
       "       7.37240758e+00, 4.61280625e+00, 2.94568610e+00, 6.59048467e+00,\n",
       "       9.34187291e+00, 8.22160673e+00, 4.61782288e+00, 4.45574668e+00,\n",
       "       6.04650895e+00, 3.45459000e+00, 2.93857359e+00, 6.58570439e+00,\n",
       "       9.29115065e+00, 2.62687194e+00, 7.29875235e+00, 6.71728714e+00,\n",
       "       2.81846802e+00, 7.72984238e+00, 6.70750578e+00, 6.39883947e+00,\n",
       "       5.36949679e+00, 5.42778300e+00, 7.43103296e+00, 7.23256435e+00,\n",
       "       8.32819836e+00, 4.40095479e+00, 8.42284211e+00, 5.12033091e+00,\n",
       "       8.86527210e+00, 3.87303314e+00, 5.47104652e+00, 9.09864363e+00,\n",
       "       7.77687549e+00, 8.74031004e+00, 2.18196411e+00, 2.68380753e+00,\n",
       "       3.78332821e+00, 5.71645883e+00, 7.25885131e+00, 9.03152173e+00,\n",
       "       7.18807922e+00, 9.88437495e+00, 3.73852173e+00, 7.53061903e+00,\n",
       "       8.57339615e+00, 3.58462859e+00, 9.68027672e+00, 8.33083330e+00,\n",
       "       3.11523411e+00, 7.29682788e+00, 2.68591103e-01, 9.71355104e+00,\n",
       "       4.82804373e+00, 1.57829729e+00, 5.88229771e+00, 2.27781139e+00,\n",
       "       4.67712716e+00, 8.44993968e+00, 1.66253605e+00, 5.27144527e+00,\n",
       "       7.68247792e+00, 1.35282804e+00, 6.89825285e+00, 4.22670741e+00,\n",
       "       5.65907822e+00, 9.04892778e+00, 9.38334324e-02, 3.74418754e+00,\n",
       "       6.66795640e+00, 4.29917764e+00, 9.62007660e+00, 7.61243648e+00,\n",
       "       8.43484808e+00, 4.26104836e-01, 1.98652861e+00, 4.53743823e+00,\n",
       "       3.99240670e+00, 9.33342313e+00, 4.19133432e-01, 6.87510344e+00,\n",
       "       4.44217662e+00, 1.11934986e+00, 7.59785310e+00, 2.55700645e+00,\n",
       "       1.73066256e+00, 1.30532007e+00, 7.93458100e+00, 8.91331513e+00,\n",
       "       4.76694449e+00, 1.28775442e+00, 8.38008898e+00, 1.41758812e+00,\n",
       "       3.67107333e+00, 5.20954083e+00, 4.09184234e-01, 8.96658863e+00,\n",
       "       7.52186916e+00, 8.99898101e+00, 2.21092978e-01, 6.65297048e+00,\n",
       "       9.35740082e+00, 7.21547432e+00, 1.36702618e+00, 4.41652669e+00,\n",
       "       1.84896971e+00, 8.67793041e+00, 9.40949575e-01, 3.23502675e+00,\n",
       "       7.99933867e+00, 2.24101090e+00, 6.26388625e+00, 7.14390826e+00,\n",
       "       4.32913841e+00, 1.84794804e+00, 6.35251727e+00, 7.34906190e+00,\n",
       "       6.00785024e+00, 6.63009191e+00, 4.74166536e+00, 6.87510970e+00,\n",
       "       2.88036965e+00, 4.92163283e+00, 9.71347330e+00, 7.33314331e+00,\n",
       "       9.22678300e+00, 9.89024696e+00, 8.45063752e+00, 3.92633899e-02,\n",
       "       1.74945374e+00, 3.85975181e-01, 9.22145749e+00, 6.67408907e+00,\n",
       "       7.65302029e+00, 3.51446159e-01, 5.01063786e+00, 1.61551749e+00,\n",
       "       9.65897044e+00, 4.14898845e+00, 2.76653886e+00, 4.91599557e+00,\n",
       "       8.90353704e+00, 1.19698094e+00, 8.86061924e+00, 8.24362322e+00,\n",
       "       8.82859472e+00, 1.87197845e+00, 9.56567030e+00, 6.15410219e+00,\n",
       "       6.73837848e+00, 6.26906089e+00, 7.30120996e+00, 7.64271573e+00,\n",
       "       2.30054194e+00, 9.04966787e+00, 3.56155369e+00, 5.95372894e+00,\n",
       "       1.85979325e+00, 9.25054084e+00, 6.48276400e+00, 9.43913240e+00,\n",
       "       6.71805351e+00, 5.50533723e+00, 7.40720858e+00, 1.44006250e+00,\n",
       "       9.24341253e+00, 7.03515054e+00, 8.66911207e+00, 7.93052579e+00,\n",
       "       2.48016608e+00, 1.00126775e+00, 8.30190839e+00, 1.16323906e+00,\n",
       "       2.56817410e+00, 2.85031591e+00, 1.96749039e+00, 8.36964833e+00,\n",
       "       6.01973611e+00, 4.36927559e+00, 1.52657488e+00, 4.48372056e+00,\n",
       "       2.54894114e+00, 5.53084516e+00, 7.22665557e+00, 6.50375977e+00,\n",
       "       7.61165129e+00, 6.80216924e+00, 5.18571518e+00, 1.31365604e+00,\n",
       "       1.40508969e+00, 5.53233500e+00, 7.27065810e+00, 3.92159070e+00,\n",
       "       7.54250446e+00, 1.88099804e+00, 6.42415871e+00, 2.23423838e+00,\n",
       "       9.95182983e+00, 1.44788574e+00, 9.36924993e+00, 1.12804808e+00,\n",
       "       3.22616365e+00, 4.46277115e+00, 9.25427200e+00, 4.73059032e+00,\n",
       "       1.23807199e+00, 6.09719874e+00, 1.84073476e-01, 7.25175806e+00,\n",
       "       1.73258576e+00, 9.63880386e+00, 9.71534405e+00, 8.37279962e+00,\n",
       "       7.04981887e+00, 3.29150665e+00, 5.35930676e-02, 6.92975216e+00,\n",
       "       5.54458742e-01, 3.14113040e+00, 4.82713968e-01, 8.72219678e+00,\n",
       "       2.21275607e+00, 5.83383638e+00, 3.55779234e+00, 4.83418488e+00,\n",
       "       7.13866911e+00, 8.41398819e+00, 9.08594041e+00, 1.62737576e+00,\n",
       "       4.65375011e+00, 6.58816962e+00, 3.66684674e+00, 4.70664393e+00,\n",
       "       5.16113686e+00, 5.46089677e+00, 6.21534332e+00, 3.28047430e+00,\n",
       "       5.34124330e+00, 4.05458260e+00, 1.11017142e-01, 4.99802322e+00,\n",
       "       1.13711088e+00, 1.87232721e+00, 8.78341106e+00, 5.87647334e+00,\n",
       "       7.40607377e+00, 7.71363190e+00, 2.99027931e+00, 1.17112995e+00,\n",
       "       2.24810501e+00, 1.43974987e+00, 8.14561355e+00, 3.05662313e+00,\n",
       "       4.79933047e+00, 8.19205107e+00, 5.96031038e+00, 6.15476173e+00,\n",
       "       6.32066094e+00, 6.12127213e+00, 3.90985609e+00, 7.85924518e+00,\n",
       "       4.81494012e+00, 7.57899841e+00, 4.92243427e+00, 9.70367939e+00,\n",
       "       3.20715947e-01, 5.02813232e+00, 3.93918137e+00, 5.67332729e+00,\n",
       "       3.68875173e+00, 3.95423794e+00, 4.73095152e+00, 8.20414401e+00,\n",
       "       1.27976467e-01, 5.94342980e+00, 1.11453221e-01, 7.09870989e+00,\n",
       "       5.73145791e+00, 7.30431835e+00, 8.17120602e-02, 2.79512259e+00,\n",
       "       8.38993650e+00, 3.41058034e+00, 8.95970008e+00, 7.73185640e+00,\n",
       "       6.23816649e+00, 6.03848647e+00, 3.30514527e+00, 8.52162887e-01,\n",
       "       7.28483966e+00, 3.35739569e+00, 2.40964623e+00, 3.47735512e+00,\n",
       "       2.67502356e+00, 9.22830107e+00, 6.08519003e+00, 5.30903216e+00,\n",
       "       2.05980472e-01, 5.90180682e+00, 8.75777343e+00, 7.51392923e+00,\n",
       "       1.68144791e+00, 3.59568975e+00, 9.14371932e+00, 2.75733505e+00,\n",
       "       2.76316736e+00, 9.92150942e+00, 8.63000610e+00, 7.31196684e+00,\n",
       "       2.52353513e+00, 9.45871187e-01, 9.41925426e-01, 3.93393298e+00,\n",
       "       1.86520209e+00, 7.59667092e+00, 9.23682472e+00, 8.99831018e+00,\n",
       "       3.44508680e+00, 9.35590592e+00, 9.52326881e+00, 5.21414621e+00,\n",
       "       4.22484428e+00, 4.53764072e+00, 7.96095811e+00, 7.01311786e+00,\n",
       "       3.53735309e+00, 8.42720728e+00, 8.33419903e+00, 1.47368870e+00,\n",
       "       9.27004927e+00, 9.80457428e+00, 7.34449681e+00, 4.31100334e+00,\n",
       "       8.03075352e+00, 8.78102248e+00, 4.10175794e+00, 6.97155330e+00,\n",
       "       9.64764424e+00, 7.25003285e+00, 2.76030759e+00, 4.90778592e+00,\n",
       "       7.97208188e+00, 2.81446831e+00, 5.05693026e+00, 1.82684574e+00,\n",
       "       7.10340849e+00, 5.80370132e+00, 3.60989258e+00, 8.03766820e+00,\n",
       "       2.93302673e+00, 6.19236326e+00, 8.81084756e+00, 9.84806817e+00,\n",
       "       5.50630937e+00, 6.39395966e+00, 8.15715525e+00, 7.07667559e+00,\n",
       "       8.34047943e+00, 7.05129794e+00, 3.77656450e+00, 7.63018468e+00,\n",
       "       4.73981589e+00, 9.91819084e+00, 3.39913035e+00, 8.46988926e+00,\n",
       "       2.42387561e+00, 6.60945897e-01, 1.07104048e+00, 4.25607089e+00,\n",
       "       6.86086028e-01, 8.36875026e+00, 4.25638156e+00, 5.68228422e+00,\n",
       "       3.17461930e+00, 2.41902014e+00, 1.34885061e+00, 3.74955925e+00,\n",
       "       6.27338881e+00, 1.55654759e+00, 4.77838141e+00, 4.00335637e+00,\n",
       "       9.85461198e+00, 4.08109610e+00, 1.57140345e+00, 7.33143202e-01,\n",
       "       7.51235783e+00, 3.63964303e+00, 4.36437236e+00, 5.93255450e+00,\n",
       "       9.23299167e+00, 6.16784583e+00, 4.80949744e+00, 3.52782538e+00,\n",
       "       9.78249552e+00, 4.83851367e+00, 9.17953982e+00, 2.00390636e+00,\n",
       "       8.20825717e+00, 2.69672247e+00, 8.96921482e+00, 6.14080316e+00,\n",
       "       5.19902182e+00, 5.09983624e+00, 2.69954057e+00, 3.69513360e+00,\n",
       "       2.40340145e-01, 8.51376577e+00, 6.96974764e+00, 8.76023715e+00,\n",
       "       2.54286395e+00, 4.12266262e+00, 6.06031312e+00, 3.78117862e+00,\n",
       "       8.61879831e+00, 4.34564727e+00, 1.55196654e+00, 7.01882190e+00,\n",
       "       9.16744163e+00, 8.62016087e-01, 7.34877689e+00, 7.34632076e+00,\n",
       "       2.65609907e+00, 9.96444919e+00, 6.65038080e+00, 9.63180823e+00,\n",
       "       9.29747826e+00, 8.85391873e+00, 8.05272816e+00, 4.89677947e+00,\n",
       "       9.59776379e+00, 3.72036441e+00, 6.50334467e+00, 2.53277385e-01,\n",
       "       8.47808427e+00, 8.50603976e+00, 9.39284383e+00, 5.46776288e+00,\n",
       "       4.43247715e-01, 8.85656458e+00, 2.63355721e+00, 6.85185537e+00,\n",
       "       3.57134873e+00, 2.89889765e+00, 8.01965656e+00, 8.25499461e+00,\n",
       "       3.36509194e+00, 8.28070126e-01, 7.08176891e+00, 1.66598387e+00,\n",
       "       6.53203694e+00, 3.05068085e+00, 4.54357625e+00, 2.05745533e+00,\n",
       "       1.38910307e+00, 1.33237410e+00, 4.14631195e-01, 9.36713826e+00,\n",
       "       8.50433121e+00, 2.70675552e+00, 7.68760484e+00, 9.90882650e-01,\n",
       "       8.87532573e+00, 2.12708565e+00, 2.35014408e+00, 8.12491420e+00,\n",
       "       1.46591068e+00, 8.18668525e+00, 6.84937979e+00, 3.28825741e+00,\n",
       "       3.60021376e+00, 9.15456257e+00, 6.02529520e+00, 4.46760979e-01,\n",
       "       4.94027941e+00, 7.25882324e+00, 1.64567045e+00, 9.85380064e+00,\n",
       "       2.59789145e+00, 2.83000361e+00, 6.74972484e+00, 5.48138646e+00,\n",
       "       3.91910356e+00, 4.86968874e-01, 2.51222946e+00, 4.82286202e+00,\n",
       "       7.10087080e+00, 8.05141461e+00, 2.43754943e+00, 9.59425267e+00,\n",
       "       7.31603658e+00, 9.34385453e+00, 1.59184469e+00, 5.94455297e+00,\n",
       "       6.84965432e+00, 5.47284683e+00, 7.06372868e+00, 8.16339873e-01,\n",
       "       1.35341554e+00, 2.62296255e+00, 6.38901189e+00, 3.66288802e+00,\n",
       "       5.81487884e+00, 2.42630850e+00, 9.27935621e+00, 3.62988680e+00,\n",
       "       9.09712733e+00, 6.91440296e+00, 2.36663841e-03, 3.56703614e+00,\n",
       "       2.97304782e+00, 1.57818974e+00, 3.27588277e+00, 8.52740240e+00,\n",
       "       9.54199232e+00, 4.10682460e+00, 9.02789627e+00, 7.31040760e-01,\n",
       "       8.79641593e+00, 5.08646737e+00, 1.08318620e+00, 7.72786832e+00,\n",
       "       8.90533639e+00, 3.90365340e+00, 2.38556429e+00, 6.70359882e+00,\n",
       "       5.73705590e+00, 1.94940382e-01, 3.34947042e+00, 1.98295172e+00,\n",
       "       5.00416121e+00, 4.04395333e+00, 5.79730524e+00, 1.76888619e-01,\n",
       "       7.06817843e+00, 8.28189969e+00, 7.39205783e+00, 4.17387586e+00,\n",
       "       5.65791037e+00, 1.54618074e+00, 4.21593652e+00, 1.18704495e+00,\n",
       "       1.06129962e+00, 6.89521619e+00, 6.27508086e+00, 5.06140173e-01,\n",
       "       2.33207326e+00, 6.85040231e+00, 5.19848282e+00, 8.93665852e+00,\n",
       "       3.37635373e+00, 8.63887250e+00, 6.16189515e+00, 8.96839288e+00,\n",
       "       4.69866330e+00, 9.35316549e+00, 2.54016882e+00, 6.52463481e+00,\n",
       "       8.48214905e+00, 3.32802273e+00, 9.10628695e+00, 5.17150783e+00,\n",
       "       7.53441633e+00, 1.32769723e+00, 6.75315245e+00, 9.17454091e+00,\n",
       "       7.72181325e+00, 6.88321025e+00, 4.63435623e+00, 4.46216317e+00,\n",
       "       4.56872656e+00, 7.18444217e+00, 1.77721874e+00, 9.85544188e+00,\n",
       "       2.77776836e+00, 4.72544724e+00, 1.39374779e+00, 6.91052681e+00,\n",
       "       5.26973533e+00, 6.44901801e+00, 3.51468361e+00, 6.54079608e+00,\n",
       "       1.93063942e+00, 8.15707495e+00, 6.81546016e+00, 7.60546533e+00,\n",
       "       2.02618431e+00, 2.56372869e+00, 7.11169196e+00, 7.37046423e+00,\n",
       "       9.12140404e+00, 8.23455237e+00, 5.13719729e+00, 2.86178815e+00,\n",
       "       9.36330702e+00, 9.63893198e-01, 3.18894944e+00, 1.39225424e+00,\n",
       "       4.37736284e+00, 5.13121823e+00, 6.85654345e+00, 3.85165181e+00,\n",
       "       7.14227036e+00, 2.73894026e+00, 5.95482975e+00, 1.76333515e+00,\n",
       "       7.49481442e+00, 4.78629909e+00, 7.72950169e+00, 7.64760149e+00,\n",
       "       7.08740839e+00, 9.37855689e-01, 6.64055886e+00, 1.36809252e+00,\n",
       "       1.79545342e+00, 4.42941222e+00, 5.71926341e+00, 3.36345536e+00,\n",
       "       4.89640538e+00, 8.67433634e+00, 3.26122585e-01, 7.21702372e+00,\n",
       "       7.77041551e-01, 6.86558079e+00, 1.64420599e+00, 4.06816467e+00,\n",
       "       2.23596939e+00, 1.36941514e+00, 4.71325405e+00, 5.45128539e+00,\n",
       "       2.68582414e-01, 7.18626833e+00, 8.73605611e+00, 3.19675371e+00,\n",
       "       3.14346078e+00, 5.20629103e+00, 4.28163369e+00, 4.55221102e+00,\n",
       "       8.69136297e+00, 7.44901822e+00, 7.10376908e-01, 7.31348393e+00,\n",
       "       3.99258039e+00, 8.11101799e-02, 8.77825459e+00, 9.97785102e+00,\n",
       "       6.17146266e+00, 9.04200937e+00, 5.91119826e-01, 7.22586902e+00,\n",
       "       1.31336441e+00, 5.09699699e+00, 3.74036432e+00, 6.02110341e+00,\n",
       "       6.91406787e+00, 3.49485570e+00, 1.95131220e+00, 8.44419868e+00,\n",
       "       8.70432407e+00, 3.88866024e+00, 1.66161659e+00, 1.91237637e-01,\n",
       "       1.21627963e+00, 1.19188593e+00, 4.29961637e+00, 3.39821183e+00,\n",
       "       6.63139415e+00, 8.06818600e+00, 5.81295941e+00, 9.94306504e+00,\n",
       "       4.42940604e+00, 3.97593651e+00, 4.11730333e+00, 3.08592856e-01,\n",
       "       1.40547609e+00, 8.94679214e+00, 1.27032613e+00, 7.44124128e+00,\n",
       "       3.20720440e+00, 5.31273251e+00, 2.20136492e+00, 8.93028889e+00,\n",
       "       9.34389043e+00, 7.86277163e+00, 2.58609775e+00, 7.92205262e+00,\n",
       "       1.91128889e+00, 3.82775869e+00, 7.16219895e+00, 5.40451024e+00,\n",
       "       3.91875864e+00, 4.91176037e+00, 7.16002477e+00, 8.67901501e-02,\n",
       "       3.42481319e+00, 2.02105565e+00, 4.46855068e+00, 7.24005825e-01,\n",
       "       6.37626892e+00, 2.35827135e+00, 4.31812410e+00, 8.14168715e+00,\n",
       "       4.42939583e+00, 8.41147554e+00, 1.97240755e+00, 9.50709483e+00,\n",
       "       2.57126846e+00, 1.60533188e+00, 9.07919531e+00, 4.02161022e+00,\n",
       "       5.27167013e+00, 1.64487028e+00, 3.99130475e+00, 4.62426399e+00,\n",
       "       9.05328242e+00, 8.72677696e+00, 3.98430073e+00, 4.74182348e+00,\n",
       "       1.37152710e+00, 6.28302808e+00, 6.80368146e+00, 3.92874958e+00,\n",
       "       2.56947224e+00, 3.09971691e+00, 4.60080498e+00, 3.36240247e+00,\n",
       "       4.23118213e+00, 4.24705296e+00, 7.57605363e+00, 5.50710528e+00,\n",
       "       7.90899644e+00, 8.20404170e-01, 8.69090098e+00, 7.40473065e+00,\n",
       "       1.01448664e+00, 7.84871621e+00, 7.86386988e+00, 7.83800956e+00,\n",
       "       7.17676884e+00, 5.92562668e+00, 5.08726771e+00, 4.36464854e+00,\n",
       "       9.69801101e+00, 8.49660460e+00, 6.38401083e+00, 6.25580038e+00,\n",
       "       9.98520347e+00, 5.18034984e+00, 1.69727982e+00, 9.49465265e+00,\n",
       "       6.78946854e+00, 5.71182529e-01, 2.61787967e+00, 2.09112125e+00,\n",
       "       9.64941823e+00, 3.42149400e+00, 7.57039001e+00, 4.78635866e+00,\n",
       "       1.02525351e+00, 6.97729802e-01, 8.99807193e+00, 7.63840469e+00,\n",
       "       8.03969666e+00, 5.08282467e+00, 9.64383274e+00, 7.75528322e+00,\n",
       "       5.54480003e+00, 9.43046941e+00, 7.51052866e+00, 9.03047455e-01,\n",
       "       4.64521827e-02, 2.71543761e+00, 3.86651314e+00, 6.64765118e+00,\n",
       "       7.37531138e+00, 8.58030174e+00, 4.33055924e+00, 1.02251474e+00,\n",
       "       8.37191178e+00, 1.10090154e+00, 8.15879241e+00, 9.48059157e+00,\n",
       "       1.71940823e+00, 1.11742879e+00, 3.68841471e+00, 9.88989207e+00,\n",
       "       4.29046643e+00, 7.30754003e+00, 4.31956139e+00, 2.75629937e+00,\n",
       "       9.25952779e+00, 4.11415880e+00, 7.76087274e+00, 9.81190081e+00,\n",
       "       7.11136283e+00, 8.67247545e+00, 9.77045953e+00, 5.85892333e+00,\n",
       "       1.90822090e+00, 2.98387839e+00, 4.66985022e+00, 5.40132976e+00,\n",
       "       1.01544999e+00, 5.22642744e+00, 1.54475509e-01, 8.09627698e+00,\n",
       "       4.78099249e+00, 3.42523802e-01, 9.56844727e+00, 1.99040706e+00,\n",
       "       1.61472176e-01, 4.10398293e+00, 4.36003117e+00, 9.05732306e+00,\n",
       "       4.53890512e+00, 4.95055274e+00, 5.40476740e+00, 6.37522790e+00])"
      ]
     },
     "execution_count": 27,
     "metadata": {},
     "output_type": "execute_result"
    }
   ],
   "source": [
    "# Example: 1000 float point numbers in the range of 0 to 10 (exclusive)\n",
    "\n",
    "s = np.random.default_rng().uniform(low=0, high=10, size=1000)\n",
    "s"
   ]
  },
  {
   "cell_type": "code",
   "execution_count": 28,
   "id": "8655ce21-ff55-4f93-a4e4-a8fbc308910a",
   "metadata": {},
   "outputs": [
    {
     "data": {
      "text/plain": [
       "<AxesSubplot:ylabel='Count'>"
      ]
     },
     "execution_count": 28,
     "metadata": {},
     "output_type": "execute_result"
    },
    {
     "data": {
      "image/png": "[encoded data removed]",
      "text/plain": [
       "<Figure size 432x288 with 1 Axes>"
      ]
     },
     "metadata": {
      "needs_background": "light"
     },
     "output_type": "display_data"
    }
   ],
   "source": [
    "# Histogram:\n",
    "\n",
    "sns.histplot(s, bins = 10)\n",
    "\n",
    "# https://seaborn.pydata.org/generated/seaborn.histplot.html#seaborn.histplot (15/11/2021)"
   ]
  },
  {
   "cell_type": "code",
   "execution_count": null,
   "id": "ee7b01ee-42e7-4a82-a118-3d387cad8d6c",
   "metadata": {},
   "outputs": [],
   "source": []
  },
  {
   "cell_type": "markdown",
   "id": "6ef61b0a-e0e5-4de7-97e4-708560f00e3f",
   "metadata": {
    "tags": []
   },
   "source": [
    "### **3.2 Binomial Distribution**\n",
    "\n",
    "https://numpy.org/doc/stable/reference/random/generated/numpy.random.Generator.binomial.html#numpy.random.Generator.binomial"
   ]
  },
  {
   "cell_type": "code",
   "execution_count": null,
   "id": "b9e280d6-628e-49ed-a5b4-07996b5ee113",
   "metadata": {},
   "outputs": [],
   "source": []
  },
  {
   "cell_type": "code",
   "execution_count": null,
   "id": "888e7a0c-e030-47f6-8a26-7187f90321bf",
   "metadata": {},
   "outputs": [],
   "source": []
  },
  {
   "cell_type": "markdown",
   "id": "23b585ce-10b4-43fc-a7e5-28184a2bf00f",
   "metadata": {},
   "source": [
    "### **3.3 Multinomial Distribution**\n",
    "\n",
    "https://numpy.org/doc/stable/reference/random/generated/numpy.random.Generator.multinomial.html#numpy.random.Generator.multinomial"
   ]
  },
  {
   "cell_type": "code",
   "execution_count": null,
   "id": "4350fea2-9943-4352-8bea-1b1cab225f74",
   "metadata": {},
   "outputs": [],
   "source": []
  },
  {
   "cell_type": "code",
   "execution_count": null,
   "id": "fe4e6ca8-70fa-420e-9f32-7f4892901bd3",
   "metadata": {},
   "outputs": [],
   "source": []
  },
  {
   "cell_type": "markdown",
   "id": "4fc5bf82-394a-4921-91a5-12b338d509ea",
   "metadata": {},
   "source": [
    "### **3.4 Normal Distribution**\n",
    "\n",
    "https://numpy.org/doc/stable/reference/random/generated/numpy.random.Generator.normal.html#numpy.random.Generator.normal"
   ]
  },
  {
   "cell_type": "code",
   "execution_count": null,
   "id": "f136e213-2515-412a-aedf-e873d40be36b",
   "metadata": {},
   "outputs": [],
   "source": []
  },
  {
   "cell_type": "code",
   "execution_count": null,
   "id": "53ba3fde-fba0-429c-9c0c-d9011c4ead6a",
   "metadata": {},
   "outputs": [],
   "source": []
  },
  {
   "cell_type": "markdown",
   "id": "6bb8f525-d41d-4d4d-a00e-cadbaa950886",
   "metadata": {},
   "source": [
    "### **3.5**"
   ]
  },
  {
   "cell_type": "code",
   "execution_count": null,
   "id": "e63fe69d-fa91-4a9d-8a35-68f77dbb050b",
   "metadata": {},
   "outputs": [],
   "source": []
  },
  {
   "cell_type": "markdown",
   "id": "16315562-8226-4d6f-9f5c-1140feb4e5f5",
   "metadata": {},
   "source": [
    "<br>\n",
    "\n",
    "## **4. Explain the use of seeds in generating pseudorandom numbers.**"
   ]
  },
  {
   "cell_type": "markdown",
   "id": "7cd4afee-e01b-4e8c-8171-63e2eb66ca67",
   "metadata": {},
   "source": [
    "As described in the first section, numpy.random generates pseudo-random numbers which always follow the same sequence. The reason why different numbers are returned whenever a random generator is run is that it starts at a different point of that sequence. This start point is called the seed, and if not defined by the user, numpy.random sets it based on a value derived from the computers operating system.  \n",
    "\n",
    "\n",
    "https://numpy.org/doc/stable/reference/random/index.html (20/11/2021)\n"
   ]
  },
  {
   "cell_type": "markdown",
   "id": "da933c4c-d0d6-4600-9d37-e5149f469f57",
   "metadata": {},
   "source": [
    "<br>\n",
    "\n",
    "### **4.1 - Bitgenerator and Generator**\n",
    "\n",
    "numpy.random generates the numbers using a combination of a bitgenerator and a generator. \n",
    "\n",
    "The Bitgenerator creates sequences of random numbers. The generator then transforms the objects created by the bit generator into numbers that follow a certain distribution as defined by the user. If no seed is specified, an unpredictable value will be set by using data of the operating system. \n",
    "\n",
    "\n",
    "https://numpy.org/doc/stable/reference/random/generator.html#numpy.random.Generator (20/11/2021)\n",
    "https://numpy.org/doc/stable/reference/random/bit_generators/generated/numpy.random.BitGenerator.html#numpy.random.BitGenerator (20/11/2021)"
   ]
  },
  {
   "cell_type": "markdown",
   "id": "7aaa7717-a819-4bb6-965f-db8fb70731d3",
   "metadata": {},
   "source": [
    "<br>\n",
    "\n",
    "### **4.2 - Seeding the Random Number Generator**\n",
    "Some data simulations may require using the same randomly generated data. To achieve this, the seed can be set by the user. Setting the seed to a certain value will result in receiving the same output of random numbers, making the \"random\" numbers actually reproducible. "
   ]
  },
  {
   "cell_type": "code",
   "execution_count": 29,
   "id": "9eecf250-50a8-413d-95a1-f03f03b42aa8",
   "metadata": {},
   "outputs": [
    {
     "data": {
      "text/plain": [
       "array([81, 41, 38, 38, 66], dtype=int64)"
      ]
     },
     "execution_count": 29,
     "metadata": {},
     "output_type": "execute_result"
    }
   ],
   "source": [
    "# Example 1: Generate 5 integers between 1 and 100 without defining a seed\n",
    "test_rng=np.random.default_rng()\n",
    "test_rng.integers(1, 101, 5)"
   ]
  },
  {
   "cell_type": "code",
   "execution_count": 30,
   "id": "2bf1ce5b-3100-4367-81a6-ed83c6db8424",
   "metadata": {},
   "outputs": [
    {
     "data": {
      "text/plain": [
       "array([88, 49, 68,  5, 60], dtype=int64)"
      ]
     },
     "execution_count": 30,
     "metadata": {},
     "output_type": "execute_result"
    }
   ],
   "source": [
    "# When repeating the above, the results will likely be different as the seed has been re-set by the random number generator\n",
    "new_test_rng=np.random.default_rng()\n",
    "new_test_rng.integers(1, 101, 5)"
   ]
  },
  {
   "cell_type": "markdown",
   "id": "d9d2c183-6cc3-4364-a8b0-e61eec1b78c9",
   "metadata": {},
   "source": [
    "<br>\n",
    "\n",
    "When adding a seed parameter, the output of the same function becomes reproducible. "
   ]
  },
  {
   "cell_type": "code",
   "execution_count": 31,
   "id": "b4d0766e-c936-4164-91b3-9609f244b7b6",
   "metadata": {},
   "outputs": [
    {
     "data": {
      "text/plain": [
       "array([68, 81,  3, 81, 47], dtype=int64)"
      ]
     },
     "execution_count": 31,
     "metadata": {},
     "output_type": "execute_result"
    }
   ],
   "source": [
    "# Generate 5 integers between 1 and 10 but this time determine the seed\n",
    "seeded_rng = np.random.default_rng(seed=5)\n",
    "seeded_rng.integers(1,101,5)"
   ]
  },
  {
   "cell_type": "code",
   "execution_count": 32,
   "id": "5864faec-787d-402d-a5d4-5cfba320ce6c",
   "metadata": {},
   "outputs": [
    {
     "data": {
      "text/plain": [
       "array([68, 81,  3, 81, 47], dtype=int64)"
      ]
     },
     "execution_count": 32,
     "metadata": {},
     "output_type": "execute_result"
    }
   ],
   "source": [
    "# Repeat the above, oputput is the same\n",
    "new_seeded_rng = np.random.default_rng(seed=5)\n",
    "new_seeded_rng.integers(1,101,5)"
   ]
  },
  {
   "cell_type": "markdown",
   "id": "8d6a79e5-f942-462c-8f4c-6e7d5e43ee14",
   "metadata": {},
   "source": [
    "https://www.sharpsightlabs.com/blog/numpy-random-seed/ (20/11/2021)"
   ]
  },
  {
   "cell_type": "markdown",
   "id": "a3c7ea93-b4cb-48ee-8908-040444d97254",
   "metadata": {},
   "source": [
    "<br>\n",
    "\n",
    "### **4.3 - PCG64 - numpy.random's BitGenerator Algorithm**\n",
    "\n",
    "The standard bitgenerator used by numpy.random is based on the Permuted Congruential Generator 64-bit (PCG64) algorithm. It was implemented into numpy.random since version 1.19 and is based on O'Neill's \"Permutation Congruential Generator\".\n",
    "\n",
    "PCG64 was developed to achieve among other factors \"good statistical properties, [...] lack of predictability, cryptographic security, good time and space performance, small code size\" (O'Neill, p4). It combines the fast speed and space efficiency of linear congruential generator and adds permutation to achieve\n",
    "\n",
    "PCG64 replaced the previous bitGenerator algorithm MT19937 (Mersenne Twister). \n",
    "\n",
    "In direct comparison PCG64 outperforms MT19937 on a number of factors. \n",
    "\n",
    "| PCG64                           | MT19937                             |\n",
    "|---------------------------------|-------------------------------------|\n",
    "| High prediction difficulty      | Easy prediction                     |\n",
    "| Excellent statistical quality   | Some failures at statistical tests  |\n",
    "| Very fast time performance      | Acceptable time performance         |\n",
    "| Compact space usage             | Huge (2KB)                          |\n",
    "| Small code size and complexity  | Complex Code                        |\n",
    "\n",
    "\n",
    "Source: https://www.pcg-random.org/\n",
    "\n",
    "\n",
    "\n",
    "\n",
    "https://www.ibm.com/docs/en/aix/7.1?topic=types-signed-unsigned-integers (20/11/2021)\n",
    "https://numpy.org/doc/stable/reference/random/bit_generators/pcg64.html (20/11/2021)\n",
    "\n",
    "https://www.pcg-random.org/ (20/11/2021)\n",
    "https://numpy.org/doc/stable/reference/random/bit_generators/mt19937.html#numpy.random.MT19937"
   ]
  },
  {
   "cell_type": "markdown",
   "id": "093ddc16-36b8-423f-a3d4-21ce13ca8ea7",
   "metadata": {},
   "source": []
  },
  {
   "cell_type": "code",
   "execution_count": null,
   "id": "c04ca20f-3b5a-442c-9941-21ff6e230e64",
   "metadata": {},
   "outputs": [],
   "source": []
  },
  {
   "cell_type": "code",
   "execution_count": 33,
   "id": "1498be4e-da45-4295-aed1-0279288b6851",
   "metadata": {},
   "outputs": [
    {
     "name": "stdout",
     "output_type": "stream",
     "text": [
      "All cells running ok\n"
     ]
    }
   ],
   "source": [
    "# Debug check that all cells are running\n",
    "print('All cells running ok')"
   ]
  },
  {
   "cell_type": "markdown",
   "id": "258b0570-39d3-462c-b02e-53203389385b",
   "metadata": {},
   "source": [
    "## References Used"
   ]
  },
  {
   "cell_type": "code",
   "execution_count": null,
   "id": "a050ad53-5514-43df-acbb-0dbb0b26c5c2",
   "metadata": {},
   "outputs": [],
   "source": []
  }
 ],
 "metadata": {
  "kernelspec": {
   "display_name": "Python 3",
   "language": "python",
   "name": "python3"
  },
  "language_info": {
   "codemirror_mode": {
    "name": "ipython",
    "version": 3
   },
   "file_extension": ".py",
   "mimetype": "text/x-python",
   "name": "python",
   "nbconvert_exporter": "python",
   "pygments_lexer": "ipython3",
   "version": "3.8.8"
  }
 },
 "nbformat": 4,
 "nbformat_minor": 5
}
