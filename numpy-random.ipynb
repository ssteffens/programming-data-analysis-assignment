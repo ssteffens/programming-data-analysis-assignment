{
 "cells": [
  {
   "cell_type": "markdown",
   "id": "ca747803-6241-4530-9a01-15d8eba91b1a",
   "metadata": {},
   "source": [
    "# Programming for Data Analysis 2021 - Assignment"
   ]
  },
  {
   "cell_type": "markdown",
   "id": "8a1ccc16-20ad-4989-a357-72178e9200ba",
   "metadata": {},
   "source": [
    "## 1. Explain the overall purpose of the numpy.random package."
   ]
  },
  {
   "cell_type": "markdown",
   "id": "933bc638-8079-4fb6-a01f-fa75799805a2",
   "metadata": {},
   "source": [
    "### **1.1 The numpy.random Package - Subpackage of NumPy** \n",
    "\n",
    "The numpy.random package is a subpackage within the NumPy package. NumPy (short for Numerical Python) is a Python library which is used for dealing with arrays of numerical values. \n",
    "Arrays in NumPy are maintained as ndarray objects. These arrays can be 0-, 1- or multi-dimensional: \n",
    "- 0-D array: single value/scalar\n",
    "- 1-D array: a list of several 0-D arrays, also called uni-dimensional\n",
    "- 2-D array: an array consisting of two 1-D arrays, also called a matrix\n",
    "- 3-D array: an array that has 2-D arrays as its elements\n",
    "- n-D array: an array that has n-1 -D arrays as its elements\n",
    "All elements of an array need to be of the same data type. \n",
    "\n",
    "To be able to use NumPy, it needs to be imported. It is commonly imported as the alias np. "
   ]
  },
  {
   "cell_type": "code",
   "execution_count": 1,
   "id": "d36c8ef6-96ba-4bb3-8293-bf186b98e1c1",
   "metadata": {},
   "outputs": [],
   "source": [
    "# Importing numPy\n",
    "import numpy as np"
   ]
  },
  {
   "cell_type": "code",
   "execution_count": 2,
   "id": "b090f4b2-e57a-46bd-9b74-20cd88ca0ba9",
   "metadata": {},
   "outputs": [
    {
     "data": {
      "text/plain": [
       "'1.20.1'"
      ]
     },
     "execution_count": 2,
     "metadata": {},
     "output_type": "execute_result"
    }
   ],
   "source": [
    "# To check the installed version of NumPy \n",
    "np.__version__"
   ]
  },
  {
   "cell_type": "markdown",
   "id": "e327de91-9ddd-4ad7-b24b-318233c69730",
   "metadata": {},
   "source": [
    "### **1.2 The numpy.random Package - Use and Purpose**\n",
    "\n",
    "numpy.random is a subpackage within NumPy which enables users to generate and work with random numbers.\n",
    "\n",
    "\"Random means something that can not be predicted logically\" (https://www.w3schools.com/python/numpy/numpy_random.asp)\n",
    "\n",
    "Numbers created with the package are considered pseudo-random, meaning that they are not truly random but rather generated through a generation algorithm. By setting a seed value, the sequence of created numbers is reproducable (see further in part 4). \n",
    "\n",
    "In contrast, truly random numbers can be generated using random data from an outside source which could be mouse movements, time stamps, etc. \n",
    "\n",
    "In programming, pseudo-random numbers can be used for simulating data. the numpy.random package allows to create the required random numbers in different formats and fulfilling different criteria as required by the simulation scenario, for example selecting numbers from a pre-defined sample, or creating random numbers or arrays that follow certain distribution patterns. \n",
    "\n",
    "To be able to use the numpy.random module, calling the function numpy.random.default_rng() will start a new random number generator. "
   ]
  },
  {
   "cell_type": "code",
   "execution_count": 3,
   "id": "3a0e9542-7ab0-43b1-91b1-09a252ba6c9e",
   "metadata": {},
   "outputs": [],
   "source": [
    "# Define the random number generator (RNG)\n",
    "rng=np.random.default_rng()"
   ]
  },
  {
   "cell_type": "code",
   "execution_count": 4,
   "id": "331935d4-f881-4224-bec3-40a56c6ce85b",
   "metadata": {},
   "outputs": [
    {
     "data": {
      "text/plain": [
       "array([0.66104671, 0.12599556, 0.88114635, 0.15316757, 0.32648734,\n",
       "       0.76976984, 0.95404152, 0.16280936, 0.72975099, 0.91424145])"
      ]
     },
     "execution_count": 4,
     "metadata": {},
     "output_type": "execute_result"
    }
   ],
   "source": [
    "# Example: Using the RNG to generate 10 random float point numbers\n",
    "rng.random(size=10)"
   ]
  },
  {
   "cell_type": "markdown",
   "id": "faedcd1b-7aa1-455d-bbd6-9f7bd38b8f13",
   "metadata": {},
   "source": [
    "References:\n",
    "\n",
    "https://www.w3schools.com/python/numpy/numpy_random.asp (30/10/2021)\n",
    "\n",
    "Numpy v.1.21 Manual https://numpy.org/doc/stable/ (30/10/2021)\n",
    "\n",
    "Random sampling (numpy.random) https://numpy.org/doc/stable/reference/random/index.html# (30/10/2021)"
   ]
  },
  {
   "cell_type": "markdown",
   "id": "6ac92937-7622-4ac6-ab5c-090f5f25f1ac",
   "metadata": {},
   "source": [
    "## **2. Explain the use of the “Simple random data” and “Permutations” functions.**"
   ]
  },
  {
   "cell_type": "markdown",
   "id": "13d999c0-127f-4bc5-9383-384f5d921fe5",
   "metadata": {},
   "source": [
    "Functions for creating simple random data can be used to return integers, floats, or a random sample from a given array. \n",
    "<br>\n",
    "Permutation modify an array or sequence already in place by shuffling or rearranging the sequence. "
   ]
  },
  {
   "cell_type": "markdown",
   "id": "e5866a16-9e74-4ebb-bae2-12076132f484",
   "metadata": {},
   "source": [
    "<br>\n",
    "\n",
    "### **2.1 Simple Random Data**\n",
    "A number of functions can be used to generate simple random data, for example single or several numbers, or taking a random sample from a given array. "
   ]
  },
  {
   "cell_type": "markdown",
   "id": "5631856a-6be4-43d2-a1c8-eece16773938",
   "metadata": {},
   "source": [
    "<br>\n",
    "\n",
    "#### **2.1.1 Generating Random Integers**\n",
    "The rng.integers() function can be used to create random integers. "
   ]
  },
  {
   "cell_type": "code",
   "execution_count": 5,
   "id": "6a48cadc-c486-4185-a690-6ee2b377bc4c",
   "metadata": {},
   "outputs": [
    {
     "data": {
      "text/plain": [
       "3"
      ]
     },
     "execution_count": 5,
     "metadata": {},
     "output_type": "execute_result"
    }
   ],
   "source": [
    "# Generate a single random integer in the range from 0 (inclusive) to 5 (exclusive)\n",
    "rng.integers(5)"
   ]
  },
  {
   "cell_type": "markdown",
   "id": "681a6789-3e7d-473b-94a9-ab8735384bb0",
   "metadata": {},
   "source": [
    "The rng.integers() function can take a number of parameters to further define the output:\n",
    "- The range from which integers are drawn (low, high). The range inludes the low value but by default excludes the high value. \n",
    "- The number of random integers to be drawn (size)\n",
    "- Data type of results\n",
    "- Endpoint = True sets the high value to be inclusive of the entered value\n",
    "\n",
    "https://numpy.org/doc/stable/reference/random/generated/numpy.random.Generator.integers.html (13/11/2021)\n",
    "\n"
   ]
  },
  {
   "cell_type": "code",
   "execution_count": 6,
   "id": "eea0adb7-b4ee-4bb5-a0de-6b22926299ed",
   "metadata": {},
   "outputs": [
    {
     "data": {
      "text/plain": [
       "array([15, 11, 15, 19, 14], dtype=int64)"
      ]
     },
     "execution_count": 6,
     "metadata": {},
     "output_type": "execute_result"
    }
   ],
   "source": [
    "# Example: Generate an array of 5 integers between 10 (inclusive) and 20 (exclusive)\n",
    "rng.integers(low=10, high=20, size=5)"
   ]
  },
  {
   "cell_type": "markdown",
   "id": "0c7253fb-87db-4c05-ae81-779fc7f1bd13",
   "metadata": {},
   "source": [
    "<br>\n",
    "\n",
    "#### **2.1.2 Generating Random Float Numbers**\n",
    "\n",
    "The rng.random() function can be used to create float point numbers between 0 and 1 (exclusive).\n"
   ]
  },
  {
   "cell_type": "code",
   "execution_count": 7,
   "id": "f2a01847-4439-49fb-9b1f-4901ac56dcdd",
   "metadata": {},
   "outputs": [
    {
     "data": {
      "text/plain": [
       "0.9693007321210236"
      ]
     },
     "execution_count": 7,
     "metadata": {},
     "output_type": "execute_result"
    }
   ],
   "source": [
    "# Exapmle: Generate a single float point number\n",
    "rng.random()"
   ]
  },
  {
   "cell_type": "markdown",
   "id": "09792b18-0ebe-46b7-98cc-1d18c4a1a9e5",
   "metadata": {},
   "source": [
    "Similar to creating integers, additional parameters can be added to further define the output: \n",
    "- The number of random float numbers to be drawn (size)\n",
    "- Data type (float64 or float32)\n",
    "- An alternative output array\n",
    "\n",
    "https://numpy.org/doc/stable/reference/random/generated/numpy.random.Generator.random.html#numpy.random.Generator.random (13/11/2021)"
   ]
  },
  {
   "cell_type": "code",
   "execution_count": 8,
   "id": "84101c36-6ed4-4a29-a994-24dec51f4612",
   "metadata": {},
   "outputs": [
    {
     "data": {
      "text/plain": [
       "array([0.98447376, 0.33866983, 0.54574469, 0.42737805, 0.52656483])"
      ]
     },
     "execution_count": 8,
     "metadata": {},
     "output_type": "execute_result"
    }
   ],
   "source": [
    "# Generate an array of 5 float point numbers\n",
    "rng.random(size=5)"
   ]
  },
  {
   "cell_type": "markdown",
   "id": "76fdda62-791a-43ec-bd2e-8500ff0f7fea",
   "metadata": {},
   "source": [
    "<br>\n",
    "\n",
    "#### **2.1.3 Generating n-dimensional Arrays of Random Numbers**\n",
    "\n",
    "Both rng.integers() and rng.random() can be used to create n-dimensional arrays of random numbers, for example to simulate a table of values. \n",
    "\n",
    "https://numpy.org/doc/stable/reference/random/generated/numpy.random.Generator.integers.html#numpy.random.Generator.integers (19/11/2021)"
   ]
  },
  {
   "cell_type": "code",
   "execution_count": 9,
   "id": "29f4c59b-02ca-49f8-a0ef-689284e601ca",
   "metadata": {},
   "outputs": [
    {
     "data": {
      "text/plain": [
       "array([[1, 1, 2, 2],\n",
       "       [2, 1, 4, 4],\n",
       "       [3, 3, 4, 4]], dtype=int64)"
      ]
     },
     "execution_count": 9,
     "metadata": {},
     "output_type": "execute_result"
    }
   ],
   "source": [
    "# Generate a 3 x 4 array of integers with maximum value 5 (exlusive)\n",
    "rng.integers(5, size=(3, 4))"
   ]
  },
  {
   "cell_type": "code",
   "execution_count": 10,
   "id": "2fa3021a-e76d-45be-8293-640bfb17e567",
   "metadata": {},
   "outputs": [
    {
     "data": {
      "text/plain": [
       "array([[ 1,  2,  3,  4],\n",
       "       [10, 18, 13, 18],\n",
       "       [23, 29, 27, 29]], dtype=int64)"
      ]
     },
     "execution_count": 10,
     "metadata": {},
     "output_type": "execute_result"
    }
   ],
   "source": [
    "# Generate a 3 x 4 array of integers with different low and high values for each dimension (row)\n",
    "rng.integers([[0, 0, 0, 0], [10, 10, 10, 10], [20, 20, 20, 20]], [[10], [20], [30]], size=[3, 4])"
   ]
  },
  {
   "cell_type": "markdown",
   "id": "e2774df6-1987-4e29-86e0-62097ad15e36",
   "metadata": {},
   "source": [
    "<br>\n",
    "\n",
    "#### **2.1.4 Selecting Random Numbers from a Predefined Array**\n",
    "\n",
    "The rng.choice() function can be used to generate a random sample from a given array. \n",
    "\n",
    "https://numpy.org/doc/stable/reference/random/generated/numpy.random.Generator.choice.html#numpy.random.Generator.choice (13/11/2021)"
   ]
  },
  {
   "cell_type": "code",
   "execution_count": 11,
   "id": "a701b26e-ff77-4485-a6b0-6cb8904baf79",
   "metadata": {},
   "outputs": [
    {
     "data": {
      "text/plain": [
       "array([4, 1, 3])"
      ]
     },
     "execution_count": 11,
     "metadata": {},
     "output_type": "execute_result"
    }
   ],
   "source": [
    "# Select 3 integers from an array of [1, 2, 3, 4, 5]\n",
    "rng.choice([1,2,3,4,5], 3)"
   ]
  },
  {
   "cell_type": "markdown",
   "id": "a5a88eb3-4fd2-4a59-9d33-f20759fe2b2f",
   "metadata": {},
   "source": [
    "An important aspect of random number generation is the distribution of data. The rng.choice() function can be used to define the probability of random numbers being selected by assigning probability values. "
   ]
  },
  {
   "cell_type": "code",
   "execution_count": 12,
   "id": "66ba29c2-6a9a-4ff8-9ba0-b51cc2455db4",
   "metadata": {},
   "outputs": [
    {
     "data": {
      "text/plain": [
       "array([2, 2, 1, 3, 1, 2, 3, 1, 2, 1])"
      ]
     },
     "execution_count": 12,
     "metadata": {},
     "output_type": "execute_result"
    }
   ],
   "source": [
    "# Select 10 integers from an array of [1, 2, 3, 4, 5]. The probability of selecting 1, 2 and 3 is set to 0.3, \n",
    "# the probaility of selecting 4 is set to 0.1 and the probablility of selecting 5 is set to 0:\n",
    "\n",
    "ch = rng.choice([1,2,3,4,5], 10, p=(0.3, 0.3, 0.3, 0.1, 0))\n",
    "ch"
   ]
  },
  {
   "cell_type": "markdown",
   "id": "733e1772-edb3-405d-b904-9ea970ffd28f",
   "metadata": {},
   "source": [
    "<br>\n",
    "\n",
    "#### **2.1.5 Generating Random Bytes**\n",
    "\n",
    "The rng.bytes() function can be used to generate random bytes. The length parameter determines the number of bytes to be created. \n",
    "\n",
    "https://numpy.org/doc/stable/reference/random/generated/numpy.random.Generator.bytes.html#numpy.random.Generator.bytes (19/11/2021)"
   ]
  },
  {
   "cell_type": "code",
   "execution_count": 13,
   "id": "188d1530-db4a-4427-9b36-c2205530a7d0",
   "metadata": {},
   "outputs": [
    {
     "data": {
      "text/plain": [
       "b'\\xe9\\xc0\\xf1!fF7k\\xa6\\xcc'"
      ]
     },
     "execution_count": 13,
     "metadata": {},
     "output_type": "execute_result"
    }
   ],
   "source": [
    "# Example: Generate 10 random bytes\n",
    "rng.bytes(10)"
   ]
  },
  {
   "cell_type": "markdown",
   "id": "57ffaf61-b047-4774-b246-fd2476b915bc",
   "metadata": {},
   "source": [
    "<br>\n",
    "\n",
    "### **2.2 Permutations**"
   ]
  },
  {
   "cell_type": "markdown",
   "id": "961d847a-4bf3-4e88-8ca2-c1583a11bd6d",
   "metadata": {},
   "source": [
    "Random permuations can be used to re-arrange elements within a given array, for example by changing the order of [1, 2, 3] to [3, 2, 1].\n",
    "The numpy.random package offers 3 methods for changing the order of array elements: \n",
    "- shuffle()\n",
    "- permutation()\n",
    "- permuted()\n",
    "\n",
    "Permutations: https://numpy.org/doc/stable/reference/random/generated/numpy.random.Generator.permutation.html"
   ]
  },
  {
   "cell_type": "markdown",
   "id": "d4500e25-3204-4d36-8576-6d846d400882",
   "metadata": {},
   "source": [
    "<br>\n",
    "\n",
    "#### **2.2.1 Re-shuffling an Array**\n",
    "The shuffle() function changes the original array by re-arranging its elements. \n",
    "\n",
    "https://numpy.org/doc/stable/reference/random/generated/numpy.random.Generator.shuffle.html#numpy.random.Generator.shuffle (13/11/2021)\n",
    "\n",
    "https://likegeeks.com/numpy-shuffle/ (14/11/2021)\n",
    "\n",
    "https://zkf85.github.io/2019/01/31/np-shuffle-vs-permutation (14/11/2021)"
   ]
  },
  {
   "cell_type": "code",
   "execution_count": 14,
   "id": "92d000cb-11d3-466a-bcd8-cd69694b9fbd",
   "metadata": {},
   "outputs": [
    {
     "data": {
      "text/plain": [
       "[1, 2, 4, 5, 3]"
      ]
     },
     "execution_count": 14,
     "metadata": {},
     "output_type": "execute_result"
    }
   ],
   "source": [
    "# Example: \n",
    "arr = [1,2,3,4,5]\n",
    "\n",
    "rng.shuffle(arr)\n",
    "arr"
   ]
  },
  {
   "cell_type": "markdown",
   "id": "501c4554-93f7-4b9f-b9c1-eb58eae32403",
   "metadata": {},
   "source": [
    "For 2- or more-dimensional arrays, if using the shuffle() function as above, the order of arrays withinh the first dimension is changed, their individual elements remain in the same order. "
   ]
  },
  {
   "cell_type": "code",
   "execution_count": 15,
   "id": "4da2e6bd-353b-4f8a-83b1-e759bca301b0",
   "metadata": {},
   "outputs": [
    {
     "data": {
      "text/plain": [
       "array([[1, 2, 3],\n",
       "       [7, 8, 9],\n",
       "       [4, 5, 6]])"
      ]
     },
     "execution_count": 15,
     "metadata": {},
     "output_type": "execute_result"
    }
   ],
   "source": [
    "# Example\n",
    "arr = np.array([[1,2,3], [4,5,6], [7,8,9]])\n",
    "rng.shuffle(arr)\n",
    "arr"
   ]
  },
  {
   "cell_type": "markdown",
   "id": "9c60533c-3076-41f5-bb8e-964bb07db2a2",
   "metadata": {},
   "source": [
    "To also rearrange the order of elements within the 2nd dimension, the axis parameter can be added to the function. In the below example, the three sub-arrays will remain in the same order (starting with the array containing numbers 1, 2 and 3) but within the sub-arrays the elements are rearranged. "
   ]
  },
  {
   "cell_type": "code",
   "execution_count": 16,
   "id": "02813440-338b-41fe-85ad-ad7dd4e66918",
   "metadata": {},
   "outputs": [
    {
     "data": {
      "text/plain": [
       "array([[1, 2, 3],\n",
       "       [4, 5, 6],\n",
       "       [7, 8, 9]])"
      ]
     },
     "execution_count": 16,
     "metadata": {},
     "output_type": "execute_result"
    }
   ],
   "source": [
    "arr = np.array([[1,2,3], [4,5,6], [7,8,9]])\n",
    "arr"
   ]
  },
  {
   "cell_type": "code",
   "execution_count": 17,
   "id": "e1dfc667-57e5-4722-9967-4c77981f8d31",
   "metadata": {},
   "outputs": [
    {
     "data": {
      "text/plain": [
       "array([[1, 3, 2],\n",
       "       [4, 6, 5],\n",
       "       [7, 9, 8]])"
      ]
     },
     "execution_count": 17,
     "metadata": {},
     "output_type": "execute_result"
    }
   ],
   "source": [
    "rng.shuffle(arr, axis=1)\n",
    "arr"
   ]
  },
  {
   "cell_type": "markdown",
   "id": "09526518-ec3d-47c4-8a98-efd8467953e4",
   "metadata": {},
   "source": [
    "<br>\n",
    "\n",
    "#### **2.2.2 Creating a Re-arranged Copy of an Array**\n",
    "While the shuffle() function changes to original array, the permutation() function returns a copy of the original array with re-arranged elements.\n",
    "\n",
    "https://numpy.org/doc/stable/reference/random/generated/numpy.random.Generator.permutation.html#numpy.random.Generator.permutation (13/11/2021)"
   ]
  },
  {
   "cell_type": "code",
   "execution_count": 18,
   "id": "fdfa52f6-666d-41ac-a563-0d15386120c6",
   "metadata": {},
   "outputs": [
    {
     "data": {
      "text/plain": [
       "array([1, 3, 5, 4, 2])"
      ]
     },
     "execution_count": 18,
     "metadata": {},
     "output_type": "execute_result"
    }
   ],
   "source": [
    "# Example\n",
    "arr = [1,2,3,4,5]\n",
    "\n",
    "rng.permutation(arr)"
   ]
  },
  {
   "cell_type": "markdown",
   "id": "f19d6e9f-ca1c-4f7a-aa50-af87f0643eef",
   "metadata": {},
   "source": [
    "Similar to the shuffle() function, permuation() also allows to rearrange arrays with more than 1 dimension."
   ]
  },
  {
   "cell_type": "code",
   "execution_count": 19,
   "id": "d8a70a95-7834-4eb0-ac64-9d7484923ae9",
   "metadata": {},
   "outputs": [
    {
     "data": {
      "text/plain": [
       "array([[7, 8, 9],\n",
       "       [1, 2, 3],\n",
       "       [4, 5, 6]])"
      ]
     },
     "execution_count": 19,
     "metadata": {},
     "output_type": "execute_result"
    }
   ],
   "source": [
    "# Example\n",
    "arr = np.array([[1,2,3], [4,5,6], [7,8,9]])\n",
    "rng.permutation(arr)"
   ]
  },
  {
   "cell_type": "code",
   "execution_count": 20,
   "id": "701f59e4-b60e-4f78-a9b3-a40dae96b0cb",
   "metadata": {},
   "outputs": [
    {
     "data": {
      "text/plain": [
       "array([[1, 2, 3],\n",
       "       [4, 5, 6],\n",
       "       [7, 8, 9]])"
      ]
     },
     "execution_count": 20,
     "metadata": {},
     "output_type": "execute_result"
    }
   ],
   "source": [
    "arr = np.array([[1,2,3], [4,5,6], [7,8,9]])\n",
    "arr"
   ]
  },
  {
   "cell_type": "code",
   "execution_count": 21,
   "id": "b131f198-72c4-4560-ad79-1a4b96ca7b6e",
   "metadata": {},
   "outputs": [
    {
     "data": {
      "text/plain": [
       "array([[2, 3, 1],\n",
       "       [5, 6, 4],\n",
       "       [8, 9, 7]])"
      ]
     },
     "execution_count": 21,
     "metadata": {},
     "output_type": "execute_result"
    }
   ],
   "source": [
    "rng.permutation(arr, axis=1)"
   ]
  },
  {
   "cell_type": "markdown",
   "id": "731b25e6-4015-4871-87ef-803f6d712cfc",
   "metadata": {},
   "source": [
    "<br>\n",
    "\n",
    "#### **2.2.3 Re-arranging One- or Multi-dimensional Arrays**\n",
    "The permuted() function enables to shuffle sub-arrays independent of each other. It also gives an option to chose whether for the original array is re-arranged or whether a copy of the original array is re-arranged. \n",
    "\n",
    "https://numpy.org/doc/stable/reference/random/generated/numpy.random.Generator.permuted.html#numpy.random.Generator.permuted (14/11/2021)"
   ]
  },
  {
   "cell_type": "code",
   "execution_count": 22,
   "id": "b18ff551-9223-4a38-acc1-2caae241d916",
   "metadata": {},
   "outputs": [],
   "source": [
    "# Example\n",
    "arr = np.array([[1,2,3], [4,5,6], [7,8,9]])"
   ]
  },
  {
   "cell_type": "code",
   "execution_count": 23,
   "id": "2a9e35dd-279a-4615-9eb5-22d55dae15c9",
   "metadata": {},
   "outputs": [
    {
     "data": {
      "text/plain": [
       "array([[3, 1, 2],\n",
       "       [5, 6, 4],\n",
       "       [9, 8, 7]])"
      ]
     },
     "execution_count": 23,
     "metadata": {},
     "output_type": "execute_result"
    }
   ],
   "source": [
    "yarr = rng.permuted(arr, axis=1)\n",
    "yarr"
   ]
  },
  {
   "cell_type": "code",
   "execution_count": 24,
   "id": "1c1dd6fd-2f74-42bd-8398-4f31f0434f38",
   "metadata": {},
   "outputs": [],
   "source": [
    "# Example\n",
    "arr = np.array([[1,2,3], [4,5,6], [7,8,9]])"
   ]
  },
  {
   "cell_type": "code",
   "execution_count": 25,
   "id": "93c17d0d-0715-42d5-88cf-ed6382f13451",
   "metadata": {},
   "outputs": [
    {
     "data": {
      "text/plain": [
       "array([[2, 1, 3],\n",
       "       [5, 6, 4],\n",
       "       [7, 8, 9]])"
      ]
     },
     "execution_count": 25,
     "metadata": {},
     "output_type": "execute_result"
    }
   ],
   "source": [
    "yarr = rng.permuted(arr, axis=1, out=arr)\n",
    "arr"
   ]
  },
  {
   "cell_type": "code",
   "execution_count": null,
   "id": "a02265dc-a729-4ae0-893b-bf20921e9083",
   "metadata": {},
   "outputs": [],
   "source": []
  },
  {
   "cell_type": "markdown",
   "id": "3b7ba531-e1de-4586-a906-b22be4d5b9fd",
   "metadata": {},
   "source": [
    "<br>\n",
    "\n",
    "## **3. Explain the use and purpose of at least five “Distributions” functions.**"
   ]
  },
  {
   "cell_type": "code",
   "execution_count": null,
   "id": "9cbe1447-ddd9-4325-a705-e9342e413890",
   "metadata": {},
   "outputs": [],
   "source": []
  },
  {
   "cell_type": "code",
   "execution_count": 26,
   "id": "99cc60ee-4574-45bd-8d09-1911d934ca40",
   "metadata": {},
   "outputs": [],
   "source": [
    "# For visualisation of the distribution functions described below, the seaborn module is imported.\n",
    "import seaborn as sns"
   ]
  },
  {
   "cell_type": "markdown",
   "id": "d3eef459-5048-4c5f-af59-4b2466f573ce",
   "metadata": {},
   "source": [
    "### **3.1 Uniform Distribution**\n",
    "\n",
    "https://numpy.org/doc/stable/reference/random/generated/numpy.random.Generator.uniform.html#numpy.random.Generator.uniform (15/11/2021)"
   ]
  },
  {
   "cell_type": "markdown",
   "id": "3af83d93-a077-47df-a5d5-385df8c6ddb2",
   "metadata": {},
   "source": [
    "The uniform() method returns float point numbers in a specified range from low (inclusive) to high (exclusive) values. For uniform distributions each event has equal changes of occuring. "
   ]
  },
  {
   "cell_type": "code",
   "execution_count": 27,
   "id": "5fbefc42-efad-40ed-9a72-70f4de1c635b",
   "metadata": {
    "scrolled": true,
    "tags": []
   },
   "outputs": [
    {
     "data": {
      "text/plain": [
       "array([8.08878778, 6.29031819, 0.41208273, 3.14630563, 2.26248768,\n",
       "       7.90032697, 1.39549858, 2.22407726, 0.98085967, 4.26015947,\n",
       "       2.49299665, 3.94751036, 7.5569651 , 9.55246513, 5.17204457,\n",
       "       9.23818018, 0.58354199, 0.42258957, 2.99999509, 6.35020741,\n",
       "       8.57232333, 2.53730006, 7.63861927, 5.88965092, 8.22518463,\n",
       "       3.32799464, 7.28796085, 0.09389483, 9.96776039, 9.52370467,\n",
       "       0.13695119, 4.56533637, 9.78314302, 6.29650048, 9.78921601,\n",
       "       3.6959196 , 3.44962156, 1.02686656, 9.48916583, 7.61545512,\n",
       "       8.80565735, 6.23460183, 7.71553973, 7.70497477, 9.44798931,\n",
       "       9.35702185, 1.90186879, 2.02990218, 8.72821361, 7.8966423 ,\n",
       "       7.93127714, 4.26437932, 7.00728954, 8.73805894, 3.43703572,\n",
       "       1.65648793, 3.89930889, 9.73156622, 6.50227839, 5.87803929,\n",
       "       2.03717825, 2.88250829, 9.02014142, 9.484312  , 8.39338143,\n",
       "       7.39228781, 5.44818452, 3.32623687, 7.88028186, 3.0710002 ,\n",
       "       8.35429024, 2.00514749, 2.05118009, 6.24053322, 0.06429179,\n",
       "       6.44333441, 8.59595658, 7.13731638, 4.80173498, 8.04300935,\n",
       "       6.53244347, 8.41524803, 3.62130092, 4.27342345, 6.61002332,\n",
       "       0.45019441, 7.98173341, 2.78659137, 3.84462138, 1.86463646,\n",
       "       3.20028111, 3.98685023, 2.85460048, 2.35340703, 2.99362452,\n",
       "       6.03052383, 5.53866015, 3.70884711, 1.73188895, 1.69639507,\n",
       "       7.188985  , 1.00708304, 6.57854556, 6.19065772, 6.83023026,\n",
       "       9.7511715 , 8.43641695, 8.75250153, 2.65687606, 4.99046559,\n",
       "       9.06801181, 8.76138285, 0.89432036, 2.54166972, 9.4099977 ,\n",
       "       0.57868891, 6.03540685, 4.30543915, 8.02510569, 0.37183518,\n",
       "       6.61255175, 3.36378582, 8.31116511, 9.73902439, 2.66926645,\n",
       "       8.56270631, 1.9487319 , 7.4749091 , 3.80525952, 8.27616623,\n",
       "       3.23190237, 4.85173371, 3.25483166, 3.32349461, 7.44261194,\n",
       "       6.53399259, 1.52666517, 3.9566292 , 8.51398548, 4.11496488,\n",
       "       9.57251593, 6.48671337, 1.37529314, 3.15854781, 2.73744912,\n",
       "       7.9594316 , 9.41109129, 7.61425287, 3.0568455 , 9.37609101,\n",
       "       3.65371309, 0.99461019, 7.44510982, 9.8796767 , 3.98021734,\n",
       "       0.72701796, 5.90430377, 6.54709288, 3.67876748, 1.60919146,\n",
       "       2.67518038, 1.25197198, 1.34210271, 3.9372437 , 0.86899588,\n",
       "       5.93004141, 0.37003819, 5.47208447, 8.76371555, 2.48184261,\n",
       "       6.76755925, 4.85384767, 7.3977342 , 3.11288585, 0.28259447,\n",
       "       2.84697323, 5.65115271, 8.00132953, 5.4547952 , 5.61713234,\n",
       "       3.45641761, 5.65043629, 0.3670209 , 9.59428067, 4.38259513,\n",
       "       1.8125052 , 6.75965842, 5.17328178, 3.72317605, 0.55026992,\n",
       "       0.65567986, 4.18991037, 1.06856851, 4.72351497, 3.78737104,\n",
       "       9.91923254, 6.28595561, 2.56496318, 2.83960679, 4.97107941,\n",
       "       0.56845032, 7.78541394, 8.06204287, 1.22784763, 1.98063532,\n",
       "       5.48694238, 7.72252866, 2.02885582, 8.25955822, 1.4697042 ,\n",
       "       0.7616073 , 7.43400656, 6.21979399, 4.06815155, 2.00184801,\n",
       "       4.62819227, 2.63436083, 3.4367927 , 9.51480984, 4.11470631,\n",
       "       9.12951567, 9.49953571, 0.57073488, 8.853429  , 8.38668937,\n",
       "       7.8765493 , 3.03135303, 9.04305805, 8.13453741, 9.05323302,\n",
       "       5.76041406, 8.55444051, 8.33810441, 5.54460499, 4.86246024,\n",
       "       8.12169116, 3.14471617, 4.24853347, 2.71280011, 6.65022544,\n",
       "       9.94379817, 8.05452732, 7.73587172, 2.60623231, 6.2314396 ,\n",
       "       8.65565468, 4.28122304, 0.96560675, 9.63538101, 8.07641931,\n",
       "       5.4782816 , 2.85998947, 7.94483673, 1.21112248, 2.39877101,\n",
       "       1.41029721, 6.9697193 , 3.4698459 , 5.58541983, 0.52091888,\n",
       "       1.03064431, 2.34747683, 8.9418937 , 4.90554147, 5.61974736,\n",
       "       0.66625751, 0.968292  , 7.97266515, 1.25602892, 7.18281022,\n",
       "       7.82065491, 1.43955736, 9.94744123, 8.36261277, 8.73360111,\n",
       "       1.54699044, 8.71347532, 1.32134314, 2.54484999, 7.60927954,\n",
       "       4.23784238, 7.38344829, 9.96526907, 3.88279983, 8.0060014 ,\n",
       "       9.94114006, 8.65963189, 7.23049867, 4.8078077 , 6.89427984,\n",
       "       2.40390599, 2.01826935, 3.24373463, 9.91622754, 4.94965289,\n",
       "       8.31322883, 5.03657021, 3.90306937, 5.98568698, 5.31913896,\n",
       "       5.76592781, 2.643794  , 7.85775944, 9.55552266, 2.10677104,\n",
       "       7.58389976, 1.54463957, 2.04322849, 1.28366897, 2.14317775,\n",
       "       6.16975571, 8.81611676, 5.18276594, 0.14622538, 7.59175817,\n",
       "       8.79576407, 1.7704063 , 4.67479749, 4.56701573, 2.04064477,\n",
       "       3.17216114, 0.11586223, 5.86422143, 6.78078693, 0.34782705,\n",
       "       5.12621128, 3.56316365, 5.95738783, 1.5859304 , 5.60755688,\n",
       "       6.76499627, 1.25037026, 3.71650215, 1.84868917, 9.77829371,\n",
       "       3.48906797, 2.75143258, 4.30579332, 6.07669786, 9.45885488,\n",
       "       6.54534061, 7.0067621 , 3.69542726, 9.64539212, 1.03150432,\n",
       "       3.1592015 , 2.66063618, 3.9516725 , 2.95195033, 7.41459182,\n",
       "       0.18920096, 4.04583073, 4.54907808, 4.89432302, 1.43220083,\n",
       "       4.35543092, 2.44445557, 8.53167072, 3.53297844, 7.23794223,\n",
       "       6.77967433, 5.58661368, 0.63090417, 8.14492896, 6.3136952 ,\n",
       "       9.7675821 , 4.41830402, 2.48123562, 3.16986042, 2.36304739,\n",
       "       5.64902607, 8.83705301, 0.26274652, 4.73027928, 3.92182577,\n",
       "       1.26508651, 6.78664987, 5.39476472, 6.82821407, 2.55374293,\n",
       "       3.99163714, 9.27574395, 3.69687205, 4.24362411, 7.3490754 ,\n",
       "       8.9089838 , 3.56070125, 7.39452637, 0.37704024, 2.47468495,\n",
       "       2.36915805, 0.33237698, 3.64351869, 5.76505922, 4.73552018,\n",
       "       6.41219323, 3.35889188, 5.33081993, 0.62228597, 2.63051078,\n",
       "       6.87988563, 1.35411423, 5.29840776, 0.13852163, 1.94750486,\n",
       "       4.42361431, 0.32963856, 4.49283777, 6.14828088, 6.58603579,\n",
       "       2.73388995, 4.06601419, 0.85409737, 2.5507795 , 4.17823363,\n",
       "       8.14640642, 3.06011771, 4.95769313, 8.41224166, 9.31810928,\n",
       "       4.49726444, 8.16053655, 6.74294595, 7.61018278, 0.98544976,\n",
       "       5.23805493, 4.064046  , 2.65300744, 5.31573044, 6.81405192,\n",
       "       4.19521725, 4.68586958, 2.34851228, 8.62830466, 0.96290888,\n",
       "       5.42962906, 9.47512481, 9.99972224, 9.65280752, 5.96214029,\n",
       "       7.63943971, 6.1532483 , 7.64876496, 8.46971847, 7.92385429,\n",
       "       8.19979689, 8.77676047, 3.95161285, 1.85986105, 3.64979145,\n",
       "       4.64281836, 1.91611108, 8.16702466, 7.52657094, 5.43080329,\n",
       "       2.74884746, 7.9217339 , 0.17593012, 8.60302386, 1.84923433,\n",
       "       8.46035096, 6.85065375, 6.1727803 , 4.84959627, 9.02751566,\n",
       "       9.8541978 , 4.7458645 , 6.39928158, 8.03333773, 5.93210801,\n",
       "       8.29114108, 1.76000921, 3.93270222, 6.29611591, 3.38042942,\n",
       "       9.62460395, 4.35822436, 4.50963983, 8.64100844, 2.08215481,\n",
       "       5.4736419 , 0.42894262, 7.21059971, 9.72052887, 6.61533076,\n",
       "       9.61031183, 7.5751834 , 6.72341197, 7.14655177, 6.74126151,\n",
       "       5.31977548, 5.48768351, 7.60307174, 1.77257468, 2.94720159,\n",
       "       5.45436062, 3.79776057, 3.41868113, 4.39318921, 8.69841062,\n",
       "       8.67789387, 1.15788833, 8.74539183, 8.72409209, 6.28439661,\n",
       "       2.55863944, 0.89607896, 8.45086882, 6.20513954, 3.44309652,\n",
       "       1.77716576, 0.32473032, 2.67501607, 3.2740977 , 6.78326116,\n",
       "       8.79096587, 3.27747873, 5.5522354 , 8.69942554, 7.34583837,\n",
       "       1.2288394 , 9.95982901, 9.88769113, 6.79823846, 3.29554625,\n",
       "       5.94143826, 6.02079912, 1.2000935 , 7.09078722, 6.176091  ,\n",
       "       1.50763295, 4.23222747, 5.13564304, 8.90818267, 5.6356499 ,\n",
       "       0.22043337, 5.39885736, 2.23145433, 4.14584188, 2.06828405,\n",
       "       8.37782667, 5.53127769, 6.68560788, 3.96898405, 6.87605533,\n",
       "       8.15715707, 4.11593788, 8.36412351, 9.67030785, 8.25179983,\n",
       "       5.93316705, 2.06847239, 8.59168696, 2.00307305, 3.34057355,\n",
       "       7.29483774, 5.88291345, 6.18350985, 7.57873781, 7.18537609,\n",
       "       8.13732047, 0.48965771, 5.02021374, 3.6126511 , 0.66277958,\n",
       "       4.3402782 , 2.16062746, 6.51334671, 2.33717647, 2.20134274,\n",
       "       0.74356538, 5.69815529, 4.46950858, 4.99577368, 6.24265725,\n",
       "       3.73335675, 5.99447618, 6.6554494 , 9.23387031, 5.74599098,\n",
       "       7.96689047, 8.69249837, 8.98009502, 4.23967632, 7.57515688,\n",
       "       2.66259885, 0.4731848 , 3.37159577, 9.77243346, 3.74948141,\n",
       "       5.27493482, 2.6244233 , 8.32099756, 8.18390315, 5.22721086,\n",
       "       6.32651323, 1.40212548, 6.26416063, 3.35580227, 8.67284801,\n",
       "       1.91229841, 0.26820679, 7.75329008, 1.21434744, 0.36498236,\n",
       "       7.16718055, 3.55736632, 4.37583818, 6.23332182, 3.08371492,\n",
       "       3.95567477, 7.47067829, 0.41019005, 4.16819952, 1.31485226,\n",
       "       3.49423808, 1.52625047, 1.09287699, 9.65896795, 7.50724014,\n",
       "       4.14035489, 5.21174565, 0.69130113, 1.62714442, 4.84797143,\n",
       "       8.81041215, 7.22426001, 2.72683672, 7.81122171, 9.04562726,\n",
       "       5.6752783 , 7.07139559, 3.80773665, 4.19259707, 6.49530114,\n",
       "       8.58050798, 1.2936958 , 7.65089716, 5.22085771, 1.28328598,\n",
       "       5.29461141, 0.3627241 , 5.11679891, 1.90920086, 1.07764751,\n",
       "       7.63552495, 5.27391351, 7.63111087, 5.54468039, 6.04078326,\n",
       "       8.42653956, 5.85389431, 4.48233235, 0.65280418, 9.83417064,\n",
       "       3.25529119, 3.45801031, 1.65227803, 6.72656028, 4.80043479,\n",
       "       9.3926161 , 9.9562902 , 3.25992006, 6.14909872, 7.78424412,\n",
       "       6.71586839, 0.02936218, 4.19543634, 1.88036376, 6.41823183,\n",
       "       1.83146289, 0.65513079, 3.10201469, 6.35873492, 2.19942797,\n",
       "       1.16453062, 8.46395593, 1.11383707, 2.66708313, 9.36806369,\n",
       "       7.54687743, 3.16367741, 7.32918077, 3.38807988, 5.60687907,\n",
       "       0.86610174, 6.67924869, 8.82317506, 6.63481004, 5.85484836,\n",
       "       2.04908778, 3.87540476, 9.71187709, 0.76585015, 3.54206864,\n",
       "       3.80964052, 2.03659271, 0.59021901, 9.60097511, 5.82578446,\n",
       "       3.8139009 , 6.77588908, 4.16454976, 3.32522771, 4.99121502,\n",
       "       0.23439839, 2.36320681, 2.1544215 , 6.44416241, 1.29646625,\n",
       "       9.43277055, 8.79554769, 5.84475611, 4.78329703, 5.27390891,\n",
       "       6.33338166, 4.18164577, 4.94154345, 1.46854512, 9.49623507,\n",
       "       1.04407896, 6.16550801, 8.36131591, 8.94796964, 1.89858487,\n",
       "       9.62676881, 4.41811854, 2.69529054, 0.06792815, 7.46865334,\n",
       "       8.5630835 , 6.44966926, 5.60678914, 6.26059989, 5.85400247,\n",
       "       3.79904885, 7.19869978, 4.1470996 , 8.27663907, 1.98435723,\n",
       "       7.33232299, 1.54838673, 1.21031017, 5.85998074, 2.12648565,\n",
       "       2.48963422, 5.02612354, 5.01141885, 4.6818648 , 1.35782572,\n",
       "       7.94968156, 1.59210658, 1.27405236, 9.62332547, 7.15687794,\n",
       "       2.70751905, 4.22655005, 2.03649178, 0.39086376, 0.15812516,\n",
       "       7.59775673, 2.56740507, 5.53610683, 5.18199486, 4.70343998,\n",
       "       4.39701974, 8.48222887, 3.13387189, 6.63623329, 1.28391995,\n",
       "       0.51546656, 6.58238952, 0.84106775, 1.05336409, 2.7454069 ,\n",
       "       5.57781257, 7.22397308, 9.93911924, 8.91866659, 1.37033406,\n",
       "       2.25470825, 7.19338916, 8.11727621, 8.14614284, 2.48634568,\n",
       "       3.30462201, 4.28059814, 3.11723653, 0.8798369 , 0.66065718,\n",
       "       7.28210516, 5.17222264, 0.29430676, 3.57858287, 0.93000756,\n",
       "       7.06657685, 8.03387842, 0.453248  , 9.47528199, 4.21547797,\n",
       "       3.03984265, 8.99590202, 1.48916003, 1.82161413, 9.4084595 ,\n",
       "       1.74832059, 1.31543796, 1.7215074 , 1.53214303, 0.59505694,\n",
       "       4.28284255, 7.95550844, 8.42568877, 2.83146522, 0.16103839,\n",
       "       3.33931085, 1.40300726, 9.87428399, 7.51645439, 1.80062044,\n",
       "       5.00294503, 8.62146739, 7.99198026, 9.12159819, 5.4988713 ,\n",
       "       9.09483851, 6.431326  , 3.27112112, 7.64374804, 2.47813868,\n",
       "       4.10641306, 8.45795016, 6.97951991, 4.01627131, 1.93935901,\n",
       "       8.70594407, 9.40023064, 6.44052116, 0.38520843, 5.54417698,\n",
       "       9.59441474, 3.48371259, 1.43243598, 1.54036932, 0.98234692,\n",
       "       3.04200936, 1.23068852, 1.80356699, 8.26582883, 6.23330627,\n",
       "       2.27241345, 5.44362047, 1.18736642, 5.30570205, 8.30363623,\n",
       "       3.95586641, 7.65541485, 0.44754019, 0.11477438, 3.90714434,\n",
       "       7.4438148 , 5.4967432 , 4.76195361, 6.60913998, 7.43565899,\n",
       "       3.42692961, 2.60889552, 9.500505  , 8.16404891, 3.4922549 ,\n",
       "       8.33700009, 9.82445716, 2.85048632, 5.71829206, 7.00478567,\n",
       "       8.53619077, 2.42897812, 2.98125131, 1.32530715, 0.60212304,\n",
       "       1.27957616, 4.52799269, 4.94076117, 1.20350964, 0.50550378,\n",
       "       2.05676482, 7.28248403, 1.99149807, 4.21906143, 0.39089822,\n",
       "       1.82397652, 7.29099809, 3.52883045, 2.06262541, 2.12488986,\n",
       "       2.29834389, 1.58956367, 0.15857821, 4.69675721, 7.74128602,\n",
       "       5.1955757 , 6.30350562, 5.55906936, 7.89569108, 5.94802472,\n",
       "       2.25753541, 6.49191518, 4.90813854, 3.68658697, 1.0254691 ,\n",
       "       6.32072281, 2.23140549, 1.03647646, 7.35034079, 6.76128914,\n",
       "       3.3769127 , 8.21057131, 3.17862551, 1.14896278, 6.44007522,\n",
       "       2.28591595, 5.00679331, 0.41099358, 3.10523948, 4.37441262,\n",
       "       6.65337958, 7.55992426, 8.05167802, 9.6758727 , 3.44739926,\n",
       "       6.91189565, 8.61470673, 3.08535185, 4.40661016, 6.57476724,\n",
       "       5.98304468, 8.30722303, 4.47359368, 7.60504202, 7.40674294,\n",
       "       8.13551959, 4.66438926, 4.82390827, 7.53093874, 8.92006557,\n",
       "       3.32595006, 0.33578035, 1.62806076, 0.32609948, 2.23038266,\n",
       "       2.66080925, 6.88129615, 8.51160209, 6.09096041, 2.25711447,\n",
       "       3.39261709, 8.02803453, 0.90105813, 1.8055193 , 2.89127653,\n",
       "       9.34038777, 7.74327059, 1.96410857, 9.02278717, 9.83297571,\n",
       "       6.02993638, 3.08881956, 2.84610322, 8.67800511, 0.13669011,\n",
       "       4.4196693 , 5.87490983, 4.94600481, 9.23556567, 6.62669483,\n",
       "       0.79558427, 7.91847528, 8.19893017, 5.00849536, 3.45520168,\n",
       "       4.91742981, 0.3420361 , 6.99421127, 8.59656275, 6.45865918,\n",
       "       1.28918826, 4.40137389, 1.48321371, 0.67898578, 0.9679646 ,\n",
       "       3.447441  , 1.01683269, 1.26100439, 5.74727644, 8.32820949,\n",
       "       3.96692158, 9.89543811, 8.99527153, 3.42474526, 0.12301888])"
      ]
     },
     "execution_count": 27,
     "metadata": {},
     "output_type": "execute_result"
    }
   ],
   "source": [
    "# Example: 1000 float point numbers in the range of 0 to 10 (exclusive)\n",
    "\n",
    "s = np.random.default_rng().uniform(low=0, high=10, size=1000)\n",
    "s"
   ]
  },
  {
   "cell_type": "code",
   "execution_count": 28,
   "id": "8655ce21-ff55-4f93-a4e4-a8fbc308910a",
   "metadata": {},
   "outputs": [
    {
     "data": {
      "text/plain": [
       "<AxesSubplot:ylabel='Count'>"
      ]
     },
     "execution_count": 28,
     "metadata": {},
     "output_type": "execute_result"
    },
    {
     "data": {
      "image/png": "[encoded data removed]",
      "text/plain": [
       "<Figure size 432x288 with 1 Axes>"
      ]
     },
     "metadata": {
      "needs_background": "light"
     },
     "output_type": "display_data"
    }
   ],
   "source": [
    "# Histogram:\n",
    "\n",
    "sns.histplot(s, bins = 10)\n",
    "\n",
    "# https://seaborn.pydata.org/generated/seaborn.histplot.html#seaborn.histplot (15/11/2021)"
   ]
  },
  {
   "cell_type": "code",
   "execution_count": null,
   "id": "ee7b01ee-42e7-4a82-a118-3d387cad8d6c",
   "metadata": {},
   "outputs": [],
   "source": []
  },
  {
   "cell_type": "markdown",
   "id": "6ef61b0a-e0e5-4de7-97e4-708560f00e3f",
   "metadata": {
    "tags": []
   },
   "source": [
    "### **3.2 Binomial Distribution**\n",
    "\n",
    "https://numpy.org/doc/stable/reference/random/generated/numpy.random.Generator.binomial.html#numpy.random.Generator.binomial\n",
    "\n",
    "https://en.wikipedia.org/wiki/Binomial_distribution"
   ]
  },
  {
   "cell_type": "markdown",
   "id": "ec43f1f2-50bd-4694-b8a8-5c3a87fd9c6a",
   "metadata": {},
   "source": [
    "The rng.binomial() function returns values from a binomial distribution. A binomial distribution shows the distribution of successful trials that have exactly 2 possible results, such as throwing a coin.\n",
    "\n",
    "Other than for a uniform distirbutinon where all events statistically have the same chance of occuring, for a binomial distribution, the chance of each event occuring can be preset by adding a probablility of success parameter. \n",
    "\n",
    "Parameters for defining the binomial distribution: \n",
    "- n = Number of trials\n",
    "- p = probability of success of each trial\n",
    "- size"
   ]
  },
  {
   "cell_type": "code",
   "execution_count": 29,
   "id": "888e7a0c-e030-47f6-8a26-7187f90321bf",
   "metadata": {},
   "outputs": [
    {
     "data": {
      "text/plain": [
       "array([6, 8, 8, 9, 5, 7, 9, 5, 7, 7], dtype=int64)"
      ]
     },
     "execution_count": 29,
     "metadata": {},
     "output_type": "execute_result"
    }
   ],
   "source": [
    "# Simulation of tossing a loaded coin with a chance of 70% towards 'head'\n",
    "\n",
    "s_bi = rng.binomial(n=10, p=0.7, size=10)\n",
    "s_bi"
   ]
  },
  {
   "cell_type": "code",
   "execution_count": 30,
   "id": "a8b45ea4-863b-4ccc-aa5e-183d92daafaf",
   "metadata": {},
   "outputs": [
    {
     "data": {
      "text/plain": [
       "<seaborn.axisgrid.FacetGrid at 0x1c09d9ebeb0>"
      ]
     },
     "execution_count": 30,
     "metadata": {},
     "output_type": "execute_result"
    },
    {
     "data": {
      "image/png": "[encoded data removed]",
      "text/plain": [
       "<Figure size 360x360 with 1 Axes>"
      ]
     },
     "metadata": {
      "needs_background": "light"
     },
     "output_type": "display_data"
    }
   ],
   "source": [
    "sns.displot(s_bi, bins=10)\n",
    "\n",
    "# https://www.statology.org/binomial-distribution-python/"
   ]
  },
  {
   "cell_type": "markdown",
   "id": "23b585ce-10b4-43fc-a7e5-28184a2bf00f",
   "metadata": {},
   "source": [
    "### **3.3 Multinomial Distribution**\n",
    "\n",
    "https://numpy.org/doc/stable/reference/random/generated/numpy.random.Generator.multinomial.html#numpy.random.Generator.multinomial"
   ]
  },
  {
   "cell_type": "markdown",
   "id": "739a81de-296a-445a-949a-a25682a43e70",
   "metadata": {},
   "source": [
    "Similar to the binomial distribution, the multinomial distribution returns the distribution of successful trials, but for more than 2 possible results, for example when rolling a die. \n",
    "\n",
    "- n = number of trials\n",
    "- pvals = probabilities of each of the different outcomes (must sum to 1)\n",
    "- size"
   ]
  },
  {
   "cell_type": "code",
   "execution_count": 31,
   "id": "fe4e6ca8-70fa-420e-9f32-7f4892901bd3",
   "metadata": {},
   "outputs": [
    {
     "data": {
      "text/plain": [
       "array([[1, 1, 2, 1, 2, 3]], dtype=int64)"
      ]
     },
     "execution_count": 31,
     "metadata": {},
     "output_type": "execute_result"
    }
   ],
   "source": [
    "# Throwing a die 10 times\n",
    "die = rng.multinomial(n=10, pvals=[1/6.]*6, size=1)\n",
    "die"
   ]
  },
  {
   "cell_type": "code",
   "execution_count": 32,
   "id": "3465247d-72fb-42e5-9ff6-f3acedc49ede",
   "metadata": {},
   "outputs": [],
   "source": [
    "## Plot!!\n",
    "\n",
    "# sns.displot(die, bins=6)"
   ]
  },
  {
   "cell_type": "code",
   "execution_count": null,
   "id": "0627a06a-ebe0-44d7-adec-49bb20334b31",
   "metadata": {},
   "outputs": [],
   "source": []
  },
  {
   "cell_type": "code",
   "execution_count": 33,
   "id": "39f56536-5e8c-4935-93ec-6cb9a480e82a",
   "metadata": {},
   "outputs": [
    {
     "data": {
      "text/plain": [
       "array([[ 9, 10,  7,  7,  4, 13]], dtype=int64)"
      ]
     },
     "execution_count": 33,
     "metadata": {},
     "output_type": "execute_result"
    }
   ],
   "source": [
    "# Throwing a loaded die 50 times\n",
    "rng.multinomial(n=50, pvals=[1/7.]*5 + [2/7.], size=1)"
   ]
  },
  {
   "cell_type": "code",
   "execution_count": 34,
   "id": "3d66be81-4003-4762-b1c2-7569efe53e7c",
   "metadata": {},
   "outputs": [],
   "source": [
    "## Plot!! "
   ]
  },
  {
   "cell_type": "code",
   "execution_count": null,
   "id": "765ebb5f-b37c-48c0-bccd-4164d5b3a184",
   "metadata": {},
   "outputs": [],
   "source": []
  },
  {
   "cell_type": "markdown",
   "id": "4fc5bf82-394a-4921-91a5-12b338d509ea",
   "metadata": {},
   "source": [
    "### **3.4 Normal Distribution**\n",
    "\n",
    "https://numpy.org/doc/stable/reference/random/generated/numpy.random.Generator.normal.html#numpy.random.Generator.normal"
   ]
  },
  {
   "cell_type": "markdown",
   "id": "aa29a3dd-cafa-4d95-93ae-4458a4cf3f69",
   "metadata": {},
   "source": [
    "The rng.normal() function can be used to returns values from a normal distribution. The normal distribution (also often referred to as Gaussian Distribution) is centred around a mean (μ/mu) and the spread of values from the mean is defined by the standard deviation (σ/sigma). \n",
    "Normal distributions often occur in nature and represent random spread of values around a mean with more values being closer to the mean. About 68 % of values are within 1 sigma from the mean, about 95% within 2 sigma and 99.7% within 3 sigma. \n",
    "\n",
    "https://en.wikipedia.org/wiki/Normal_distribution"
   ]
  },
  {
   "cell_type": "code",
   "execution_count": 35,
   "id": "53ba3fde-fba0-429c-9c0c-d9011c4ead6a",
   "metadata": {
    "scrolled": true,
    "tags": []
   },
   "outputs": [
    {
     "data": {
      "text/plain": [
       "array([ 2.78497101e+00, -4.42818648e-01,  1.71554829e+00, -4.23261452e-01,\n",
       "        8.58014804e-02, -5.24130440e-02,  6.85073275e-01, -5.07125295e-01,\n",
       "       -1.35411601e-02,  1.02011196e-01, -4.78722314e-01,  8.71188393e-01,\n",
       "        1.21695717e+00,  3.00740932e-02, -8.69092130e-01,  2.12462822e-01,\n",
       "       -1.96710040e+00, -8.29942287e-01, -2.06970014e-01,  1.36831607e+00,\n",
       "       -4.59453936e-01, -8.76077402e-02, -8.54408335e-01,  1.57352104e-01,\n",
       "       -1.16521680e+00, -6.36134151e-01, -1.43140752e-01,  1.50253962e+00,\n",
       "       -8.17405260e-01,  1.56820669e+00, -9.05472432e-01,  1.37770784e+00,\n",
       "        1.22519461e+00,  1.19135802e+00,  5.30627703e-02,  1.47250269e+00,\n",
       "       -2.41151331e-01,  6.84532634e-01,  1.02041637e+00, -6.21463434e-01,\n",
       "        1.00221038e+00,  1.65472674e+00,  6.38975796e-01,  5.02039457e-01,\n",
       "       -7.32681253e-01, -2.77970955e-01, -3.34765937e-01, -2.31581040e+00,\n",
       "       -7.70632302e-01, -8.59104789e-01, -1.08288049e+00,  2.24479692e-01,\n",
       "       -8.96839446e-01, -7.93013957e-01,  3.12447894e-01,  9.69699818e-01,\n",
       "       -7.88264367e-03,  1.13503668e+00,  5.67957139e-01,  2.36834253e+00,\n",
       "        3.25855863e-01, -1.92399862e-01,  1.36249033e+00,  1.67607260e-01,\n",
       "        7.10994694e-01,  1.00079197e+00,  2.26689103e+00, -7.33430325e-01,\n",
       "        2.32694172e+00, -2.02645518e-01, -6.46073273e-01,  1.52139269e+00,\n",
       "        9.02914132e-02, -1.13690166e+00, -6.87342375e-01, -1.91534501e-01,\n",
       "        8.76021272e-01, -6.17614560e-01, -3.44961066e-01,  5.01230918e-01,\n",
       "       -3.48604344e-01, -2.29029950e+00,  1.22514677e+00,  1.11119659e+00,\n",
       "       -4.02936568e-01,  4.99902379e-01,  1.75967319e+00, -8.85110320e-01,\n",
       "       -5.02052397e-01,  5.26913324e-02,  4.34702511e-01, -2.91010008e+00,\n",
       "       -5.25569056e-01, -3.63922563e-01,  7.84393244e-02,  4.90813516e-01,\n",
       "        2.31512049e-01,  3.11348293e-01,  9.98011277e-01, -1.68303989e-01,\n",
       "       -1.45993120e-01,  7.13989691e-01, -1.95312145e+00,  8.49016381e-02,\n",
       "        6.11389167e-01, -3.90840280e-01,  2.96043829e-01, -1.21324581e+00,\n",
       "       -2.70243607e-01,  2.40795131e-01, -1.29000834e-01, -3.74196828e-01,\n",
       "       -8.32584816e-01, -7.15082764e-01,  1.35650735e+00,  2.59372422e-01,\n",
       "        1.04064624e+00,  7.71990117e-01,  2.63524565e-01, -6.18872756e-01,\n",
       "       -7.20328743e-01,  2.23998611e-01, -9.09067788e-02,  1.04657341e+00,\n",
       "       -2.81826822e-01, -1.26895506e+00,  7.65105137e-01,  1.14855288e+00,\n",
       "       -2.31222038e-01,  1.31561017e+00, -6.19920545e-01,  2.87454540e-01,\n",
       "        1.62402120e+00,  7.96301253e-01, -5.27083499e-01,  1.38043641e+00,\n",
       "       -1.09481885e+00, -5.28759774e-01,  9.17441245e-03,  2.52406251e-01,\n",
       "       -1.35088102e+00, -1.15855793e+00,  9.02182377e-02,  8.63533797e-01,\n",
       "       -1.92881938e-01,  9.60775624e-01, -8.25032776e-01, -2.01206242e+00,\n",
       "        1.03268424e+00,  2.53837530e-01, -1.56436358e+00,  6.09698740e-01,\n",
       "       -8.78317275e-02,  1.32258826e+00, -5.77242268e-01,  6.56073105e-01,\n",
       "       -1.51411471e-01, -1.53393769e+00, -2.16618752e+00,  1.94386656e+00,\n",
       "       -3.18396747e-01, -7.90016787e-01,  2.33690174e+00, -3.50218277e-02,\n",
       "       -7.13607445e-02, -6.02569134e-02,  1.84663995e+00, -4.78657748e-01,\n",
       "       -8.68471990e-01,  3.94641475e-01, -3.31464093e-01, -2.95825662e-01,\n",
       "        1.18603515e-01,  7.85851901e-02,  5.68646338e-01,  4.32821746e-01,\n",
       "        1.28137624e+00,  7.16558007e-01,  1.60911568e+00, -1.14282750e+00,\n",
       "        9.15974041e-01,  4.91860537e-01, -1.24842138e+00, -3.13379387e-01,\n",
       "       -1.16664807e+00, -4.10295960e-01, -1.09160077e+00, -2.26933852e-01,\n",
       "       -1.50553410e+00, -7.64367785e-01, -1.69392888e+00,  3.32230970e-01,\n",
       "       -2.70812374e+00,  1.11366239e+00, -5.22879839e-02,  5.00919958e-01,\n",
       "       -1.26830084e+00,  9.89111232e-01, -1.29332118e-01,  5.11241180e-01,\n",
       "        1.85498682e-01,  4.87098623e-01,  6.80522594e-02,  5.28957941e-01,\n",
       "        5.71429165e-01,  7.30953995e-02,  8.71400451e-01,  1.74695245e-01,\n",
       "       -1.96928164e+00,  4.54298525e-01, -2.96540386e+00, -7.72963632e-01,\n",
       "        8.88906402e-01, -2.56991304e-01, -2.54009171e-01, -2.65588119e+00,\n",
       "        6.39802037e-01,  1.03445869e+00, -5.09383022e-01, -1.36375256e+00,\n",
       "        3.36306092e-01, -5.66247316e-01, -5.69860140e-01, -5.18015451e-01,\n",
       "       -6.13373546e-01,  5.82514684e-01,  4.35480293e-01, -1.42308120e+00,\n",
       "       -6.63041541e-01,  2.42363070e-01,  5.64952648e-01, -1.18418736e+00,\n",
       "        5.22548506e-01,  7.99251296e-01,  1.29977486e+00,  8.33769900e-01,\n",
       "       -3.16448650e-01, -1.10068546e+00, -6.23878241e-01, -1.32404763e+00,\n",
       "        9.45763131e-01, -1.08187110e-01,  6.96051894e-01,  1.94901155e+00,\n",
       "       -5.09948375e-01, -1.16119683e+00,  1.51351015e+00,  5.29132419e-01,\n",
       "       -1.44663280e+00,  1.15235112e+00,  1.84322738e-01, -5.35734119e-01,\n",
       "       -1.13374998e+00, -8.16704562e-01, -1.05105131e+00, -1.50854156e+00,\n",
       "        1.83378505e+00,  4.95225336e-01, -3.87535401e-01,  1.58845911e+00,\n",
       "       -1.53050939e+00, -1.44338192e+00,  4.98879971e-01,  3.76653756e-01,\n",
       "       -4.28628617e-02,  8.45708409e-01, -2.19528781e-02, -1.29626759e+00,\n",
       "        8.56182803e-01,  1.18855733e+00,  1.08345972e+00,  3.36726839e-01,\n",
       "        3.22457435e-01,  9.41480070e-01, -2.79743226e-01,  1.32625185e-01,\n",
       "       -5.92982236e-02,  1.16621655e+00, -7.45071805e-02,  1.62770667e+00,\n",
       "       -5.85594627e-01, -1.62976682e+00,  9.96859382e-01,  4.91990003e-01,\n",
       "        8.51538862e-01,  9.80892753e-02, -5.43793026e-01,  4.91346285e-03,\n",
       "       -1.81474866e+00, -7.50011662e-01,  6.59454853e-01, -1.46676508e+00,\n",
       "        6.87022688e-01,  1.96194574e+00,  1.13055287e+00, -2.55191713e+00,\n",
       "       -4.09051447e-02, -4.96481113e-02, -8.34432187e-01, -7.31150065e-01,\n",
       "        1.25073053e+00, -3.26272407e-01,  1.59854967e-03, -2.14648637e+00,\n",
       "        1.68824942e-01,  7.80593505e-01, -1.39623810e+00, -5.54100874e-01,\n",
       "       -1.40549088e-01,  6.11843666e-01, -7.34769943e-01,  4.28258730e-01,\n",
       "        2.11607440e-01, -1.56283168e+00, -5.36500967e-03,  5.58242318e-01,\n",
       "        7.21008969e-01, -1.64983789e-01,  1.53448390e+00, -8.97919594e-01,\n",
       "       -9.44780416e-01,  8.62836918e-01,  1.12069150e+00, -3.28170412e-01,\n",
       "       -7.50278414e-01, -2.13585614e+00, -6.54329061e-01,  3.69152568e-01,\n",
       "        2.40455076e-01,  1.76247395e-01,  8.35566440e-01,  5.46268373e-01,\n",
       "       -2.97700049e-01, -1.66437947e+00, -2.05627512e-01, -1.05481564e+00,\n",
       "       -1.49946639e+00, -1.23190766e+00, -2.65558066e-01,  3.07307304e-01,\n",
       "       -1.82390420e-01, -1.27333780e+00,  2.79633021e-01, -2.85313522e-01,\n",
       "        2.22128347e-03,  4.05088236e-01, -8.22948680e-01,  5.41497258e-01,\n",
       "        5.16626343e-01, -1.80547197e-01, -4.02931963e-01,  7.05911862e-01,\n",
       "        1.05552680e+00, -1.58323855e+00,  3.78945893e-01,  7.16850622e-02,\n",
       "       -1.71119429e+00, -1.97000856e+00, -4.12891795e-01,  7.19438567e-01,\n",
       "       -1.14000801e+00,  1.21283639e+00, -1.32915757e+00, -5.15991920e-01,\n",
       "        4.93727217e-01,  1.55649639e-01,  8.58788309e-01, -1.61411268e-01,\n",
       "        1.86815337e-01,  9.03577684e-01, -1.92855948e+00,  1.68176758e+00,\n",
       "        1.63032690e-01, -2.43419275e+00, -5.11140198e-01, -8.25102730e-01,\n",
       "        3.13090148e-01, -9.65154546e-01, -2.15934941e-01, -1.52350961e+00,\n",
       "       -8.75440293e-01,  1.98063272e-01,  1.67238937e+00, -1.26146586e+00,\n",
       "       -4.90692566e-01, -8.94671005e-01, -2.83746524e+00, -2.41430980e+00,\n",
       "       -6.17335042e-01, -2.17331629e+00, -1.16045170e+00,  1.03578680e+00,\n",
       "       -6.17928625e-01,  1.11694465e+00,  2.91715910e-02,  2.43399581e+00,\n",
       "       -2.11195718e-02, -9.35438481e-02, -1.49924747e+00, -2.06437489e-02,\n",
       "       -4.81567289e-01, -6.23923414e-01, -9.79493650e-01, -1.55409672e+00,\n",
       "        1.14362031e-01, -1.74957841e+00,  1.30426964e+00, -1.68256882e+00,\n",
       "       -3.08493186e-01,  1.35603907e+00, -7.05549802e-01, -2.55277582e-01,\n",
       "        1.29450739e+00, -1.93936387e-01,  4.57810245e-02,  1.98910295e+00,\n",
       "        1.54715247e+00,  5.45280486e-03,  9.36077847e-01,  7.99724413e-02,\n",
       "        1.01779061e+00,  1.00943614e+00, -5.66833307e-01, -1.36181470e+00,\n",
       "        3.03392854e-01, -1.37381010e+00, -1.64837818e+00,  1.28960237e+00,\n",
       "        6.95711041e-02, -9.65097753e-01,  1.08673297e+00, -3.07794355e-01,\n",
       "        8.80057064e-01,  9.69469545e-01,  1.24638569e+00,  5.87466401e-02,\n",
       "       -7.27205372e-01,  6.25426488e-01, -4.56398819e-01,  2.19913458e+00,\n",
       "        6.28715110e-01,  2.86214349e-01, -1.80055297e+00, -1.62805617e+00,\n",
       "       -9.52627385e-01, -2.44142989e-01, -2.20104919e-01, -7.64735518e-01,\n",
       "        1.66300248e+00,  1.49474548e+00, -2.74739457e-01, -4.70666941e-01,\n",
       "        4.25382368e-01, -5.64995977e-01, -1.41177933e+00, -4.77696497e-01,\n",
       "        4.46273465e-01, -2.73317855e-01,  1.64682161e-01, -2.44920336e+00,\n",
       "       -1.03067935e+00,  4.55114820e-01, -1.38664587e+00,  1.30429550e+00,\n",
       "        1.01312619e+00,  7.37104349e-01, -9.25456214e-02, -1.19015080e+00,\n",
       "        1.58838220e+00,  2.05912487e+00, -2.87908437e-01,  8.88237155e-02,\n",
       "        2.22241927e-01, -9.40493478e-01,  7.71222940e-01, -2.12509559e+00,\n",
       "       -9.54388033e-01,  6.27747330e-01,  1.40326136e+00,  5.59929256e-01,\n",
       "        3.95668677e-01, -8.14893429e-02, -9.75883641e-01, -1.31088734e+00,\n",
       "       -1.46632845e+00,  1.86535066e-01, -1.77986281e-01, -4.08733832e-01,\n",
       "       -1.15654607e+00, -2.94489828e-02,  1.17507542e+00,  6.61127304e-01,\n",
       "        8.32635987e-01,  1.51269695e-01,  4.04591655e-01, -4.01663499e-01,\n",
       "       -4.35353669e-01, -1.72315548e+00,  3.87110313e-01, -7.53223976e-01,\n",
       "        1.39319716e+00, -1.85577526e+00,  1.52013748e+00,  7.63216331e-01,\n",
       "       -3.53254698e-02,  2.80933317e-02, -1.04870282e+00,  5.64154499e-01,\n",
       "        1.11468915e+00, -1.63074415e+00,  8.84336083e-01,  1.13725912e+00,\n",
       "       -8.91042243e-01,  1.22157110e+00,  6.10284465e-01, -1.42239412e-01,\n",
       "       -2.29936945e-01, -2.78916988e-01,  1.23423697e-01,  1.28379869e+00,\n",
       "        1.92988708e+00,  8.58981247e-01,  1.55562058e+00, -7.42792568e-02,\n",
       "       -6.67776966e-01,  1.34101032e+00,  1.46588129e+00, -6.53419287e-01,\n",
       "       -1.77837865e-01,  1.99039631e+00, -5.87269182e-03,  1.43471559e+00,\n",
       "        1.44181614e+00,  6.80497673e-01, -2.74150807e-01, -3.90278027e-01,\n",
       "       -7.09706691e-01,  9.48014728e-01,  6.24189265e-01,  1.21127668e+00,\n",
       "       -1.45835449e-01, -4.72404449e-01,  6.68087865e-01, -5.49916889e-01,\n",
       "       -2.36478614e-01, -2.14570715e-01,  1.54088437e+00,  1.17846563e-01,\n",
       "        5.60615604e-01,  1.00034745e+00, -5.24575667e-01,  8.76397214e-01,\n",
       "        2.39251946e+00,  6.83889988e-01, -6.47872512e-01,  8.28839028e-01,\n",
       "        9.00303236e-01,  8.28981186e-01, -9.67338385e-01,  1.86714842e+00,\n",
       "       -9.61630823e-02, -1.96921723e+00, -4.27007981e-01,  1.11023016e+00,\n",
       "       -1.19131239e+00,  6.60823345e-01,  3.04333528e-01,  2.44212961e-01,\n",
       "        1.46042560e+00, -1.32578096e-01, -4.64779190e-01,  7.80530433e-01,\n",
       "       -1.20552426e-01, -2.15393686e+00,  5.37736982e-01, -7.31648588e-01,\n",
       "       -2.37265521e+00,  1.87341220e+00,  7.22087150e-01,  9.44906800e-02,\n",
       "       -1.09252471e+00, -6.84528611e-01, -1.22176168e+00, -1.26733427e+00,\n",
       "        2.58973642e-02, -1.38749612e+00,  5.81311752e-02,  1.06117719e+00,\n",
       "        8.70693029e-01,  1.57678796e+00,  1.22329467e+00, -4.99060548e-01,\n",
       "       -2.15589518e-01,  2.05140799e-01,  4.45397798e-01, -8.22175465e-01,\n",
       "       -1.34332388e+00, -1.06734677e+00,  7.42946262e-01, -2.83302182e-01,\n",
       "       -5.21749928e-01,  6.51076949e-01,  1.30299878e-01, -4.38845093e-01,\n",
       "        1.20584244e-01, -7.14040672e-01,  1.60954549e+00,  1.02746957e+00,\n",
       "       -5.20003645e-01,  6.23514276e-02,  1.09070474e+00,  7.87267200e-01,\n",
       "       -3.03148929e-01, -1.05623499e+00,  6.03630449e-01, -3.92936942e-01,\n",
       "        4.45187676e-01, -2.19484369e-01,  1.59088947e-01,  1.85717390e+00,\n",
       "       -5.28212605e-01,  1.37647923e+00, -1.26326553e-01,  2.91644542e-01,\n",
       "       -4.93048059e-01,  6.90585973e-01,  2.69556165e-01, -7.34656357e-01,\n",
       "       -7.42137567e-01, -9.15673982e-01,  3.56714065e-01, -4.62580289e-01,\n",
       "       -7.03420665e-01,  5.07924601e-01,  8.07150458e-01, -1.30595569e+00,\n",
       "        1.18611128e+00,  9.71685870e-01, -2.90391332e-01,  1.71961399e+00,\n",
       "       -1.23756264e+00,  1.04734688e+00, -1.43272866e+00, -2.70181569e-03,\n",
       "       -6.14235141e-02,  1.89980698e-01,  1.20811545e+00,  1.98904625e+00,\n",
       "        2.06018771e-01, -6.73093646e-01,  5.48486609e-01,  6.38255671e-01,\n",
       "        6.67076455e-01, -2.70983888e+00, -2.42469700e-01,  1.08768556e-01,\n",
       "       -6.80093839e-01,  1.52774089e+00, -4.17208590e-02,  1.85836798e-01,\n",
       "       -1.51961856e-01,  2.88924931e+00,  4.27347349e-01,  1.21424378e+00,\n",
       "        1.22097279e+00,  1.58420362e+00, -9.30468482e-02,  3.16310625e+00,\n",
       "       -7.71651669e-02, -1.22237851e+00,  1.16709535e+00,  2.17675422e+00,\n",
       "        1.49927148e+00,  1.36905194e+00,  7.05262770e-01, -7.91432926e-01,\n",
       "        4.16851903e-01,  7.33431772e-01, -1.00305838e+00, -1.28678806e-01,\n",
       "        2.02467042e-01, -2.38429179e-01,  2.40811645e+00, -1.73097228e+00,\n",
       "        5.06091901e-01, -1.23618722e+00, -7.43610028e-01,  1.77197040e+00,\n",
       "        3.08852239e-01, -1.27355662e+00,  4.43837985e-01, -6.59171173e-02,\n",
       "       -1.11813133e+00,  1.44117964e+00, -7.87764612e-01,  5.51515536e-01,\n",
       "        6.91643857e-02, -1.70804067e-01, -5.89688377e-01, -6.25604533e-01,\n",
       "        1.47158686e+00, -6.02920466e-01,  5.75817481e-01,  2.36077768e-01,\n",
       "       -1.18664694e+00,  2.73339034e+00,  2.68105009e-01,  1.69489190e+00,\n",
       "        1.45445830e+00, -4.00254679e-01,  9.94629578e-01,  1.63176326e-01,\n",
       "        1.93156362e+00, -1.41485958e+00,  1.21762841e+00, -3.28004340e-01,\n",
       "        4.06975675e-01,  6.94426830e-01, -1.40752064e+00,  5.43276506e-01,\n",
       "        5.51910645e-01, -3.73197323e-01,  1.95293141e+00, -2.56409525e-01,\n",
       "       -8.71936256e-01, -5.34525695e-01, -1.89026674e+00, -2.76866154e+00,\n",
       "       -1.15900493e-01, -1.38717713e+00, -9.56015799e-01, -1.73187305e+00,\n",
       "        1.20274293e+00,  3.03445873e-01,  5.60524063e-01,  1.98718678e-01,\n",
       "        7.50929330e-01, -1.38470877e-01, -9.90339106e-01, -9.43175046e-01,\n",
       "       -4.11685652e-01,  5.32648220e-01,  1.65823644e+00,  5.31390298e-01,\n",
       "        2.85480550e-01, -4.58587041e-01, -1.09871238e-01,  8.30861874e-02,\n",
       "       -1.93886132e+00, -1.11830486e-01,  1.87097138e+00,  7.23473873e-01,\n",
       "       -1.19938409e+00,  7.97271234e-01, -2.01745416e-01, -1.10464106e-01,\n",
       "       -1.64234353e+00,  1.39582493e+00, -1.60203272e+00,  5.01029101e-01,\n",
       "        1.63781438e+00, -1.65726851e-02, -4.05783038e-01, -7.87356514e-01,\n",
       "        5.74230140e-01,  3.23472950e-01, -1.68264047e+00, -8.16643825e-01,\n",
       "       -1.65997133e+00, -3.10539983e+00, -1.55193057e+00,  1.43887838e+00,\n",
       "       -4.42243178e-01, -9.29354929e-01, -1.64614450e+00,  6.59892315e-01,\n",
       "        2.41134107e-01,  5.77293899e-02,  1.12423643e+00,  7.58300927e-01,\n",
       "        3.37149168e-01,  4.48854750e-01, -1.00836000e-01,  2.33259993e-01,\n",
       "       -1.03792021e-01, -1.40941982e+00,  3.94670894e-01, -4.36502174e-01,\n",
       "       -1.17610996e+00,  4.60023057e-01, -7.99113243e-01, -8.43088326e-01,\n",
       "       -1.13019073e+00,  1.34083883e+00, -5.83009877e-01, -2.47534260e-02,\n",
       "        3.47801640e-01,  9.44616519e-01, -1.82455932e+00,  3.78544127e-01,\n",
       "       -1.78411322e+00, -3.32434666e-01,  1.39724230e+00,  7.07711796e-01,\n",
       "        6.22206459e-01,  4.16580660e-01, -1.43605448e+00, -1.81941785e-01,\n",
       "       -1.34996620e+00,  3.32076374e-01, -6.27321248e-01, -7.89723508e-01,\n",
       "        1.70468668e-01, -5.12941234e-02,  7.82652740e-01,  8.43537299e-01,\n",
       "        8.91442415e-01,  1.44101922e+00,  1.55047239e+00,  2.66338969e-01,\n",
       "       -3.50199726e-01, -3.16612396e-01,  5.88382633e-01, -2.07672426e-01,\n",
       "       -7.05480742e-01, -1.61678680e-01,  2.30029171e-01, -1.84724379e+00,\n",
       "        3.27525713e-02, -1.98888762e+00,  2.26796584e-01, -2.70889118e-01,\n",
       "       -4.03533972e-01, -6.35657353e-01,  1.25004674e+00,  1.06055045e+00,\n",
       "       -1.46938514e+00,  2.90966731e-01, -4.75787853e-01, -4.28426972e-01,\n",
       "       -7.07455936e-01, -3.36683771e-01,  1.30917760e-01,  1.43909978e-01,\n",
       "        5.54552323e-01,  1.30064760e+00,  1.12795363e+00, -6.82308444e-01,\n",
       "        1.05781856e+00, -1.06052644e+00,  1.05034202e-01,  9.54281067e-01,\n",
       "        3.98889421e-01, -2.09640455e-01, -1.40834874e+00, -1.88457528e+00,\n",
       "        1.33372613e+00, -3.34580329e+00, -1.43801636e-01,  7.44400112e-01,\n",
       "        1.01410098e+00,  9.70208247e-01,  3.86072142e-01, -1.34687942e+00,\n",
       "       -1.95476811e-01, -5.05939203e-01, -5.43839684e-01,  3.06881717e-01,\n",
       "        8.99943696e-01,  3.38454087e-01,  1.56048090e-01,  3.40075985e-01,\n",
       "       -1.09769724e+00,  2.36544542e+00,  3.82232987e-01, -7.53189156e-01,\n",
       "        1.44400498e+00,  3.05356265e+00,  2.93467580e+00, -8.42139914e-01,\n",
       "        2.45925134e-01, -2.06955197e+00,  1.48094087e+00, -1.99972027e-01,\n",
       "       -5.04825282e-01, -1.89130789e+00, -5.82316208e-01,  1.64808969e-01,\n",
       "        1.67410067e+00,  6.03754541e-01, -1.83560507e+00, -2.80075695e+00,\n",
       "       -6.84778959e-01,  5.89250256e-01,  1.19705837e-01, -2.34199252e+00,\n",
       "        2.25881766e-01, -8.08081331e-01, -1.71262469e+00,  5.63131355e-01,\n",
       "       -3.16552538e-01,  6.74803994e-01, -9.07380519e-01, -3.88521850e-01,\n",
       "       -5.82779295e-02,  2.34084785e-01, -1.48984932e+00,  4.41104768e-01,\n",
       "        1.11486969e-01, -1.04743611e+00, -2.12998149e+00,  6.90364464e-01,\n",
       "        6.76851402e-01, -8.27670141e-01,  1.52828440e+00,  1.35493444e+00,\n",
       "        4.87165760e-02, -9.58684426e-01,  9.56288873e-01,  1.22956405e+00,\n",
       "        2.50815985e+00, -1.20326635e-01,  6.50676552e-01,  2.53125771e+00,\n",
       "       -8.26251808e-01, -1.37266615e+00, -4.95554094e-01, -8.62684503e-01,\n",
       "        8.74422539e-01, -5.68126363e-01,  5.04139414e-01,  1.03718435e-01,\n",
       "       -4.31059192e-01, -2.46012026e-01, -2.03192146e+00,  2.92610787e-01,\n",
       "        8.53872074e-01, -1.43609598e+00, -3.56750725e-01,  9.85642853e-02,\n",
       "       -6.94609475e-01,  3.51286561e-02,  1.19829757e-01,  1.85737138e+00,\n",
       "       -7.99050954e-01, -1.82388817e+00, -3.50153051e+00, -1.10539863e+00,\n",
       "       -2.30010416e-01,  6.60781171e-01, -1.41771833e+00,  1.31167287e+00,\n",
       "        1.02295152e+00,  1.32081350e+00,  5.92235338e-01, -1.73308781e-01,\n",
       "        4.50938152e-01, -6.70370207e-01,  1.32236940e-01,  1.11899797e-01,\n",
       "       -4.18132674e-01, -8.50372403e-03,  1.24546211e-01,  3.27997550e-01,\n",
       "        1.43383043e-01,  6.58153462e-01,  6.55882302e-01, -1.42570103e+00,\n",
       "        6.26229343e-01,  1.51215106e+00,  7.39453829e-01,  3.48485280e-01,\n",
       "        1.08997766e+00, -3.32668220e-02, -3.77579303e-01, -8.84849476e-01,\n",
       "       -8.94199030e-01,  1.16275143e+00, -4.95866384e-01,  7.69696898e-01,\n",
       "       -1.44855912e-01,  6.79781593e-01,  1.48795788e-01, -7.31479094e-01,\n",
       "       -6.24857380e-01, -5.68737687e-01, -1.79247913e+00,  6.57921024e-01,\n",
       "       -1.57500863e-01, -2.78655209e-01, -3.93403755e-04, -4.33544790e-01,\n",
       "        7.65111899e-01, -6.73285302e-01, -8.55110109e-01, -1.82523369e+00,\n",
       "        2.23296697e+00,  1.18066268e+00, -8.33918032e-01,  6.92700882e-01])"
      ]
     },
     "execution_count": 35,
     "metadata": {},
     "output_type": "execute_result"
    }
   ],
   "source": [
    "# Generating a normal distribution with mean = 0 and standard deviation = 1\n",
    "s = rng.normal(loc = 0, scale= 1, size=1000)\n",
    "s"
   ]
  },
  {
   "cell_type": "code",
   "execution_count": 36,
   "id": "4897f35e-c5a9-4091-8907-752acd87e6a7",
   "metadata": {},
   "outputs": [
    {
     "data": {
      "text/plain": [
       "<seaborn.axisgrid.FacetGrid at 0x1c09ea3fa30>"
      ]
     },
     "execution_count": 36,
     "metadata": {},
     "output_type": "execute_result"
    },
    {
     "data": {
      "image/png": "[encoded data removed]",
      "text/plain": [
       "<Figure size 360x360 with 1 Axes>"
      ]
     },
     "metadata": {
      "needs_background": "light"
     },
     "output_type": "display_data"
    }
   ],
   "source": [
    "sns.displot(s, kde=True)\n",
    "\n",
    "# https://www.statology.org/seaborn-normal-distribution/"
   ]
  },
  {
   "cell_type": "code",
   "execution_count": 37,
   "id": "a3163437-a766-4047-8313-6f70175f9a3c",
   "metadata": {
    "scrolled": true,
    "tags": []
   },
   "outputs": [
    {
     "data": {
      "text/plain": [
       "array([ 7.41097510e+00,  2.02222167e+00,  8.60433194e+00,  1.41403648e+01,\n",
       "        1.06305374e+01, -3.77501295e+00,  3.21553230e+00,  3.34982763e+00,\n",
       "        8.88156631e+00,  7.02954050e-01,  3.54449439e+00,  2.14819378e+00,\n",
       "        6.85874976e+00,  7.03511141e+00,  1.48251880e+01,  4.79121853e+00,\n",
       "       -1.93589031e+00,  9.13646253e+00,  9.23129807e+00,  1.24291952e+01,\n",
       "        3.52200943e+00,  7.99828831e+00,  3.73220395e+00,  6.20041012e+00,\n",
       "       -9.85685661e+00,  1.49140760e+01,  9.86390140e+00,  1.12601460e+01,\n",
       "        2.55673984e+00,  1.16592145e+01,  1.03319426e+01,  9.70559044e+00,\n",
       "        2.88747184e+00,  7.14417004e+00,  8.83354121e+00,  5.27540436e+00,\n",
       "       -5.63811614e+00,  2.45967131e+00,  1.52692197e+00, -9.68432426e+00,\n",
       "        8.00227979e-01,  8.91934599e-01,  1.06258799e+01,  3.41975256e+00,\n",
       "        1.08420603e+01, -2.69500114e+00,  1.55509097e+01,  4.60640994e+00,\n",
       "        1.69003777e+01, -1.99173346e-01,  8.60113900e+00,  5.07579002e+00,\n",
       "        3.52306915e+00,  3.09520816e+00, -3.09559372e+00, -5.19567102e-01,\n",
       "       -5.44962728e+00, -2.06281769e+00, -4.80139678e+00,  7.62472489e+00,\n",
       "        1.51941838e+01,  2.06855514e+00,  7.21137427e+00,  7.43642318e+00,\n",
       "        4.16042083e+00,  2.48609538e+00,  2.58885309e+00,  1.00777722e+01,\n",
       "        9.40302743e+00,  8.86135608e+00,  5.92787681e+00,  3.05346617e+00,\n",
       "        8.03659329e+00,  3.01169288e+00,  1.16407405e+01,  1.30817598e+01,\n",
       "       -7.02226065e+00,  8.62318090e+00, -2.53382239e+00,  6.82944435e+00,\n",
       "        5.72623271e+00, -1.97541624e+00, -4.57885158e-01, -4.10344552e+00,\n",
       "        6.06154508e+00,  5.85471797e+00,  3.20715058e+00,  2.13791286e+00,\n",
       "        1.00022270e+01,  1.96673798e+00,  9.65299802e+00,  1.25817215e+01,\n",
       "        1.50790633e+01,  5.29869663e+00,  3.98413233e+00,  6.58498552e+00,\n",
       "        1.12434838e+01,  2.45646220e+00,  1.44085507e+01,  8.04365365e+00,\n",
       "       -1.00042677e+01, -3.75355872e+00,  1.28717742e+01,  5.75056115e+00,\n",
       "        8.21687350e+00,  9.25791129e+00,  4.34998672e+00,  5.89326494e+00,\n",
       "        1.77301693e+00, -6.96215708e-01,  7.33824597e+00,  5.31767340e+00,\n",
       "        2.57917669e+00, -5.72203773e-01,  5.09911183e+00,  3.90322757e+00,\n",
       "        9.96551201e+00,  1.02073225e+01,  7.20906907e+00,  2.74946178e+00,\n",
       "       -1.05095357e+00,  1.51729058e+01,  4.66818091e+00,  6.44360047e+00,\n",
       "        4.92536804e+00, -4.65492286e+00,  1.40660947e+01,  7.27544008e+00,\n",
       "        2.35663536e+00,  6.08197265e+00,  1.67005097e+00,  6.01172822e+00,\n",
       "       -6.28571438e-01,  1.09181034e+00,  6.29986626e+00,  5.62228129e+00,\n",
       "        1.04681684e+01,  7.07247455e+00, -2.08645786e+00,  5.95538742e+00,\n",
       "        1.54007527e+01,  5.58108637e+00,  8.47017728e+00,  1.07375618e+01,\n",
       "        7.14642967e+00,  2.77320536e+00,  3.01258289e+00,  3.61623538e+00,\n",
       "        1.13056496e+01,  9.82414480e+00,  4.14732070e+00,  2.78175077e+00,\n",
       "       -1.95411210e+00,  9.11362163e+00,  7.37920179e+00,  1.26521579e+01,\n",
       "        2.12200274e+00,  2.60125410e-01,  1.75851089e+00, -5.46201088e+00,\n",
       "        6.33328749e+00,  1.00529230e+01,  6.68162571e+00,  1.13437324e+00,\n",
       "       -1.90952065e-01,  1.71457736e-01,  5.56622266e+00,  6.78577233e+00,\n",
       "       -2.63685129e+00,  5.34897382e+00,  2.76780820e+00,  1.53015487e+01,\n",
       "        8.77132243e+00,  2.72653039e+00,  2.10057081e+00,  1.69630579e+00,\n",
       "        5.73521186e+00,  6.30836719e+00,  1.35801487e+01,  5.47012442e+00,\n",
       "        2.22425895e+00,  6.34291913e-01,  8.10629409e+00,  9.08862758e+00,\n",
       "        7.02284136e+00,  7.86418627e-01,  5.17486657e+00,  7.85045429e+00,\n",
       "        7.13523159e+00,  2.91452925e+00,  9.61967862e-01, -2.01946833e+00,\n",
       "       -5.79917107e+00,  1.58936589e+01,  4.19401752e+00,  1.55161129e+01,\n",
       "        5.23649600e+00,  7.47953265e-03,  2.52843225e+00,  9.40172725e+00,\n",
       "        7.27542397e+00,  9.99598945e+00,  8.89832675e+00,  4.08396665e+00,\n",
       "        6.88648578e+00,  3.01193879e+00,  3.39343158e+00,  1.37961410e+01,\n",
       "        1.07727758e+01,  1.48475976e+01,  1.29571148e+01,  6.11690488e-01,\n",
       "        1.54919739e+01,  4.64940484e-01,  1.15033437e+01,  9.45283490e+00,\n",
       "        6.96606926e+00,  9.24805901e+00,  5.52089242e+00,  2.75965295e+00,\n",
       "        4.94666831e+00,  7.73605736e+00,  2.78773621e-02, -3.41114791e-01,\n",
       "        1.30997587e+01, -4.55284498e+00, -6.58522663e-01,  4.44651813e+00,\n",
       "        3.98777112e+00, -8.36011020e+00,  7.19974001e+00,  1.02174435e+01,\n",
       "        1.58114685e+00,  2.13296452e+00, -1.20874763e+00,  8.82407356e+00,\n",
       "        4.34247648e+00,  8.66638642e+00, -1.43460713e+00,  8.87343213e+00,\n",
       "        2.02039355e+00,  7.33688865e+00,  2.89417363e+00,  9.37384813e+00,\n",
       "        3.29368099e+00,  1.31098890e+01,  8.35814506e+00, -3.23168941e+00,\n",
       "        5.45344329e+00, -4.91864260e+00,  1.35197293e+01,  7.82668805e+00,\n",
       "        1.04720435e-01,  1.76883672e+00,  6.66172673e+00,  9.41462391e+00,\n",
       "       -2.02641341e+00,  2.75856897e+00,  4.37083737e+00,  1.34254129e+01,\n",
       "        9.74766035e+00,  7.66509604e+00,  3.24044424e+00,  1.46563984e+01,\n",
       "       -1.17392554e+01,  1.54836916e+00,  1.07722501e+01,  5.81390943e+00,\n",
       "       -2.97027947e+00,  3.66424409e+00,  5.40840754e+00,  4.09326364e+00,\n",
       "        1.19914075e+01, -1.00553991e+00,  4.75396897e+00,  3.72683334e+00,\n",
       "        1.30751365e+01,  1.23173799e+00, -1.41946197e+00,  8.78317651e+00,\n",
       "        3.82775985e+00,  2.04234770e-01,  1.19054287e+01,  5.22756237e+00,\n",
       "        1.13975150e+00,  2.21284524e+00,  4.95247621e+00,  2.52830060e+00,\n",
       "        7.26647595e+00,  2.58245556e+00,  6.45897844e+00,  3.97580383e+00,\n",
       "        2.78967286e+00,  4.29842034e+00, -1.84639969e+00,  9.25532523e+00,\n",
       "        2.25426790e+00,  9.69569953e+00,  8.56612561e-01,  6.33838730e+00,\n",
       "       -1.11734864e+00,  6.39652167e+00,  6.70676189e+00,  1.05484813e+01,\n",
       "        1.86447925e+00,  2.65525844e+00,  4.22932180e+00,  9.28487254e+00,\n",
       "        4.13323416e+00,  3.63736532e+00,  7.16912893e+00,  5.99172380e-01,\n",
       "        2.44867303e+00,  4.55022727e-01, -2.43646607e+00,  1.06714528e+01,\n",
       "       -1.29411412e+00, -2.31032198e+00,  7.52069578e+00, -7.58326325e-01,\n",
       "        4.14481367e+00, -1.05473296e+00,  5.15416141e+00,  8.86564469e+00,\n",
       "        1.21792975e+01,  1.21839502e+01,  4.67375666e+00,  7.97500424e+00,\n",
       "        2.90662396e-01,  1.09343202e+01,  2.65847947e+00, -3.53767636e+00,\n",
       "        2.11591062e+00,  6.70767784e+00,  4.14231217e+00,  8.16584124e+00,\n",
       "        8.01423172e+00,  1.44521836e+00,  4.90594850e+00,  1.36316942e+01,\n",
       "        9.70375589e+00,  4.20622289e+00,  6.92191469e-02,  1.02784533e+01,\n",
       "       -1.30443697e+00,  5.64702716e+00, -9.60241271e-01,  1.93356555e+00,\n",
       "        6.19562568e+00,  1.66272828e+01,  5.22587545e+00, -4.61914504e+00,\n",
       "        1.04500841e+01,  1.16566485e+01, -2.90851301e+00,  1.13443347e+01,\n",
       "       -5.72036478e-01,  3.36755613e+00,  7.80669766e+00,  1.25490250e+00,\n",
       "        7.74980949e+00,  1.04306368e+01,  4.84803924e+00,  6.04628537e+00,\n",
       "        7.08088426e+00,  7.65891036e+00,  5.60884401e+00,  3.59403312e+00,\n",
       "        5.26339312e+00,  6.67957077e+00,  8.82674980e+00,  1.36808116e+01,\n",
       "        8.11843136e+00,  9.58717361e+00, -1.77224753e+00,  2.96006974e-01,\n",
       "       -3.11330789e+00,  9.78820696e+00,  5.43266262e+00,  9.32220331e+00,\n",
       "       -1.64339025e-02,  7.02135946e+00,  1.56260358e+01,  5.90551374e+00,\n",
       "        7.93724067e+00,  2.73425632e+00,  4.12723766e-01,  3.79524599e+00,\n",
       "       -2.77170419e+00,  9.58409813e-01,  7.94621449e+00,  6.42106234e+00,\n",
       "        3.60870870e+00, -3.10497113e+00, -6.91131693e+00,  1.31311384e+00,\n",
       "        2.59348068e+00,  8.94028449e+00, -1.27059266e-01,  8.13183598e+00,\n",
       "        4.26194314e-01,  3.14964522e+00,  6.67734155e-01,  1.46024890e+01,\n",
       "        6.10522231e+00,  4.38320263e+00,  1.00511396e+01, -5.96962398e+00,\n",
       "        9.69045813e+00, -6.75698537e-01, -8.94483901e-01,  1.28487230e+01,\n",
       "        7.50152175e+00,  8.44693107e+00,  4.37261676e+00,  4.94833774e+00,\n",
       "        3.29508803e+00, -1.10479042e+00,  1.16290401e+01,  7.90685399e+00,\n",
       "        1.64620075e+01,  3.43713274e+00,  8.07911659e+00,  4.13272867e+00,\n",
       "        6.68249389e+00,  7.41227031e+00,  6.33055485e+00,  4.73395351e+00,\n",
       "        1.20956540e+00,  1.01034820e-01,  5.35393850e+00,  1.11260399e+01,\n",
       "        1.72378904e+00,  1.14364832e+00, -3.90978316e+00,  5.27289060e+00,\n",
       "        5.85061204e-01,  2.07895297e+00,  1.53641830e+01,  3.53623212e+00,\n",
       "        5.84743472e+00,  2.08251430e-01, -4.85577982e+00,  8.60985882e+00,\n",
       "        1.18692045e+01, -1.59467099e+00,  1.07866311e+01,  7.98664278e+00,\n",
       "        1.04570335e+01,  9.64392014e-01,  5.19205342e+00,  4.54315025e+00,\n",
       "        1.21676324e+00, -2.18333719e+00,  7.03275041e+00, -4.82686124e-01,\n",
       "        6.54868203e+00,  3.89989130e+00,  1.73627072e+00,  1.06375832e+01,\n",
       "       -1.92276978e+00,  1.42364114e+01,  7.97469840e-01,  1.22819264e+01,\n",
       "        6.56616508e+00,  7.14042228e+00,  1.57044737e+01,  2.79377866e+00,\n",
       "       -3.46457145e+00,  1.42306513e+01,  1.20026612e+01,  6.78558576e+00,\n",
       "        7.59744515e+00,  8.27886430e+00,  4.06562664e+00,  1.54246177e+00,\n",
       "        5.75142042e+00, -7.41849376e+00,  2.84950871e+00, -1.61635920e+00,\n",
       "        5.61685285e+00, -5.35985254e+00,  7.46052275e+00,  9.91371245e-01,\n",
       "        6.81002117e+00,  9.96650680e+00,  1.53849680e+00,  4.87391124e+00,\n",
       "        1.21212809e+01, -4.42332859e+00,  4.24072378e+00, -2.34019610e+00,\n",
       "        1.06920560e+01,  8.77713029e+00, -3.00804846e+00,  6.58599811e+00,\n",
       "        5.27747532e+00,  9.30392414e+00,  2.75726215e+00,  1.06891116e+00,\n",
       "        2.18861342e-01,  7.16995885e-02,  9.82412242e+00,  1.40962408e+00,\n",
       "        1.32605213e+01,  4.65533974e+00,  7.98041063e+00,  2.74363033e+00,\n",
       "        1.07007304e+01,  2.05577647e+00,  8.82920308e+00,  3.14402436e+00,\n",
       "        1.03336843e+01, -8.11534792e-01,  1.02838251e+01,  1.47440119e+00,\n",
       "        7.00680931e+00,  5.36270679e+00,  1.93508254e+00,  9.32493670e+00,\n",
       "        2.34085366e+00,  6.74790472e+00,  8.77596558e+00,  1.22730543e+01,\n",
       "        8.65118770e+00,  5.12301890e+00,  1.57636883e+01,  6.13927060e+00,\n",
       "        5.10596114e+00,  4.77723209e-01,  1.68310501e+00,  4.04650172e+00,\n",
       "        4.76929042e+00, -7.49452496e+00,  4.89407106e-01,  1.21207408e+01,\n",
       "        6.68529729e+00,  7.09783745e+00,  8.15158685e+00,  1.94759203e+00,\n",
       "        5.98564560e+00,  1.00014844e+01,  4.43258660e+00, -4.23831339e+00,\n",
       "        7.01738878e+00, -3.21537940e+00,  2.96464441e+00,  4.27289908e+00,\n",
       "        2.54606125e+00,  3.48304949e+00, -4.67178033e+00, -1.86046180e+00,\n",
       "        8.96066034e+00,  4.49436918e+00,  8.65874116e+00,  2.04392635e+00,\n",
       "        4.47768956e+00,  1.41861284e+01,  6.29395706e+00,  3.26077083e+00,\n",
       "        6.20189517e+00,  8.85915169e+00,  2.28783679e+00,  6.36189512e+00,\n",
       "       -4.15936527e+00,  8.84517636e+00,  1.60409556e+00, -2.68832911e+00,\n",
       "        1.08484738e+01,  9.29961172e+00,  3.03020165e+00,  1.11099316e+01,\n",
       "        1.24677091e+01, -3.82210033e+00,  5.29977956e+00, -4.06534622e+00,\n",
       "        9.66170373e+00,  2.92896590e+00,  4.78207861e+00,  4.47688384e+00,\n",
       "        6.48987128e+00,  1.17976675e+01,  6.53475535e+00,  9.78374759e+00,\n",
       "        3.80369319e+00,  2.38079435e+00,  3.47151044e+00,  5.21247749e+00,\n",
       "        2.80519715e+00,  7.47239564e+00,  4.79999402e+00,  8.52509731e+00,\n",
       "        3.32900017e+00, -4.02516026e+00,  9.44616912e+00,  8.22018032e+00,\n",
       "        9.30679169e-01,  1.17960672e+01,  7.91361751e+00,  1.22123889e+01,\n",
       "        4.41286354e+00,  2.18695317e+00,  8.56434085e+00,  6.40130375e+00,\n",
       "        1.33186477e+01, -1.28793696e+00,  6.44576277e+00,  9.20840604e+00,\n",
       "        9.64762804e+00,  5.42011240e+00,  1.09035562e+01,  9.22712218e+00,\n",
       "        8.96589861e+00,  1.01278715e+01,  1.06896298e+01, -2.28113865e+00,\n",
       "        7.72737968e+00,  1.90111630e+01,  6.81127418e+00,  6.94958369e+00,\n",
       "        1.58377886e+00,  2.31430518e+00, -3.69410672e-01,  1.02867062e+01,\n",
       "        8.58420348e+00,  6.94165408e+00,  8.07623353e+00,  1.99059149e+00,\n",
       "        4.65076588e+00,  7.05413096e-01,  9.54673883e+00,  7.64363165e+00,\n",
       "        2.91536348e+00, -4.25624128e-01,  7.63496713e+00,  1.00014637e+01,\n",
       "        9.32316229e+00,  1.26279683e+01,  7.40773508e-01,  9.27286714e-01,\n",
       "        1.21859948e+01,  7.87656646e-01,  9.41634752e+00,  5.61648699e+00,\n",
       "        6.71372213e+00, -5.35892424e+00,  1.20356197e+01,  8.77550989e+00,\n",
       "        1.10761799e-01,  4.05931408e+00,  1.27972569e+01,  5.68834563e+00,\n",
       "        5.70027245e+00,  1.23876963e+01,  5.25867143e+00,  1.15616202e+01,\n",
       "        1.09965225e+01,  5.55764489e+00, -1.98457849e+00,  5.29143896e+00,\n",
       "        3.40174877e+00,  6.12863004e+00,  6.59797858e+00,  5.14628389e+00,\n",
       "        6.15127364e-01,  7.48600090e+00,  5.71364000e+00, -1.83766462e+00,\n",
       "        2.04625105e+00,  4.41248985e+00,  1.25554586e+01,  9.93292765e-03,\n",
       "        1.16801792e+01,  1.93932038e+00,  7.19087423e+00,  2.15633727e+00,\n",
       "        7.96477982e+00,  2.67616907e+00, -1.16365756e+01,  4.83791604e+00,\n",
       "        4.78414765e+00,  6.55522906e+00, -1.06416246e+00,  1.24369628e+01,\n",
       "        1.26714515e+01,  7.50181572e+00,  2.02889973e+00,  3.73728654e+00,\n",
       "        4.45840243e+00,  8.37052182e+00,  2.21479386e+00,  5.67768945e+00,\n",
       "       -1.14639849e+00,  1.04650899e+01,  1.90840732e+01, -9.87217510e-01,\n",
       "        5.86923223e+00,  4.36834490e+00,  5.47506155e+00,  2.97037031e-01,\n",
       "        1.33691208e+01,  1.31317777e+01,  1.06046097e+01,  2.06958329e+00,\n",
       "        2.70896906e-01,  1.00004558e+00,  5.50569280e-01,  7.02091577e-02,\n",
       "        1.01889634e+01,  1.11927368e+01,  2.84970595e+00,  6.50847484e+00,\n",
       "        3.37699246e+00,  2.41237969e+00,  8.10391211e+00, -8.42977283e-01,\n",
       "        1.63791603e+00,  1.17080573e+01,  7.48935069e+00,  4.53445047e+00,\n",
       "        1.12443430e+01,  9.75533788e+00,  1.54236325e+00,  1.10026960e+01,\n",
       "        1.13170517e+01,  1.06036919e+01,  6.43555157e+00,  2.00045822e+00,\n",
       "        1.90099669e+00, -2.05107297e+00,  5.06447005e+00, -4.42032775e-01,\n",
       "       -7.67636457e-01,  6.61014750e-01,  4.66170580e+00,  1.74315803e+01,\n",
       "        4.33484610e+00, -4.98255116e-01,  6.19001744e+00,  1.73782644e+01,\n",
       "       -6.24076012e-01,  6.07400864e+00,  4.99327922e+00,  4.32610648e-01,\n",
       "        7.87483605e+00,  1.50602977e+00,  7.34086631e+00, -6.94445122e-01,\n",
       "        1.71390736e+00, -5.24120029e-01,  9.36997825e+00,  1.13800565e+00,\n",
       "        4.36517108e+00, -1.18557288e+00,  3.48856405e+00,  1.17241382e+00,\n",
       "        3.22795756e+00,  6.53318669e+00,  3.23429232e+00,  1.64577564e+00,\n",
       "        7.73062998e+00,  1.47597506e+00,  1.03295807e+01,  7.94930966e+00,\n",
       "        6.81356294e+00, -3.42481692e+00, -2.41542506e+00,  4.30198627e+00,\n",
       "        1.05465243e+00,  5.32710427e+00,  5.83325486e+00,  9.55500758e+00,\n",
       "        1.50698717e+00,  1.36931081e+00,  2.36065178e+00, -8.54373989e-01,\n",
       "        2.83955211e+00,  7.84314099e+00, -2.51114739e-01,  6.46343967e+00,\n",
       "        2.82513090e+00,  7.48975033e-01,  6.34917368e+00,  9.75009005e+00,\n",
       "        1.13259199e+01,  4.25890414e+00,  6.42982055e+00,  5.01108061e+00,\n",
       "        3.96366993e+00,  4.24323912e+00,  4.56590390e+00, -5.46383887e-01,\n",
       "        6.41648283e+00,  1.28163850e+01,  1.34392762e+00,  8.76742292e+00,\n",
       "        1.02355715e+01,  1.01330738e+01,  1.00486883e+01,  9.71568906e+00,\n",
       "        8.02075255e+00, -2.05615047e+00,  1.56140465e+00, -2.72116835e+00,\n",
       "        7.86817284e+00,  1.94856369e+00,  3.32857130e+00,  9.38915460e+00,\n",
       "        1.07064524e+00,  1.37256651e+00,  2.43304282e+00,  4.10497848e+00,\n",
       "        6.23475083e+00,  5.07472900e+00,  2.35149476e+00,  2.03957944e+00,\n",
       "        5.79720845e+00,  7.23271853e+00,  4.33682190e+00,  7.27702339e+00,\n",
       "        5.80941952e+00,  3.92850895e-01,  8.07108910e+00,  8.23873018e+00,\n",
       "        1.78183194e+00, -3.04101762e+00,  3.96073523e+00, -2.95588248e+00,\n",
       "       -4.29295785e+00,  8.04685722e+00,  1.18795710e+01,  1.52252311e+00,\n",
       "       -6.30073916e+00,  8.66906332e+00,  2.84157935e+00,  6.12780628e-01,\n",
       "        5.75954036e+00,  1.17537817e+01,  9.20478817e+00,  2.54912140e+00,\n",
       "        9.02897565e-02,  1.37080819e+01,  3.97156329e+00,  6.72737121e+00,\n",
       "        7.10982856e+00, -4.60733529e+00,  5.84561454e+00,  8.47849502e+00,\n",
       "       -3.95950004e-01, -4.70445894e+00,  1.69114614e+01,  6.66674554e+00,\n",
       "        5.53981674e+00,  1.40335214e+00,  1.02903898e+01,  9.42244116e+00,\n",
       "        7.65954313e+00,  5.97388228e+00,  4.77614354e+00,  1.01120971e+01,\n",
       "        2.93580655e+00, -2.61787291e+00, -6.44096057e+00,  7.51407538e+00,\n",
       "        6.58067662e+00,  8.03522555e+00,  1.36004546e+01,  1.08161422e+01,\n",
       "        5.54062601e+00, -1.38605281e+00,  9.95604600e+00,  5.76397454e+00,\n",
       "        9.70951855e+00,  2.43139372e+00, -1.70640882e+00, -3.63474726e+00,\n",
       "        9.52705337e+00,  1.15413096e+00, -5.62339802e-01,  1.19617948e+00,\n",
       "        2.74796413e+00,  1.36216503e+01, -5.72663252e+00,  9.62125696e+00,\n",
       "       -6.35511730e+00,  2.56156752e+00,  5.86688737e+00, -5.27641034e-01,\n",
       "        8.46378604e+00,  6.48322021e+00,  1.09144734e+01,  5.81079970e+00,\n",
       "       -2.08142537e+00,  5.94623191e+00,  9.59024121e+00, -4.63768085e+00,\n",
       "        2.85309064e+00,  3.21715520e+00,  7.86510165e+00,  4.16017284e+00,\n",
       "        1.58136068e+01,  7.46549501e+00,  6.87609067e+00,  7.79938772e+00,\n",
       "        8.11250599e+00,  4.08480282e+00,  2.04421177e+00,  5.00427422e+00,\n",
       "        1.07698344e+01,  9.62365849e+00,  9.71123474e-01,  8.65980514e+00,\n",
       "        1.63927509e+00,  1.14282279e+01,  7.76865556e+00,  8.65911384e+00,\n",
       "        3.60138880e+00,  2.77437794e-01,  5.69875526e+00,  6.66060306e+00,\n",
       "       -1.55608686e+00,  2.88180158e+00,  1.53691763e+00,  1.11619005e+01,\n",
       "        7.36277294e+00,  1.42408684e+01,  4.42545333e+00,  1.06671246e+01,\n",
       "        4.37878718e+00,  2.59229040e+00,  6.64118240e+00,  1.29830183e+00,\n",
       "        7.80452790e+00,  2.02498947e+00,  4.94047226e+00,  1.72176766e+01,\n",
       "        6.46056071e+00,  1.49032383e+00,  1.20934337e+00,  5.97592006e-01,\n",
       "        5.67884652e+00,  1.47777625e+01,  1.37026258e+01,  1.07202931e+01,\n",
       "        3.07300200e+00,  5.45218177e+00,  7.72204139e-01,  9.25066786e+00,\n",
       "        7.12731222e-01,  6.92147245e+00,  5.29930882e+00,  8.72835613e+00,\n",
       "        1.05965183e+01,  5.23971122e+00,  1.72185272e+00,  9.08433737e+00,\n",
       "        4.92949472e+00,  5.57132911e+00, -4.69800791e-01,  7.21572954e+00,\n",
       "       -3.69658234e-01,  6.23237761e+00,  8.86630745e+00,  1.18335415e+01,\n",
       "        8.33247314e-02, -2.17978231e+00,  6.82785884e+00,  6.64413773e+00,\n",
       "       -1.70562234e+00, -3.02282773e+00,  6.11807200e+00, -3.68922209e+00,\n",
       "        7.21782752e+00,  8.88883662e+00,  4.29270752e+00,  8.18267884e+00,\n",
       "        8.02407243e+00,  1.14280831e+01,  4.59630086e+00,  7.96971576e+00,\n",
       "        1.09232085e+01, -2.43538121e-01,  1.12044316e+01, -3.01418230e+00,\n",
       "        9.85073171e+00,  1.23600560e+01,  6.68690899e+00,  6.99714860e+00,\n",
       "        1.75585738e+00,  1.05609489e+01,  5.46214574e-03,  1.47389247e+00,\n",
       "        3.13553499e+00,  2.63452159e-01,  8.74490731e+00, -1.95500624e+00,\n",
       "        7.37161065e+00,  1.28325946e+00,  7.13183732e+00, -2.90217046e+00])"
      ]
     },
     "execution_count": 37,
     "metadata": {},
     "output_type": "execute_result"
    }
   ],
   "source": [
    "# Generating a normal distribution with mean = 5 and standard deviation = 5\n",
    "s2 = rng.normal(loc = 5, scale= 5, size=1000)\n",
    "s2"
   ]
  },
  {
   "cell_type": "code",
   "execution_count": 38,
   "id": "06580d95-6e89-4ddc-b602-7c28027d111e",
   "metadata": {},
   "outputs": [
    {
     "data": {
      "text/plain": [
       "<seaborn.axisgrid.FacetGrid at 0x1c09eb4a6d0>"
      ]
     },
     "execution_count": 38,
     "metadata": {},
     "output_type": "execute_result"
    },
    {
     "data": {
      "image/png": "[encoded data removed]",
      "text/plain": [
       "<Figure size 360x360 with 1 Axes>"
      ]
     },
     "metadata": {
      "needs_background": "light"
     },
     "output_type": "display_data"
    }
   ],
   "source": [
    "sns.displot(s2, kde=True)"
   ]
  },
  {
   "cell_type": "code",
   "execution_count": null,
   "id": "0f1dfd9a-c0f3-4441-9a3a-36b7fff9870e",
   "metadata": {},
   "outputs": [],
   "source": []
  },
  {
   "cell_type": "markdown",
   "id": "6bb8f525-d41d-4d4d-a00e-cadbaa950886",
   "metadata": {},
   "source": [
    "### **3.5**"
   ]
  },
  {
   "cell_type": "code",
   "execution_count": null,
   "id": "e63fe69d-fa91-4a9d-8a35-68f77dbb050b",
   "metadata": {},
   "outputs": [],
   "source": []
  },
  {
   "cell_type": "markdown",
   "id": "16315562-8226-4d6f-9f5c-1140feb4e5f5",
   "metadata": {},
   "source": [
    "<br>\n",
    "\n",
    "## **4. Explain the use of seeds in generating pseudorandom numbers.**"
   ]
  },
  {
   "cell_type": "markdown",
   "id": "7cd4afee-e01b-4e8c-8171-63e2eb66ca67",
   "metadata": {},
   "source": [
    "As described in the first section, numpy.random generates pseudo-random numbers which always follow the same sequence. The reason why different numbers are returned whenever a random generator is run is that it starts at a different point of that sequence. This start point is called the seed, and if not defined by the user, numpy.random sets it based on a value derived from the computers operating system.  \n",
    "\n",
    "\n",
    "https://numpy.org/doc/stable/reference/random/index.html (20/11/2021)\n"
   ]
  },
  {
   "cell_type": "markdown",
   "id": "da933c4c-d0d6-4600-9d37-e5149f469f57",
   "metadata": {},
   "source": [
    "<br>\n",
    "\n",
    "### **4.1 - Bitgenerator and Generator**\n",
    "\n",
    "numpy.random generates the numbers using a combination of a bitgenerator and a generator. \n",
    "\n",
    "The Bitgenerator creates sequences of random numbers. The generator then transforms the objects created by the bit generator into numbers that follow a certain distribution as defined by the user. If no seed is specified, an unpredictable value will be set by using data of the operating system. \n",
    "\n",
    "\n",
    "https://numpy.org/doc/stable/reference/random/generator.html#numpy.random.Generator (20/11/2021)\n",
    "https://numpy.org/doc/stable/reference/random/bit_generators/generated/numpy.random.BitGenerator.html#numpy.random.BitGenerator (20/11/2021)"
   ]
  },
  {
   "cell_type": "markdown",
   "id": "7aaa7717-a819-4bb6-965f-db8fb70731d3",
   "metadata": {},
   "source": [
    "<br>\n",
    "\n",
    "### **4.2 - Seeding the Random Number Generator**\n",
    "Some data simulations may require using the same randomly generated data. To achieve this, the seed can be set by the user. Setting the seed to a certain value will result in receiving the same output of random numbers, making the \"random\" numbers actually reproducible. "
   ]
  },
  {
   "cell_type": "code",
   "execution_count": 39,
   "id": "9eecf250-50a8-413d-95a1-f03f03b42aa8",
   "metadata": {},
   "outputs": [
    {
     "data": {
      "text/plain": [
       "array([76, 44, 69, 89, 85], dtype=int64)"
      ]
     },
     "execution_count": 39,
     "metadata": {},
     "output_type": "execute_result"
    }
   ],
   "source": [
    "# Example 1: Generate 5 integers between 1 and 100 without defining a seed\n",
    "test_rng=np.random.default_rng()\n",
    "test_rng.integers(1, 101, 5)"
   ]
  },
  {
   "cell_type": "code",
   "execution_count": 40,
   "id": "2bf1ce5b-3100-4367-81a6-ed83c6db8424",
   "metadata": {},
   "outputs": [
    {
     "data": {
      "text/plain": [
       "array([61, 48, 69, 31, 23], dtype=int64)"
      ]
     },
     "execution_count": 40,
     "metadata": {},
     "output_type": "execute_result"
    }
   ],
   "source": [
    "# When repeating the above, the results will likely be different as the seed has been re-set by the random number generator\n",
    "new_test_rng=np.random.default_rng()\n",
    "new_test_rng.integers(1, 101, 5)"
   ]
  },
  {
   "cell_type": "markdown",
   "id": "d9d2c183-6cc3-4364-a8b0-e61eec1b78c9",
   "metadata": {},
   "source": [
    "<br>\n",
    "\n",
    "When adding a seed parameter, the output of the same function becomes reproducible. "
   ]
  },
  {
   "cell_type": "code",
   "execution_count": 41,
   "id": "b4d0766e-c936-4164-91b3-9609f244b7b6",
   "metadata": {},
   "outputs": [
    {
     "data": {
      "text/plain": [
       "array([68, 81,  3, 81, 47], dtype=int64)"
      ]
     },
     "execution_count": 41,
     "metadata": {},
     "output_type": "execute_result"
    }
   ],
   "source": [
    "# Generate 5 integers between 1 and 10 but this time determine the seed\n",
    "seeded_rng = np.random.default_rng(seed=5)\n",
    "seeded_rng.integers(1,101,5)"
   ]
  },
  {
   "cell_type": "code",
   "execution_count": 42,
   "id": "5864faec-787d-402d-a5d4-5cfba320ce6c",
   "metadata": {},
   "outputs": [
    {
     "data": {
      "text/plain": [
       "array([68, 81,  3, 81, 47], dtype=int64)"
      ]
     },
     "execution_count": 42,
     "metadata": {},
     "output_type": "execute_result"
    }
   ],
   "source": [
    "# Repeat the above, oputput is the same\n",
    "new_seeded_rng = np.random.default_rng(seed=5)\n",
    "new_seeded_rng.integers(1,101,5)"
   ]
  },
  {
   "cell_type": "markdown",
   "id": "8d6a79e5-f942-462c-8f4c-6e7d5e43ee14",
   "metadata": {},
   "source": [
    "https://www.sharpsightlabs.com/blog/numpy-random-seed/ (20/11/2021)"
   ]
  },
  {
   "cell_type": "markdown",
   "id": "a3c7ea93-b4cb-48ee-8908-040444d97254",
   "metadata": {},
   "source": [
    "<br>\n",
    "\n",
    "### **4.3 - PCG64 - numpy.random's BitGenerator Algorithm**\n",
    "\n",
    "The standard bitgenerator used by numpy.random is based on the Permuted Congruential Generator 64-bit (PCG64) algorithm. It was implemented into numpy.random since version 1.19 and is based on O'Neill's \"Permutation Congruential Generator\".\n",
    "\n",
    "PCG64 was developed to achieve among other factors \"good statistical properties, [...] lack of predictability, cryptographic security, good time and space performance, small code size\" (O'Neill, p4). It combines the fast speed and space efficiency of linear congruential generator and adds permutation to achieve\n",
    "\n",
    "PCG64 replaced the previous bitGenerator algorithm MT19937 (Mersenne Twister). \n",
    "\n",
    "In direct comparison PCG64 outperforms MT19937 on a number of factors. \n",
    "\n",
    "| PCG64                           | MT19937                             |\n",
    "|---------------------------------|-------------------------------------|\n",
    "| High prediction difficulty      | Easy prediction                     |\n",
    "| Excellent statistical quality   | Some failures at statistical tests  |\n",
    "| Very fast time performance      | Acceptable time performance         |\n",
    "| Compact space usage             | Huge (2KB)                          |\n",
    "| Small code size and complexity  | Complex Code                        |\n",
    "\n",
    "\n",
    "Source: https://www.pcg-random.org/\n",
    "\n",
    "\n",
    "\n",
    "\n",
    "https://www.ibm.com/docs/en/aix/7.1?topic=types-signed-unsigned-integers (20/11/2021)\n",
    "https://numpy.org/doc/stable/reference/random/bit_generators/pcg64.html (20/11/2021)\n",
    "\n",
    "https://www.pcg-random.org/ (20/11/2021)\n",
    "https://numpy.org/doc/stable/reference/random/bit_generators/mt19937.html#numpy.random.MT19937"
   ]
  },
  {
   "cell_type": "markdown",
   "id": "093ddc16-36b8-423f-a3d4-21ce13ca8ea7",
   "metadata": {},
   "source": []
  },
  {
   "cell_type": "code",
   "execution_count": null,
   "id": "c04ca20f-3b5a-442c-9941-21ff6e230e64",
   "metadata": {},
   "outputs": [],
   "source": []
  },
  {
   "cell_type": "code",
   "execution_count": 43,
   "id": "1498be4e-da45-4295-aed1-0279288b6851",
   "metadata": {},
   "outputs": [
    {
     "name": "stdout",
     "output_type": "stream",
     "text": [
      "All cells running ok\n"
     ]
    }
   ],
   "source": [
    "# Debug check that all cells are running\n",
    "print('All cells running ok')"
   ]
  },
  {
   "cell_type": "markdown",
   "id": "258b0570-39d3-462c-b02e-53203389385b",
   "metadata": {},
   "source": [
    "## References Used"
   ]
  },
  {
   "cell_type": "code",
   "execution_count": null,
   "id": "a050ad53-5514-43df-acbb-0dbb0b26c5c2",
   "metadata": {},
   "outputs": [],
   "source": []
  }
 ],
 "metadata": {
  "kernelspec": {
   "display_name": "Python 3",
   "language": "python",
   "name": "python3"
  },
  "language_info": {
   "codemirror_mode": {
    "name": "ipython",
    "version": 3
   },
   "file_extension": ".py",
   "mimetype": "text/x-python",
   "name": "python",
   "nbconvert_exporter": "python",
   "pygments_lexer": "ipython3",
   "version": "3.8.8"
  }
 },
 "nbformat": 4,
 "nbformat_minor": 5
}
